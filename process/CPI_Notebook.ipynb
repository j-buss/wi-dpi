{
  "nbformat": 4,
  "nbformat_minor": 0,
  "metadata": {
    "colab": {
      "name": "Yearly_Comparison.ipynb",
      "provenance": [],
      "include_colab_link": true
    },
    "kernelspec": {
      "name": "python3",
      "display_name": "Python 3"
    }
  },
  "cells": [
    {
      "cell_type": "markdown",
      "metadata": {
        "id": "view-in-github",
        "colab_type": "text"
      },
      "source": [
        "<a href=\"https://colab.research.google.com/github/j-buss/wi-dpi-analysis/blob/dev-adj-inflation/pipeline/python/process/adjInflation/CPI_Notebook.ipynb\" target=\"_parent\"><img src=\"https://colab.research.google.com/assets/colab-badge.svg\" alt=\"Open In Colab\"/></a>"
      ]
    },
    {
      "cell_type": "code",
      "metadata": {
        "id": "-ClLfMpHSbov",
        "colab_type": "code",
        "colab": {}
      },
      "source": [
        "import numpy as np\n",
        "import pandas as pd\n",
        "pd.set_option('display.max_rows', 100)\n",
        "pd.set_option('display.max_columns', 1000)\n",
        "pd.set_option('display.width', 1000)\n",
        "import seaborn as sns\n",
        "import matplotlib.pyplot as plt\n",
        "\n",
        "from google.cloud import bigquery\n",
        "%matplotlib inline\n",
        "plt.style.use('bmh')"
      ],
      "execution_count": 0,
      "outputs": []
    },
    {
      "cell_type": "code",
      "metadata": {
        "id": "N_1rUj_WSz_8",
        "colab_type": "code",
        "colab": {}
      },
      "source": [
        "# Authenticate to GCS.\n",
        "from google.colab import auth\n",
        "auth.authenticate_user()"
      ],
      "execution_count": 0,
      "outputs": []
    },
    {
      "cell_type": "code",
      "metadata": {
        "id": "sIf9tLukS5QT",
        "colab_type": "code",
        "colab": {}
      },
      "source": [
        "project_id='wi-dpi-010'\n",
        "dataset_name='2016'"
      ],
      "execution_count": 0,
      "outputs": []
    },
    {
      "cell_type": "code",
      "metadata": {
        "id": "wDtvDKn_TIGZ",
        "colab_type": "code",
        "colab": {}
      },
      "source": [
        "bq_client = bigquery.Client(project=project_id)"
      ],
      "execution_count": 0,
      "outputs": []
    },
    {
      "cell_type": "code",
      "metadata": {
        "id": "zLIGyYDUgE4m",
        "colab_type": "code",
        "colab": {}
      },
      "source": [
        "sql='''\n",
        "  SELECT\n",
        "    id_nbr,\n",
        "    salary,\n",
        "    benefits\n",
        "  FROM\n",
        "    `{}.{}`\n",
        "  LIMIT\n",
        "    1000\n",
        "'''.format(dataset_name,'2016_BASE')"
      ],
      "execution_count": 0,
      "outputs": []
    },
    {
      "cell_type": "code",
      "metadata": {
        "id": "0CgfiUnjTLxH",
        "colab_type": "code",
        "colab": {}
      },
      "source": [
        "temp_df = pd.read_gbq(sql, project_id=project_id)"
      ],
      "execution_count": 0,
      "outputs": []
    },
    {
      "cell_type": "code",
      "metadata": {
        "id": "HbtANevBXj8X",
        "colab_type": "code",
        "colab": {
          "base_uri": "https://localhost:8080/",
          "height": 552
        },
        "outputId": "d1e1bedf-5604-4462-fc69-b115e4a31350"
      },
      "source": [
        "!pip install cpi"
      ],
      "execution_count": 30,
      "outputs": [
        {
          "output_type": "stream",
          "text": [
            "Collecting cpi\n",
            "\u001b[?25l  Downloading https://files.pythonhosted.org/packages/ca/d1/04e0555d127270aeff9cda013dda91b94e4b968907386997018c3d7eb167/cpi-0.1.15-py2.py3-none-any.whl (25.1MB)\n",
            "\u001b[K     |████████████████████████████████| 25.1MB 92kB/s \n",
            "\u001b[?25hRequirement already satisfied: click>=6.7 in /usr/local/lib/python3.6/dist-packages (from cpi) (7.0)\n",
            "Requirement already satisfied: pandas>=0.23.1 in /usr/local/lib/python3.6/dist-packages (from cpi) (0.25.3)\n",
            "Collecting python-dateutil>=2.7.3\n",
            "\u001b[?25l  Downloading https://files.pythonhosted.org/packages/d4/70/d60450c3dd48ef87586924207ae8907090de0b306af2bce5d134d78615cb/python_dateutil-2.8.1-py2.py3-none-any.whl (227kB)\n",
            "\u001b[K     |████████████████████████████████| 235kB 62.0MB/s \n",
            "\u001b[?25hRequirement already satisfied: requests>=2.20.0 in /usr/local/lib/python3.6/dist-packages (from cpi) (2.21.0)\n",
            "Requirement already satisfied: pytz>=2017.2 in /usr/local/lib/python3.6/dist-packages (from pandas>=0.23.1->cpi) (2018.9)\n",
            "Requirement already satisfied: numpy>=1.13.3 in /usr/local/lib/python3.6/dist-packages (from pandas>=0.23.1->cpi) (1.17.4)\n",
            "Requirement already satisfied: six>=1.5 in /usr/local/lib/python3.6/dist-packages (from python-dateutil>=2.7.3->cpi) (1.12.0)\n",
            "Requirement already satisfied: idna<2.9,>=2.5 in /usr/local/lib/python3.6/dist-packages (from requests>=2.20.0->cpi) (2.8)\n",
            "Requirement already satisfied: chardet<3.1.0,>=3.0.2 in /usr/local/lib/python3.6/dist-packages (from requests>=2.20.0->cpi) (3.0.4)\n",
            "Requirement already satisfied: certifi>=2017.4.17 in /usr/local/lib/python3.6/dist-packages (from requests>=2.20.0->cpi) (2019.9.11)\n",
            "Requirement already satisfied: urllib3<1.25,>=1.21.1 in /usr/local/lib/python3.6/dist-packages (from requests>=2.20.0->cpi) (1.24.3)\n",
            "\u001b[31mERROR: botocore 1.13.14 has requirement python-dateutil<2.8.1,>=2.1; python_version >= \"2.7\", but you'll have python-dateutil 2.8.1 which is incompatible.\u001b[0m\n",
            "\u001b[31mERROR: albumentations 0.1.12 has requirement imgaug<0.2.7,>=0.2.5, but you'll have imgaug 0.2.9 which is incompatible.\u001b[0m\n",
            "Installing collected packages: python-dateutil, cpi\n",
            "  Found existing installation: python-dateutil 2.6.1\n",
            "    Uninstalling python-dateutil-2.6.1:\n",
            "      Successfully uninstalled python-dateutil-2.6.1\n",
            "Successfully installed cpi-0.1.15 python-dateutil-2.8.1\n"
          ],
          "name": "stdout"
        },
        {
          "output_type": "display_data",
          "data": {
            "application/vnd.colab-display-data+json": {
              "pip_warning": {
                "packages": [
                  "dateutil"
                ]
              }
            }
          },
          "metadata": {
            "tags": []
          }
        }
      ]
    },
    {
      "cell_type": "code",
      "metadata": {
        "id": "Km9MDq6lXhYq",
        "colab_type": "code",
        "colab": {
          "base_uri": "https://localhost:8080/",
          "height": 74
        },
        "outputId": "7f44bbb8-075b-4d21-f337-4ec7c1a72e0a"
      },
      "source": [
        "import cpi"
      ],
      "execution_count": 31,
      "outputs": [
        {
          "output_type": "stream",
          "text": [
            "/usr/local/lib/python3.6/dist-packages/cpi/__init__.py:46: StaleDataWarning: CPI data is out of date. To accurately inflate to today's dollars, you must run `cpi.update()`.\n",
            "  warnings.warn(StaleDataWarning())\n"
          ],
          "name": "stderr"
        }
      ]
    },
    {
      "cell_type": "code",
      "metadata": {
        "id": "LYQFlmILXyqG",
        "colab_type": "code",
        "colab": {}
      },
      "source": [
        "cpi.update()"
      ],
      "execution_count": 0,
      "outputs": []
    },
    {
      "cell_type": "code",
      "metadata": {
        "id": "tZ75NvJRW3Qh",
        "colab_type": "code",
        "colab": {}
      },
      "source": [
        "temp_df['salary_adj'] = temp_df.apply(lambda x: cpi.inflate(x.salary, int(dataset_name)), axis=1)\n",
        "temp_df['benefits_adj'] = temp_df.apply(lambda x: cpi.inflate(x.benefits, int(dataset_name)), axis=1)"
      ],
      "execution_count": 0,
      "outputs": []
    },
    {
      "cell_type": "code",
      "metadata": {
        "id": "aq_sEcPiW5dA",
        "colab_type": "code",
        "colab": {
          "base_uri": "https://localhost:8080/",
          "height": 419
        },
        "outputId": "3894069d-4419-4297-f93e-530c55bfdea1"
      },
      "source": [
        "temp_df"
      ],
      "execution_count": 40,
      "outputs": [
        {
          "output_type": "execute_result",
          "data": {
            "text/html": [
              "<div>\n",
              "<style scoped>\n",
              "    .dataframe tbody tr th:only-of-type {\n",
              "        vertical-align: middle;\n",
              "    }\n",
              "\n",
              "    .dataframe tbody tr th {\n",
              "        vertical-align: top;\n",
              "    }\n",
              "\n",
              "    .dataframe thead th {\n",
              "        text-align: right;\n",
              "    }\n",
              "</style>\n",
              "<table border=\"1\" class=\"dataframe\">\n",
              "  <thead>\n",
              "    <tr style=\"text-align: right;\">\n",
              "      <th></th>\n",
              "      <th>id_nbr</th>\n",
              "      <th>salary</th>\n",
              "      <th>benefits</th>\n",
              "      <th>salary_adj</th>\n",
              "      <th>benefits_adj</th>\n",
              "    </tr>\n",
              "  </thead>\n",
              "  <tbody>\n",
              "    <tr>\n",
              "      <th>0</th>\n",
              "      <td>688913</td>\n",
              "      <td>175320</td>\n",
              "      <td>42352</td>\n",
              "      <td>183428.313508</td>\n",
              "      <td>44310.722871</td>\n",
              "    </tr>\n",
              "    <tr>\n",
              "      <th>1</th>\n",
              "      <td>646275</td>\n",
              "      <td>121663</td>\n",
              "      <td>27673</td>\n",
              "      <td>127289.749636</td>\n",
              "      <td>28952.838921</td>\n",
              "    </tr>\n",
              "    <tr>\n",
              "      <th>2</th>\n",
              "      <td>627194</td>\n",
              "      <td>181549</td>\n",
              "      <td>68550</td>\n",
              "      <td>189945.396355</td>\n",
              "      <td>71720.345032</td>\n",
              "    </tr>\n",
              "    <tr>\n",
              "      <th>3</th>\n",
              "      <td>674556</td>\n",
              "      <td>100000</td>\n",
              "      <td>18723</td>\n",
              "      <td>104624.865108</td>\n",
              "      <td>19588.913494</td>\n",
              "    </tr>\n",
              "    <tr>\n",
              "      <th>4</th>\n",
              "      <td>602929</td>\n",
              "      <td>97345</td>\n",
              "      <td>22075</td>\n",
              "      <td>101847.074939</td>\n",
              "      <td>23095.938973</td>\n",
              "    </tr>\n",
              "    <tr>\n",
              "      <th>...</th>\n",
              "      <td>...</td>\n",
              "      <td>...</td>\n",
              "      <td>...</td>\n",
              "      <td>...</td>\n",
              "      <td>...</td>\n",
              "    </tr>\n",
              "    <tr>\n",
              "      <th>995</th>\n",
              "      <td>665804</td>\n",
              "      <td>100000</td>\n",
              "      <td>32714</td>\n",
              "      <td>104624.865108</td>\n",
              "      <td>34226.978371</td>\n",
              "    </tr>\n",
              "    <tr>\n",
              "      <th>996</th>\n",
              "      <td>677142</td>\n",
              "      <td>103525</td>\n",
              "      <td>33309</td>\n",
              "      <td>108312.891603</td>\n",
              "      <td>34849.496319</td>\n",
              "    </tr>\n",
              "    <tr>\n",
              "      <th>997</th>\n",
              "      <td>591685</td>\n",
              "      <td>122000</td>\n",
              "      <td>41559</td>\n",
              "      <td>127642.335432</td>\n",
              "      <td>43481.047690</td>\n",
              "    </tr>\n",
              "    <tr>\n",
              "      <th>998</th>\n",
              "      <td>604048</td>\n",
              "      <td>120691</td>\n",
              "      <td>37424</td>\n",
              "      <td>126272.795948</td>\n",
              "      <td>39154.809518</td>\n",
              "    </tr>\n",
              "    <tr>\n",
              "      <th>999</th>\n",
              "      <td>596411</td>\n",
              "      <td>94867</td>\n",
              "      <td>14260</td>\n",
              "      <td>99254.470782</td>\n",
              "      <td>14919.505764</td>\n",
              "    </tr>\n",
              "  </tbody>\n",
              "</table>\n",
              "<p>1000 rows × 5 columns</p>\n",
              "</div>"
            ],
            "text/plain": [
              "     id_nbr  salary  benefits     salary_adj  benefits_adj\n",
              "0    688913  175320     42352  183428.313508  44310.722871\n",
              "1    646275  121663     27673  127289.749636  28952.838921\n",
              "2    627194  181549     68550  189945.396355  71720.345032\n",
              "3    674556  100000     18723  104624.865108  19588.913494\n",
              "4    602929   97345     22075  101847.074939  23095.938973\n",
              "..      ...     ...       ...            ...           ...\n",
              "995  665804  100000     32714  104624.865108  34226.978371\n",
              "996  677142  103525     33309  108312.891603  34849.496319\n",
              "997  591685  122000     41559  127642.335432  43481.047690\n",
              "998  604048  120691     37424  126272.795948  39154.809518\n",
              "999  596411   94867     14260   99254.470782  14919.505764\n",
              "\n",
              "[1000 rows x 5 columns]"
            ]
          },
          "metadata": {
            "tags": []
          },
          "execution_count": 40
        }
      ]
    },
    {
      "cell_type": "code",
      "metadata": {
        "id": "KCNYwCcaYCRh",
        "colab_type": "code",
        "colab": {}
      },
      "source": [
        ""
      ],
      "execution_count": 0,
      "outputs": []
    }
  ]
}