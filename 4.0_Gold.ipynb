{
  "nbformat": 4,
  "nbformat_minor": 0,
  "metadata": {
    "colab": {
      "name": "4.0_Gold.ipynb",
      "version": "0.3.2",
      "provenance": [],
      "toc_visible": true,
      "include_colab_link": true
    },
    "kernelspec": {
      "name": "python3",
      "display_name": "Python 3"
    }
  },
  "cells": [
    {
      "cell_type": "markdown",
      "metadata": {
        "id": "view-in-github",
        "colab_type": "text"
      },
      "source": [
        "<a href=\"https://colab.research.google.com/github/j-buss/wi-dpi-analysis/blob/development/4.0_Gold.ipynb\" target=\"_parent\"><img src=\"https://colab.research.google.com/assets/colab-badge.svg\" alt=\"Open In Colab\"/></a>"
      ]
    },
    {
      "cell_type": "markdown",
      "metadata": {
        "id": "dUhK2YzNXtF_",
        "colab_type": "text"
      },
      "source": [
        "# Salary and Education in Wisconsin - 4.0 Gold Layer"
      ]
    },
    {
      "cell_type": "markdown",
      "metadata": {
        "id": "KYmRXQbFX0qT",
        "colab_type": "text"
      },
      "source": [
        "This it the 4th in a series of notebooks depicting the steps to acquire, store and analyze data pertaining to teachers in Wisconsin.\n",
        "\n",
        "\n",
        "\n",
        "1.   List item\n",
        "2.   List item\n",
        "3.   Refined Data - Create ***all_staff_record*** tables by year"
      ]
    },
    {
      "cell_type": "markdown",
      "metadata": {
        "id": "Rrx3MX1iX5Dz",
        "colab_type": "text"
      },
      "source": [
        "## Prep"
      ]
    },
    {
      "cell_type": "code",
      "metadata": {
        "id": "BYwBDVBwX6eb",
        "colab_type": "code",
        "colab": {
          "base_uri": "https://localhost:8080/",
          "height": 367
        },
        "outputId": "700c4979-0326-4d78-93df-780feef62dce"
      },
      "source": [
        "!pip install --upgrade google-cloud-bigquery"
      ],
      "execution_count": 1,
      "outputs": [
        {
          "output_type": "stream",
          "text": [
            "Requirement already up-to-date: google-cloud-bigquery in /usr/local/lib/python3.6/dist-packages (1.12.1)\n",
            "Requirement already satisfied, skipping upgrade: protobuf>=3.6.0 in /usr/local/lib/python3.6/dist-packages (from google-cloud-bigquery) (3.7.1)\n",
            "Requirement already satisfied, skipping upgrade: google-api-core<2.0.0dev,>=1.6.0 in /usr/local/lib/python3.6/dist-packages (from google-cloud-bigquery) (1.11.0)\n",
            "Requirement already satisfied, skipping upgrade: google-cloud-core<2.0dev,>=1.0.0 in /usr/local/lib/python3.6/dist-packages (from google-cloud-bigquery) (1.0.0)\n",
            "Requirement already satisfied, skipping upgrade: google-resumable-media>=0.3.1 in /usr/local/lib/python3.6/dist-packages (from google-cloud-bigquery) (0.3.2)\n",
            "Requirement already satisfied, skipping upgrade: setuptools in /usr/local/lib/python3.6/dist-packages (from protobuf>=3.6.0->google-cloud-bigquery) (41.0.1)\n",
            "Requirement already satisfied, skipping upgrade: six>=1.9 in /usr/local/lib/python3.6/dist-packages (from protobuf>=3.6.0->google-cloud-bigquery) (1.12.0)\n",
            "Requirement already satisfied, skipping upgrade: requests<3.0.0dev,>=2.18.0 in /usr/local/lib/python3.6/dist-packages (from google-api-core<2.0.0dev,>=1.6.0->google-cloud-bigquery) (2.21.0)\n",
            "Requirement already satisfied, skipping upgrade: google-auth<2.0dev,>=0.4.0 in /usr/local/lib/python3.6/dist-packages (from google-api-core<2.0.0dev,>=1.6.0->google-cloud-bigquery) (1.4.2)\n",
            "Requirement already satisfied, skipping upgrade: googleapis-common-protos!=1.5.4,<2.0dev,>=1.5.3 in /usr/local/lib/python3.6/dist-packages (from google-api-core<2.0.0dev,>=1.6.0->google-cloud-bigquery) (1.5.10)\n",
            "Requirement already satisfied, skipping upgrade: pytz in /usr/local/lib/python3.6/dist-packages (from google-api-core<2.0.0dev,>=1.6.0->google-cloud-bigquery) (2018.9)\n",
            "Requirement already satisfied, skipping upgrade: urllib3<1.25,>=1.21.1 in /usr/local/lib/python3.6/dist-packages (from requests<3.0.0dev,>=2.18.0->google-api-core<2.0.0dev,>=1.6.0->google-cloud-bigquery) (1.24.3)\n",
            "Requirement already satisfied, skipping upgrade: certifi>=2017.4.17 in /usr/local/lib/python3.6/dist-packages (from requests<3.0.0dev,>=2.18.0->google-api-core<2.0.0dev,>=1.6.0->google-cloud-bigquery) (2019.3.9)\n",
            "Requirement already satisfied, skipping upgrade: idna<2.9,>=2.5 in /usr/local/lib/python3.6/dist-packages (from requests<3.0.0dev,>=2.18.0->google-api-core<2.0.0dev,>=1.6.0->google-cloud-bigquery) (2.8)\n",
            "Requirement already satisfied, skipping upgrade: chardet<3.1.0,>=3.0.2 in /usr/local/lib/python3.6/dist-packages (from requests<3.0.0dev,>=2.18.0->google-api-core<2.0.0dev,>=1.6.0->google-cloud-bigquery) (3.0.4)\n",
            "Requirement already satisfied, skipping upgrade: rsa>=3.1.4 in /usr/local/lib/python3.6/dist-packages (from google-auth<2.0dev,>=0.4.0->google-api-core<2.0.0dev,>=1.6.0->google-cloud-bigquery) (4.0)\n",
            "Requirement already satisfied, skipping upgrade: cachetools>=2.0.0 in /usr/local/lib/python3.6/dist-packages (from google-auth<2.0dev,>=0.4.0->google-api-core<2.0.0dev,>=1.6.0->google-cloud-bigquery) (3.1.0)\n",
            "Requirement already satisfied, skipping upgrade: pyasn1-modules>=0.2.1 in /usr/local/lib/python3.6/dist-packages (from google-auth<2.0dev,>=0.4.0->google-api-core<2.0.0dev,>=1.6.0->google-cloud-bigquery) (0.2.5)\n",
            "Requirement already satisfied, skipping upgrade: pyasn1>=0.1.3 in /usr/local/lib/python3.6/dist-packages (from rsa>=3.1.4->google-auth<2.0dev,>=0.4.0->google-api-core<2.0.0dev,>=1.6.0->google-cloud-bigquery) (0.4.5)\n"
          ],
          "name": "stdout"
        }
      ]
    },
    {
      "cell_type": "code",
      "metadata": {
        "id": "C4GuEZPjX9Yk",
        "colab_type": "code",
        "colab": {}
      },
      "source": [
        ""
      ],
      "execution_count": 0,
      "outputs": []
    },
    {
      "cell_type": "markdown",
      "metadata": {
        "id": "uwf3bBztX_Ks",
        "colab_type": "text"
      },
      "source": [
        "### Import Libraries"
      ]
    },
    {
      "cell_type": "code",
      "metadata": {
        "id": "g5yVt7wzYBJL",
        "colab_type": "code",
        "colab": {}
      },
      "source": [
        "import numpy as np\n",
        "import pandas as pd\n",
        "pd.set_option('display.max_columns', 50)\n",
        "pd.set_option('display.max_rows', 15)\n",
        "import seaborn as sns\n",
        "import matplotlib.pyplot as plt\n",
        "\n",
        "from google.cloud import bigquery"
      ],
      "execution_count": 0,
      "outputs": []
    },
    {
      "cell_type": "code",
      "metadata": {
        "id": "GGxE-FEQYDi1",
        "colab_type": "code",
        "colab": {}
      },
      "source": [
        "%matplotlib inline\n",
        "plt.style.use('bmh')"
      ],
      "execution_count": 0,
      "outputs": []
    },
    {
      "cell_type": "markdown",
      "metadata": {
        "id": "tvoY64NqYGMk",
        "colab_type": "text"
      },
      "source": [
        "### Functions"
      ]
    },
    {
      "cell_type": "code",
      "metadata": {
        "id": "IcI5ELLCYFf8",
        "colab_type": "code",
        "colab": {}
      },
      "source": [
        "def create_dataset(client, project_id, dataset_name):\n",
        "  \n",
        "  \n",
        "  dataset_id = \"{}.{}\".format(project_id, dataset_name)\n",
        "  dataset = bigquery.Dataset(dataset_id)\n",
        "  dataset.location = \"US\"\n",
        "\n",
        "  dataset = client.create_dataset(dataset)\n",
        "  print(\"Created dataset {}.{}\".format(client.project, dataset.dataset_id))"
      ],
      "execution_count": 0,
      "outputs": []
    },
    {
      "cell_type": "markdown",
      "metadata": {
        "id": "UsGx_dBpYSX8",
        "colab_type": "text"
      },
      "source": [
        "## Processing"
      ]
    },
    {
      "cell_type": "code",
      "metadata": {
        "id": "HUlrKYztYRxL",
        "colab_type": "code",
        "colab": {}
      },
      "source": [
        "# Authenticate to GCS.\n",
        "from google.colab import auth\n",
        "auth.authenticate_user()"
      ],
      "execution_count": 0,
      "outputs": []
    },
    {
      "cell_type": "code",
      "metadata": {
        "id": "p4xSNoB6YXDU",
        "colab_type": "code",
        "colab": {}
      },
      "source": [
        "project_id='wi-dpi-010'\n",
        "landing_dataset_name='landing'\n",
        "refined_dataset_name='refined'\n",
        "gold_dataset_name='gold'"
      ],
      "execution_count": 0,
      "outputs": []
    },
    {
      "cell_type": "code",
      "metadata": {
        "id": "Kfp34BIXYb7j",
        "colab_type": "code",
        "colab": {}
      },
      "source": [
        "bq_client = bigquery.Client(project=project_id)"
      ],
      "execution_count": 0,
      "outputs": []
    },
    {
      "cell_type": "code",
      "metadata": {
        "id": "tT_JPOyiYeAj",
        "colab_type": "code",
        "colab": {}
      },
      "source": [
        "#Create Refined Dataset - Likely already done\n",
        "#create_dataset(bq_client, project_id, gold_dataset_name)"
      ],
      "execution_count": 0,
      "outputs": []
    },
    {
      "cell_type": "markdown",
      "metadata": {
        "id": "vIbOfI6DaZ0b",
        "colab_type": "text"
      },
      "source": [
        "### Analysis"
      ]
    },
    {
      "cell_type": "code",
      "metadata": {
        "id": "khNFt8-HaGdP",
        "colab_type": "code",
        "colab": {}
      },
      "source": [
        "sql_query = '''\n",
        "  SELECT\n",
        "    *\n",
        "  FROM\n",
        "    {}.{}\n",
        "'''.format(refined_dataset_name, \"2015_all_staff_report\")"
      ],
      "execution_count": 0,
      "outputs": []
    },
    {
      "cell_type": "code",
      "metadata": {
        "id": "VFLXL7MdYi9z",
        "colab_type": "code",
        "colab": {
          "base_uri": "https://localhost:8080/",
          "height": 72
        },
        "outputId": "2fd5790b-c32b-4b1f-8585-e4791d6498da"
      },
      "source": [
        "df = pd.read_gbq(sql_query,project_id=project_id)"
      ],
      "execution_count": 16,
      "outputs": [
        {
          "output_type": "stream",
          "text": [
            "/usr/local/lib/python3.6/dist-packages/ipykernel_launcher.py:1: FutureWarning: The default value for dialect is changing to \"standard\" in a future version of pandas-gbq. Pass in dialect=\"legacy\" to disable this warning.\n",
            "  \"\"\"Entry point for launching an IPython kernel.\n"
          ],
          "name": "stderr"
        }
      ]
    },
    {
      "cell_type": "code",
      "metadata": {
        "id": "n7cdR_KaZQHT",
        "colab_type": "code",
        "colab": {
          "base_uri": "https://localhost:8080/",
          "height": 780
        },
        "outputId": "7f7519cf-8f31-4a13-b9a8-20a188b09080"
      },
      "source": [
        "df.info()"
      ],
      "execution_count": 17,
      "outputs": [
        {
          "output_type": "stream",
          "text": [
            "<class 'pandas.core.frame.DataFrame'>\n",
            "RangeIndex: 173824 entries, 0 to 173823\n",
            "Data columns (total 39 columns):\n",
            "id_nbr                     173824 non-null int64\n",
            "first_name                 173824 non-null object\n",
            "last_name                  173824 non-null object\n",
            "file_number                138678 non-null object\n",
            "gender                     173824 non-null object\n",
            "race_ethnicity             173824 non-null object\n",
            "birth_year                 173824 non-null int64\n",
            "high_degree_cd             104466 non-null object\n",
            "high_degree_desc           104466 non-null object\n",
            "year_session               173824 non-null object\n",
            "contract_days              173824 non-null int64\n",
            "local_exp                  103834 non-null float64\n",
            "total_exp                  103834 non-null float64\n",
            "salary                     173824 non-null float64\n",
            "benefits                   173824 non-null float64\n",
            "staff_category_cd          173823 non-null object\n",
            "staff_category_desc        173823 non-null object\n",
            "school_cd                  173824 non-null object\n",
            "position_cd                173824 non-null int64\n",
            "position_description       163729 non-null object\n",
            "position_type_cd           163729 non-null object\n",
            "position_type_desc         163729 non-null object\n",
            "assignment_area_cd         173824 non-null int64\n",
            "assignment_area_desc       166603 non-null object\n",
            "low_grade_cd               173824 non-null object\n",
            "low_grade_desc             173824 non-null object\n",
            "high_grade_cd              173824 non-null object\n",
            "high_grade_desc            173824 non-null object\n",
            "assignment_fte             143579 non-null float64\n",
            "school_name                173824 non-null object\n",
            "grade_level_cd             139659 non-null object\n",
            "grade_level_desc           139659 non-null object\n",
            "cesa_number                173355 non-null object\n",
            "cnty_name                  173824 non-null object\n",
            "school_mailing_address1    173824 non-null object\n",
            "school_mailing_address2    173824 non-null object\n",
            "mail_city                  173824 non-null object\n",
            "mail_st                    173824 non-null object\n",
            "mail_zip_cd                173824 non-null object\n",
            "dtypes: float64(5), int64(5), object(29)\n",
            "memory usage: 51.7+ MB\n"
          ],
          "name": "stdout"
        }
      ]
    },
    {
      "cell_type": "code",
      "metadata": {
        "id": "gquZLfmYZiLT",
        "colab_type": "code",
        "colab": {
          "base_uri": "https://localhost:8080/",
          "height": 173
        },
        "outputId": "c963e257-b486-45f0-cfbc-4efde9a284ee"
      },
      "source": [
        "df['salary'].describe()"
      ],
      "execution_count": 26,
      "outputs": [
        {
          "output_type": "execute_result",
          "data": {
            "text/plain": [
              "count    173824.000000\n",
              "mean      31774.674447\n",
              "std       29156.121042\n",
              "min           0.000000\n",
              "25%           0.000000\n",
              "50%       38103.000000\n",
              "75%       55250.000000\n",
              "max      237354.000000\n",
              "Name: salary, dtype: float64"
            ]
          },
          "metadata": {
            "tags": []
          },
          "execution_count": 26
        }
      ]
    },
    {
      "cell_type": "code",
      "metadata": {
        "id": "HLa6izecai9z",
        "colab_type": "code",
        "colab": {
          "base_uri": "https://localhost:8080/",
          "height": 297
        },
        "outputId": "38f4a13f-62ba-45ec-8d6a-9ac0801510e9"
      },
      "source": [
        "sns.distplot(df['salary'], color='g', bins=100, hist_kws={'alpha': 0.4})"
      ],
      "execution_count": 21,
      "outputs": [
        {
          "output_type": "execute_result",
          "data": {
            "text/plain": [
              "<matplotlib.axes._subplots.AxesSubplot at 0x7f669dde7ac8>"
            ]
          },
          "metadata": {
            "tags": []
          },
          "execution_count": 21
        },
        {
          "output_type": "display_data",
          "data": {
            "image/png": "[encoded data removed]",
            "text/plain": [
              "<Figure size 432x288 with 1 Axes>"
            ]
          },
          "metadata": {
            "tags": []
          }
        }
      ]
    },
    {
      "cell_type": "markdown",
      "metadata": {
        "id": "zdtuEzjEbNhK",
        "colab_type": "text"
      },
      "source": [
        "Initial analysis on salary shows some values which are outliers:\n",
        "\n",
        "\n",
        "*   Individuals with salary of $0\n",
        "*   Individuals wiht maxium salary\n",
        "\n"
      ]
    },
    {
      "cell_type": "code",
      "metadata": {
        "id": "oQSUJM0Vbnyr",
        "colab_type": "code",
        "colab": {
          "base_uri": "https://localhost:8080/",
          "height": 465
        },
        "outputId": "3cb53141-96d4-44b9-9c34-7cf4b29735ed"
      },
      "source": [
        "df[df['salary'] == df['salary'].min()][0:5]"
      ],
      "execution_count": 28,
      "outputs": [
        {
          "output_type": "execute_result",
          "data": {
            "text/html": [
              "<div>\n",
              "<style scoped>\n",
              "    .dataframe tbody tr th:only-of-type {\n",
              "        vertical-align: middle;\n",
              "    }\n",
              "\n",
              "    .dataframe tbody tr th {\n",
              "        vertical-align: top;\n",
              "    }\n",
              "\n",
              "    .dataframe thead th {\n",
              "        text-align: right;\n",
              "    }\n",
              "</style>\n",
              "<table border=\"1\" class=\"dataframe\">\n",
              "  <thead>\n",
              "    <tr style=\"text-align: right;\">\n",
              "      <th></th>\n",
              "      <th>id_nbr</th>\n",
              "      <th>first_name</th>\n",
              "      <th>last_name</th>\n",
              "      <th>file_number</th>\n",
              "      <th>gender</th>\n",
              "      <th>race_ethnicity</th>\n",
              "      <th>birth_year</th>\n",
              "      <th>high_degree_cd</th>\n",
              "      <th>high_degree_desc</th>\n",
              "      <th>year_session</th>\n",
              "      <th>contract_days</th>\n",
              "      <th>local_exp</th>\n",
              "      <th>total_exp</th>\n",
              "      <th>salary</th>\n",
              "      <th>benefits</th>\n",
              "      <th>staff_category_cd</th>\n",
              "      <th>staff_category_desc</th>\n",
              "      <th>school_cd</th>\n",
              "      <th>position_cd</th>\n",
              "      <th>position_description</th>\n",
              "      <th>position_type_cd</th>\n",
              "      <th>position_type_desc</th>\n",
              "      <th>assignment_area_cd</th>\n",
              "      <th>assignment_area_desc</th>\n",
              "      <th>low_grade_cd</th>\n",
              "      <th>low_grade_desc</th>\n",
              "      <th>high_grade_cd</th>\n",
              "      <th>high_grade_desc</th>\n",
              "      <th>assignment_fte</th>\n",
              "      <th>school_name</th>\n",
              "      <th>grade_level_cd</th>\n",
              "      <th>grade_level_desc</th>\n",
              "      <th>cesa_number</th>\n",
              "      <th>cnty_name</th>\n",
              "      <th>school_mailing_address1</th>\n",
              "      <th>school_mailing_address2</th>\n",
              "      <th>mail_city</th>\n",
              "      <th>mail_st</th>\n",
              "      <th>mail_zip_cd</th>\n",
              "    </tr>\n",
              "  </thead>\n",
              "  <tbody>\n",
              "    <tr>\n",
              "      <th>133</th>\n",
              "      <td>383408</td>\n",
              "      <td>Meredith</td>\n",
              "      <td>Biba</td>\n",
              "      <td>658224</td>\n",
              "      <td>F</td>\n",
              "      <td>W</td>\n",
              "      <td>1981</td>\n",
              "      <td>5</td>\n",
              "      <td>Master's degree</td>\n",
              "      <td>2015R</td>\n",
              "      <td>0</td>\n",
              "      <td>NaN</td>\n",
              "      <td>NaN</td>\n",
              "      <td>0.0</td>\n",
              "      <td>0.0</td>\n",
              "      <td>1</td>\n",
              "      <td>Professional-Regular Education</td>\n",
              "      <td></td>\n",
              "      <td>17</td>\n",
              "      <td>Reading Specialist</td>\n",
              "      <td>L</td>\n",
              "      <td>Licensed</td>\n",
              "      <td>0</td>\n",
              "      <td>No Description Beyond Position</td>\n",
              "      <td>K4</td>\n",
              "      <td>4-year-old Kindergarten</td>\n",
              "      <td>12</td>\n",
              "      <td>Twelfth Grade</td>\n",
              "      <td>0.2</td>\n",
              "      <td>Wauzeka-Steuben Sch Dist</td>\n",
              "      <td>None</td>\n",
              "      <td>None</td>\n",
              "      <td>3</td>\n",
              "      <td>Crawford County</td>\n",
              "      <td>301 E Main St</td>\n",
              "      <td>Wauzeka WI  53826-9671</td>\n",
              "      <td>Wauzeka</td>\n",
              "      <td>WI</td>\n",
              "      <td>53826-9671</td>\n",
              "    </tr>\n",
              "    <tr>\n",
              "      <th>135</th>\n",
              "      <td>364523</td>\n",
              "      <td>Kim</td>\n",
              "      <td>Duncan</td>\n",
              "      <td>83253</td>\n",
              "      <td>F</td>\n",
              "      <td>W</td>\n",
              "      <td>1957</td>\n",
              "      <td>None</td>\n",
              "      <td>None</td>\n",
              "      <td>2015R</td>\n",
              "      <td>0</td>\n",
              "      <td>NaN</td>\n",
              "      <td>NaN</td>\n",
              "      <td>0.0</td>\n",
              "      <td>0.0</td>\n",
              "      <td>2</td>\n",
              "      <td>Short-Term Substitute/Extra Curricular Activities</td>\n",
              "      <td></td>\n",
              "      <td>43</td>\n",
              "      <td>Short Term Substitute Teacher</td>\n",
              "      <td>L</td>\n",
              "      <td>Licensed</td>\n",
              "      <td>0</td>\n",
              "      <td>No Description Beyond Position</td>\n",
              "      <td>K4</td>\n",
              "      <td>4-year-old Kindergarten</td>\n",
              "      <td>12</td>\n",
              "      <td>Twelfth Grade</td>\n",
              "      <td>NaN</td>\n",
              "      <td>Adams-Friendship Area Sch Dist</td>\n",
              "      <td>None</td>\n",
              "      <td>None</td>\n",
              "      <td>5</td>\n",
              "      <td>Adams County</td>\n",
              "      <td>201 W 6th St</td>\n",
              "      <td>Friendship WI  53934-9135</td>\n",
              "      <td>Friendship</td>\n",
              "      <td>WI</td>\n",
              "      <td>53934-9135</td>\n",
              "    </tr>\n",
              "    <tr>\n",
              "      <th>136</th>\n",
              "      <td>407208</td>\n",
              "      <td>Louise</td>\n",
              "      <td>Walter</td>\n",
              "      <td>630125</td>\n",
              "      <td>F</td>\n",
              "      <td>W</td>\n",
              "      <td>1957</td>\n",
              "      <td>None</td>\n",
              "      <td>None</td>\n",
              "      <td>2015R</td>\n",
              "      <td>0</td>\n",
              "      <td>NaN</td>\n",
              "      <td>NaN</td>\n",
              "      <td>0.0</td>\n",
              "      <td>0.0</td>\n",
              "      <td>2</td>\n",
              "      <td>Short-Term Substitute/Extra Curricular Activities</td>\n",
              "      <td></td>\n",
              "      <td>43</td>\n",
              "      <td>Short Term Substitute Teacher</td>\n",
              "      <td>L</td>\n",
              "      <td>Licensed</td>\n",
              "      <td>0</td>\n",
              "      <td>No Description Beyond Position</td>\n",
              "      <td>K4</td>\n",
              "      <td>4-year-old Kindergarten</td>\n",
              "      <td>12</td>\n",
              "      <td>Twelfth Grade</td>\n",
              "      <td>NaN</td>\n",
              "      <td>Adams-Friendship Area Sch Dist</td>\n",
              "      <td>None</td>\n",
              "      <td>None</td>\n",
              "      <td>5</td>\n",
              "      <td>Adams County</td>\n",
              "      <td>201 W 6th St</td>\n",
              "      <td>Friendship WI  53934-9135</td>\n",
              "      <td>Friendship</td>\n",
              "      <td>WI</td>\n",
              "      <td>53934-9135</td>\n",
              "    </tr>\n",
              "    <tr>\n",
              "      <th>137</th>\n",
              "      <td>371248</td>\n",
              "      <td>Lorie</td>\n",
              "      <td>Hodkiewicz</td>\n",
              "      <td>736763</td>\n",
              "      <td>F</td>\n",
              "      <td>W</td>\n",
              "      <td>1964</td>\n",
              "      <td>None</td>\n",
              "      <td>None</td>\n",
              "      <td>2015R</td>\n",
              "      <td>0</td>\n",
              "      <td>NaN</td>\n",
              "      <td>NaN</td>\n",
              "      <td>0.0</td>\n",
              "      <td>0.0</td>\n",
              "      <td>2</td>\n",
              "      <td>Short-Term Substitute/Extra Curricular Activities</td>\n",
              "      <td></td>\n",
              "      <td>43</td>\n",
              "      <td>Short Term Substitute Teacher</td>\n",
              "      <td>L</td>\n",
              "      <td>Licensed</td>\n",
              "      <td>0</td>\n",
              "      <td>No Description Beyond Position</td>\n",
              "      <td>K4</td>\n",
              "      <td>4-year-old Kindergarten</td>\n",
              "      <td>12</td>\n",
              "      <td>Twelfth Grade</td>\n",
              "      <td>NaN</td>\n",
              "      <td>Adams-Friendship Area Sch Dist</td>\n",
              "      <td>None</td>\n",
              "      <td>None</td>\n",
              "      <td>5</td>\n",
              "      <td>Adams County</td>\n",
              "      <td>201 W 6th St</td>\n",
              "      <td>Friendship WI  53934-9135</td>\n",
              "      <td>Friendship</td>\n",
              "      <td>WI</td>\n",
              "      <td>53934-9135</td>\n",
              "    </tr>\n",
              "    <tr>\n",
              "      <th>138</th>\n",
              "      <td>314308</td>\n",
              "      <td>Karen</td>\n",
              "      <td>Weisenbeck</td>\n",
              "      <td>184792</td>\n",
              "      <td>F</td>\n",
              "      <td>W</td>\n",
              "      <td>1956</td>\n",
              "      <td>None</td>\n",
              "      <td>None</td>\n",
              "      <td>2015R</td>\n",
              "      <td>0</td>\n",
              "      <td>NaN</td>\n",
              "      <td>NaN</td>\n",
              "      <td>0.0</td>\n",
              "      <td>0.0</td>\n",
              "      <td>2</td>\n",
              "      <td>Short-Term Substitute/Extra Curricular Activities</td>\n",
              "      <td></td>\n",
              "      <td>43</td>\n",
              "      <td>Short Term Substitute Teacher</td>\n",
              "      <td>L</td>\n",
              "      <td>Licensed</td>\n",
              "      <td>0</td>\n",
              "      <td>No Description Beyond Position</td>\n",
              "      <td>K4</td>\n",
              "      <td>4-year-old Kindergarten</td>\n",
              "      <td>12</td>\n",
              "      <td>Twelfth Grade</td>\n",
              "      <td>NaN</td>\n",
              "      <td>Adams-Friendship Area Sch Dist</td>\n",
              "      <td>None</td>\n",
              "      <td>None</td>\n",
              "      <td>5</td>\n",
              "      <td>Adams County</td>\n",
              "      <td>201 W 6th St</td>\n",
              "      <td>Friendship WI  53934-9135</td>\n",
              "      <td>Friendship</td>\n",
              "      <td>WI</td>\n",
              "      <td>53934-9135</td>\n",
              "    </tr>\n",
              "  </tbody>\n",
              "</table>\n",
              "</div>"
            ],
            "text/plain": [
              "     id_nbr first_name   last_name file_number gender race_ethnicity  \\\n",
              "133  383408   Meredith        Biba      658224      F              W   \n",
              "135  364523        Kim      Duncan       83253      F              W   \n",
              "136  407208     Louise      Walter      630125      F              W   \n",
              "137  371248      Lorie  Hodkiewicz      736763      F              W   \n",
              "138  314308      Karen  Weisenbeck      184792      F              W   \n",
              "\n",
              "     birth_year high_degree_cd high_degree_desc year_session  contract_days  \\\n",
              "133        1981              5  Master's degree        2015R              0   \n",
              "135        1957           None             None        2015R              0   \n",
              "136        1957           None             None        2015R              0   \n",
              "137        1964           None             None        2015R              0   \n",
              "138        1956           None             None        2015R              0   \n",
              "\n",
              "     local_exp  total_exp  salary  benefits staff_category_cd  \\\n",
              "133        NaN        NaN     0.0       0.0                 1   \n",
              "135        NaN        NaN     0.0       0.0                 2   \n",
              "136        NaN        NaN     0.0       0.0                 2   \n",
              "137        NaN        NaN     0.0       0.0                 2   \n",
              "138        NaN        NaN     0.0       0.0                 2   \n",
              "\n",
              "                                   staff_category_desc school_cd  position_cd  \\\n",
              "133                     Professional-Regular Education                     17   \n",
              "135  Short-Term Substitute/Extra Curricular Activities                     43   \n",
              "136  Short-Term Substitute/Extra Curricular Activities                     43   \n",
              "137  Short-Term Substitute/Extra Curricular Activities                     43   \n",
              "138  Short-Term Substitute/Extra Curricular Activities                     43   \n",
              "\n",
              "              position_description position_type_cd position_type_desc  \\\n",
              "133             Reading Specialist                L           Licensed   \n",
              "135  Short Term Substitute Teacher                L           Licensed   \n",
              "136  Short Term Substitute Teacher                L           Licensed   \n",
              "137  Short Term Substitute Teacher                L           Licensed   \n",
              "138  Short Term Substitute Teacher                L           Licensed   \n",
              "\n",
              "     assignment_area_cd            assignment_area_desc low_grade_cd  \\\n",
              "133                   0  No Description Beyond Position           K4   \n",
              "135                   0  No Description Beyond Position           K4   \n",
              "136                   0  No Description Beyond Position           K4   \n",
              "137                   0  No Description Beyond Position           K4   \n",
              "138                   0  No Description Beyond Position           K4   \n",
              "\n",
              "              low_grade_desc high_grade_cd high_grade_desc  assignment_fte  \\\n",
              "133  4-year-old Kindergarten            12   Twelfth Grade             0.2   \n",
              "135  4-year-old Kindergarten            12   Twelfth Grade             NaN   \n",
              "136  4-year-old Kindergarten            12   Twelfth Grade             NaN   \n",
              "137  4-year-old Kindergarten            12   Twelfth Grade             NaN   \n",
              "138  4-year-old Kindergarten            12   Twelfth Grade             NaN   \n",
              "\n",
              "                        school_name grade_level_cd grade_level_desc  \\\n",
              "133  Wauzeka-Steuben Sch Dist                 None             None   \n",
              "135  Adams-Friendship Area Sch Dist           None             None   \n",
              "136  Adams-Friendship Area Sch Dist           None             None   \n",
              "137  Adams-Friendship Area Sch Dist           None             None   \n",
              "138  Adams-Friendship Area Sch Dist           None             None   \n",
              "\n",
              "    cesa_number                       cnty_name  \\\n",
              "133           3  Crawford County                  \n",
              "135           5  Adams County                     \n",
              "136           5  Adams County                     \n",
              "137           5  Adams County                     \n",
              "138           5  Adams County                     \n",
              "\n",
              "            school_mailing_address1         school_mailing_address2  \\\n",
              "133  301 E Main St                   Wauzeka WI  53826-9671           \n",
              "135  201 W 6th St                    Friendship WI  53934-9135        \n",
              "136  201 W 6th St                    Friendship WI  53934-9135        \n",
              "137  201 W 6th St                    Friendship WI  53934-9135        \n",
              "138  201 W 6th St                    Friendship WI  53934-9135        \n",
              "\n",
              "             mail_city mail_st mail_zip_cd  \n",
              "133  Wauzeka                WI  53826-9671  \n",
              "135  Friendship             WI  53934-9135  \n",
              "136  Friendship             WI  53934-9135  \n",
              "137  Friendship             WI  53934-9135  \n",
              "138  Friendship             WI  53934-9135  "
            ]
          },
          "metadata": {
            "tags": []
          },
          "execution_count": 28
        }
      ]
    },
    {
      "cell_type": "code",
      "metadata": {
        "id": "GYsjBgPkarE7",
        "colab_type": "code",
        "colab": {
          "base_uri": "https://localhost:8080/",
          "height": 134
        },
        "outputId": "0ee16066-6e80-4bae-c5d0-1b8dacc025d8"
      },
      "source": [
        "df[df['salary'] == df['salary'].max()]"
      ],
      "execution_count": 24,
      "outputs": [
        {
          "output_type": "execute_result",
          "data": {
            "text/html": [
              "<div>\n",
              "<style scoped>\n",
              "    .dataframe tbody tr th:only-of-type {\n",
              "        vertical-align: middle;\n",
              "    }\n",
              "\n",
              "    .dataframe tbody tr th {\n",
              "        vertical-align: top;\n",
              "    }\n",
              "\n",
              "    .dataframe thead th {\n",
              "        text-align: right;\n",
              "    }\n",
              "</style>\n",
              "<table border=\"1\" class=\"dataframe\">\n",
              "  <thead>\n",
              "    <tr style=\"text-align: right;\">\n",
              "      <th></th>\n",
              "      <th>id_nbr</th>\n",
              "      <th>first_name</th>\n",
              "      <th>last_name</th>\n",
              "      <th>file_number</th>\n",
              "      <th>gender</th>\n",
              "      <th>race_ethnicity</th>\n",
              "      <th>birth_year</th>\n",
              "      <th>high_degree_cd</th>\n",
              "      <th>high_degree_desc</th>\n",
              "      <th>year_session</th>\n",
              "      <th>contract_days</th>\n",
              "      <th>local_exp</th>\n",
              "      <th>total_exp</th>\n",
              "      <th>salary</th>\n",
              "      <th>benefits</th>\n",
              "      <th>staff_category_cd</th>\n",
              "      <th>staff_category_desc</th>\n",
              "      <th>school_cd</th>\n",
              "      <th>position_cd</th>\n",
              "      <th>position_description</th>\n",
              "      <th>position_type_cd</th>\n",
              "      <th>position_type_desc</th>\n",
              "      <th>assignment_area_cd</th>\n",
              "      <th>assignment_area_desc</th>\n",
              "      <th>low_grade_cd</th>\n",
              "      <th>low_grade_desc</th>\n",
              "      <th>high_grade_cd</th>\n",
              "      <th>high_grade_desc</th>\n",
              "      <th>assignment_fte</th>\n",
              "      <th>school_name</th>\n",
              "      <th>grade_level_cd</th>\n",
              "      <th>grade_level_desc</th>\n",
              "      <th>cesa_number</th>\n",
              "      <th>cnty_name</th>\n",
              "      <th>school_mailing_address1</th>\n",
              "      <th>school_mailing_address2</th>\n",
              "      <th>mail_city</th>\n",
              "      <th>mail_st</th>\n",
              "      <th>mail_zip_cd</th>\n",
              "    </tr>\n",
              "  </thead>\n",
              "  <tbody>\n",
              "    <tr>\n",
              "      <th>7881</th>\n",
              "      <td>377814</td>\n",
              "      <td>Jennifer</td>\n",
              "      <td>Cheatham</td>\n",
              "      <td>751701</td>\n",
              "      <td>F</td>\n",
              "      <td>W</td>\n",
              "      <td>1971</td>\n",
              "      <td>7</td>\n",
              "      <td>Doctorate</td>\n",
              "      <td>2015R</td>\n",
              "      <td>260</td>\n",
              "      <td>2.5</td>\n",
              "      <td>8.5</td>\n",
              "      <td>237354.0</td>\n",
              "      <td>56567.0</td>\n",
              "      <td>1</td>\n",
              "      <td>Professional-Regular Education</td>\n",
              "      <td></td>\n",
              "      <td>5</td>\n",
              "      <td>District Administrator</td>\n",
              "      <td>A</td>\n",
              "      <td>Administrative</td>\n",
              "      <td>0</td>\n",
              "      <td>No Description Beyond Position</td>\n",
              "      <td>K4</td>\n",
              "      <td>4-year-old Kindergarten</td>\n",
              "      <td>12</td>\n",
              "      <td>Twelfth Grade</td>\n",
              "      <td>1.0</td>\n",
              "      <td>Madison Metropolitan Sch Dist</td>\n",
              "      <td>None</td>\n",
              "      <td>None</td>\n",
              "      <td>2</td>\n",
              "      <td>Dane County</td>\n",
              "      <td>545 W Dayton St</td>\n",
              "      <td>Madison WI  53703-1967</td>\n",
              "      <td>Madison</td>\n",
              "      <td>WI</td>\n",
              "      <td>53703-1967</td>\n",
              "    </tr>\n",
              "  </tbody>\n",
              "</table>\n",
              "</div>"
            ],
            "text/plain": [
              "      id_nbr first_name last_name file_number gender race_ethnicity  \\\n",
              "7881  377814   Jennifer  Cheatham      751701      F              W   \n",
              "\n",
              "      birth_year high_degree_cd high_degree_desc year_session  contract_days  \\\n",
              "7881        1971              7        Doctorate        2015R            260   \n",
              "\n",
              "      local_exp  total_exp    salary  benefits staff_category_cd  \\\n",
              "7881        2.5        8.5  237354.0   56567.0                 1   \n",
              "\n",
              "                 staff_category_desc school_cd  position_cd  \\\n",
              "7881  Professional-Regular Education                      5   \n",
              "\n",
              "        position_description position_type_cd position_type_desc  \\\n",
              "7881  District Administrator                A     Administrative   \n",
              "\n",
              "      assignment_area_cd            assignment_area_desc low_grade_cd  \\\n",
              "7881                   0  No Description Beyond Position           K4   \n",
              "\n",
              "               low_grade_desc high_grade_cd high_grade_desc  assignment_fte  \\\n",
              "7881  4-year-old Kindergarten            12   Twelfth Grade             1.0   \n",
              "\n",
              "                         school_name grade_level_cd grade_level_desc  \\\n",
              "7881  Madison Metropolitan Sch Dist            None             None   \n",
              "\n",
              "     cesa_number                       cnty_name  \\\n",
              "7881           2  Dane County                      \n",
              "\n",
              "             school_mailing_address1         school_mailing_address2  \\\n",
              "7881  545 W Dayton St                 Madison WI  53703-1967           \n",
              "\n",
              "              mail_city mail_st mail_zip_cd  \n",
              "7881  Madison                WI  53703-1967  "
            ]
          },
          "metadata": {
            "tags": []
          },
          "execution_count": 24
        }
      ]
    },
    {
      "cell_type": "code",
      "metadata": {
        "id": "fLc7gwtGa9hK",
        "colab_type": "code",
        "colab": {}
      },
      "source": [
        ""
      ],
      "execution_count": 0,
      "outputs": []
    }
  ]
}