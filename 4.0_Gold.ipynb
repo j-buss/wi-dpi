{
  "nbformat": 4,
  "nbformat_minor": 0,
  "metadata": {
    "colab": {
      "name": "4.0_Gold.ipynb",
      "version": "0.3.2",
      "provenance": [],
      "include_colab_link": true
    },
    "kernelspec": {
      "name": "python3",
      "display_name": "Python 3"
    }
  },
  "cells": [
    {
      "cell_type": "markdown",
      "metadata": {
        "id": "view-in-github",
        "colab_type": "text"
      },
      "source": [
        "<a href=\"https://colab.research.google.com/github/j-buss/wi-dpi-analysis/blob/development/4.0_Gold.ipynb\" target=\"_parent\"><img src=\"https://colab.research.google.com/assets/colab-badge.svg\" alt=\"Open In Colab\"/></a>"
      ]
    },
    {
      "cell_type": "markdown",
      "metadata": {
        "id": "Yps5LthoPUUy",
        "colab_type": "text"
      },
      "source": [
        "# Salary and Eduction in Wisconsin - 4.0 Gold Layer"
      ]
    },
    {
      "cell_type": "markdown",
      "metadata": {
        "id": "dhU0ylOYPdQ_",
        "colab_type": "text"
      },
      "source": [
        "This it the 4th in a series of notebooks depicting the steps to acquire, store and analyze data pertaining to teachers in Wisconsin.\n",
        "\n",
        "1.  List item\n",
        "2.  List item\n",
        "3.  Refined Data - Create all_staff_record tables by year\n",
        "4.  Gold Layer"
      ]
    },
    {
      "cell_type": "code",
      "metadata": {
        "id": "Zr1ESh4iPYWX",
        "colab_type": "code",
        "colab": {}
      },
      "source": [
        ""
      ],
      "execution_count": 0,
      "outputs": []
    }
  ]
}