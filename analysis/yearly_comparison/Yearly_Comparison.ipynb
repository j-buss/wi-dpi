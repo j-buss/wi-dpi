{
  "nbformat": 4,
  "nbformat_minor": 0,
  "metadata": {
    "colab": {
      "name": "Yearly_Comparison.ipynb",
      "provenance": [],
      "include_colab_link": true
    },
    "kernelspec": {
      "name": "python3",
      "display_name": "Python 3"
    }
  },
  "cells": [
    {
      "cell_type": "markdown",
      "metadata": {
        "id": "view-in-github",
        "colab_type": "text"
      },
      "source": [
        "<a href=\"https://colab.research.google.com/github/j-buss/wi-dpi-analysis/blob/dev-analysis-foundation/analysis/yearly_comparison/Yearly_Comparison.ipynb\" target=\"_parent\"><img src=\"https://colab.research.google.com/assets/colab-badge.svg\" alt=\"Open In Colab\"/></a>"
      ]
    },
    {
      "cell_type": "code",
      "metadata": {
        "id": "-ClLfMpHSbov",
        "colab_type": "code",
        "colab": {}
      },
      "source": [
        "import numpy as np\n",
        "import pandas as pd\n",
        "pd.set_option('display.max_rows', 100)\n",
        "pd.set_option('display.max_columns', 1000)\n",
        "pd.set_option('display.width', 1000)\n",
        "import seaborn as sns\n",
        "import matplotlib.pyplot as plt\n",
        "\n",
        "from google.cloud import bigquery\n",
        "%matplotlib inline\n",
        "plt.style.use('bmh')"
      ],
      "execution_count": 0,
      "outputs": []
    },
    {
      "cell_type": "code",
      "metadata": {
        "id": "N_1rUj_WSz_8",
        "colab_type": "code",
        "colab": {}
      },
      "source": [
        "# Authenticate to GCS.\n",
        "from google.colab import auth\n",
        "auth.authenticate_user()"
      ],
      "execution_count": 0,
      "outputs": []
    },
    {
      "cell_type": "code",
      "metadata": {
        "id": "sIf9tLukS5QT",
        "colab_type": "code",
        "colab": {}
      },
      "source": [
        "project_id='wi-dpi-010'\n",
        "dataset_name='Merged'"
      ],
      "execution_count": 0,
      "outputs": []
    },
    {
      "cell_type": "code",
      "metadata": {
        "id": "wDtvDKn_TIGZ",
        "colab_type": "code",
        "colab": {}
      },
      "source": [
        "bq_client = bigquery.Client(project=project_id)"
      ],
      "execution_count": 0,
      "outputs": []
    },
    {
      "cell_type": "code",
      "metadata": {
        "id": "zLIGyYDUgE4m",
        "colab_type": "code",
        "colab": {}
      },
      "source": [
        "sql='''\n",
        "  SELECT\n",
        "    *\n",
        "  FROM\n",
        "    {}.{}\n",
        "'''.format(dataset_name,'Educator_Role_Summary_by_Year')"
      ],
      "execution_count": 0,
      "outputs": []
    },
    {
      "cell_type": "code",
      "metadata": {
        "id": "0CgfiUnjTLxH",
        "colab_type": "code",
        "colab": {}
      },
      "source": [
        "df_educator_role_summary_by_year = pd.read_gbq(sql, project_id=project_id)"
      ],
      "execution_count": 0,
      "outputs": []
    },
    {
      "cell_type": "code",
      "metadata": {
        "id": "uY-8JSXYghrj",
        "colab_type": "code",
        "colab": {}
      },
      "source": [
        "salaried_df = pd.DataFrame(df_educator_role_summary_by_year[df_educator_role_summary_by_year['Salary_Cnt'] != 0]\\\n",
        "          .groupby('Year').count().iloc[:,0])\n",
        "salaried_df.columns = [\"Salaried\"]"
      ],
      "execution_count": 0,
      "outputs": []
    },
    {
      "cell_type": "code",
      "metadata": {
        "id": "X_chx2YQUd9K",
        "colab_type": "code",
        "colab": {}
      },
      "source": [
        "non_salaried_df = pd.DataFrame(df_educator_role_summary_by_year[df_educator_role_summary_by_year['Salary_Cnt'] == 0]\\\n",
        "          .groupby('Year').count().iloc[:,0])\n",
        "non_salaried_df.columns = [\"Non Salaried\"]"
      ],
      "execution_count": 0,
      "outputs": []
    },
    {
      "cell_type": "code",
      "metadata": {
        "id": "PafpjejfUd6s",
        "colab_type": "code",
        "colab": {}
      },
      "source": [
        "plot_df.columns = [\"Salaried\"]"
      ],
      "execution_count": 0,
      "outputs": []
    },
    {
      "cell_type": "code",
      "metadata": {
        "id": "mC7jxRc1Ve22",
        "colab_type": "code",
        "colab": {
          "base_uri": "https://localhost:8080/",
          "height": 140
        },
        "outputId": "bdbd0148-4844-4230-c393-5bf7ddc5457b"
      },
      "source": [
        "plot_df['Salaried']"
      ],
      "execution_count": 69,
      "outputs": [
        {
          "output_type": "execute_result",
          "data": {
            "text/plain": [
              "Year\n",
              "2015    72760\n",
              "2016    71787\n",
              "2017    73055\n",
              "2018    73358\n",
              "2019    73755\n",
              "Name: Salaried, dtype: int64"
            ]
          },
          "metadata": {
            "tags": []
          },
          "execution_count": 69
        }
      ]
    },
    {
      "cell_type": "code",
      "metadata": {
        "id": "nzoEXJudS85E",
        "colab_type": "code",
        "colab": {}
      },
      "source": [
        "salary_count_df = pd.merge(salaried_df,\n",
        "         non_salaried_df,\n",
        "         right_index=True,\n",
        "         left_index=True)"
      ],
      "execution_count": 0,
      "outputs": []
    },
    {
      "cell_type": "code",
      "metadata": {
        "id": "U_3_9ewuU0yq",
        "colab_type": "code",
        "colab": {}
      },
      "source": [
        "salary_count_df['total'] = salary_count_df[\"Salaried\"] + salary_count_df[\"Non Salaried\"]\n",
        "salary_count_df['ratio'] = salary_count_df[\"Salaried\"] / salary_count_df[\"total\"]"
      ],
      "execution_count": 0,
      "outputs": []
    },
    {
      "cell_type": "code",
      "metadata": {
        "id": "cRxuMbvgVvuV",
        "colab_type": "code",
        "colab": {
          "base_uri": "https://localhost:8080/",
          "height": 225
        },
        "outputId": "b25b458a-3768-41e8-f9a7-d1e4a0a47a12"
      },
      "source": [
        "salary_count_df"
      ],
      "execution_count": 80,
      "outputs": [
        {
          "output_type": "execute_result",
          "data": {
            "text/html": [
              "<div>\n",
              "<style scoped>\n",
              "    .dataframe tbody tr th:only-of-type {\n",
              "        vertical-align: middle;\n",
              "    }\n",
              "\n",
              "    .dataframe tbody tr th {\n",
              "        vertical-align: top;\n",
              "    }\n",
              "\n",
              "    .dataframe thead th {\n",
              "        text-align: right;\n",
              "    }\n",
              "</style>\n",
              "<table border=\"1\" class=\"dataframe\">\n",
              "  <thead>\n",
              "    <tr style=\"text-align: right;\">\n",
              "      <th></th>\n",
              "      <th>Salaried</th>\n",
              "      <th>Non Salaried</th>\n",
              "      <th>total</th>\n",
              "      <th>ratio</th>\n",
              "    </tr>\n",
              "    <tr>\n",
              "      <th>Year</th>\n",
              "      <th></th>\n",
              "      <th></th>\n",
              "      <th></th>\n",
              "      <th></th>\n",
              "    </tr>\n",
              "  </thead>\n",
              "  <tbody>\n",
              "    <tr>\n",
              "      <th>2015</th>\n",
              "      <td>72760</td>\n",
              "      <td>61947</td>\n",
              "      <td>134707</td>\n",
              "      <td>0.540135</td>\n",
              "    </tr>\n",
              "    <tr>\n",
              "      <th>2016</th>\n",
              "      <td>71787</td>\n",
              "      <td>71713</td>\n",
              "      <td>143500</td>\n",
              "      <td>0.500258</td>\n",
              "    </tr>\n",
              "    <tr>\n",
              "      <th>2017</th>\n",
              "      <td>73055</td>\n",
              "      <td>71732</td>\n",
              "      <td>144787</td>\n",
              "      <td>0.504569</td>\n",
              "    </tr>\n",
              "    <tr>\n",
              "      <th>2018</th>\n",
              "      <td>73358</td>\n",
              "      <td>70122</td>\n",
              "      <td>143480</td>\n",
              "      <td>0.511277</td>\n",
              "    </tr>\n",
              "    <tr>\n",
              "      <th>2019</th>\n",
              "      <td>73755</td>\n",
              "      <td>71248</td>\n",
              "      <td>145003</td>\n",
              "      <td>0.508645</td>\n",
              "    </tr>\n",
              "  </tbody>\n",
              "</table>\n",
              "</div>"
            ],
            "text/plain": [
              "      Salaried  Non Salaried   total     ratio\n",
              "Year                                          \n",
              "2015     72760         61947  134707  0.540135\n",
              "2016     71787         71713  143500  0.500258\n",
              "2017     73055         71732  144787  0.504569\n",
              "2018     73358         70122  143480  0.511277\n",
              "2019     73755         71248  145003  0.508645"
            ]
          },
          "metadata": {
            "tags": []
          },
          "execution_count": 80
        }
      ]
    },
    {
      "cell_type": "code",
      "metadata": {
        "id": "0ek0cl1Nky3g",
        "colab_type": "code",
        "colab": {
          "base_uri": "https://localhost:8080/",
          "height": 418
        },
        "outputId": "fa36a6d2-c5a6-402f-873a-94803a99abe8"
      },
      "source": [
        "#Set general plot properties\n",
        "sns.set_style(\"white\")\n",
        "sns.set_context({\"figure.figsize\": (18, 6)})\n",
        "palette = sns.color_palette(\"muted\",3)\n",
        "top_plot = sns.barplot(x = salary_count_df.index, y = salary_count_df.total, color=\"dodgerblue\")\n",
        "\n",
        "#Plot 2 - overlay - \"bottom\" series\n",
        "bottom_plot = sns.barplot(x = salary_count_df.index, y = salary_count_df[\"Salaried\"], color=\"darkslateblue\")\n",
        "ax2 = bottom_plot.twinx()\n",
        "\n",
        "#Plot 3 - Overlay - Line Plot of the Ration\n",
        "sns.lineplot(x = salary_count_df.index, y = salary_count_df.ratio, \n",
        "                          markers=True, marker=\"o\", dashes=False, color=\"darkgreen\", ax=ax2)\n",
        "\n",
        "topbar = plt.Rectangle((0,0),1,1,fc=\"red\", edgecolor = 'none')\n",
        "bottombar = plt.Rectangle((0,0),1,1,fc='#0000A3',  edgecolor = 'none')\n",
        "ratiobar = plt.Rectangle((0,0),1,1,fc='green',  edgecolor = 'none')\n",
        "l = plt.legend([bottombar, topbar, ratiobar], ['Bottom Bar', 'Top Bar', 'Ratio'], loc=1, ncol = 3, prop={'size':16})\n",
        "l.draw_frame(False)\n",
        "\n",
        "#Optional code - Make plot look nicer\n",
        "#sns.despine(left=True)\n",
        "bottom_plot.set_ylabel(\"Y-axis label\")\n",
        "bottom_plot.set_xlabel(\"X-axis label\")\n",
        "\n",
        "#Set fonts to consistent 16pt size\n",
        "for item in ([bottom_plot.xaxis.label, bottom_plot.yaxis.label] +\n",
        "             bottom_plot.get_xticklabels() + bottom_plot.get_yticklabels()):\n",
        "    item.set_fontsize(16)"
      ],
      "execution_count": 83,
      "outputs": [
        {
          "output_type": "display_data",
          "data": {
            "image/png": "[encoded data removed]",
            "text/plain": [
              "<Figure size 1296x432 with 2 Axes>"
            ]
          },
          "metadata": {
            "tags": []
          }
        }
      ]
    },
    {
      "cell_type": "code",
      "metadata": {
        "id": "w5NGfKEIEnEv",
        "colab_type": "code",
        "colab": {}
      },
      "source": [
        ""
      ],
      "execution_count": 0,
      "outputs": []
    }
  ]
}