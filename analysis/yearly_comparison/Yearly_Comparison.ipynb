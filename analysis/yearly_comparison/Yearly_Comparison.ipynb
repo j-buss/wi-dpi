{
  "nbformat": 4,
  "nbformat_minor": 0,
  "metadata": {
    "colab": {
      "name": "Yearly_Comparison.ipynb",
      "provenance": [],
      "include_colab_link": true
    },
    "kernelspec": {
      "name": "python3",
      "display_name": "Python 3"
    }
  },
  "cells": [
    {
      "cell_type": "markdown",
      "metadata": {
        "id": "view-in-github",
        "colab_type": "text"
      },
      "source": [
        "<a href=\"https://colab.research.google.com/github/j-buss/wi-dpi-analysis/blob/dev-analysis-foundation/analysis/yearly_comparison/Yearly_Comparison.ipynb\" target=\"_parent\"><img src=\"https://colab.research.google.com/assets/colab-badge.svg\" alt=\"Open In Colab\"/></a>"
      ]
    },
    {
      "cell_type": "code",
      "metadata": {
        "id": "-ClLfMpHSbov",
        "colab_type": "code",
        "colab": {}
      },
      "source": [
        "import numpy as np\n",
        "import pandas as pd\n",
        "pd.set_option('display.max_rows', 100)\n",
        "pd.set_option('display.max_columns', 1000)\n",
        "pd.set_option('display.width', 1000)\n",
        "import seaborn as sns\n",
        "import matplotlib.pyplot as plt\n",
        "\n",
        "from google.cloud import bigquery\n",
        "%matplotlib inline\n",
        "plt.style.use('bmh')"
      ],
      "execution_count": 0,
      "outputs": []
    },
    {
      "cell_type": "code",
      "metadata": {
        "id": "N_1rUj_WSz_8",
        "colab_type": "code",
        "colab": {}
      },
      "source": [
        "# Authenticate to GCS.\n",
        "from google.colab import auth\n",
        "auth.authenticate_user()"
      ],
      "execution_count": 0,
      "outputs": []
    },
    {
      "cell_type": "code",
      "metadata": {
        "id": "sIf9tLukS5QT",
        "colab_type": "code",
        "colab": {}
      },
      "source": [
        "project_id='wi-dpi-010'\n",
        "dataset_name='Merged'"
      ],
      "execution_count": 0,
      "outputs": []
    },
    {
      "cell_type": "code",
      "metadata": {
        "id": "wDtvDKn_TIGZ",
        "colab_type": "code",
        "colab": {}
      },
      "source": [
        "bq_client = bigquery.Client(project=project_id)"
      ],
      "execution_count": 0,
      "outputs": []
    },
    {
      "cell_type": "code",
      "metadata": {
        "id": "zLIGyYDUgE4m",
        "colab_type": "code",
        "colab": {}
      },
      "source": [
        "sql='''\n",
        "  SELECT\n",
        "    *\n",
        "  FROM\n",
        "    {}.{}\n",
        "'''.format(dataset_name,'Educator_Role_Summary_by_Year')"
      ],
      "execution_count": 0,
      "outputs": []
    },
    {
      "cell_type": "code",
      "metadata": {
        "id": "0CgfiUnjTLxH",
        "colab_type": "code",
        "colab": {}
      },
      "source": [
        "df_educator_role_summary_by_year = pd.read_gbq(sql, project_id=project_id)"
      ],
      "execution_count": 0,
      "outputs": []
    },
    {
      "cell_type": "code",
      "metadata": {
        "id": "uY-8JSXYghrj",
        "colab_type": "code",
        "colab": {}
      },
      "source": [
        "salaried_df = pd.DataFrame(df_educator_role_summary_by_year[df_educator_role_summary_by_year['Salary_Cnt'] != 0]\\\n",
        "          .groupby('Year').count().iloc[:,0])\n",
        "salaried_df.columns = [\"Salaried\"]"
      ],
      "execution_count": 0,
      "outputs": []
    },
    {
      "cell_type": "code",
      "metadata": {
        "id": "X_chx2YQUd9K",
        "colab_type": "code",
        "colab": {}
      },
      "source": [
        "non_salaried_df = pd.DataFrame(df_educator_role_summary_by_year[df_educator_role_summary_by_year['Salary_Cnt'] == 0]\\\n",
        "          .groupby('Year').count().iloc[:,0])\n",
        "non_salaried_df.columns = [\"Non Salaried\"]"
      ],
      "execution_count": 0,
      "outputs": []
    },
    {
      "cell_type": "code",
      "metadata": {
        "id": "nzoEXJudS85E",
        "colab_type": "code",
        "colab": {}
      },
      "source": [
        "salary_count_df = pd.merge(salaried_df,\n",
        "         non_salaried_df,\n",
        "         right_index=True,\n",
        "         left_index=True)"
      ],
      "execution_count": 0,
      "outputs": []
    },
    {
      "cell_type": "code",
      "metadata": {
        "id": "cRxuMbvgVvuV",
        "colab_type": "code",
        "colab": {
          "base_uri": "https://localhost:8080/",
          "height": 235
        },
        "outputId": "553d1b52-37e1-4f5d-bd1e-95a17c19d825"
      },
      "source": [
        "salary_count_df"
      ],
      "execution_count": 13,
      "outputs": [
        {
          "output_type": "execute_result",
          "data": {
            "text/html": [
              "<div>\n",
              "<style scoped>\n",
              "    .dataframe tbody tr th:only-of-type {\n",
              "        vertical-align: middle;\n",
              "    }\n",
              "\n",
              "    .dataframe tbody tr th {\n",
              "        vertical-align: top;\n",
              "    }\n",
              "\n",
              "    .dataframe thead th {\n",
              "        text-align: right;\n",
              "    }\n",
              "</style>\n",
              "<table border=\"1\" class=\"dataframe\">\n",
              "  <thead>\n",
              "    <tr style=\"text-align: right;\">\n",
              "      <th></th>\n",
              "      <th>Salaried</th>\n",
              "      <th>Non Salaried</th>\n",
              "    </tr>\n",
              "    <tr>\n",
              "      <th>Year</th>\n",
              "      <th></th>\n",
              "      <th></th>\n",
              "    </tr>\n",
              "  </thead>\n",
              "  <tbody>\n",
              "    <tr>\n",
              "      <th>2015</th>\n",
              "      <td>72760</td>\n",
              "      <td>61947</td>\n",
              "    </tr>\n",
              "    <tr>\n",
              "      <th>2016</th>\n",
              "      <td>71787</td>\n",
              "      <td>71713</td>\n",
              "    </tr>\n",
              "    <tr>\n",
              "      <th>2017</th>\n",
              "      <td>73055</td>\n",
              "      <td>71732</td>\n",
              "    </tr>\n",
              "    <tr>\n",
              "      <th>2018</th>\n",
              "      <td>73358</td>\n",
              "      <td>70122</td>\n",
              "    </tr>\n",
              "    <tr>\n",
              "      <th>2019</th>\n",
              "      <td>73755</td>\n",
              "      <td>71248</td>\n",
              "    </tr>\n",
              "  </tbody>\n",
              "</table>\n",
              "</div>"
            ],
            "text/plain": [
              "      Salaried  Non Salaried\n",
              "Year                        \n",
              "2015     72760         61947\n",
              "2016     71787         71713\n",
              "2017     73055         71732\n",
              "2018     73358         70122\n",
              "2019     73755         71248"
            ]
          },
          "metadata": {
            "tags": []
          },
          "execution_count": 13
        }
      ]
    },
    {
      "cell_type": "code",
      "metadata": {
        "id": "Ih7vofHRVS2n",
        "colab_type": "code",
        "colab": {}
      },
      "source": [
        "salary_count_df.reset_index(level=0, inplace=True)"
      ],
      "execution_count": 0,
      "outputs": []
    },
    {
      "cell_type": "code",
      "metadata": {
        "id": "E9BoWUwAVlhZ",
        "colab_type": "code",
        "colab": {
          "base_uri": "https://localhost:8080/",
          "height": 204
        },
        "outputId": "d9f78705-7844-4ad7-a583-a3daeaee495d"
      },
      "source": [
        "salary_count_df.head()"
      ],
      "execution_count": 26,
      "outputs": [
        {
          "output_type": "execute_result",
          "data": {
            "text/html": [
              "<div>\n",
              "<style scoped>\n",
              "    .dataframe tbody tr th:only-of-type {\n",
              "        vertical-align: middle;\n",
              "    }\n",
              "\n",
              "    .dataframe tbody tr th {\n",
              "        vertical-align: top;\n",
              "    }\n",
              "\n",
              "    .dataframe thead th {\n",
              "        text-align: right;\n",
              "    }\n",
              "</style>\n",
              "<table border=\"1\" class=\"dataframe\">\n",
              "  <thead>\n",
              "    <tr style=\"text-align: right;\">\n",
              "      <th></th>\n",
              "      <th>Year</th>\n",
              "      <th>Salaried</th>\n",
              "      <th>Non Salaried</th>\n",
              "    </tr>\n",
              "  </thead>\n",
              "  <tbody>\n",
              "    <tr>\n",
              "      <th>0</th>\n",
              "      <td>2015</td>\n",
              "      <td>72760</td>\n",
              "      <td>61947</td>\n",
              "    </tr>\n",
              "    <tr>\n",
              "      <th>1</th>\n",
              "      <td>2016</td>\n",
              "      <td>71787</td>\n",
              "      <td>71713</td>\n",
              "    </tr>\n",
              "    <tr>\n",
              "      <th>2</th>\n",
              "      <td>2017</td>\n",
              "      <td>73055</td>\n",
              "      <td>71732</td>\n",
              "    </tr>\n",
              "    <tr>\n",
              "      <th>3</th>\n",
              "      <td>2018</td>\n",
              "      <td>73358</td>\n",
              "      <td>70122</td>\n",
              "    </tr>\n",
              "    <tr>\n",
              "      <th>4</th>\n",
              "      <td>2019</td>\n",
              "      <td>73755</td>\n",
              "      <td>71248</td>\n",
              "    </tr>\n",
              "  </tbody>\n",
              "</table>\n",
              "</div>"
            ],
            "text/plain": [
              "   Year  Salaried  Non Salaried\n",
              "0  2015     72760         61947\n",
              "1  2016     71787         71713\n",
              "2  2017     73055         71732\n",
              "3  2018     73358         70122\n",
              "4  2019     73755         71248"
            ]
          },
          "metadata": {
            "tags": []
          },
          "execution_count": 26
        }
      ]
    },
    {
      "cell_type": "code",
      "metadata": {
        "id": "Aaliuou6ORIG",
        "colab_type": "code",
        "colab": {
          "base_uri": "https://localhost:8080/",
          "height": 279
        },
        "outputId": "01550747-d28f-40c2-a455-d7fecbedf56a"
      },
      "source": [
        "df = salary_count_df.melt('Year', var_name='cols',  value_name='vals')\n",
        "g = sns.barplot(x=\"Year\", y=\"vals\", hue='cols', data=df)"
      ],
      "execution_count": 36,
      "outputs": [
        {
          "output_type": "display_data",
          "data": {
            "image/png": "[encoded data removed]",
            "text/plain": [
              "<Figure size 432x288 with 1 Axes>"
            ]
          },
          "metadata": {
            "tags": []
          }
        }
      ]
    }
  ]
}