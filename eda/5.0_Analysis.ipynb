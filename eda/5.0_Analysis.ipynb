{
  "nbformat": 4,
  "nbformat_minor": 0,
  "metadata": {
    "colab": {
      "name": "5.0_Analysis.ipynb",
      "version": "0.3.2",
      "provenance": [],
      "include_colab_link": true
    },
    "kernelspec": {
      "name": "python3",
      "display_name": "Python 3"
    }
  },
  "cells": [
    {
      "cell_type": "markdown",
      "metadata": {
        "id": "view-in-github",
        "colab_type": "text"
      },
      "source": [
        "<a href=\"https://colab.research.google.com/github/j-buss/wi-dpi-analysis/blob/development/eda/5.0_Analysis.ipynb\" target=\"_parent\"><img src=\"https://colab.research.google.com/assets/colab-badge.svg\" alt=\"Open In Colab\"/></a>"
      ]
    },
    {
      "cell_type": "markdown",
      "metadata": {
        "id": "a7RqcR9XQmlh",
        "colab_type": "text"
      },
      "source": [
        "## Salary and Education in Wisconsin - 5.0 Analysis"
      ]
    },
    {
      "cell_type": "markdown",
      "metadata": {
        "id": "vyWyiCIgQuqO",
        "colab_type": "text"
      },
      "source": [
        "### Prep"
      ]
    },
    {
      "cell_type": "markdown",
      "metadata": {
        "id": "7Neb6svbQ01m",
        "colab_type": "text"
      },
      "source": [
        "### Import Libraries"
      ]
    },
    {
      "cell_type": "code",
      "metadata": {
        "id": "0WA8Fls8Q68v",
        "colab_type": "code",
        "colab": {}
      },
      "source": [
        "import numpy as np\n",
        "import pandas as pd\n",
        "pd.set_option('display.max_rows', 1000)\n",
        "pd.set_option('display.max_columns', 1000)\n",
        "pd.set_option('display.width', 1000)\n",
        "import seaborn as sns\n",
        "import matplotlib.pyplot as plt\n",
        "\n",
        "from google.cloud import bigquery"
      ],
      "execution_count": 0,
      "outputs": []
    },
    {
      "cell_type": "code",
      "metadata": {
        "id": "LiTZE9mNQ-rT",
        "colab_type": "code",
        "colab": {}
      },
      "source": [
        "%matplotlib inline\n",
        "plt.style.use('bmh')"
      ],
      "execution_count": 0,
      "outputs": []
    },
    {
      "cell_type": "markdown",
      "metadata": {
        "id": "hX0BcoM4Q3fH",
        "colab_type": "text"
      },
      "source": [
        "\n",
        "\n",
        "### Functions\n",
        "\n"
      ]
    },
    {
      "cell_type": "markdown",
      "metadata": {
        "id": "TUTaVbCWRF0o",
        "colab_type": "text"
      },
      "source": [
        "### Processing"
      ]
    },
    {
      "cell_type": "code",
      "metadata": {
        "id": "FUmpGg4fQ2V_",
        "colab_type": "code",
        "colab": {}
      },
      "source": [
        "# Authenticate to GCS.\n",
        "from google.colab import auth\n",
        "auth.authenticate_user()"
      ],
      "execution_count": 0,
      "outputs": []
    },
    {
      "cell_type": "code",
      "metadata": {
        "id": "YOag6J7pRJ2F",
        "colab_type": "code",
        "colab": {}
      },
      "source": [
        "project_id='wi-dpi-010'\n",
        "landing_dataset_name='landing'\n",
        "refined_dataset_name='refined'\n",
        "gold_dataset_name='gold'\n",
        "\n",
        "gold_person_tablename='person'\n",
        "gold_person_role_tablename='person_role'"
      ],
      "execution_count": 0,
      "outputs": []
    },
    {
      "cell_type": "code",
      "metadata": {
        "id": "tTwXG7qARdaq",
        "colab_type": "code",
        "colab": {}
      },
      "source": [
        "bq_client = bigquery.Client(project=project_id)"
      ],
      "execution_count": 0,
      "outputs": []
    },
    {
      "cell_type": "markdown",
      "metadata": {
        "id": "tVv9lOs9SAmF",
        "colab_type": "text"
      },
      "source": [
        "## Analysis"
      ]
    },
    {
      "cell_type": "markdown",
      "metadata": {
        "id": "olgeEo7mSCka",
        "colab_type": "text"
      },
      "source": [
        "### Why are there 0 salaries?"
      ]
    },
    {
      "cell_type": "code",
      "metadata": {
        "id": "30tbF7E2RkgR",
        "colab_type": "code",
        "colab": {}
      },
      "source": [
        "sql='''\n",
        "  SELECT\n",
        "    *\n",
        "  FROM\n",
        "    {}.{}\n",
        "'''.format('refined','2015_all_staff_report')"
      ],
      "execution_count": 0,
      "outputs": []
    },
    {
      "cell_type": "code",
      "metadata": {
        "id": "NQVeSTiGRftW",
        "colab_type": "code",
        "colab": {
          "base_uri": "https://localhost:8080/",
          "height": 72
        },
        "outputId": "517a8c70-3851-49fb-dd6c-cc48a3e4b7bf"
      },
      "source": [
        "df = pd.read_gbq(sql, project_id=project_id)"
      ],
      "execution_count": 11,
      "outputs": [
        {
          "output_type": "stream",
          "text": [
            "/usr/local/lib/python3.6/dist-packages/ipykernel_launcher.py:1: FutureWarning: The default value for dialect is changing to \"standard\" in a future version of pandas-gbq. Pass in dialect=\"legacy\" to disable this warning.\n",
            "  \"\"\"Entry point for launching an IPython kernel.\n"
          ],
          "name": "stderr"
        }
      ]
    },
    {
      "cell_type": "code",
      "metadata": {
        "id": "AwCQYiZQR8Cx",
        "colab_type": "code",
        "colab": {
          "base_uri": "https://localhost:8080/",
          "height": 791
        },
        "outputId": "bca6a36b-e495-48a2-ca80-820cfa899282"
      },
      "source": [
        "df.info()"
      ],
      "execution_count": 12,
      "outputs": [
        {
          "output_type": "stream",
          "text": [
            "<class 'pandas.core.frame.DataFrame'>\n",
            "RangeIndex: 173824 entries, 0 to 173823\n",
            "Data columns (total 39 columns):\n",
            "id_nbr                     173824 non-null int64\n",
            "first_name                 173824 non-null object\n",
            "last_name                  173824 non-null object\n",
            "file_number                138678 non-null object\n",
            "gender                     173824 non-null object\n",
            "race_ethnicity             173824 non-null object\n",
            "birth_year                 173824 non-null int64\n",
            "high_degree_cd             104466 non-null object\n",
            "high_degree_desc           104466 non-null object\n",
            "year_session               173824 non-null object\n",
            "contract_days              173824 non-null int64\n",
            "local_exp                  103834 non-null float64\n",
            "total_exp                  103834 non-null float64\n",
            "salary                     173824 non-null float64\n",
            "benefits                   173824 non-null float64\n",
            "staff_category_cd          173823 non-null object\n",
            "staff_category_desc        173823 non-null object\n",
            "school_cd                  173824 non-null object\n",
            "position_cd                173824 non-null int64\n",
            "position_description       163729 non-null object\n",
            "position_type_cd           163729 non-null object\n",
            "position_type_desc         163729 non-null object\n",
            "assignment_area_cd         173824 non-null int64\n",
            "assignment_area_desc       166603 non-null object\n",
            "low_grade_cd               173824 non-null object\n",
            "low_grade_desc             173824 non-null object\n",
            "high_grade_cd              173824 non-null object\n",
            "high_grade_desc            173824 non-null object\n",
            "assignment_fte             143579 non-null float64\n",
            "school_name                173824 non-null object\n",
            "grade_level_cd             139659 non-null object\n",
            "grade_level_desc           139659 non-null object\n",
            "cesa_number                173355 non-null object\n",
            "cnty_name                  173824 non-null object\n",
            "school_mailing_address1    173824 non-null object\n",
            "school_mailing_address2    173824 non-null object\n",
            "mail_city                  173824 non-null object\n",
            "mail_st                    173824 non-null object\n",
            "mail_zip_cd                173824 non-null object\n",
            "dtypes: float64(5), int64(5), object(29)\n",
            "memory usage: 51.7+ MB\n"
          ],
          "name": "stdout"
        }
      ]
    },
    {
      "cell_type": "code",
      "metadata": {
        "id": "5KVDSufOR-dv",
        "colab_type": "code",
        "colab": {
          "base_uri": "https://localhost:8080/",
          "height": 514
        },
        "outputId": "b9dd3a3d-a356-40a2-dda6-cb80fc7e142d"
      },
      "source": [
        "plt.figure(figsize=(9, 8))\n",
        "sns.distplot(df['salary'], color='g', bins=100, hist_kws={'alpha': 0.4})"
      ],
      "execution_count": 13,
      "outputs": [
        {
          "output_type": "execute_result",
          "data": {
            "text/plain": [
              "<matplotlib.axes._subplots.AxesSubplot at 0x7fad339d72e8>"
            ]
          },
          "metadata": {
            "tags": []
          },
          "execution_count": 13
        },
        {
          "output_type": "display_data",
          "data": {
            "image/png": "[encoded data removed]",
            "text/plain": [
              "<Figure size 648x576 with 1 Axes>"
            ]
          },
          "metadata": {
            "tags": []
          }
        }
      ]
    },
    {
      "cell_type": "markdown",
      "metadata": {
        "id": "9Xj75xrwWCt6",
        "colab_type": "text"
      },
      "source": [
        "There are 69,990 individuals that work for the public schools that do not have salary data available. "
      ]
    },
    {
      "cell_type": "code",
      "metadata": {
        "id": "uO98rmsGXr5u",
        "colab_type": "code",
        "colab": {
          "base_uri": "https://localhost:8080/",
          "height": 70
        },
        "outputId": "dc40d0a9-be3d-4694-92e5-0315446f371c"
      },
      "source": [
        "print(\"Records without Salary: {}\".format(df['salary'][df['salary']==0].count()))\n",
        "print(\"Records with Salary: \\t{}\".format(df['salary'][df['salary']!=0].count()))\n",
        "print(\"Total Records: \\t\\t{}\".format(df['salary'].count()))"
      ],
      "execution_count": 59,
      "outputs": [
        {
          "output_type": "stream",
          "text": [
            "Records without Salary: 69990\n",
            "Records with Salary: \t103834\n",
            "Total Records: \t\t173824\n"
          ],
          "name": "stdout"
        }
      ]
    },
    {
      "cell_type": "code",
      "metadata": {
        "id": "pwSeHffGfDH2",
        "colab_type": "code",
        "colab": {}
      },
      "source": [
        "#Same analysis but with SQL to verify\n",
        "sql_salary_summary ='''\n",
        "  SELECT\n",
        "    sum(a.no_salary) as count_no_salary,\n",
        "    sum(a.has_salary) as count_has_salary,\n",
        "    count(*) as count_total_record\n",
        "  FROM\n",
        "    (SELECT\n",
        "      CASE WHEN (salary = 0 OR salary is null) THEN 1\n",
        "      ELSE 0\n",
        "      END AS no_salary,\n",
        "      CASE WHEN (salary <> 0 AND salary is not null) THEN 1\n",
        "      ELSE 0\n",
        "      END as has_salary\n",
        "    FROM\n",
        "      `wi-dpi-010.refined.2015_all_staff_report`) a\n",
        "'''"
      ],
      "execution_count": 0,
      "outputs": []
    },
    {
      "cell_type": "markdown",
      "metadata": {
        "id": "uV5miaEnirGb",
        "colab_type": "text"
      },
      "source": [
        "### How many people have a salary?"
      ]
    },
    {
      "cell_type": "markdown",
      "metadata": {
        "id": "aKQ2xq3pjA81",
        "colab_type": "text"
      },
      "source": [
        "The following gives the number of records that have a salary. However, we must remember that the grain of the table is at person-role-school. So many individuals have multiple rows describing the many roles they fill."
      ]
    },
    {
      "cell_type": "code",
      "metadata": {
        "id": "suKnjzwdTyyC",
        "colab_type": "code",
        "colab": {
          "base_uri": "https://localhost:8080/",
          "height": 721
        },
        "outputId": "e1e5bc63-b459-4cd1-d121-4528ca976b22"
      },
      "source": [
        "df[df['salary']!=0].count()"
      ],
      "execution_count": 64,
      "outputs": [
        {
          "output_type": "execute_result",
          "data": {
            "text/plain": [
              "id_nbr                     103834\n",
              "first_name                 103834\n",
              "last_name                  103834\n",
              "file_number                103298\n",
              "gender                     103834\n",
              "race_ethnicity             103834\n",
              "birth_year                 103834\n",
              "high_degree_cd             103812\n",
              "high_degree_desc           103812\n",
              "year_session               103834\n",
              "contract_days              103834\n",
              "local_exp                  103834\n",
              "total_exp                  103834\n",
              "salary                     103834\n",
              "benefits                   103834\n",
              "staff_category_cd          103834\n",
              "staff_category_desc        103834\n",
              "school_cd                  103834\n",
              "position_cd                103834\n",
              "position_description       103769\n",
              "position_type_cd           103769\n",
              "position_type_desc         103769\n",
              "assignment_area_cd         103834\n",
              "assignment_area_desc       103810\n",
              "low_grade_cd               103834\n",
              "low_grade_desc             103834\n",
              "high_grade_cd              103834\n",
              "high_grade_desc            103834\n",
              "assignment_fte              94781\n",
              "school_name                103834\n",
              "grade_level_cd              97586\n",
              "grade_level_desc            97586\n",
              "cesa_number                103726\n",
              "cnty_name                  103834\n",
              "school_mailing_address1    103834\n",
              "school_mailing_address2    103834\n",
              "mail_city                  103834\n",
              "mail_st                    103834\n",
              "mail_zip_cd                103834\n",
              "dtype: int64"
            ]
          },
          "metadata": {
            "tags": []
          },
          "execution_count": 64
        }
      ]
    },
    {
      "cell_type": "markdown",
      "metadata": {
        "id": "SwGgODeRjWb8",
        "colab_type": "text"
      },
      "source": [
        "Let's filter that list by the max salary:"
      ]
    },
    {
      "cell_type": "code",
      "metadata": {
        "id": "kSCkPqfgjfYt",
        "colab_type": "code",
        "colab": {
          "base_uri": "https://localhost:8080/",
          "height": 34
        },
        "outputId": "8fbbfdcb-3a53-40cb-d82d-c09190639395"
      },
      "source": [
        "df[df['salary']!=0].groupby(['id_nbr','first_name','last_name'])['salary'].max().count()"
      ],
      "execution_count": 69,
      "outputs": [
        {
          "output_type": "execute_result",
          "data": {
            "text/plain": [
              "72760"
            ]
          },
          "metadata": {
            "tags": []
          },
          "execution_count": 69
        }
      ]
    },
    {
      "cell_type": "code",
      "metadata": {
        "id": "RfcqC_Nwiy_x",
        "colab_type": "code",
        "colab": {}
      },
      "source": [
        "#with SQL\n",
        "SELECT\n",
        "  id_nbr,\n",
        "  first_name,\n",
        "  last_name,\n",
        "  max(salary)\n",
        "FROM\n",
        "  `wi-dpi-010.refined.2015_all_staff_report`\n",
        "GROUP BY 1, 2, 3\n",
        "HAVING max(salary) > 0"
      ],
      "execution_count": 0,
      "outputs": []
    },
    {
      "cell_type": "markdown",
      "metadata": {
        "id": "X-Rt7vACkNyX",
        "colab_type": "text"
      },
      "source": [
        "Now we need to save this data. "
      ]
    },
    {
      "cell_type": "code",
      "metadata": {
        "id": "hytDizFQkGJf",
        "colab_type": "code",
        "colab": {}
      },
      "source": [
        ""
      ],
      "execution_count": 0,
      "outputs": []
    }
  ]
}