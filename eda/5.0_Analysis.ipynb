{
  "nbformat": 4,
  "nbformat_minor": 0,
  "metadata": {
    "colab": {
      "name": "5.0_Analysis.ipynb",
      "version": "0.3.2",
      "provenance": [],
      "toc_visible": true,
      "include_colab_link": true
    },
    "kernelspec": {
      "name": "python3",
      "display_name": "Python 3"
    }
  },
  "cells": [
    {
      "cell_type": "markdown",
      "metadata": {
        "id": "view-in-github",
        "colab_type": "text"
      },
      "source": [
        "<a href=\"https://colab.research.google.com/github/j-buss/wi-dpi-analysis/blob/development/eda/5.0_Analysis.ipynb\" target=\"_parent\"><img src=\"https://colab.research.google.com/assets/colab-badge.svg\" alt=\"Open In Colab\"/></a>"
      ]
    },
    {
      "cell_type": "markdown",
      "metadata": {
        "id": "a7RqcR9XQmlh",
        "colab_type": "text"
      },
      "source": [
        "## Salary and Education in Wisconsin - 5.0 Analysis"
      ]
    },
    {
      "cell_type": "markdown",
      "metadata": {
        "id": "vyWyiCIgQuqO",
        "colab_type": "text"
      },
      "source": [
        "### Prep"
      ]
    },
    {
      "cell_type": "markdown",
      "metadata": {
        "id": "7Neb6svbQ01m",
        "colab_type": "text"
      },
      "source": [
        "### Import Libraries"
      ]
    },
    {
      "cell_type": "code",
      "metadata": {
        "id": "0WA8Fls8Q68v",
        "colab_type": "code",
        "colab": {}
      },
      "source": [
        "import numpy as np\n",
        "import pandas as pd\n",
        "pd.set_option('display.max_rows', 1000)\n",
        "pd.set_option('display.max_columns', 1000)\n",
        "pd.set_option('display.width', 1000)\n",
        "import seaborn as sns\n",
        "import matplotlib.pyplot as plt\n",
        "\n",
        "from google.cloud import bigquery"
      ],
      "execution_count": 0,
      "outputs": []
    },
    {
      "cell_type": "code",
      "metadata": {
        "id": "LiTZE9mNQ-rT",
        "colab_type": "code",
        "colab": {}
      },
      "source": [
        "%matplotlib inline\n",
        "plt.style.use('bmh')"
      ],
      "execution_count": 0,
      "outputs": []
    },
    {
      "cell_type": "markdown",
      "metadata": {
        "id": "hX0BcoM4Q3fH",
        "colab_type": "text"
      },
      "source": [
        "\n",
        "\n",
        "### Functions\n",
        "\n"
      ]
    },
    {
      "cell_type": "code",
      "metadata": {
        "id": "se0uX4jMPV1Z",
        "colab_type": "code",
        "colab": {}
      },
      "source": [
        "# To help with the pie charts later\n",
        "def make_autopct(values):\n",
        "  def my_autopct(pct):\n",
        "    total = sum(values)\n",
        "    val = int(round(pct*total/100.0))\n",
        "    return '{p:.2f}% \\n({v:,d})'.format(p=pct,v=val)\n",
        "  return my_autopct"
      ],
      "execution_count": 0,
      "outputs": []
    },
    {
      "cell_type": "markdown",
      "metadata": {
        "id": "TUTaVbCWRF0o",
        "colab_type": "text"
      },
      "source": [
        "### Processing"
      ]
    },
    {
      "cell_type": "code",
      "metadata": {
        "id": "FUmpGg4fQ2V_",
        "colab_type": "code",
        "colab": {}
      },
      "source": [
        "# Authenticate to GCS.\n",
        "from google.colab import auth\n",
        "auth.authenticate_user()"
      ],
      "execution_count": 0,
      "outputs": []
    },
    {
      "cell_type": "code",
      "metadata": {
        "id": "YOag6J7pRJ2F",
        "colab_type": "code",
        "colab": {}
      },
      "source": [
        "project_id='wi-dpi-010'\n",
        "landing_dataset_name='landing'\n",
        "refined_dataset_name='refined'\n",
        "gold_dataset_name='gold'"
      ],
      "execution_count": 0,
      "outputs": []
    },
    {
      "cell_type": "code",
      "metadata": {
        "id": "tTwXG7qARdaq",
        "colab_type": "code",
        "colab": {}
      },
      "source": [
        "bq_client = bigquery.Client(project=project_id)"
      ],
      "execution_count": 0,
      "outputs": []
    },
    {
      "cell_type": "markdown",
      "metadata": {
        "id": "tVv9lOs9SAmF",
        "colab_type": "text"
      },
      "source": [
        "# Analysis"
      ]
    },
    {
      "cell_type": "markdown",
      "metadata": {
        "id": "ZLRLLyyZW-tw",
        "colab_type": "text"
      },
      "source": [
        "## Explore Salaries"
      ]
    },
    {
      "cell_type": "markdown",
      "metadata": {
        "id": "xhiO7wlpW-aY",
        "colab_type": "text"
      },
      "source": [
        ""
      ]
    },
    {
      "cell_type": "code",
      "metadata": {
        "id": "30tbF7E2RkgR",
        "colab_type": "code",
        "colab": {}
      },
      "source": [
        "sql='''\n",
        "  SELECT\n",
        "    *\n",
        "  FROM\n",
        "    {}.{}\n",
        "'''.format('refined','2015_all_staff_report')"
      ],
      "execution_count": 0,
      "outputs": []
    },
    {
      "cell_type": "code",
      "metadata": {
        "id": "NQVeSTiGRftW",
        "colab_type": "code",
        "outputId": "f1a34d34-9e8f-4685-a477-ff1289e7f932",
        "colab": {
          "base_uri": "https://localhost:8080/",
          "height": 72
        }
      },
      "source": [
        "df = pd.read_gbq(sql, project_id=project_id)"
      ],
      "execution_count": 8,
      "outputs": [
        {
          "output_type": "stream",
          "text": [
            "/usr/local/lib/python3.6/dist-packages/ipykernel_launcher.py:1: FutureWarning: The default value for dialect is changing to \"standard\" in a future version of pandas-gbq. Pass in dialect=\"legacy\" to disable this warning.\n",
            "  \"\"\"Entry point for launching an IPython kernel.\n"
          ],
          "name": "stderr"
        }
      ]
    },
    {
      "cell_type": "code",
      "metadata": {
        "id": "AwCQYiZQR8Cx",
        "colab_type": "code",
        "outputId": "7c7a58ef-9af8-4f1f-c31b-e0d9b881e0b9",
        "colab": {
          "base_uri": "https://localhost:8080/",
          "height": 780
        }
      },
      "source": [
        "df.info()"
      ],
      "execution_count": 0,
      "outputs": [
        {
          "output_type": "stream",
          "text": [
            "<class 'pandas.core.frame.DataFrame'>\n",
            "RangeIndex: 173824 entries, 0 to 173823\n",
            "Data columns (total 39 columns):\n",
            "id_nbr                     173824 non-null int64\n",
            "first_name                 173824 non-null object\n",
            "last_name                  173824 non-null object\n",
            "file_number                138678 non-null object\n",
            "gender                     173824 non-null object\n",
            "race_ethnicity             173824 non-null object\n",
            "birth_year                 173824 non-null int64\n",
            "high_degree_cd             104466 non-null object\n",
            "high_degree_desc           104466 non-null object\n",
            "year_session               173824 non-null object\n",
            "contract_days              173824 non-null int64\n",
            "local_exp                  103834 non-null float64\n",
            "total_exp                  103834 non-null float64\n",
            "salary                     173824 non-null float64\n",
            "benefits                   173824 non-null float64\n",
            "staff_category_cd          173823 non-null object\n",
            "staff_category_desc        173823 non-null object\n",
            "school_cd                  173824 non-null object\n",
            "position_cd                173824 non-null int64\n",
            "position_description       163729 non-null object\n",
            "position_type_cd           163729 non-null object\n",
            "position_type_desc         163729 non-null object\n",
            "assignment_area_cd         173824 non-null int64\n",
            "assignment_area_desc       166603 non-null object\n",
            "low_grade_cd               173824 non-null object\n",
            "low_grade_desc             173824 non-null object\n",
            "high_grade_cd              173824 non-null object\n",
            "high_grade_desc            173824 non-null object\n",
            "assignment_fte             143579 non-null float64\n",
            "school_name                173824 non-null object\n",
            "grade_level_cd             139659 non-null object\n",
            "grade_level_desc           139659 non-null object\n",
            "cesa_number                173355 non-null object\n",
            "cnty_name                  173824 non-null object\n",
            "school_mailing_address1    173824 non-null object\n",
            "school_mailing_address2    173824 non-null object\n",
            "mail_city                  173824 non-null object\n",
            "mail_st                    173824 non-null object\n",
            "mail_zip_cd                173824 non-null object\n",
            "dtypes: float64(5), int64(5), object(29)\n",
            "memory usage: 51.7+ MB\n"
          ],
          "name": "stdout"
        }
      ]
    },
    {
      "cell_type": "code",
      "metadata": {
        "id": "5KVDSufOR-dv",
        "colab_type": "code",
        "outputId": "74277903-4e09-4689-d2ea-1ee7baa9e77f",
        "colab": {
          "base_uri": "https://localhost:8080/",
          "height": 514
        }
      },
      "source": [
        "plt.figure(figsize=(9, 8))\n",
        "sns.distplot(df['salary'], color='g', bins=100, hist_kws={'alpha': 0.4})"
      ],
      "execution_count": 0,
      "outputs": [
        {
          "output_type": "execute_result",
          "data": {
            "text/plain": [
              "<matplotlib.axes._subplots.AxesSubplot at 0x7feb31bd5e48>"
            ]
          },
          "metadata": {
            "tags": []
          },
          "execution_count": 9
        },
        {
          "output_type": "display_data",
          "data": {
            "image/png": "[encoded data removed]",
            "text/plain": [
              "<Figure size 648x576 with 1 Axes>"
            ]
          },
          "metadata": {
            "tags": []
          }
        }
      ]
    },
    {
      "cell_type": "markdown",
      "metadata": {
        "id": "olgeEo7mSCka",
        "colab_type": "text"
      },
      "source": [
        "### Why are there $0 salaries?"
      ]
    },
    {
      "cell_type": "markdown",
      "metadata": {
        "id": "9Xj75xrwWCt6",
        "colab_type": "text"
      },
      "source": [
        "There are 69,990 records that show a $0 salary."
      ]
    },
    {
      "cell_type": "markdown",
      "metadata": {
        "id": "jdN97PONWpzH",
        "colab_type": "text"
      },
      "source": [
        "ADD A CHART WHICH SHOWS THE RECORDS WITH, WITHOUT"
      ]
    },
    {
      "cell_type": "code",
      "metadata": {
        "id": "uO98rmsGXr5u",
        "colab_type": "code",
        "colab": {}
      },
      "source": [
        "records_w_o_salary = df['salary'][df['salary']==0].count()\n",
        "records_w_salary = df['salary'][df['salary']!=0].count()\n",
        "total_records = df['salary'].count()"
      ],
      "execution_count": 0,
      "outputs": []
    },
    {
      "cell_type": "code",
      "metadata": {
        "id": "TINcoZITYCgm",
        "colab_type": "code",
        "outputId": "c056149a-f519-43ef-ea3c-fdbbf833ea8e",
        "colab": {
          "base_uri": "https://localhost:8080/",
          "height": 265
        }
      },
      "source": [
        "\n",
        "# Pie chart, where the slices will be ordered and plotted counter-clockwise:\n",
        "labels = ['Records w/o Salary', 'Records w Salary']\n",
        "values = [records_w_o_salary, records_w_salary]\n",
        "explode = (0.1, 0)\n",
        "\n",
        "\n",
        "#fig1, ax1 = plt.subplots()\n",
        "#ax1.pie(sizes, explode=explode, labels=labels, autopct=make_autopct(values),\n",
        "#        shadow=True, startangle=90)\n",
        "#ax1.axis('equal')  # Equal aspect ratio ensures that pie is drawn as a circle.\n",
        "\n",
        "plt.title('% of Records with Salary')\n",
        "plt.pie(values, explode=explode, labels=labels, autopct=make_autopct(values),\n",
        "       shadow=True, startangle=90)\n",
        "plt.show()"
      ],
      "execution_count": 19,
      "outputs": [
        {
          "output_type": "display_data",
          "data": {
            "image/png": "[encoded data removed]",
            "text/plain": [
              "<Figure size 432x288 with 1 Axes>"
            ]
          },
          "metadata": {
            "tags": []
          }
        }
      ]
    },
    {
      "cell_type": "code",
      "metadata": {
        "id": "pwSeHffGfDH2",
        "colab_type": "code",
        "colab": {}
      },
      "source": [
        "#Same analysis but with SQL to verify\n",
        "sql_salary_summary ='''\n",
        "  SELECT\n",
        "    sum(a.no_salary) as count_no_salary,\n",
        "    sum(a.has_salary) as count_has_salary,\n",
        "    count(*) as count_total_record\n",
        "  FROM\n",
        "    (SELECT\n",
        "      CASE WHEN (salary = 0 OR salary is null) THEN 1\n",
        "      ELSE 0\n",
        "      END AS no_salary,\n",
        "      CASE WHEN (salary <> 0 AND salary is not null) THEN 1\n",
        "      ELSE 0\n",
        "      END as has_salary\n",
        "    FROM\n",
        "      `wi-dpi-010.refined.2015_all_staff_report`) a\n",
        "'''"
      ],
      "execution_count": 0,
      "outputs": []
    },
    {
      "cell_type": "markdown",
      "metadata": {
        "id": "ilbPJ3rYnPMm",
        "colab_type": "text"
      },
      "source": [
        "Examining the job categories of roles that either do or do not have Salary information:"
      ]
    },
    {
      "cell_type": "code",
      "metadata": {
        "id": "vy8emTFPZfax",
        "colab_type": "code",
        "colab": {}
      },
      "source": [
        "sql_role_cat_w_salary = '''\n",
        "SELECT\n",
        "  A.staff_category_desc,\n",
        "  A.position_description,\n",
        "  A.position_type_cd,\n",
        "  sum(has_salary) Salary,\n",
        "  sum(has_contract) Contract,\n",
        "  sum(no_salary) No_Salary,\n",
        "  sum(no_contract) No_Contract\n",
        "FROM\n",
        "  (SELECT\n",
        "    staff_category_desc,\n",
        "    position_description,\n",
        "    position_type_cd,\n",
        "    CASE WHEN (salary = 0 OR salary is null) THEN 1\n",
        "    ELSE 0\n",
        "    END AS no_salary,\n",
        "    CASE WHEN (salary <> 0 AND salary is not null) THEN 1\n",
        "    ELSE 0\n",
        "    END as has_salary,\n",
        "    CASE WHEN (contract_days = 0 OR contract_days is null) THEN 1\n",
        "    ELSE 0\n",
        "    END AS no_contract,\n",
        "    CASE WHEN (contract_days <> 0 AND contract_days is not null) THEN 1\n",
        "    ELSE 0\n",
        "    END as has_contract\n",
        "  FROM\n",
        "    {}.{}) A\n",
        "GROUP BY\n",
        "  A.staff_category_desc,\n",
        "  A.position_description,\n",
        "  A.position_type_cd\n",
        "'''.format('refined','2015_all_staff_report')"
      ],
      "execution_count": 0,
      "outputs": []
    },
    {
      "cell_type": "code",
      "metadata": {
        "id": "AS6_-2IRaLJ_",
        "colab_type": "code",
        "outputId": "bcaf6df0-ec1e-42c7-e256-0040189fd053",
        "colab": {
          "base_uri": "https://localhost:8080/",
          "height": 72
        }
      },
      "source": [
        "df_role_cat_w_salary = pd.read_gbq(sql_role_cat_w_salary, project_id=project_id)"
      ],
      "execution_count": 0,
      "outputs": [
        {
          "output_type": "stream",
          "text": [
            "/usr/local/lib/python3.6/dist-packages/ipykernel_launcher.py:1: FutureWarning: The default value for dialect is changing to \"standard\" in a future version of pandas-gbq. Pass in dialect=\"legacy\" to disable this warning.\n",
            "  \"\"\"Entry point for launching an IPython kernel.\n"
          ],
          "name": "stderr"
        }
      ]
    },
    {
      "cell_type": "code",
      "metadata": {
        "id": "ioQJeXeTelIP",
        "colab_type": "code",
        "outputId": "95938d21-55a1-4766-8b86-8227617811fa",
        "colab": {
          "base_uri": "https://localhost:8080/",
          "height": 233
        }
      },
      "source": [
        "df_role_cat_w_salary[['A_staff_category_desc','Salary','No_Salary']]\\\n",
        "  .groupby('A_staff_category_desc').sum().sort_values(\n",
        "  by=['Salary','No_Salary'],\n",
        "  ascending=False)"
      ],
      "execution_count": 0,
      "outputs": [
        {
          "output_type": "execute_result",
          "data": {
            "text/html": [
              "<div>\n",
              "<style scoped>\n",
              "    .dataframe tbody tr th:only-of-type {\n",
              "        vertical-align: middle;\n",
              "    }\n",
              "\n",
              "    .dataframe tbody tr th {\n",
              "        vertical-align: top;\n",
              "    }\n",
              "\n",
              "    .dataframe thead th {\n",
              "        text-align: right;\n",
              "    }\n",
              "</style>\n",
              "<table border=\"1\" class=\"dataframe\">\n",
              "  <thead>\n",
              "    <tr style=\"text-align: right;\">\n",
              "      <th></th>\n",
              "      <th>Salary</th>\n",
              "      <th>No_Salary</th>\n",
              "    </tr>\n",
              "    <tr>\n",
              "      <th>A_staff_category_desc</th>\n",
              "      <th></th>\n",
              "      <th></th>\n",
              "    </tr>\n",
              "  </thead>\n",
              "  <tbody>\n",
              "    <tr>\n",
              "      <th>Professional-Regular Education</th>\n",
              "      <td>81013</td>\n",
              "      <td>650</td>\n",
              "    </tr>\n",
              "    <tr>\n",
              "      <th>Professional-Special Education</th>\n",
              "      <td>22821</td>\n",
              "      <td>327</td>\n",
              "    </tr>\n",
              "    <tr>\n",
              "      <th>Support-Regular Education</th>\n",
              "      <td>0</td>\n",
              "      <td>42725</td>\n",
              "    </tr>\n",
              "    <tr>\n",
              "      <th>Short-Term Substitute/Extra Curricular Activities</th>\n",
              "      <td>0</td>\n",
              "      <td>14196</td>\n",
              "    </tr>\n",
              "    <tr>\n",
              "      <th>Support-Special Education</th>\n",
              "      <td>0</td>\n",
              "      <td>12091</td>\n",
              "    </tr>\n",
              "  </tbody>\n",
              "</table>\n",
              "</div>"
            ],
            "text/plain": [
              "                                                   Salary  No_Salary\n",
              "A_staff_category_desc                                               \n",
              "Professional-Regular Education                      81013        650\n",
              "Professional-Special Education                      22821        327\n",
              "Support-Regular Education                               0      42725\n",
              "Short-Term Substitute/Extra Curricular Activities       0      14196\n",
              "Support-Special Education                               0      12091"
            ]
          },
          "metadata": {
            "tags": []
          },
          "execution_count": 73
        }
      ]
    },
    {
      "cell_type": "markdown",
      "metadata": {
        "id": "i2Qmqen2nfh_",
        "colab_type": "text"
      },
      "source": [
        "Adding in some inforamtion about contracts we see that the two are corelated:"
      ]
    },
    {
      "cell_type": "code",
      "metadata": {
        "id": "TFtZU_tznfNj",
        "colab_type": "code",
        "outputId": "511df7ff-7a45-4f30-ad55-dfce0bd2e489",
        "colab": {
          "base_uri": "https://localhost:8080/",
          "height": 233
        }
      },
      "source": [
        "df_role_cat_w_salary\\\n",
        "  .groupby('A_staff_category_desc').sum().sort_values(\n",
        "  by=['Salary','No_Salary'],\n",
        "  ascending=False)"
      ],
      "execution_count": 0,
      "outputs": [
        {
          "output_type": "execute_result",
          "data": {
            "text/html": [
              "<div>\n",
              "<style scoped>\n",
              "    .dataframe tbody tr th:only-of-type {\n",
              "        vertical-align: middle;\n",
              "    }\n",
              "\n",
              "    .dataframe tbody tr th {\n",
              "        vertical-align: top;\n",
              "    }\n",
              "\n",
              "    .dataframe thead th {\n",
              "        text-align: right;\n",
              "    }\n",
              "</style>\n",
              "<table border=\"1\" class=\"dataframe\">\n",
              "  <thead>\n",
              "    <tr style=\"text-align: right;\">\n",
              "      <th></th>\n",
              "      <th>Salary</th>\n",
              "      <th>Contract</th>\n",
              "      <th>No_Salary</th>\n",
              "      <th>No_Contract</th>\n",
              "    </tr>\n",
              "    <tr>\n",
              "      <th>A_staff_category_desc</th>\n",
              "      <th></th>\n",
              "      <th></th>\n",
              "      <th></th>\n",
              "      <th></th>\n",
              "    </tr>\n",
              "  </thead>\n",
              "  <tbody>\n",
              "    <tr>\n",
              "      <th>Professional-Regular Education</th>\n",
              "      <td>81013</td>\n",
              "      <td>81013</td>\n",
              "      <td>650</td>\n",
              "      <td>650</td>\n",
              "    </tr>\n",
              "    <tr>\n",
              "      <th>Professional-Special Education</th>\n",
              "      <td>22821</td>\n",
              "      <td>22821</td>\n",
              "      <td>327</td>\n",
              "      <td>327</td>\n",
              "    </tr>\n",
              "    <tr>\n",
              "      <th>Support-Regular Education</th>\n",
              "      <td>0</td>\n",
              "      <td>0</td>\n",
              "      <td>42725</td>\n",
              "      <td>42725</td>\n",
              "    </tr>\n",
              "    <tr>\n",
              "      <th>Short-Term Substitute/Extra Curricular Activities</th>\n",
              "      <td>0</td>\n",
              "      <td>0</td>\n",
              "      <td>14196</td>\n",
              "      <td>14196</td>\n",
              "    </tr>\n",
              "    <tr>\n",
              "      <th>Support-Special Education</th>\n",
              "      <td>0</td>\n",
              "      <td>0</td>\n",
              "      <td>12091</td>\n",
              "      <td>12091</td>\n",
              "    </tr>\n",
              "  </tbody>\n",
              "</table>\n",
              "</div>"
            ],
            "text/plain": [
              "                                                   Salary  Contract  No_Salary  No_Contract\n",
              "A_staff_category_desc                                                                      \n",
              "Professional-Regular Education                      81013     81013        650          650\n",
              "Professional-Special Education                      22821     22821        327          327\n",
              "Support-Regular Education                               0         0      42725        42725\n",
              "Short-Term Substitute/Extra Curricular Activities       0         0      14196        14196\n",
              "Support-Special Education                               0         0      12091        12091"
            ]
          },
          "metadata": {
            "tags": []
          },
          "execution_count": 74
        }
      ]
    },
    {
      "cell_type": "markdown",
      "metadata": {
        "id": "BSZxL7iRiYLh",
        "colab_type": "text"
      },
      "source": [
        "Generally speaking the roles either display Salary information or not. There do seem to be a few exceptions to this rule. Analyzing the data in a bit more detail we filter on a few positions which seem to have some split. The majority being Salary/Contract, but a small percentage being No-Salary/No-Contract."
      ]
    },
    {
      "cell_type": "code",
      "metadata": {
        "id": "4a0XqJmHgmO2",
        "colab_type": "code",
        "outputId": "2de834ae-a991-4e8b-9087-a7aaf246eaa5",
        "colab": {
          "base_uri": "https://localhost:8080/",
          "height": 202
        }
      },
      "source": [
        "df_role_cat_w_salary[['A_staff_category_desc','A_position_description','Salary','Contract','No_Salary','No_Contract']]\\\n",
        "  [(df_role_cat_w_salary['A_position_description']=='Teacher') | \n",
        "   (df_role_cat_w_salary['A_position_description']=='School Physical Therapy') | \n",
        "   (df_role_cat_w_salary['A_position_description']=='School Occupational Therapy') |\n",
        "   (df_role_cat_w_salary['A_position_description']=='Speech/Language Pathologist')]\\\n",
        "  .sort_values(by=['Salary','No_Salary'],ascending=False)"
      ],
      "execution_count": 0,
      "outputs": [
        {
          "output_type": "execute_result",
          "data": {
            "text/html": [
              "<div>\n",
              "<style scoped>\n",
              "    .dataframe tbody tr th:only-of-type {\n",
              "        vertical-align: middle;\n",
              "    }\n",
              "\n",
              "    .dataframe tbody tr th {\n",
              "        vertical-align: top;\n",
              "    }\n",
              "\n",
              "    .dataframe thead th {\n",
              "        text-align: right;\n",
              "    }\n",
              "</style>\n",
              "<table border=\"1\" class=\"dataframe\">\n",
              "  <thead>\n",
              "    <tr style=\"text-align: right;\">\n",
              "      <th></th>\n",
              "      <th>A_staff_category_desc</th>\n",
              "      <th>A_position_description</th>\n",
              "      <th>Salary</th>\n",
              "      <th>Contract</th>\n",
              "      <th>No_Salary</th>\n",
              "      <th>No_Contract</th>\n",
              "    </tr>\n",
              "  </thead>\n",
              "  <tbody>\n",
              "    <tr>\n",
              "      <th>24</th>\n",
              "      <td>Professional-Regular Education</td>\n",
              "      <td>Teacher</td>\n",
              "      <td>64325</td>\n",
              "      <td>64325</td>\n",
              "      <td>572</td>\n",
              "      <td>572</td>\n",
              "    </tr>\n",
              "    <tr>\n",
              "      <th>25</th>\n",
              "      <td>Professional-Special Education</td>\n",
              "      <td>Teacher</td>\n",
              "      <td>11248</td>\n",
              "      <td>11248</td>\n",
              "      <td>108</td>\n",
              "      <td>108</td>\n",
              "    </tr>\n",
              "    <tr>\n",
              "      <th>38</th>\n",
              "      <td>Professional-Special Education</td>\n",
              "      <td>Speech/Language Pathologist</td>\n",
              "      <td>2378</td>\n",
              "      <td>2378</td>\n",
              "      <td>46</td>\n",
              "      <td>46</td>\n",
              "    </tr>\n",
              "    <tr>\n",
              "      <th>30</th>\n",
              "      <td>Professional-Special Education</td>\n",
              "      <td>School Occupational Therapy</td>\n",
              "      <td>894</td>\n",
              "      <td>894</td>\n",
              "      <td>56</td>\n",
              "      <td>56</td>\n",
              "    </tr>\n",
              "    <tr>\n",
              "      <th>28</th>\n",
              "      <td>Professional-Special Education</td>\n",
              "      <td>School Physical Therapy</td>\n",
              "      <td>505</td>\n",
              "      <td>505</td>\n",
              "      <td>53</td>\n",
              "      <td>53</td>\n",
              "    </tr>\n",
              "  </tbody>\n",
              "</table>\n",
              "</div>"
            ],
            "text/plain": [
              "             A_staff_category_desc       A_position_description  Salary  Contract  No_Salary  No_Contract\n",
              "24  Professional-Regular Education                      Teacher   64325     64325        572          572\n",
              "25  Professional-Special Education                      Teacher   11248     11248        108          108\n",
              "38  Professional-Special Education  Speech/Language Pathologist    2378      2378         46           46\n",
              "30  Professional-Special Education  School Occupational Therapy     894       894         56           56\n",
              "28  Professional-Special Education      School Physical Therapy     505       505         53           53"
            ]
          },
          "metadata": {
            "tags": []
          },
          "execution_count": 78
        }
      ]
    },
    {
      "cell_type": "markdown",
      "metadata": {
        "id": "EHsmfAS6rDcC",
        "colab_type": "text"
      },
      "source": [
        "SHOULD WE ADD AN AVERAGE SALARY BY POSITION"
      ]
    },
    {
      "cell_type": "markdown",
      "metadata": {
        "id": "DPb1xGvImuOw",
        "colab_type": "text"
      },
      "source": [
        "Summary: Roles tend to have Salary information or not."
      ]
    },
    {
      "cell_type": "markdown",
      "metadata": {
        "id": "uV5miaEnirGb",
        "colab_type": "text"
      },
      "source": [
        "### How many people have a salary?"
      ]
    },
    {
      "cell_type": "markdown",
      "metadata": {
        "id": "aKQ2xq3pjA81",
        "colab_type": "text"
      },
      "source": [
        "The previous analysis started by examining salary data. What we found is that there are a number records in the data set that do not show salary data as these roles do not have a contract. We filtered the data out to find some information about the roles that were under contract and therefore had a salary. \n",
        "\n",
        "For this step, as we want to go deeper into the Salary data we still need to answer the question about people."
      ]
    },
    {
      "cell_type": "markdown",
      "metadata": {
        "id": "-8QTzOaUrOOi",
        "colab_type": "text"
      },
      "source": [
        "How many people in the dataset?"
      ]
    },
    {
      "cell_type": "code",
      "metadata": {
        "id": "_YlXvpmsrQr7",
        "colab_type": "code",
        "colab": {}
      },
      "source": [
        "total_parties = df['id_nbr'].nunique()\n",
        "parties_w_salary = df[df['salary']!=0].groupby(['id_nbr'])['salary'].max().count()\n",
        "parties_w_o_salary = df[df['salary']==0].groupby(['id_nbr'])['salary'].max().count()"
      ],
      "execution_count": 0,
      "outputs": []
    },
    {
      "cell_type": "code",
      "metadata": {
        "id": "F-ShrO8bPcJu",
        "colab_type": "code",
        "colab": {
          "base_uri": "https://localhost:8080/",
          "height": 265
        },
        "outputId": "a033f850-d168-4ccd-8d6a-241585bc99a7"
      },
      "source": [
        "\n",
        "# Pie chart, where the slices will be ordered and plotted counter-clockwise:\n",
        "labels = ['Parties w/o Salary', 'Parties w Salary']\n",
        "values = [parties_w_o_salary, parties_w_salary]\n",
        "explode = (0.1, 0)\n",
        "\n",
        "\n",
        "#fig1, ax1 = plt.subplots()\n",
        "#ax1.pie(sizes, explode=explode, labels=labels, autopct=make_autopct(values),\n",
        "#        shadow=True, startangle=90)\n",
        "#ax1.axis('equal')  # Equal aspect ratio ensures that pie is drawn as a circle.\n",
        "\n",
        "plt.title('% of Parties with Salary')\n",
        "plt.pie(values, explode=explode, labels=labels, autopct=make_autopct(values),\n",
        "       shadow=True, startangle=90)\n",
        "plt.show()"
      ],
      "execution_count": 20,
      "outputs": [
        {
          "output_type": "display_data",
          "data": {
            "image/png": "[encoded data removed]",
            "text/plain": [
              "<Figure size 432x288 with 1 Axes>"
            ]
          },
          "metadata": {
            "tags": []
          }
        }
      ]
    },
    {
      "cell_type": "markdown",
      "metadata": {
        "id": "X-Rt7vACkNyX",
        "colab_type": "text"
      },
      "source": [
        "This data has been saved into the gold.party_w_salary table."
      ]
    },
    {
      "cell_type": "code",
      "metadata": {
        "id": "hytDizFQkGJf",
        "colab_type": "code",
        "colab": {}
      },
      "source": [
        "sql='''\n",
        "  SELECT\n",
        "    *\n",
        "  FROM\n",
        "    {}.{}\n",
        "'''.format('gold','party_w_salary')"
      ],
      "execution_count": 0,
      "outputs": []
    },
    {
      "cell_type": "code",
      "metadata": {
        "id": "y6Nkw1vEm_Se",
        "colab_type": "code",
        "outputId": "5ff63cc2-cfe4-4ddb-c5ac-c60ac9367d53",
        "colab": {
          "base_uri": "https://localhost:8080/",
          "height": 72
        }
      },
      "source": [
        "df_party_w_salary = pd.read_gbq(sql, project_id=project_id)"
      ],
      "execution_count": 22,
      "outputs": [
        {
          "output_type": "stream",
          "text": [
            "/usr/local/lib/python3.6/dist-packages/ipykernel_launcher.py:1: FutureWarning: The default value for dialect is changing to \"standard\" in a future version of pandas-gbq. Pass in dialect=\"legacy\" to disable this warning.\n",
            "  \"\"\"Entry point for launching an IPython kernel.\n"
          ],
          "name": "stderr"
        }
      ]
    },
    {
      "cell_type": "code",
      "metadata": {
        "id": "NQbXcRuRnDtv",
        "colab_type": "code",
        "outputId": "e16d1a0b-b835-4cfd-b95a-a0eb9797f709",
        "colab": {
          "base_uri": "https://localhost:8080/",
          "height": 297
        }
      },
      "source": [
        "sns.distplot(df_party_w_salary['sal'],norm_hist=True)"
      ],
      "execution_count": 23,
      "outputs": [
        {
          "output_type": "execute_result",
          "data": {
            "text/plain": [
              "<matplotlib.axes._subplots.AxesSubplot at 0x7f48fd00b400>"
            ]
          },
          "metadata": {
            "tags": []
          },
          "execution_count": 23
        },
        {
          "output_type": "display_data",
          "data": {
            "image/png": "[encoded data removed]",
            "text/plain": [
              "<Figure size 432x288 with 1 Axes>"
            ]
          },
          "metadata": {
            "tags": []
          }
        }
      ]
    },
    {
      "cell_type": "markdown",
      "metadata": {
        "id": "NQWHpIFJnoFJ",
        "colab_type": "text"
      },
      "source": [
        "### What are the factors that affect salary?"
      ]
    },
    {
      "cell_type": "markdown",
      "metadata": {
        "id": "dcUnnD5WQGEN",
        "colab_type": "text"
      },
      "source": [
        "We see with the histogram that there is a bi-modal distribution.\n",
        "\n",
        "What are some things that would affect it?\n",
        "\n",
        "\n",
        "\n",
        "1.   Teachers vs. Administrators\n",
        "2.   List item\n",
        "\n"
      ]
    },
    {
      "cell_type": "code",
      "metadata": {
        "id": "xsxkBHF4Rkn1",
        "colab_type": "code",
        "colab": {}
      },
      "source": [
        ""
      ],
      "execution_count": 0,
      "outputs": []
    },
    {
      "cell_type": "markdown",
      "metadata": {
        "id": "L-GfczsYQaMK",
        "colab_type": "text"
      },
      "source": [
        "#### Can someone be a teacher and an administrator?"
      ]
    },
    {
      "cell_type": "markdown",
      "metadata": {
        "id": "WImzK2gLVj9w",
        "colab_type": "text"
      },
      "source": [
        "Yes. There are 509 parties that are playing a role as an administrator, in addition to either a support position or licensed position."
      ]
    },
    {
      "cell_type": "code",
      "metadata": {
        "id": "5jsPVybOQfqN",
        "colab_type": "code",
        "colab": {
          "base_uri": "https://localhost:8080/",
          "height": 132
        },
        "outputId": "07e7deb6-ed92-46d1-9f1a-230b0ff1d1fd"
      },
      "source": [
        "SELECT\n",
        "    a.id_nbr,\n",
        "    a.position_type_cd as a_pos_typ,\n",
        "    b.position_type_cd as b_pos_typ\n",
        "  FROM \n",
        "    `wi-dpi-010.refined.2015_all_staff_report` a INNER JOIN\n",
        "    `wi-dpi-010.refined.2015_all_staff_report` b ON\n",
        "    (a.id_nbr = b.id_nbr and a.position_type_cd != b.position_type_cd)\n",
        "  WHERE\n",
        "    a.position_type_cd = 'A'"
      ],
      "execution_count": 24,
      "outputs": [
        {
          "output_type": "error",
          "ename": "IndentationError",
          "evalue": "ignored",
          "traceback": [
            "\u001b[0;36m  File \u001b[0;32m\"<ipython-input-24-bcc068af7cb2>\"\u001b[0;36m, line \u001b[0;32m2\u001b[0m\n\u001b[0;31m    a.id_nbr,\u001b[0m\n\u001b[0m    ^\u001b[0m\n\u001b[0;31mIndentationError\u001b[0m\u001b[0;31m:\u001b[0m unexpected indent\n"
          ]
        }
      ]
    },
    {
      "cell_type": "markdown",
      "metadata": {
        "id": "7vZHPumbXkMB",
        "colab_type": "text"
      },
      "source": [
        "Just do analysis with 1.0 FTEs\n",
        "\n",
        "Then \"pro-rate\" the salary based on FTE %\n",
        "\n"
      ]
    },
    {
      "cell_type": "code",
      "metadata": {
        "id": "vRmf1LhPXjzg",
        "colab_type": "code",
        "colab": {}
      },
      "source": [
        ""
      ],
      "execution_count": 0,
      "outputs": []
    },
    {
      "cell_type": "code",
      "metadata": {
        "id": "NUpN85UAnaVa",
        "colab_type": "code",
        "colab": {}
      },
      "source": [
        "#Characteristics of the individual: Age, Experience, Gender, RaceEthnicity,\n",
        "#Characteristics of their roles: FTE, Number of Roles, Teacher/Administrator, Subject, School, Cesa\n",
        "#Create Linear Regression to predict the Salary of an individual"
      ],
      "execution_count": 0,
      "outputs": []
    },
    {
      "cell_type": "code",
      "metadata": {
        "id": "Ih6BRHozpQoC",
        "colab_type": "code",
        "colab": {}
      },
      "source": [
        ""
      ],
      "execution_count": 0,
      "outputs": []
    }
  ]
}