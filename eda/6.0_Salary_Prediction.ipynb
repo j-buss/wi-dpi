{
  "nbformat": 4,
  "nbformat_minor": 0,
  "metadata": {
    "colab": {
      "name": "6.0_Salary_Prediction.ipynb",
      "version": "0.3.2",
      "provenance": [],
      "include_colab_link": true
    },
    "kernelspec": {
      "name": "python3",
      "display_name": "Python 3"
    }
  },
  "cells": [
    {
      "cell_type": "markdown",
      "metadata": {
        "id": "view-in-github",
        "colab_type": "text"
      },
      "source": [
        "<a href=\"https://colab.research.google.com/github/j-buss/wi-dpi-analysis/blob/development/eda/6.0_Salary_Prediction.ipynb\" target=\"_parent\"><img src=\"https://colab.research.google.com/assets/colab-badge.svg\" alt=\"Open In Colab\"/></a>"
      ]
    },
    {
      "cell_type": "markdown",
      "metadata": {
        "id": "tTQhI_LidR2q",
        "colab_type": "text"
      },
      "source": [
        "## Salary and Education in Wisconsin - 6.0 Salary Prediction\n"
      ]
    },
    {
      "cell_type": "markdown",
      "metadata": {
        "id": "3OFa7LsGdgbV",
        "colab_type": "text"
      },
      "source": [
        "### Import Libraries"
      ]
    },
    {
      "cell_type": "code",
      "metadata": {
        "id": "LgTgUWKndG5X",
        "colab_type": "code",
        "colab": {}
      },
      "source": [
        "import numpy as np\n",
        "import pandas as pd\n",
        "pd.set_option('display.max_rows', 100)\n",
        "pd.set_option('display.max_columns', 1000)\n",
        "pd.set_option('display.width', 1000)\n",
        "import seaborn as sns\n",
        "import matplotlib.pyplot as plt\n",
        "\n",
        "from google.cloud import bigquery"
      ],
      "execution_count": 0,
      "outputs": []
    },
    {
      "cell_type": "code",
      "metadata": {
        "id": "2VUtWriwdd6S",
        "colab_type": "code",
        "colab": {}
      },
      "source": [
        "%matplotlib inline\n",
        "plt.style.use('bmh')"
      ],
      "execution_count": 0,
      "outputs": []
    },
    {
      "cell_type": "markdown",
      "metadata": {
        "id": "TFYEDuTpdi5S",
        "colab_type": "text"
      },
      "source": [
        "### Functions"
      ]
    },
    {
      "cell_type": "code",
      "metadata": {
        "id": "tkUnWeJtdkAr",
        "colab_type": "code",
        "colab": {}
      },
      "source": [
        "# To help with the pie charts later\n",
        "def make_autopct(values):\n",
        "  def my_autopct(pct):\n",
        "    total = sum(values)\n",
        "    val = int(round(pct*total/100.0))\n",
        "    return '{p:.2f}% \\n({v:,d})'.format(p=pct,v=val)\n",
        "  return my_autopct"
      ],
      "execution_count": 0,
      "outputs": []
    },
    {
      "cell_type": "markdown",
      "metadata": {
        "id": "NPucXWp1doZa",
        "colab_type": "text"
      },
      "source": [
        "### Processing"
      ]
    },
    {
      "cell_type": "code",
      "metadata": {
        "id": "XJJ75G8OdnUR",
        "colab_type": "code",
        "colab": {}
      },
      "source": [
        "# Authenticate to GCS.\n",
        "from google.colab import auth\n",
        "auth.authenticate_user()"
      ],
      "execution_count": 0,
      "outputs": []
    },
    {
      "cell_type": "code",
      "metadata": {
        "id": "9PglXUL_dsRx",
        "colab_type": "code",
        "colab": {}
      },
      "source": [
        "project_id='wi-dpi-010'\n",
        "landing_dataset_name='landing'\n",
        "refined_dataset_name='refined'\n",
        "gold_dataset_name='gold'"
      ],
      "execution_count": 0,
      "outputs": []
    },
    {
      "cell_type": "code",
      "metadata": {
        "id": "MP9JocZmd_qi",
        "colab_type": "code",
        "colab": {}
      },
      "source": [
        "bq_client = bigquery.Client(project=project_id)"
      ],
      "execution_count": 0,
      "outputs": []
    },
    {
      "cell_type": "markdown",
      "metadata": {
        "id": "yNxotlQ-eDr7",
        "colab_type": "text"
      },
      "source": [
        "## Analysis\n"
      ]
    },
    {
      "cell_type": "markdown",
      "metadata": {
        "id": "UNcDbbVLeJfb",
        "colab_type": "text"
      },
      "source": [
        "### Salary Linear Regression V1"
      ]
    },
    {
      "cell_type": "code",
      "metadata": {
        "id": "tOWM_xjbeB8n",
        "colab_type": "code",
        "colab": {}
      },
      "source": [
        "regression_v1_select = '''\n",
        "SELECT\n",
        "  research_id,\n",
        "  gender,\n",
        "  race_ethnicity_cd,\n",
        "  birth_year,\n",
        "  contract_high_degree_cd,\n",
        "  contract_days,\n",
        "  contract_local_experience,\n",
        "  contract_total_experience,\n",
        "  cesa_num,\n",
        "  assignment_fte,\n",
        "  assignment_requires_dpi_license,\n",
        "  assignment_staff_category_cd,\n",
        "  position_classification,\n",
        "  assignment_position_cd,\n",
        "  assignment_area_cd,\n",
        "  assignment_work_school_level_cd,\n",
        "  salary\n",
        "FROM\n",
        "  {}.{}\n",
        "WHERE\n",
        "  assignment_fte = 1 and salary is not null\n",
        "'''.format(refined_dataset_name, '2017_all_staff_report')"
      ],
      "execution_count": 0,
      "outputs": []
    },
    {
      "cell_type": "code",
      "metadata": {
        "id": "YAI36o1EeVh1",
        "colab_type": "code",
        "colab": {
          "base_uri": "https://localhost:8080/",
          "height": 72
        },
        "outputId": "e638d392-dc68-4019-dfdd-885f9f8cac18"
      },
      "source": [
        "df_v1_regression = pd.read_gbq(regression_v1_select, project_id=project_id)"
      ],
      "execution_count": 25,
      "outputs": [
        {
          "output_type": "stream",
          "text": [
            "/usr/local/lib/python3.6/dist-packages/ipykernel_launcher.py:1: FutureWarning: The default value for dialect is changing to \"standard\" in a future version of pandas-gbq. Pass in dialect=\"legacy\" to disable this warning.\n",
            "  \"\"\"Entry point for launching an IPython kernel.\n"
          ],
          "name": "stderr"
        }
      ]
    },
    {
      "cell_type": "code",
      "metadata": {
        "id": "GPpMvpuSeYT5",
        "colab_type": "code",
        "colab": {
          "base_uri": "https://localhost:8080/",
          "height": 404
        },
        "outputId": "bb407c5f-3615-4116-945b-9e000ce32761"
      },
      "source": [
        "df_v1_regression.info()"
      ],
      "execution_count": 9,
      "outputs": [
        {
          "output_type": "stream",
          "text": [
            "<class 'pandas.core.frame.DataFrame'>\n",
            "RangeIndex: 55633 entries, 0 to 55632\n",
            "Data columns (total 17 columns):\n",
            "research_id                        55633 non-null int64\n",
            "gender                             55633 non-null object\n",
            "race_ethnicity_cd                  55633 non-null object\n",
            "birth_year                         55633 non-null int64\n",
            "contract_high_degree_cd            55628 non-null object\n",
            "contract_days                      55633 non-null int64\n",
            "contract_local_experience          55633 non-null float64\n",
            "contract_total_experience          55633 non-null float64\n",
            "cesa_num                           55572 non-null object\n",
            "assignment_fte                     55633 non-null float64\n",
            "assignment_requires_dpi_license    55633 non-null object\n",
            "assignment_staff_category_cd       55633 non-null object\n",
            "position_classification            55633 non-null object\n",
            "assignment_position_cd             55633 non-null object\n",
            "assignment_area_cd                 55633 non-null object\n",
            "assignment_work_school_level_cd    52168 non-null object\n",
            "salary                             55633 non-null float64\n",
            "dtypes: float64(4), int64(3), object(10)\n",
            "memory usage: 7.2+ MB\n"
          ],
          "name": "stdout"
        }
      ]
    },
    {
      "cell_type": "markdown",
      "metadata": {
        "id": "uyOAwmATee4u",
        "colab_type": "text"
      },
      "source": [
        "### One-hot encoding..."
      ]
    },
    {
      "cell_type": "code",
      "metadata": {
        "id": "29Lbz4tuiKB8",
        "colab_type": "code",
        "colab": {}
      },
      "source": [
        "df_working = df_v1_regression"
      ],
      "execution_count": 0,
      "outputs": []
    },
    {
      "cell_type": "code",
      "metadata": {
        "id": "CPKDYZzAjYUP",
        "colab_type": "code",
        "colab": {}
      },
      "source": [
        ""
      ],
      "execution_count": 0,
      "outputs": []
    },
    {
      "cell_type": "code",
      "metadata": {
        "id": "xLhtn2ntea1E",
        "colab_type": "code",
        "colab": {}
      },
      "source": [
        "df_working = pd.concat([df_working.drop('gender', axis=1), pd.get_dummies(df_working['gender'],prefix='gender')], axis=1)\n",
        "df_working = pd.concat([df_working.drop('race_ethnicity_cd', axis=1), pd.get_dummies(df_working['race_ethnicity_cd'],prefix='ethnicity')], axis=1)\n",
        "df_working = pd.concat([df_working.drop('contract_high_degree_cd', axis=1), pd.get_dummies(df_working['contract_high_degree_cd'],prefix='degree')], axis=1)\n",
        "df_working = pd.concat([df_working.drop('cesa_num', axis=1), pd.get_dummies(df_working['cesa_num'],prefix='cesa')], axis=1)\n",
        "df_working = pd.concat([df_working.drop('assignment_staff_category_cd', axis=1), pd.get_dummies(df_working['assignment_staff_category_cd'],prefix='assignment_staff_category_cd')], axis=1)\n",
        "df_working = pd.concat([df_working.drop('position_classification', axis=1), pd.get_dummies(df_working['position_classification'])], axis=1)\n",
        "df_working = pd.concat([df_working.drop('assignment_work_school_level_cd', axis=1), pd.get_dummies(df_working['assignment_work_school_level_cd'],prefix='assignment_work_school_level_cd')], axis=1)"
      ],
      "execution_count": 0,
      "outputs": []
    },
    {
      "cell_type": "code",
      "metadata": {
        "id": "RRdZAFU8miIM",
        "colab_type": "code",
        "colab": {}
      },
      "source": [
        "df_working = df_working.drop(['assignment_requires_dpi_license','assignment_position_cd','assignment_area_cd'], axis=1)"
      ],
      "execution_count": 0,
      "outputs": []
    },
    {
      "cell_type": "code",
      "metadata": {
        "id": "HmHRurefe0gd",
        "colab_type": "code",
        "colab": {}
      },
      "source": [
        "df_working.columns = df_working.columns.str.strip().str.lower().str.replace(' ', '_').str.replace('(', '').str.replace(')', '')"
      ],
      "execution_count": 0,
      "outputs": []
    },
    {
      "cell_type": "code",
      "metadata": {
        "id": "gcKJRf4KkjNC",
        "colab_type": "code",
        "colab": {}
      },
      "source": [
        "target = df_working['salary']\n",
        "data = df_working.drop('salary', axis=1)"
      ],
      "execution_count": 0,
      "outputs": []
    },
    {
      "cell_type": "code",
      "metadata": {
        "id": "-Mdy9RmjkJYZ",
        "colab_type": "code",
        "colab": {}
      },
      "source": [
        "from sklearn.linear_model import LinearRegression\n",
        "from sklearn.model_selection import train_test_split"
      ],
      "execution_count": 0,
      "outputs": []
    },
    {
      "cell_type": "code",
      "metadata": {
        "id": "Nxs0N1YIk_85",
        "colab_type": "code",
        "colab": {}
      },
      "source": [
        "X_train, X_test, y_train, y_test = train_test_split(data, target, test_size=0.2, random_state=0)"
      ],
      "execution_count": 0,
      "outputs": []
    },
    {
      "cell_type": "code",
      "metadata": {
        "id": "drghe-rJlJPe",
        "colab_type": "code",
        "colab": {
          "base_uri": "https://localhost:8080/",
          "height": 34
        },
        "outputId": "5196cd3f-6082-40bc-bf2c-69a8949ab61f"
      },
      "source": [
        "model = LinearRegression()\n",
        "model.fit(X_train, y_train)"
      ],
      "execution_count": 65,
      "outputs": [
        {
          "output_type": "execute_result",
          "data": {
            "text/plain": [
              "LinearRegression(copy_X=True, fit_intercept=True, n_jobs=None, normalize=False)"
            ]
          },
          "metadata": {
            "tags": []
          },
          "execution_count": 65
        }
      ]
    },
    {
      "cell_type": "code",
      "metadata": {
        "id": "5yrLmaYBnObi",
        "colab_type": "code",
        "colab": {
          "base_uri": "https://localhost:8080/",
          "height": 34
        },
        "outputId": "50ad21cc-9fbd-4675-97c0-b25ae94349d6"
      },
      "source": [
        "model.score(X_test, y_test)"
      ],
      "execution_count": 66,
      "outputs": [
        {
          "output_type": "execute_result",
          "data": {
            "text/plain": [
              "0.8006574018212655"
            ]
          },
          "metadata": {
            "tags": []
          },
          "execution_count": 66
        }
      ]
    },
    {
      "cell_type": "code",
      "metadata": {
        "id": "PCGx6kGBmF6q",
        "colab_type": "code",
        "colab": {
          "base_uri": "https://localhost:8080/",
          "height": 262
        },
        "outputId": "bbb37ef9-50bb-41e7-d890-c031d34550a0"
      },
      "source": [
        "y_pred = model.predict(X_test)\n",
        "plt.plot(y_test, y_pred, '.')\n",
        "\n",
        "x = np.linspace(0, 330, 100)\n",
        "y = x\n",
        "plt.plot(x, y)\n",
        "plt.show()"
      ],
      "execution_count": 68,
      "outputs": [
        {
          "output_type": "display_data",
          "data": {
            "image/png": "[encoded data removed]",
            "text/plain": [
              "<Figure size 432x288 with 1 Axes>"
            ]
          },
          "metadata": {
            "tags": []
          }
        }
      ]
    },
    {
      "cell_type": "code",
      "metadata": {
        "id": "4m1akbbunglc",
        "colab_type": "code",
        "colab": {}
      },
      "source": [
        ""
      ],
      "execution_count": 0,
      "outputs": []
    }
  ]
}