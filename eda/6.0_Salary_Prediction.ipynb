{
  "nbformat": 4,
  "nbformat_minor": 0,
  "metadata": {
    "colab": {
      "name": "6.0_Salary_Prediction.ipynb",
      "version": "0.3.2",
      "provenance": [],
      "include_colab_link": true
    },
    "kernelspec": {
      "name": "python3",
      "display_name": "Python 3"
    }
  },
  "cells": [
    {
      "cell_type": "markdown",
      "metadata": {
        "id": "view-in-github",
        "colab_type": "text"
      },
      "source": [
        "<a href=\"https://colab.research.google.com/github/j-buss/wi-dpi-analysis/blob/development/eda/6.0_Salary_Prediction.ipynb\" target=\"_parent\"><img src=\"https://colab.research.google.com/assets/colab-badge.svg\" alt=\"Open In Colab\"/></a>"
      ]
    },
    {
      "cell_type": "markdown",
      "metadata": {
        "id": "tTQhI_LidR2q",
        "colab_type": "text"
      },
      "source": [
        "## Salary and Education in Wisconsin - 6.0 Salary Prediction\n"
      ]
    },
    {
      "cell_type": "markdown",
      "metadata": {
        "id": "3OFa7LsGdgbV",
        "colab_type": "text"
      },
      "source": [
        "### Import Libraries"
      ]
    },
    {
      "cell_type": "code",
      "metadata": {
        "id": "LgTgUWKndG5X",
        "colab_type": "code",
        "colab": {}
      },
      "source": [
        "import numpy as np\n",
        "import pandas as pd\n",
        "pd.set_option('display.max_rows', 100)\n",
        "pd.set_option('display.max_columns', 1000)\n",
        "pd.set_option('display.width', 1000)\n",
        "import seaborn as sns\n",
        "import matplotlib.pyplot as plt\n",
        "\n",
        "from google.cloud import bigquery"
      ],
      "execution_count": 0,
      "outputs": []
    },
    {
      "cell_type": "code",
      "metadata": {
        "id": "5P8BOVjcL7nt",
        "colab_type": "code",
        "colab": {}
      },
      "source": [
        "from sklearn.linear_model import LinearRegression\n",
        "from sklearn.model_selection import train_test_split"
      ],
      "execution_count": 0,
      "outputs": []
    },
    {
      "cell_type": "code",
      "metadata": {
        "id": "2VUtWriwdd6S",
        "colab_type": "code",
        "colab": {}
      },
      "source": [
        "%matplotlib inline\n",
        "plt.style.use('bmh')"
      ],
      "execution_count": 0,
      "outputs": []
    },
    {
      "cell_type": "markdown",
      "metadata": {
        "id": "TFYEDuTpdi5S",
        "colab_type": "text"
      },
      "source": [
        "### Functions"
      ]
    },
    {
      "cell_type": "code",
      "metadata": {
        "id": "tkUnWeJtdkAr",
        "colab_type": "code",
        "colab": {}
      },
      "source": [
        "# To help with the pie charts later\n",
        "def make_autopct(values):\n",
        "  def my_autopct(pct):\n",
        "    total = sum(values)\n",
        "    val = int(round(pct*total/100.0))\n",
        "    return '{p:.2f}% \\n({v:,d})'.format(p=pct,v=val)\n",
        "  return my_autopct"
      ],
      "execution_count": 0,
      "outputs": []
    },
    {
      "cell_type": "markdown",
      "metadata": {
        "id": "NPucXWp1doZa",
        "colab_type": "text"
      },
      "source": [
        "### Processing"
      ]
    },
    {
      "cell_type": "code",
      "metadata": {
        "id": "XJJ75G8OdnUR",
        "colab_type": "code",
        "colab": {}
      },
      "source": [
        "# Authenticate to GCS.\n",
        "from google.colab import auth\n",
        "auth.authenticate_user()"
      ],
      "execution_count": 0,
      "outputs": []
    },
    {
      "cell_type": "code",
      "metadata": {
        "id": "9PglXUL_dsRx",
        "colab_type": "code",
        "colab": {}
      },
      "source": [
        "project_id='wi-dpi-010'\n",
        "landing_dataset_name='landing'\n",
        "refined_dataset_name='refined'\n",
        "gold_dataset_name='gold'"
      ],
      "execution_count": 0,
      "outputs": []
    },
    {
      "cell_type": "code",
      "metadata": {
        "id": "MP9JocZmd_qi",
        "colab_type": "code",
        "colab": {}
      },
      "source": [
        "bq_client = bigquery.Client(project=project_id)"
      ],
      "execution_count": 0,
      "outputs": []
    },
    {
      "cell_type": "markdown",
      "metadata": {
        "id": "yNxotlQ-eDr7",
        "colab_type": "text"
      },
      "source": [
        "## Analysis\n"
      ]
    },
    {
      "cell_type": "markdown",
      "metadata": {
        "id": "UNcDbbVLeJfb",
        "colab_type": "text"
      },
      "source": [
        "### Salary Linear Regression V1"
      ]
    },
    {
      "cell_type": "code",
      "metadata": {
        "id": "tOWM_xjbeB8n",
        "colab_type": "code",
        "colab": {}
      },
      "source": [
        "select_2017 = '''\n",
        "SELECT\n",
        "  research_id,\n",
        "  gender,\n",
        "  race_ethnicity_cd,\n",
        "  birth_year,\n",
        "  contract_high_degree_cd,\n",
        "  contract_days,\n",
        "  contract_local_experience,\n",
        "  contract_total_experience,\n",
        "  cesa_num,\n",
        "  assignment_fte,\n",
        "  assignment_requires_dpi_license,\n",
        "  assignment_staff_category_cd,\n",
        "  position_classification,\n",
        "  assignment_position_cd,\n",
        "  assignment_area_cd,\n",
        "  assignment_work_school_level_cd,\n",
        "  salary\n",
        "FROM\n",
        "  {}.{}\n",
        "WHERE\n",
        "  assignment_fte = 1 and salary is not null\n",
        "'''.format(refined_dataset_name, '2017_all_staff_report')"
      ],
      "execution_count": 0,
      "outputs": []
    },
    {
      "cell_type": "code",
      "metadata": {
        "id": "YAI36o1EeVh1",
        "colab_type": "code",
        "outputId": "a6a92527-6e7f-4e03-b953-d43278fb6902",
        "colab": {
          "base_uri": "https://localhost:8080/",
          "height": 72
        }
      },
      "source": [
        "df = pd.read_gbq(select_2017, project_id=project_id)"
      ],
      "execution_count": 9,
      "outputs": [
        {
          "output_type": "stream",
          "text": [
            "/usr/local/lib/python3.6/dist-packages/ipykernel_launcher.py:1: FutureWarning: The default value for dialect is changing to \"standard\" in a future version of pandas-gbq. Pass in dialect=\"legacy\" to disable this warning.\n",
            "  \"\"\"Entry point for launching an IPython kernel.\n"
          ],
          "name": "stderr"
        }
      ]
    },
    {
      "cell_type": "code",
      "metadata": {
        "id": "GPpMvpuSeYT5",
        "colab_type": "code",
        "outputId": "10936549-eebd-44be-b61e-bd1109131d13",
        "colab": {
          "base_uri": "https://localhost:8080/",
          "height": 399
        }
      },
      "source": [
        "df.info()"
      ],
      "execution_count": 10,
      "outputs": [
        {
          "output_type": "stream",
          "text": [
            "<class 'pandas.core.frame.DataFrame'>\n",
            "RangeIndex: 55633 entries, 0 to 55632\n",
            "Data columns (total 17 columns):\n",
            "research_id                        55633 non-null int64\n",
            "gender                             55633 non-null object\n",
            "race_ethnicity_cd                  55633 non-null object\n",
            "birth_year                         55633 non-null int64\n",
            "contract_high_degree_cd            55628 non-null object\n",
            "contract_days                      55633 non-null int64\n",
            "contract_local_experience          55633 non-null float64\n",
            "contract_total_experience          55633 non-null float64\n",
            "cesa_num                           55572 non-null object\n",
            "assignment_fte                     55633 non-null float64\n",
            "assignment_requires_dpi_license    55633 non-null object\n",
            "assignment_staff_category_cd       55633 non-null object\n",
            "position_classification            55633 non-null object\n",
            "assignment_position_cd             55633 non-null object\n",
            "assignment_area_cd                 55633 non-null object\n",
            "assignment_work_school_level_cd    52168 non-null object\n",
            "salary                             55633 non-null float64\n",
            "dtypes: float64(4), int64(3), object(10)\n",
            "memory usage: 7.2+ MB\n"
          ],
          "name": "stdout"
        }
      ]
    },
    {
      "cell_type": "markdown",
      "metadata": {
        "id": "uyOAwmATee4u",
        "colab_type": "text"
      },
      "source": [
        "### One-hot encoding..."
      ]
    },
    {
      "cell_type": "code",
      "metadata": {
        "id": "29Lbz4tuiKB8",
        "colab_type": "code",
        "colab": {}
      },
      "source": [
        "df_working = df"
      ],
      "execution_count": 0,
      "outputs": []
    },
    {
      "cell_type": "code",
      "metadata": {
        "id": "xLhtn2ntea1E",
        "colab_type": "code",
        "colab": {}
      },
      "source": [
        "df_working = pd.concat([df_working.drop('gender', axis=1), pd.get_dummies(df_working['gender'],prefix='gender')], axis=1)\n",
        "df_working = pd.concat([df_working.drop('race_ethnicity_cd', axis=1), pd.get_dummies(df_working['race_ethnicity_cd'],prefix='ethnicity')], axis=1)\n",
        "df_working = pd.concat([df_working.drop('contract_high_degree_cd', axis=1), pd.get_dummies(df_working['contract_high_degree_cd'],prefix='degree')], axis=1)\n",
        "df_working = pd.concat([df_working.drop('cesa_num', axis=1), pd.get_dummies(df_working['cesa_num'],prefix='cesa')], axis=1)\n",
        "df_working = pd.concat([df_working.drop('assignment_staff_category_cd', axis=1), pd.get_dummies(df_working['assignment_staff_category_cd'],prefix='assignment_staff_category_cd')], axis=1)\n",
        "df_working = pd.concat([df_working.drop('position_classification', axis=1), pd.get_dummies(df_working['position_classification'])], axis=1)\n",
        "df_working = pd.concat([df_working.drop('assignment_work_school_level_cd', axis=1), pd.get_dummies(df_working['assignment_work_school_level_cd'],prefix='assignment_work_school_level_cd')], axis=1)"
      ],
      "execution_count": 0,
      "outputs": []
    },
    {
      "cell_type": "code",
      "metadata": {
        "id": "RRdZAFU8miIM",
        "colab_type": "code",
        "colab": {}
      },
      "source": [
        "df_working = df_working.drop(['assignment_requires_dpi_license','assignment_position_cd','assignment_area_cd'], axis=1)"
      ],
      "execution_count": 0,
      "outputs": []
    },
    {
      "cell_type": "code",
      "metadata": {
        "id": "HmHRurefe0gd",
        "colab_type": "code",
        "colab": {}
      },
      "source": [
        "df_working.columns = df_working.columns.str.strip().str.lower().str.replace(' ', '_').str.replace('(', '').str.replace(')', '')"
      ],
      "execution_count": 0,
      "outputs": []
    },
    {
      "cell_type": "markdown",
      "metadata": {
        "id": "6eJWjdMP8iQq",
        "colab_type": "text"
      },
      "source": [
        "#### Version 1"
      ]
    },
    {
      "cell_type": "code",
      "metadata": {
        "id": "AFkaeFQ_8rnn",
        "colab_type": "code",
        "colab": {}
      },
      "source": [
        "df_v1 = df_working[['research_id','gender','birth_year','contract_total_experience','salary']]\n",
        "df_v1 = pd.concat([df_v1.drop('gender', axis=1), pd.get_dummies(df_v1['gender'],prefix='gender')], axis=1)"
      ],
      "execution_count": 0,
      "outputs": []
    },
    {
      "cell_type": "code",
      "metadata": {
        "id": "7l0zq5HR93Br",
        "colab_type": "code",
        "colab": {
          "base_uri": "https://localhost:8080/",
          "height": 202
        },
        "outputId": "3376b939-50b0-41c8-d2f2-516008e03699"
      },
      "source": [
        "df_v1.head()"
      ],
      "execution_count": 73,
      "outputs": [
        {
          "output_type": "execute_result",
          "data": {
            "text/html": [
              "<div>\n",
              "<style scoped>\n",
              "    .dataframe tbody tr th:only-of-type {\n",
              "        vertical-align: middle;\n",
              "    }\n",
              "\n",
              "    .dataframe tbody tr th {\n",
              "        vertical-align: top;\n",
              "    }\n",
              "\n",
              "    .dataframe thead th {\n",
              "        text-align: right;\n",
              "    }\n",
              "</style>\n",
              "<table border=\"1\" class=\"dataframe\">\n",
              "  <thead>\n",
              "    <tr style=\"text-align: right;\">\n",
              "      <th></th>\n",
              "      <th>research_id</th>\n",
              "      <th>birth_year</th>\n",
              "      <th>contract_total_experience</th>\n",
              "      <th>salary</th>\n",
              "      <th>gender_F</th>\n",
              "      <th>gender_M</th>\n",
              "    </tr>\n",
              "  </thead>\n",
              "  <tbody>\n",
              "    <tr>\n",
              "      <th>0</th>\n",
              "      <td>39787</td>\n",
              "      <td>1981</td>\n",
              "      <td>2.0</td>\n",
              "      <td>102587.0</td>\n",
              "      <td>0</td>\n",
              "      <td>1</td>\n",
              "    </tr>\n",
              "    <tr>\n",
              "      <th>1</th>\n",
              "      <td>16230</td>\n",
              "      <td>1987</td>\n",
              "      <td>2.0</td>\n",
              "      <td>97668.0</td>\n",
              "      <td>0</td>\n",
              "      <td>1</td>\n",
              "    </tr>\n",
              "    <tr>\n",
              "      <th>2</th>\n",
              "      <td>138828</td>\n",
              "      <td>1969</td>\n",
              "      <td>2.0</td>\n",
              "      <td>40027.0</td>\n",
              "      <td>1</td>\n",
              "      <td>0</td>\n",
              "    </tr>\n",
              "    <tr>\n",
              "      <th>3</th>\n",
              "      <td>146690</td>\n",
              "      <td>1956</td>\n",
              "      <td>2.0</td>\n",
              "      <td>47390.0</td>\n",
              "      <td>1</td>\n",
              "      <td>0</td>\n",
              "    </tr>\n",
              "    <tr>\n",
              "      <th>4</th>\n",
              "      <td>16983</td>\n",
              "      <td>1989</td>\n",
              "      <td>2.0</td>\n",
              "      <td>43500.0</td>\n",
              "      <td>1</td>\n",
              "      <td>0</td>\n",
              "    </tr>\n",
              "  </tbody>\n",
              "</table>\n",
              "</div>"
            ],
            "text/plain": [
              "   research_id  birth_year  contract_total_experience    salary  gender_F  gender_M\n",
              "0        39787        1981                        2.0  102587.0         0         1\n",
              "1        16230        1987                        2.0   97668.0         0         1\n",
              "2       138828        1969                        2.0   40027.0         1         0\n",
              "3       146690        1956                        2.0   47390.0         1         0\n",
              "4        16983        1989                        2.0   43500.0         1         0"
            ]
          },
          "metadata": {
            "tags": []
          },
          "execution_count": 73
        }
      ]
    },
    {
      "cell_type": "code",
      "metadata": {
        "id": "gcKJRf4KkjNC",
        "colab_type": "code",
        "colab": {}
      },
      "source": [
        "target_v1 = df_v1['salary']\n",
        "data_v1 = df_v1.drop('salary', axis=1)"
      ],
      "execution_count": 0,
      "outputs": []
    },
    {
      "cell_type": "code",
      "metadata": {
        "id": "Nxs0N1YIk_85",
        "colab_type": "code",
        "colab": {
          "base_uri": "https://localhost:8080/",
          "height": 35
        },
        "outputId": "349e200a-5587-4f3b-c54d-765cce2453f0"
      },
      "source": [
        "X_train, X_test, y_train, y_test = train_test_split(data_v1, target_v1, test_size=0.2, random_state=0)\n",
        "model = LinearRegression()\n",
        "model.fit(X_train, y_train)"
      ],
      "execution_count": 75,
      "outputs": [
        {
          "output_type": "execute_result",
          "data": {
            "text/plain": [
              "LinearRegression(copy_X=True, fit_intercept=True, n_jobs=None, normalize=False)"
            ]
          },
          "metadata": {
            "tags": []
          },
          "execution_count": 75
        }
      ]
    },
    {
      "cell_type": "code",
      "metadata": {
        "id": "5yrLmaYBnObi",
        "colab_type": "code",
        "outputId": "003f719e-1772-416c-fd90-a6f56d770a04",
        "colab": {
          "base_uri": "https://localhost:8080/",
          "height": 35
        }
      },
      "source": [
        "model.score(X_test, y_test)"
      ],
      "execution_count": 76,
      "outputs": [
        {
          "output_type": "execute_result",
          "data": {
            "text/plain": [
              "0.3752721160407724"
            ]
          },
          "metadata": {
            "tags": []
          },
          "execution_count": 76
        }
      ]
    },
    {
      "cell_type": "markdown",
      "metadata": {
        "id": "_EvDHUceMG0l",
        "colab_type": "text"
      },
      "source": [
        "#### Version 2"
      ]
    },
    {
      "cell_type": "code",
      "metadata": {
        "id": "5u_pMd0BMpOd",
        "colab_type": "code",
        "colab": {}
      },
      "source": [
        "df_v2 = df_working[['research_id','gender','birth_year','contract_total_experience','salary']]\n",
        "df_v2 = pd.concat([df_v2.drop('gender', axis=1), pd.get_dummies(df_v2['gender'],prefix='gender')], axis=1)"
      ],
      "execution_count": 0,
      "outputs": []
    },
    {
      "cell_type": "code",
      "metadata": {
        "id": "AriqHmJkMvoA",
        "colab_type": "code",
        "colab": {
          "base_uri": "https://localhost:8080/",
          "height": 202
        },
        "outputId": "29494477-6697-453d-831f-b8e356342885"
      },
      "source": [
        "df_v2.head()"
      ],
      "execution_count": 78,
      "outputs": [
        {
          "output_type": "execute_result",
          "data": {
            "text/html": [
              "<div>\n",
              "<style scoped>\n",
              "    .dataframe tbody tr th:only-of-type {\n",
              "        vertical-align: middle;\n",
              "    }\n",
              "\n",
              "    .dataframe tbody tr th {\n",
              "        vertical-align: top;\n",
              "    }\n",
              "\n",
              "    .dataframe thead th {\n",
              "        text-align: right;\n",
              "    }\n",
              "</style>\n",
              "<table border=\"1\" class=\"dataframe\">\n",
              "  <thead>\n",
              "    <tr style=\"text-align: right;\">\n",
              "      <th></th>\n",
              "      <th>research_id</th>\n",
              "      <th>birth_year</th>\n",
              "      <th>contract_total_experience</th>\n",
              "      <th>salary</th>\n",
              "      <th>gender_F</th>\n",
              "      <th>gender_M</th>\n",
              "    </tr>\n",
              "  </thead>\n",
              "  <tbody>\n",
              "    <tr>\n",
              "      <th>0</th>\n",
              "      <td>39787</td>\n",
              "      <td>1981</td>\n",
              "      <td>2.0</td>\n",
              "      <td>102587.0</td>\n",
              "      <td>0</td>\n",
              "      <td>1</td>\n",
              "    </tr>\n",
              "    <tr>\n",
              "      <th>1</th>\n",
              "      <td>16230</td>\n",
              "      <td>1987</td>\n",
              "      <td>2.0</td>\n",
              "      <td>97668.0</td>\n",
              "      <td>0</td>\n",
              "      <td>1</td>\n",
              "    </tr>\n",
              "    <tr>\n",
              "      <th>2</th>\n",
              "      <td>138828</td>\n",
              "      <td>1969</td>\n",
              "      <td>2.0</td>\n",
              "      <td>40027.0</td>\n",
              "      <td>1</td>\n",
              "      <td>0</td>\n",
              "    </tr>\n",
              "    <tr>\n",
              "      <th>3</th>\n",
              "      <td>146690</td>\n",
              "      <td>1956</td>\n",
              "      <td>2.0</td>\n",
              "      <td>47390.0</td>\n",
              "      <td>1</td>\n",
              "      <td>0</td>\n",
              "    </tr>\n",
              "    <tr>\n",
              "      <th>4</th>\n",
              "      <td>16983</td>\n",
              "      <td>1989</td>\n",
              "      <td>2.0</td>\n",
              "      <td>43500.0</td>\n",
              "      <td>1</td>\n",
              "      <td>0</td>\n",
              "    </tr>\n",
              "  </tbody>\n",
              "</table>\n",
              "</div>"
            ],
            "text/plain": [
              "   research_id  birth_year  contract_total_experience    salary  gender_F  gender_M\n",
              "0        39787        1981                        2.0  102587.0         0         1\n",
              "1        16230        1987                        2.0   97668.0         0         1\n",
              "2       138828        1969                        2.0   40027.0         1         0\n",
              "3       146690        1956                        2.0   47390.0         1         0\n",
              "4        16983        1989                        2.0   43500.0         1         0"
            ]
          },
          "metadata": {
            "tags": []
          },
          "execution_count": 78
        }
      ]
    },
    {
      "cell_type": "code",
      "metadata": {
        "id": "4m1akbbunglc",
        "colab_type": "code",
        "colab": {}
      },
      "source": [
        "target_v2 = df_v2['salary']\n",
        "data_v2 = df_v2.drop('salary', axis=1)"
      ],
      "execution_count": 0,
      "outputs": []
    },
    {
      "cell_type": "code",
      "metadata": {
        "id": "BCcPa7TRM9MF",
        "colab_type": "code",
        "colab": {
          "base_uri": "https://localhost:8080/",
          "height": 35
        },
        "outputId": "1f6afab9-89a8-4dd8-96c5-4b0d7da1e3fb"
      },
      "source": [
        "X_train, X_test, y_train, y_test = train_test_split(data_v2, target_v2, test_size=0.2, random_state=0)\n",
        "model = LinearRegression()\n",
        "model.fit(X_train, y_train)"
      ],
      "execution_count": 81,
      "outputs": [
        {
          "output_type": "execute_result",
          "data": {
            "text/plain": [
              "LinearRegression(copy_X=True, fit_intercept=True, n_jobs=None, normalize=False)"
            ]
          },
          "metadata": {
            "tags": []
          },
          "execution_count": 81
        }
      ]
    },
    {
      "cell_type": "markdown",
      "metadata": {
        "id": "lBM9c3zCNC2t",
        "colab_type": "text"
      },
      "source": [
        "### Test a new Point"
      ]
    },
    {
      "cell_type": "code",
      "metadata": {
        "id": "XU-0uHltADHx",
        "colab_type": "code",
        "colab": {}
      },
      "source": [
        "test_point = [[2,1979,2.0,0,1]]"
      ],
      "execution_count": 0,
      "outputs": []
    },
    {
      "cell_type": "code",
      "metadata": {
        "id": "TcPeTN4mATtx",
        "colab_type": "code",
        "colab": {
          "base_uri": "https://localhost:8080/",
          "height": 35
        },
        "outputId": "fdc251b3-c3c6-407a-b19c-c9821a963b57"
      },
      "source": [
        "model.predict(test_point)"
      ],
      "execution_count": 64,
      "outputs": [
        {
          "output_type": "execute_result",
          "data": {
            "text/plain": [
              "array([50982.9814335])"
            ]
          },
          "metadata": {
            "tags": []
          },
          "execution_count": 64
        }
      ]
    },
    {
      "cell_type": "markdown",
      "metadata": {
        "id": "Kqnma4TQNG8n",
        "colab_type": "text"
      },
      "source": [
        "### Host a model"
      ]
    },
    {
      "cell_type": "markdown",
      "metadata": {
        "id": "DhQZ18Q-_4V8",
        "colab_type": "text"
      },
      "source": [
        "Evaluation: https://www.ritchieng.com/machine-learning-evaluate-linear-regression-model/"
      ]
    },
    {
      "cell_type": "markdown",
      "metadata": {
        "id": "jZs0xqT7Fzbq",
        "colab_type": "text"
      },
      "source": [
        "ML Engine - https://cloud.google.com/ml-engine/docs/scikit/using-pipelines"
      ]
    },
    {
      "cell_type": "code",
      "metadata": {
        "id": "FzNo0v6MH-cP",
        "colab_type": "code",
        "colab": {}
      },
      "source": [
        ""
      ],
      "execution_count": 0,
      "outputs": []
    }
  ]
}