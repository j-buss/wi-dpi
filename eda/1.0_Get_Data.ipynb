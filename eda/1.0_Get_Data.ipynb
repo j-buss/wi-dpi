{
  "nbformat": 4,
  "nbformat_minor": 0,
  "metadata": {
    "colab": {
      "name": "wi-dpi-all-staff-eda.ipynb",
      "version": "0.3.2",
      "provenance": [],
      "toc_visible": true,
      "include_colab_link": true
    },
    "kernelspec": {
      "name": "python3",
      "display_name": "Python 3"
    }
  },
  "cells": [
    {
      "cell_type": "markdown",
      "metadata": {
        "id": "view-in-github",
        "colab_type": "text"
      },
      "source": [
        "<a href=\"https://colab.research.google.com/github/j-buss/wi-dpi-analysis/blob/development/eda/1.0_Get_Data.ipynb\" target=\"_parent\"><img src=\"https://colab.research.google.com/assets/colab-badge.svg\" alt=\"Open In Colab\"/></a>"
      ]
    },
    {
      "cell_type": "markdown",
      "metadata": {
        "id": "FYnVbPCC1u1b",
        "colab_type": "text"
      },
      "source": [
        "# Salary and Education in Wisconsin"
      ]
    },
    {
      "cell_type": "markdown",
      "metadata": {
        "id": "JixlqF171iMF",
        "colab_type": "text"
      },
      "source": [
        "This notebook is intended to describe analysis on salaries of teachers within the Wisconsin Department of Public Instruction."
      ]
    },
    {
      "cell_type": "markdown",
      "metadata": {
        "id": "7Qwn54JnEpGR",
        "colab_type": "text"
      },
      "source": [
        "## Introduction"
      ]
    },
    {
      "cell_type": "markdown",
      "metadata": {
        "id": "qMNrrBu-Eslh",
        "colab_type": "text"
      },
      "source": [
        ""
      ]
    },
    {
      "cell_type": "markdown",
      "metadata": {
        "id": "2oZ34OcnEANT",
        "colab_type": "text"
      },
      "source": [
        "https://dpi.wi.gov/cst/data-collections/staff/published-data"
      ]
    },
    {
      "cell_type": "markdown",
      "metadata": {
        "id": "HxPFM5U74T3l",
        "colab_type": "text"
      },
      "source": [
        "### Load Libraries"
      ]
    },
    {
      "cell_type": "code",
      "metadata": {
        "id": "ycQcr216HV3y",
        "colab_type": "code",
        "outputId": "ff618ebd-60db-4808-907a-8fe02971cf2a",
        "colab": {
          "base_uri": "https://localhost:8080/",
          "height": 575
        }
      },
      "source": [
        "!pip install --upgrade google-cloud-storage"
      ],
      "execution_count": 1,
      "outputs": [
        {
          "output_type": "stream",
          "text": [
            "Collecting google-cloud-storage\n",
            "\u001b[?25l  Downloading https://files.pythonhosted.org/packages/9c/aa/048f5b3950f78c9e6afdb05e3667abb7a7ca4463bfde002257acd1874c3f/google_cloud_storage-1.15.0-py2.py3-none-any.whl (64kB)\n",
            "\r\u001b[K     |█████                           | 10kB 14.2MB/s eta 0:00:01\r\u001b[K     |██████████▏                     | 20kB 3.3MB/s eta 0:00:01\r\u001b[K     |███████████████▎                | 30kB 4.7MB/s eta 0:00:01\r\u001b[K     |████████████████████▍           | 40kB 3.0MB/s eta 0:00:01\r\u001b[K     |█████████████████████████▌      | 51kB 3.7MB/s eta 0:00:01\r\u001b[K     |██████████████████████████████▋ | 61kB 4.4MB/s eta 0:00:01\r\u001b[K     |████████████████████████████████| 71kB 4.7MB/s \n",
            "\u001b[?25hRequirement already satisfied, skipping upgrade: google-cloud-core<0.30dev,>=0.29.0 in /usr/local/lib/python3.6/dist-packages (from google-cloud-storage) (0.29.1)\n",
            "Requirement already satisfied, skipping upgrade: google-api-core<2.0.0dev,>=1.6.0 in /usr/local/lib/python3.6/dist-packages (from google-cloud-storage) (1.10.0)\n",
            "Requirement already satisfied, skipping upgrade: google-resumable-media>=0.3.1 in /usr/local/lib/python3.6/dist-packages (from google-cloud-storage) (0.3.2)\n",
            "Requirement already satisfied, skipping upgrade: googleapis-common-protos!=1.5.4,<2.0dev,>=1.5.3 in /usr/local/lib/python3.6/dist-packages (from google-api-core<2.0.0dev,>=1.6.0->google-cloud-storage) (1.5.10)\n",
            "Requirement already satisfied, skipping upgrade: requests<3.0.0dev,>=2.18.0 in /usr/local/lib/python3.6/dist-packages (from google-api-core<2.0.0dev,>=1.6.0->google-cloud-storage) (2.21.0)\n",
            "Requirement already satisfied, skipping upgrade: google-auth<2.0dev,>=0.4.0 in /usr/local/lib/python3.6/dist-packages (from google-api-core<2.0.0dev,>=1.6.0->google-cloud-storage) (1.4.2)\n",
            "Requirement already satisfied, skipping upgrade: six>=1.10.0 in /usr/local/lib/python3.6/dist-packages (from google-api-core<2.0.0dev,>=1.6.0->google-cloud-storage) (1.12.0)\n",
            "Requirement already satisfied, skipping upgrade: setuptools>=34.0.0 in /usr/local/lib/python3.6/dist-packages (from google-api-core<2.0.0dev,>=1.6.0->google-cloud-storage) (41.0.1)\n",
            "Requirement already satisfied, skipping upgrade: pytz in /usr/local/lib/python3.6/dist-packages (from google-api-core<2.0.0dev,>=1.6.0->google-cloud-storage) (2018.9)\n",
            "Requirement already satisfied, skipping upgrade: protobuf>=3.4.0 in /usr/local/lib/python3.6/dist-packages (from google-api-core<2.0.0dev,>=1.6.0->google-cloud-storage) (3.7.1)\n",
            "Requirement already satisfied, skipping upgrade: idna<2.9,>=2.5 in /usr/local/lib/python3.6/dist-packages (from requests<3.0.0dev,>=2.18.0->google-api-core<2.0.0dev,>=1.6.0->google-cloud-storage) (2.8)\n",
            "Requirement already satisfied, skipping upgrade: chardet<3.1.0,>=3.0.2 in /usr/local/lib/python3.6/dist-packages (from requests<3.0.0dev,>=2.18.0->google-api-core<2.0.0dev,>=1.6.0->google-cloud-storage) (3.0.4)\n",
            "Requirement already satisfied, skipping upgrade: certifi>=2017.4.17 in /usr/local/lib/python3.6/dist-packages (from requests<3.0.0dev,>=2.18.0->google-api-core<2.0.0dev,>=1.6.0->google-cloud-storage) (2019.3.9)\n",
            "Requirement already satisfied, skipping upgrade: urllib3<1.25,>=1.21.1 in /usr/local/lib/python3.6/dist-packages (from requests<3.0.0dev,>=2.18.0->google-api-core<2.0.0dev,>=1.6.0->google-cloud-storage) (1.24.2)\n",
            "Requirement already satisfied, skipping upgrade: pyasn1-modules>=0.2.1 in /usr/local/lib/python3.6/dist-packages (from google-auth<2.0dev,>=0.4.0->google-api-core<2.0.0dev,>=1.6.0->google-cloud-storage) (0.2.5)\n",
            "Requirement already satisfied, skipping upgrade: cachetools>=2.0.0 in /usr/local/lib/python3.6/dist-packages (from google-auth<2.0dev,>=0.4.0->google-api-core<2.0.0dev,>=1.6.0->google-cloud-storage) (3.1.0)\n",
            "Requirement already satisfied, skipping upgrade: rsa>=3.1.4 in /usr/local/lib/python3.6/dist-packages (from google-auth<2.0dev,>=0.4.0->google-api-core<2.0.0dev,>=1.6.0->google-cloud-storage) (4.0)\n",
            "Requirement already satisfied, skipping upgrade: pyasn1<0.5.0,>=0.4.1 in /usr/local/lib/python3.6/dist-packages (from pyasn1-modules>=0.2.1->google-auth<2.0dev,>=0.4.0->google-api-core<2.0.0dev,>=1.6.0->google-cloud-storage) (0.4.5)\n",
            "Installing collected packages: google-cloud-storage\n",
            "  Found existing installation: google-cloud-storage 1.13.2\n",
            "    Uninstalling google-cloud-storage-1.13.2:\n",
            "      Successfully uninstalled google-cloud-storage-1.13.2\n",
            "Successfully installed google-cloud-storage-1.15.0\n"
          ],
          "name": "stdout"
        },
        {
          "output_type": "display_data",
          "data": {
            "application/vnd.colab-display-data+json": {
              "pip_warning": {
                "packages": [
                  "google"
                ]
              }
            }
          },
          "metadata": {
            "tags": []
          }
        }
      ]
    },
    {
      "cell_type": "code",
      "metadata": {
        "id": "InwbG4imGJRa",
        "colab_type": "code",
        "colab": {}
      },
      "source": [
        "from google.cloud import storage"
      ],
      "execution_count": 0,
      "outputs": []
    },
    {
      "cell_type": "code",
      "metadata": {
        "id": "XaySm9Da9Q6L",
        "colab_type": "code",
        "colab": {}
      },
      "source": [
        "# Authenticate to GCS.\n",
        "from google.colab import auth\n",
        "auth.authenticate_user()"
      ],
      "execution_count": 0,
      "outputs": []
    },
    {
      "cell_type": "markdown",
      "metadata": {
        "id": "Rsns1ats2OD5",
        "colab_type": "text"
      },
      "source": [
        "### Function Definition"
      ]
    },
    {
      "cell_type": "code",
      "metadata": {
        "id": "QU34T-48HkCM",
        "colab_type": "code",
        "colab": {}
      },
      "source": [
        "def upload_blob(project_id, bucket_name, string, destination_blob_name):\n",
        "    \"\"\"Uploads a file to the bucket.\"\"\"\n",
        "    storage_client = storage.Client(project=project_id)\n",
        "    bucket = storage_client.get_bucket(bucket_name)\n",
        "    blob = bucket.blob(destination_blob_name)\n",
        "\n",
        "    blob.upload_from_string(string)\n",
        "\n",
        "    #print('File {} uploaded to {}.'.format(\n",
        "    #    source_file_name,\n",
        "    #    destination_blob_name))"
      ],
      "execution_count": 0,
      "outputs": []
    },
    {
      "cell_type": "code",
      "metadata": {
        "id": "pewnrPe9H4gJ",
        "colab_type": "code",
        "colab": {}
      },
      "source": [
        "def rename_blob(project_id, bucket_name, blob_name, new_name):\n",
        "    \"\"\"Renames a blob.\"\"\"\n",
        "    storage_client = storage.Client(project=project_id)\n",
        "    bucket = storage_client.get_bucket(bucket_name)\n",
        "    blob = bucket.blob(blob_name)\n",
        "\n",
        "    new_blob = bucket.rename_blob(blob, new_name)\n",
        "\n",
        "    print('Blob {} has been renamed to {}'.format(\n",
        "        blob.name, new_blob.name))"
      ],
      "execution_count": 0,
      "outputs": []
    },
    {
      "cell_type": "markdown",
      "metadata": {
        "id": "d0co3Vb42ST1",
        "colab_type": "text"
      },
      "source": [
        "### Define values"
      ]
    },
    {
      "cell_type": "code",
      "metadata": {
        "id": "4brDC4DU-Iwq",
        "colab_type": "code",
        "colab": {}
      },
      "source": [
        "project_id='wi-dpi-010'\n",
        "raw_data_bucket_name='landing-009'\n",
        "source_name='all_staff_report'\n",
        "year='2017_2018'\n",
        "filename='AllStaffReportPublic__04152019_194414.csv'\n",
        "full_filename=raw_data_bucket_name + '/' + source_name + '/' + year + '/' + filename\n",
        "\n",
        "landing_dataset_name='landing'\n",
        "landing_table_name=source_name\n",
        "landing_bq_fullname=landing_dataset_name + '.' + landing_table_name\n",
        "\n",
        "refined_dataset_name='refined'\n",
        "refined_table_name=source_name\n",
        "refined_bq_fullname=refined_dataset_name + '.' + refined_table_name\n",
        "\n"
      ],
      "execution_count": 0,
      "outputs": []
    },
    {
      "cell_type": "markdown",
      "metadata": {
        "id": "67hG3ni_3AqS",
        "colab_type": "text"
      },
      "source": [
        "## Move Files"
      ]
    },
    {
      "cell_type": "markdown",
      "metadata": {
        "id": "KneGBVCc3O_A",
        "colab_type": "text"
      },
      "source": [
        "### Create Folders"
      ]
    },
    {
      "cell_type": "markdown",
      "metadata": {
        "id": "LaK6e1g52fO0",
        "colab_type": "text"
      },
      "source": [
        "Create Folders in the Bucket for all of the School Files"
      ]
    },
    {
      "cell_type": "code",
      "metadata": {
        "id": "xxfnZBFHH2WE",
        "colab_type": "code",
        "colab": {}
      },
      "source": [
        "school_years = [(str(i) + '_' + str(i+1)) for i in range(1995,2016)]\n",
        "for x in school_years:\n",
        "  upload_blob(project_id, raw_data_bucket_name, '', 'all_staff_report/' + x + '/')"
      ],
      "execution_count": 0,
      "outputs": []
    },
    {
      "cell_type": "markdown",
      "metadata": {
        "id": "cxeig53Y2mpi",
        "colab_type": "text"
      },
      "source": [
        "Define a dictionary object which contains the temporary location of the files and the final destination. Use this to loop through all the files."
      ]
    },
    {
      "cell_type": "code",
      "metadata": {
        "id": "x1FpU8q1I1kO",
        "colab_type": "code",
        "colab": {}
      },
      "source": [
        "file_dict = [\n",
        "    {'old_name':\"all_staff_report/temp/AllStaff_Open_Files/95staff.txt\",'new_name':\"all_staff_report/1995_1996/95staff.txt\",'landing_tablename':\"1995\",'file_type':\"fixed\"},\n",
        "    {'old_name':\"all_staff_report/temp/AllStaff_Open_Files/96staff.txt\",'new_name':\"all_staff_report/1996_1997/96staff.txt\",'landing_tablename':\"1996\",'file_type':\"fixed\"},\n",
        "    {'old_name':\"all_staff_report/temp/AllStaff_Open_Files/97staff.txt\",'new_name':\"all_staff_report/1997_1998/97staff.txt\",'landing_tablename':\"1997\",'file_type':\"fixed\"},\n",
        "    {'old_name':\"all_staff_report/temp/AllStaff_Open_Files/98staff.txt\",'new_name':\"all_staff_report/1998_1999/98staff.txt\",'landing_tablename':\"1998\",'file_type':\"fixed\"},\n",
        "    {'old_name':\"all_staff_report/temp/AllStaff_Open_Files/99STAFF.DAT\",'new_name':\"all_staff_report/1999_2000/99STAFF.DAT\",'landing_tablename':\"1999\",'file_type':\"fixed\"},\n",
        "    \n",
        "    \n",
        "    {'old_name':\"all_staff_report/temp/AllStaff_Open_Files/00staff.dat\",'new_name':\"all_staff_report/2000_2001/00staff.dat\",'landing_tablename':\"2000\"},\n",
        "    {'old_name':\"all_staff_report/temp/AllStaff_Open_Files/01staff.dat\",'new_name':\"all_staff_report/2001_2002/01staff.dat\",'landing_tablename':\"2001\"},\n",
        "    {'old_name':\"all_staff_report/temp/AllStaff_Open_Files/02staff.txt\",'new_name':\"all_staff_report/2002_2003/02staff.txt\",'landing_tablename':\"2002\"},\n",
        "    {'old_name':\"all_staff_report/temp/AllStaff_Open_Files/03staff.txt\",'new_name':\"all_staff_report/2003_2004/03staff.txt\",'landing_tablename':\"2003\"},\n",
        "    {'old_name':\"all_staff_report/temp/AllStaff_Open_Files/04staff.dat\",'new_name':\"all_staff_report/2004_2005/04staff.dat\",'landing_tablename':\"2004\"},\n",
        "                                                                                                                                                 \n",
        "    {'old_name':\"all_staff_report/temp/AllStaff_Open_Files/05staff.txt\",'new_name':\"all_staff_report/2005_2006/05staff.txt\",'landing_tablename':\"2005\"},\n",
        "    {'old_name':\"all_staff_report/temp/AllStaff_Open_Files/06staff.txt\",'new_name':\"all_staff_report/2006_2007/06staff.txt\",'landing_tablename':\"2006\"},\n",
        "    {'old_name':\"all_staff_report/temp/AllStaff_Open_Files/07staff.txt\",'new_name':\"all_staff_report/2007_2008/07staff.txt\",'landing_tablename':\"2007\"},\n",
        "    {'old_name':\"all_staff_report/temp/AllStaff_Open_Files/08STAFF.TXT\",'new_name':\"all_staff_report/2008_2009/08STAFF.TXT\",'landing_tablename':\"2008\"},\n",
        "    {'old_name':\"all_staff_report/temp/AllStaff_Open_Files/09STAFF.TXT\",'new_name':\"all_staff_report/2009_2010/09STAFF.TXT\",'landing_tablename':\"2009\"},\n",
        "                                                                                                                                                 \n",
        "    {'old_name':\"all_staff_report/temp/AllStaff_Open_Files/10STAFF.TXT\",'new_name':\"all_staff_report/2010_2011/10STAFF.TXT\",'landing_tablename':\"2010\"},\n",
        "    {'old_name':\"all_staff_report/temp/AllStaff_Open_Files/11STAFF.txt\",'new_name':\"all_staff_report/2011_2012/11STAFF.txt\",'landing_tablename':\"2011\"},\n",
        "    {'old_name':\"all_staff_report/temp/AllStaff_Open_Files/12STAFF.txt\",'new_name':\"all_staff_report/2012_2013/12STAFF.txt\",'landing_tablename':\"2012\"},\n",
        "    {'old_name':\"all_staff_report/temp/AllStaff_Open_Files/13staff.txt\",'new_name':\"all_staff_report/2013_2014/13staff.txt\",'landing_tablename':\"2013\"},\n",
        "    {'old_name':\"all_staff_report/temp/AllStaff_Open_Files/14staff.txt\",'new_name':\"all_staff_report/2014_2015/14staff.txt\",'landing_tablename':\"2014\"},\n",
        "    \n",
        "    {'old_name':\"all_staff_report/temp/AllStaff_Open_Files/2015.csv\",'new_name':\"all_staff_report/2015_2016/2015.csv\",'landing_tablename':\"2015\"},\n",
        "    {'old_name':\"all_staff_report/temp/AllStaff_Open_Files/2016.csv\",'new_name':\"all_staff_report/2016_2017/2016.csv\",'landing_tablename':\"2016\"}\n",
        "      \n",
        "]"
      ],
      "execution_count": 0,
      "outputs": []
    },
    {
      "cell_type": "markdown",
      "metadata": {
        "id": "qdhcuq4t23HD",
        "colab_type": "text"
      },
      "source": [
        "### Move the files\n",
        "\n",
        "\n"
      ]
    },
    {
      "cell_type": "code",
      "metadata": {
        "id": "fuEDTAhOORzx",
        "colab_type": "code",
        "outputId": "a259bbae-f1ef-40a2-dc2b-4a05c287b6ab",
        "colab": {
          "base_uri": "https://localhost:8080/",
          "height": 399
        }
      },
      "source": [
        "for rename in rename_file[1:]:\n",
        "  rename_blob(project_id, raw_data_bucket_name, rename['old_name'], rename['new_name'])"
      ],
      "execution_count": 0,
      "outputs": [
        {
          "output_type": "stream",
          "text": [
            "Blob all_staff_report/temp/AllStaff_Open_Files/96staff.txt has been renamed to all_staff_report/1996_1997/96staff.txt\n",
            "Blob all_staff_report/temp/AllStaff_Open_Files/97staff.txt has been renamed to all_staff_report/1997_1998/97staff.txt\n",
            "Blob all_staff_report/temp/AllStaff_Open_Files/98staff.txt has been renamed to all_staff_report/1998_1999/98staff.txt\n",
            "Blob all_staff_report/temp/AllStaff_Open_Files/99STAFF.DAT has been renamed to all_staff_report/1999_2000/99STAFF.DAT\n",
            "Blob all_staff_report/temp/AllStaff_Open_Files/00staff.dat has been renamed to all_staff_report/2000_2001/00staff.dat\n",
            "Blob all_staff_report/temp/AllStaff_Open_Files/01staff.dat has been renamed to all_staff_report/2001_2002/01staff.dat\n",
            "Blob all_staff_report/temp/AllStaff_Open_Files/02staff.txt has been renamed to all_staff_report/2002_2003/02staff.txt\n",
            "Blob all_staff_report/temp/AllStaff_Open_Files/03staff.txt has been renamed to all_staff_report/2003_2004/03staff.txt\n",
            "Blob all_staff_report/temp/AllStaff_Open_Files/04staff.dat has been renamed to all_staff_report/2004_2005/04staff.dat\n",
            "Blob all_staff_report/temp/AllStaff_Open_Files/05staff.txt has been renamed to all_staff_report/2005_2006/05staff.txt\n",
            "Blob all_staff_report/temp/AllStaff_Open_Files/06staff.txt has been renamed to all_staff_report/2006_2007/06staff.txt\n",
            "Blob all_staff_report/temp/AllStaff_Open_Files/07staff.txt has been renamed to all_staff_report/2007_2008/07staff.txt\n",
            "Blob all_staff_report/temp/AllStaff_Open_Files/08STAFF.TXT has been renamed to all_staff_report/2008_2009/08STAFF.TXT\n",
            "Blob all_staff_report/temp/AllStaff_Open_Files/09STAFF.TXT has been renamed to all_staff_report/2009_2010/09STAFF.TXT\n",
            "Blob all_staff_report/temp/AllStaff_Open_Files/10STAFF.TXT has been renamed to all_staff_report/2010_2011/10STAFF.TXT\n",
            "Blob all_staff_report/temp/AllStaff_Open_Files/11STAFF.txt has been renamed to all_staff_report/2011_2012/11STAFF.txt\n",
            "Blob all_staff_report/temp/AllStaff_Open_Files/12STAFF.txt has been renamed to all_staff_report/2012_2013/12STAFF.txt\n",
            "Blob all_staff_report/temp/AllStaff_Open_Files/13staff.txt has been renamed to all_staff_report/2013_2014/13staff.txt\n",
            "Blob all_staff_report/temp/AllStaff_Open_Files/14staff.txt has been renamed to all_staff_report/2014_2015/14staff.txt\n",
            "Blob all_staff_report/temp/AllStaff_Open_Files/2015.csv has been renamed to all_staff_report/2015_2016/2015.csv\n",
            "Blob all_staff_report/temp/AllStaff_Open_Files/2016.csv has been renamed to all_staff_report/2016_2017/2016.csv\n"
          ],
          "name": "stdout"
        }
      ]
    }
  ]
}