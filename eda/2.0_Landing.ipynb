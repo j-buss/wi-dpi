{
  "nbformat": 4,
  "nbformat_minor": 0,
  "metadata": {
    "colab": {
      "name": "wi-dpi-all-staff-eda.ipynb",
      "version": "0.3.2",
      "provenance": [],
      "toc_visible": true,
      "include_colab_link": true
    },
    "kernelspec": {
      "name": "python3",
      "display_name": "Python 3"
    }
  },
  "cells": [
    {
      "cell_type": "markdown",
      "metadata": {
        "id": "view-in-github",
        "colab_type": "text"
      },
      "source": [
        "<a href=\"https://colab.research.google.com/github/j-buss/wi-dpi-analysis/blob/development/eda/2.0_Landing.ipynb\" target=\"_parent\"><img src=\"https://colab.research.google.com/assets/colab-badge.svg\" alt=\"Open In Colab\"/></a>"
      ]
    },
    {
      "cell_type": "markdown",
      "metadata": {
        "id": "FYnVbPCC1u1b",
        "colab_type": "text"
      },
      "source": [
        "# Salary and Education in Wisconsin - 2.0 Load Landing BigQuery"
      ]
    },
    {
      "cell_type": "markdown",
      "metadata": {
        "id": "JixlqF171iMF",
        "colab_type": "text"
      },
      "source": [
        "This notebook is intended to describe analysis on salaries of teachers within the Wisconsin Department of Public Instruction."
      ]
    },
    {
      "cell_type": "markdown",
      "metadata": {
        "id": "E770jioT8RX-",
        "colab_type": "text"
      },
      "source": [
        "## Introduction"
      ]
    },
    {
      "cell_type": "markdown",
      "metadata": {
        "id": "DhwK8pzspUrA",
        "colab_type": "text"
      },
      "source": [
        "### Load libraries\n",
        "Install the following packages in order to load data to BigQuery.\n",
        "\n",
        "*Please note this will require a restart to the runtime*"
      ]
    },
    {
      "cell_type": "code",
      "metadata": {
        "id": "OtGtyuBxjjWM",
        "colab_type": "code",
        "colab": {}
      },
      "source": [
        "!pip install --upgrade google-cloud-bigquery\n",
        "!pip install gcsfs\n",
        "!pip install pandas-gbq -U"
      ],
      "execution_count": 0,
      "outputs": []
    },
    {
      "cell_type": "markdown",
      "metadata": {
        "id": "MPuM0yyTed1Q",
        "colab_type": "text"
      },
      "source": [
        "### Authenticate to Google Cloud"
      ]
    },
    {
      "cell_type": "code",
      "metadata": {
        "id": "dYIG0s-0ec9o",
        "colab_type": "code",
        "colab": {}
      },
      "source": [
        "from google.colab import auth\n",
        "auth.authenticate_user()"
      ],
      "execution_count": 0,
      "outputs": []
    },
    {
      "cell_type": "markdown",
      "metadata": {
        "id": "q0v-JSvaAiqM",
        "colab_type": "text"
      },
      "source": [
        "### Import Libraries"
      ]
    },
    {
      "cell_type": "code",
      "metadata": {
        "id": "cyEpDjO19Tt1",
        "colab_type": "code",
        "colab": {}
      },
      "source": [
        "import numpy as np\n",
        "import pandas as pd\n",
        "pd.set_option('display.max_columns', 50)\n",
        "pd.set_option('display.max_rows', 5)\n",
        "import seaborn as sns\n",
        "import matplotlib.pyplot as plt\n"
      ],
      "execution_count": 0,
      "outputs": []
    },
    {
      "cell_type": "code",
      "metadata": {
        "id": "nZufn9GG9W5q",
        "colab_type": "code",
        "colab": {}
      },
      "source": [
        "%matplotlib inline\n",
        "plt.style.use('bmh')"
      ],
      "execution_count": 0,
      "outputs": []
    },
    {
      "cell_type": "code",
      "metadata": {
        "id": "lzBusRztAnPi",
        "colab_type": "code",
        "colab": {}
      },
      "source": [
        "from google.cloud import bigquery\n",
        "from google.cloud import storage\n",
        "from io import StringIO\n",
        "import re\n",
        "import collections"
      ],
      "execution_count": 0,
      "outputs": []
    },
    {
      "cell_type": "markdown",
      "metadata": {
        "id": "UfqK__FMONeR",
        "colab_type": "text"
      },
      "source": [
        "### Functions"
      ]
    },
    {
      "cell_type": "code",
      "metadata": {
        "id": "ioY3_FupCJ8b",
        "colab_type": "code",
        "colab": {}
      },
      "source": [
        "def download_file(url, filename):\n",
        "  r = requests.get(url)\n",
        "  f = open(filename,'wb')\n",
        "  f.write(r.content)\n",
        "  f.close()"
      ],
      "execution_count": 0,
      "outputs": []
    },
    {
      "cell_type": "code",
      "metadata": {
        "id": "yAvU_MEyOJ4m",
        "colab_type": "code",
        "colab": {}
      },
      "source": [
        "def create_dataset(client, project_id, dataset_name):\n",
        "  \n",
        "  \n",
        "  dataset_id = \"{}.{}\".format(project_id, dataset_name)\n",
        "  dataset = bigquery.Dataset(dataset_id)\n",
        "  dataset.location = \"US\"\n",
        "\n",
        "  dataset = client.create_dataset(dataset)\n",
        "  #print(\"Created dataset {}.{}\".format(client.project, dataset.dataset_id))"
      ],
      "execution_count": 0,
      "outputs": []
    },
    {
      "cell_type": "code",
      "metadata": {
        "id": "QOMI9QWsby8H",
        "colab_type": "code",
        "colab": {}
      },
      "source": [
        "def delete_dataset(client, project_id, dataset_name):\n",
        "  \n",
        "  \n",
        "  dataset_id = \"{}.{}\".format(project_id, dataset_name)\n",
        "  client.delete_dataset(dataset_id, delete_contents=True, not_found_ok=True)"
      ],
      "execution_count": 0,
      "outputs": []
    },
    {
      "cell_type": "code",
      "metadata": {
        "id": "7wKFdTT1-Nbt",
        "colab_type": "code",
        "colab": {}
      },
      "source": [
        "def return_blob_list(project_id, bucket_name):\n",
        "    \"\"\"Lists all the blobs in the bucket.\"\"\"\n",
        "    storage_client = storage.Client(project=project_id)\n",
        "    bucket = storage_client.get_bucket(bucket_name)\n",
        "\n",
        "    blobs = bucket.list_blobs()\n",
        "    return blobs"
      ],
      "execution_count": 0,
      "outputs": []
    },
    {
      "cell_type": "code",
      "metadata": {
        "id": "61YoyFbkWzI9",
        "colab_type": "code",
        "colab": {}
      },
      "source": [
        "def clean_column_headers(columns):\n",
        "  return columns.str.strip().str.lower().str.replace(' ', '_').str.replace('(', '').str.replace(')', '').str.replace('.','_').str.replace('/','_').str.replace(\"'\",\"\")"
      ],
      "execution_count": 0,
      "outputs": []
    },
    {
      "cell_type": "markdown",
      "metadata": {
        "id": "4lJBE_QB8gqh",
        "colab_type": "text"
      },
      "source": [
        "### Define Values"
      ]
    },
    {
      "cell_type": "code",
      "metadata": {
        "id": "Ge6tOEad9OSK",
        "colab_type": "code",
        "colab": {}
      },
      "source": [
        "project_id='wi-dpi-010'\n",
        "raw_data_bucket_name='landing-009'\n",
        "\n",
        "landing_dataset_name='landing'\n",
        "refined_dataset_name='refined'"
      ],
      "execution_count": 0,
      "outputs": []
    },
    {
      "cell_type": "markdown",
      "metadata": {
        "id": "VIzr1UNerQWw",
        "colab_type": "text"
      },
      "source": [
        "## Data Preparation"
      ]
    },
    {
      "cell_type": "markdown",
      "metadata": {
        "id": "QGPBL6pB8uz7",
        "colab_type": "text"
      },
      "source": [
        "### Create Dataset"
      ]
    },
    {
      "cell_type": "code",
      "metadata": {
        "id": "fAl_QS--cS_F",
        "colab_type": "code",
        "colab": {}
      },
      "source": [
        "landing_dataset_name = 'landing'\n",
        "bq_client = bigquery.Client(project=project_id)"
      ],
      "execution_count": 0,
      "outputs": []
    },
    {
      "cell_type": "code",
      "metadata": {
        "id": "J0P1MbpYg36z",
        "colab_type": "code",
        "colab": {}
      },
      "source": [
        "create_dataset(bq_client, project_id, landing_dataset_name)"
      ],
      "execution_count": 0,
      "outputs": []
    },
    {
      "cell_type": "code",
      "metadata": {
        "id": "lFP_lDI6bVPA",
        "colab_type": "code",
        "colab": {}
      },
      "source": [
        "###DELETE DATASET\n",
        "#delete_dataset(bq_client, project_id, landing_dataset_name)"
      ],
      "execution_count": 0,
      "outputs": []
    },
    {
      "cell_type": "markdown",
      "metadata": {
        "id": "fug36iW38yti",
        "colab_type": "text"
      },
      "source": [
        "### Create Dataframes and Tables from GCS Blobs"
      ]
    },
    {
      "cell_type": "markdown",
      "metadata": {
        "id": "WzrS1imIA7tK",
        "colab_type": "text"
      },
      "source": [
        "For all files (blobs) in the bucket we will split the blob name into the following components:\n",
        "\n",
        "\n",
        "1.   Source\n",
        "2.   Year\n",
        "3.   File\n",
        "4.   File Type\n",
        "\n",
        "Additionally, we will use a NamedTuple to define the components and ensure they are callable."
      ]
    },
    {
      "cell_type": "code",
      "metadata": {
        "id": "Y079XL3UC6cS",
        "colab_type": "code",
        "colab": {}
      },
      "source": [
        "blob_to_process = collections.namedtuple('blob_to_process','source year file file_type fullname')"
      ],
      "execution_count": 0,
      "outputs": []
    },
    {
      "cell_type": "code",
      "metadata": {
        "id": "q3hTOUYG8p4M",
        "colab_type": "code",
        "colab": {}
      },
      "source": [
        "list_of_blobs = []\n",
        "for blob in return_blob_list('wi-dpi-010','landing-009'):\n",
        "  temp = re.findall(r\"[\\w']+\",blob.name)\n",
        "  temp.append(blob.name)\n",
        "  if len(temp) == 5:\n",
        "    list_of_blobs.append(blob_to_process(*temp))"
      ],
      "execution_count": 0,
      "outputs": []
    },
    {
      "cell_type": "code",
      "metadata": {
        "id": "jEK0D5F_2F5J",
        "colab_type": "code",
        "outputId": "b7f546dd-fdb2-4eaf-d4f2-8e78087e9526",
        "colab": {
          "base_uri": "https://localhost:8080/",
          "height": 55
        }
      },
      "source": [
        "print (list_of_blobs)"
      ],
      "execution_count": 14,
      "outputs": [
        {
          "output_type": "stream",
          "text": [
            "[blob_to_process(source='all_staff_report', year='1995', file='1995_all_staff_report', file_type='fwf', fullname='all_staff_report/1995/1995_all_staff_report.fwf'), blob_to_process(source='all_staff_report', year='1995', file='1995_all_staff_report', file_type='metadata', fullname='all_staff_report/1995/1995_all_staff_report.metadata'), blob_to_process(source='all_staff_report', year='1995', file='1995_degree', file_type='csv', fullname='all_staff_report/1995/1995_degree.csv'), blob_to_process(source='all_staff_report', year='1995', file='1995_grade_code', file_type='csv', fullname='all_staff_report/1995/1995_grade_code.csv'), blob_to_process(source='all_staff_report', year='1995', file='1995_race', file_type='csv', fullname='all_staff_report/1995/1995_race.csv'), blob_to_process(source='all_staff_report', year='1995', file='1995_salary_fund_source', file_type='csv', fullname='all_staff_report/1995/1995_salary_fund_source.csv'), blob_to_process(source='all_staff_report', year='1995', file='1995_school_type', file_type='csv', fullname='all_staff_report/1995/1995_school_type.csv'), blob_to_process(source='all_staff_report', year='1995', file='1995_staff_type', file_type='csv', fullname='all_staff_report/1995/1995_staff_type.csv'), blob_to_process(source='all_staff_report', year='1995', file='1995_work_agency_type', file_type='csv', fullname='all_staff_report/1995/1995_work_agency_type.csv'), blob_to_process(source='all_staff_report', year='1996', file='1996_all_staff_report', file_type='fwf', fullname='all_staff_report/1996/1996_all_staff_report.fwf'), blob_to_process(source='all_staff_report', year='1996', file='1996_all_staff_report', file_type='metadata', fullname='all_staff_report/1996/1996_all_staff_report.metadata'), blob_to_process(source='all_staff_report', year='2015', file='2015_agency_type', file_type='csv', fullname='all_staff_report/2015/2015_agency_type.csv'), blob_to_process(source='all_staff_report', year='2015', file='2015_all_staff_report', file_type='csv', fullname='all_staff_report/2015/2015_all_staff_report.csv'), blob_to_process(source='all_staff_report', year='2015', file='2015_assignment_area', file_type='csv', fullname='all_staff_report/2015/2015_assignment_area.csv'), blob_to_process(source='all_staff_report', year='2015', file='2015_grade_level', file_type='csv', fullname='all_staff_report/2015/2015_grade_level.csv'), blob_to_process(source='all_staff_report', year='2015', file='2015_highest_educational_degree', file_type='csv', fullname='all_staff_report/2015/2015_highest_educational_degree.csv'), blob_to_process(source='all_staff_report', year='2015', file='2015_low_high_grade_level', file_type='csv', fullname='all_staff_report/2015/2015_low_high_grade_level.csv'), blob_to_process(source='all_staff_report', year='2015', file='2015_position_type', file_type='csv', fullname='all_staff_report/2015/2015_position_type.csv'), blob_to_process(source='all_staff_report', year='2015', file='2015_positions', file_type='csv', fullname='all_staff_report/2015/2015_positions.csv'), blob_to_process(source='all_staff_report', year='2015', file='2015_race', file_type='csv', fullname='all_staff_report/2015/2015_race.csv'), blob_to_process(source='all_staff_report', year='2015', file='2015_staff_category', file_type='csv', fullname='all_staff_report/2015/2015_staff_category.csv')]\n"
          ],
          "name": "stdout"
        }
      ]
    },
    {
      "cell_type": "markdown",
      "metadata": {
        "id": "J53WGstUPxXL",
        "colab_type": "text"
      },
      "source": [
        "Now the object \n",
        "`list_of_blobs`\n",
        "has all the blob object information. We will cycle through it to create the tables as needed in BigQuery."
      ]
    },
    {
      "cell_type": "code",
      "metadata": {
        "id": "iwuL9NrlSJKV",
        "colab_type": "code",
        "colab": {}
      },
      "source": [
        "storage_client = storage.Client(project=project_id)\n",
        "bucket = storage_client.get_bucket(raw_data_bucket_name)"
      ],
      "execution_count": 0,
      "outputs": []
    },
    {
      "cell_type": "code",
      "metadata": {
        "id": "qV7MMYTCN8-l",
        "colab_type": "code",
        "outputId": "6affc41b-76da-407e-8979-07fdaf67cc0b",
        "colab": {
          "base_uri": "https://localhost:8080/",
          "height": 781
        }
      },
      "source": [
        "for blob in list_of_blobs:\n",
        "  if blob.file_type == 'csv':\n",
        "    data_blob = bucket.get_blob(blob.fullname)\n",
        "    data = data_blob.download_as_string()\n",
        "    df = pd.read_csv(StringIO(data.decode('utf-8')),low_memory=False)\n",
        "    df.columns = clean_column_headers(df.columns)\n",
        "    print (landing_dataset_name + '.' + blob.file)\n",
        "    df.to_gbq(landing_dataset_name + '.' + blob.file,project_id=project_id,if_exists='replace')\n",
        "  elif blob.file_type == 'fwf':\n",
        "    data_blob = bucket.get_blob(blob.fullname)\n",
        "    data = data_blob.download_as_string()\n",
        "    metadata_file = [x_blob.source + '/' + x_blob.year + '/' + x_blob.file + '.' + x_blob.file_type for x_blob in list_of_blobs\\\n",
        "           if (x_blob.file == blob.file and x_blob.file_type != blob.file_type)][0]\n",
        "    metadata_blob = bucket.get_blob(metadata_file)\n",
        "    metadata = metadata_blob.download_as_string()\n",
        "    metadata_df = pd.read_csv(StringIO(metadata.decode('utf-8')))\n",
        "    col_widths = metadata_df['length'].apply(int)\n",
        "    col_names = metadata_df['name']\n",
        "    df = pd.read_fwf(StringIO(data.decode('utf-8')), widths=col_widths, names=col_names)\n",
        "    df.columns = clean_column_headers(df.columns)\n",
        "    print (landing_dataset_name + '.' + blob.file)\n",
        "    df.to_gbq(landing_dataset_name + '.' + blob.file,project_id=project_id,if_exists='replace')\n",
        "    "
      ],
      "execution_count": 0,
      "outputs": [
        {
          "output_type": "stream",
          "text": [
            "/usr/local/lib/python3.6/dist-packages/pandas/io/parsers.py:803: UserWarning: Duplicate names specified. This will raise an error in the future.\n",
            "  return _read(filepath_or_buffer, kwds)\n"
          ],
          "name": "stderr"
        },
        {
          "output_type": "stream",
          "text": [
            "landing.1995_all_staff_report\n"
          ],
          "name": "stdout"
        },
        {
          "output_type": "stream",
          "text": [
            "1it [00:06,  6.28s/it]\n"
          ],
          "name": "stderr"
        },
        {
          "output_type": "stream",
          "text": [
            "landing.1995_degree\n"
          ],
          "name": "stdout"
        },
        {
          "output_type": "stream",
          "text": [
            "1it [00:02,  2.45s/it]\n"
          ],
          "name": "stderr"
        },
        {
          "output_type": "stream",
          "text": [
            "landing.1995_grade_code\n"
          ],
          "name": "stdout"
        },
        {
          "output_type": "stream",
          "text": [
            "1it [00:02,  2.88s/it]\n"
          ],
          "name": "stderr"
        },
        {
          "output_type": "stream",
          "text": [
            "landing.1995_race\n"
          ],
          "name": "stdout"
        },
        {
          "output_type": "stream",
          "text": [
            "1it [00:05,  5.10s/it]\n"
          ],
          "name": "stderr"
        },
        {
          "output_type": "stream",
          "text": [
            "landing.1995_salary_fund_source\n"
          ],
          "name": "stdout"
        },
        {
          "output_type": "stream",
          "text": [
            "1it [00:03,  3.59s/it]\n"
          ],
          "name": "stderr"
        },
        {
          "output_type": "stream",
          "text": [
            "landing.1995_school_type\n"
          ],
          "name": "stdout"
        },
        {
          "output_type": "stream",
          "text": [
            "1it [00:02,  2.86s/it]\n"
          ],
          "name": "stderr"
        },
        {
          "output_type": "stream",
          "text": [
            "landing.1995_staff_type\n"
          ],
          "name": "stdout"
        },
        {
          "output_type": "stream",
          "text": [
            "1it [00:09,  9.56s/it]\n"
          ],
          "name": "stderr"
        },
        {
          "output_type": "stream",
          "text": [
            "landing.1995_work_agency_type\n"
          ],
          "name": "stdout"
        },
        {
          "output_type": "stream",
          "text": [
            "1it [00:02,  2.65s/it]\n",
            "/usr/local/lib/python3.6/dist-packages/pandas/io/parsers.py:803: UserWarning: Duplicate names specified. This will raise an error in the future.\n",
            "  return _read(filepath_or_buffer, kwds)\n"
          ],
          "name": "stderr"
        },
        {
          "output_type": "stream",
          "text": [
            "landing.1996_all_staff_report\n"
          ],
          "name": "stdout"
        },
        {
          "output_type": "stream",
          "text": [
            "1it [00:05,  5.43s/it]\n"
          ],
          "name": "stderr"
        },
        {
          "output_type": "stream",
          "text": [
            "landing.2015_agency_type\n"
          ],
          "name": "stdout"
        },
        {
          "output_type": "stream",
          "text": [
            "1it [00:04,  4.35s/it]\n"
          ],
          "name": "stderr"
        },
        {
          "output_type": "stream",
          "text": [
            "landing.2015_all_staff_report\n"
          ],
          "name": "stdout"
        },
        {
          "output_type": "stream",
          "text": [
            "1it [00:05,  5.18s/it]\n"
          ],
          "name": "stderr"
        },
        {
          "output_type": "stream",
          "text": [
            "landing.2015_assignment_area\n"
          ],
          "name": "stdout"
        },
        {
          "output_type": "stream",
          "text": [
            "1it [00:04,  4.20s/it]\n"
          ],
          "name": "stderr"
        },
        {
          "output_type": "stream",
          "text": [
            "landing.2015_grade_level\n"
          ],
          "name": "stdout"
        },
        {
          "output_type": "stream",
          "text": [
            "1it [00:02,  2.88s/it]\n"
          ],
          "name": "stderr"
        },
        {
          "output_type": "stream",
          "text": [
            "landing.2015_highest_educational_degree\n"
          ],
          "name": "stdout"
        },
        {
          "output_type": "stream",
          "text": [
            "1it [00:02,  2.59s/it]\n"
          ],
          "name": "stderr"
        },
        {
          "output_type": "stream",
          "text": [
            "landing.2015_low_high_grade_level\n"
          ],
          "name": "stdout"
        },
        {
          "output_type": "stream",
          "text": [
            "1it [00:04,  4.92s/it]\n"
          ],
          "name": "stderr"
        },
        {
          "output_type": "stream",
          "text": [
            "landing.2015_position_type\n"
          ],
          "name": "stdout"
        },
        {
          "output_type": "stream",
          "text": [
            "1it [00:05,  5.49s/it]\n"
          ],
          "name": "stderr"
        },
        {
          "output_type": "stream",
          "text": [
            "landing.2015_positions\n"
          ],
          "name": "stdout"
        },
        {
          "output_type": "stream",
          "text": [
            "1it [00:02,  2.98s/it]\n"
          ],
          "name": "stderr"
        },
        {
          "output_type": "stream",
          "text": [
            "landing.2015_race\n"
          ],
          "name": "stdout"
        },
        {
          "output_type": "stream",
          "text": [
            "1it [00:02,  2.62s/it]\n"
          ],
          "name": "stderr"
        },
        {
          "output_type": "stream",
          "text": [
            "landing.2015_staff_category\n"
          ],
          "name": "stdout"
        },
        {
          "output_type": "stream",
          "text": [
            "1it [00:05,  5.51s/it]\n"
          ],
          "name": "stderr"
        }
      ]
    },
    {
      "cell_type": "markdown",
      "metadata": {
        "id": "4CRP9H8sdX8E",
        "colab_type": "text"
      },
      "source": [
        ""
      ]
    }
  ]
}