{
  "nbformat": 4,
  "nbformat_minor": 0,
  "metadata": {
    "colab": {
      "name": "wi-dpi-all-staff-eda.ipynb",
      "version": "0.3.2",
      "provenance": [],
      "toc_visible": true,
      "include_colab_link": true
    },
    "kernelspec": {
      "name": "python3",
      "display_name": "Python 3"
    }
  },
  "cells": [
    {
      "cell_type": "markdown",
      "metadata": {
        "id": "view-in-github",
        "colab_type": "text"
      },
      "source": [
        "<a href=\"https://colab.research.google.com/github/j-buss/wi-dpi-analysis/blob/development/eda/2.0_Landing.ipynb\" target=\"_parent\"><img src=\"https://colab.research.google.com/assets/colab-badge.svg\" alt=\"Open In Colab\"/></a>"
      ]
    },
    {
      "cell_type": "markdown",
      "metadata": {
        "id": "FYnVbPCC1u1b",
        "colab_type": "text"
      },
      "source": [
        "# Salary and Education in Wisconsin - 2.0 Load Landing BigQuery"
      ]
    },
    {
      "cell_type": "markdown",
      "metadata": {
        "id": "JixlqF171iMF",
        "colab_type": "text"
      },
      "source": [
        "This notebook is intended to describe analysis on salaries of teachers within the Wisconsin Department of Public Instruction."
      ]
    },
    {
      "cell_type": "markdown",
      "metadata": {
        "id": "E770jioT8RX-",
        "colab_type": "text"
      },
      "source": [
        "## Introduction"
      ]
    },
    {
      "cell_type": "markdown",
      "metadata": {
        "id": "DhwK8pzspUrA",
        "colab_type": "text"
      },
      "source": [
        "### Load libraries\n",
        "Install the following packages in order to load data to BigQuery.\n",
        "\n",
        "*Please note this will require a restart to the runtime*"
      ]
    },
    {
      "cell_type": "code",
      "metadata": {
        "id": "OtGtyuBxjjWM",
        "colab_type": "code",
        "colab": {}
      },
      "source": [
        "!pip install --upgrade google-cloud-bigquery\n",
        "!pip install gcsfs\n",
        "!pip install pandas-gbq -U"
      ],
      "execution_count": 0,
      "outputs": []
    },
    {
      "cell_type": "markdown",
      "metadata": {
        "id": "MPuM0yyTed1Q",
        "colab_type": "text"
      },
      "source": [
        "### Authenticate to Google Cloud"
      ]
    },
    {
      "cell_type": "code",
      "metadata": {
        "id": "dYIG0s-0ec9o",
        "colab_type": "code",
        "colab": {}
      },
      "source": [
        "from google.colab import auth\n",
        "auth.authenticate_user()"
      ],
      "execution_count": 0,
      "outputs": []
    },
    {
      "cell_type": "markdown",
      "metadata": {
        "id": "q0v-JSvaAiqM",
        "colab_type": "text"
      },
      "source": [
        "### Import Libraries"
      ]
    },
    {
      "cell_type": "code",
      "metadata": {
        "id": "cyEpDjO19Tt1",
        "colab_type": "code",
        "colab": {}
      },
      "source": [
        "import numpy as np\n",
        "import pandas as pd\n",
        "pd.set_option('display.max_columns', 50)\n",
        "pd.set_option('display.max_rows', 5)\n",
        "import seaborn as sns\n",
        "import matplotlib.pyplot as plt\n"
      ],
      "execution_count": 0,
      "outputs": []
    },
    {
      "cell_type": "code",
      "metadata": {
        "id": "nZufn9GG9W5q",
        "colab_type": "code",
        "colab": {}
      },
      "source": [
        "%matplotlib inline\n",
        "plt.style.use('bmh')"
      ],
      "execution_count": 0,
      "outputs": []
    },
    {
      "cell_type": "code",
      "metadata": {
        "id": "lzBusRztAnPi",
        "colab_type": "code",
        "colab": {}
      },
      "source": [
        "from google.cloud import bigquery\n",
        "from google.cloud import storage\n",
        "from io import StringIO\n",
        "import re"
      ],
      "execution_count": 0,
      "outputs": []
    },
    {
      "cell_type": "markdown",
      "metadata": {
        "id": "UfqK__FMONeR",
        "colab_type": "text"
      },
      "source": [
        "### Functions"
      ]
    },
    {
      "cell_type": "code",
      "metadata": {
        "id": "ioY3_FupCJ8b",
        "colab_type": "code",
        "colab": {}
      },
      "source": [
        "def download_file(url, filename):\n",
        "  r = requests.get(url)\n",
        "  f = open(filename,'wb')\n",
        "  f.write(r.content)\n",
        "  f.close()"
      ],
      "execution_count": 0,
      "outputs": []
    },
    {
      "cell_type": "code",
      "metadata": {
        "id": "yAvU_MEyOJ4m",
        "colab_type": "code",
        "colab": {}
      },
      "source": [
        "def create_dataset(client, project_id, dataset_name):\n",
        "  \n",
        "  \n",
        "  dataset_id = \"{}.{}\".format(project_id, dataset_name)\n",
        "  dataset = bigquery.Dataset(dataset_id)\n",
        "  dataset.location = \"US\"\n",
        "\n",
        "  dataset = client.create_dataset(dataset)\n",
        "  #print(\"Created dataset {}.{}\".format(client.project, dataset.dataset_id))"
      ],
      "execution_count": 0,
      "outputs": []
    },
    {
      "cell_type": "code",
      "metadata": {
        "id": "7wKFdTT1-Nbt",
        "colab_type": "code",
        "colab": {}
      },
      "source": [
        "def return_blob_list(project_id, bucket_name):\n",
        "    \"\"\"Lists all the blobs in the bucket.\"\"\"\n",
        "    storage_client = storage.Client(project=project_id)\n",
        "    bucket = storage_client.get_bucket(bucket_name)\n",
        "\n",
        "    blobs = bucket.list_blobs()\n",
        "    return blobs"
      ],
      "execution_count": 0,
      "outputs": []
    },
    {
      "cell_type": "markdown",
      "metadata": {
        "id": "4lJBE_QB8gqh",
        "colab_type": "text"
      },
      "source": [
        "### Define Values"
      ]
    },
    {
      "cell_type": "code",
      "metadata": {
        "id": "Ge6tOEad9OSK",
        "colab_type": "code",
        "colab": {}
      },
      "source": [
        "project_id='wi-dpi-010'\n",
        "raw_data_bucket_name='landing-009'\n",
        "\n",
        "landing_dataset_name='landing'\n",
        "refined_dataset_name='refined'"
      ],
      "execution_count": 0,
      "outputs": []
    },
    {
      "cell_type": "markdown",
      "metadata": {
        "id": "VIzr1UNerQWw",
        "colab_type": "text"
      },
      "source": [
        "## Data Preparation"
      ]
    },
    {
      "cell_type": "markdown",
      "metadata": {
        "id": "QGPBL6pB8uz7",
        "colab_type": "text"
      },
      "source": [
        "### Create Dataset"
      ]
    },
    {
      "cell_type": "code",
      "metadata": {
        "id": "J0P1MbpYg36z",
        "colab_type": "code",
        "colab": {}
      },
      "source": [
        "bq_client = bigquery.Client(project=project_id)\n",
        "create_dataset(bq_client, project_id, \"landing\")"
      ],
      "execution_count": 0,
      "outputs": []
    },
    {
      "cell_type": "markdown",
      "metadata": {
        "id": "fug36iW38yti",
        "colab_type": "text"
      },
      "source": [
        "### Create Dataframes from GCS Blobs"
      ]
    },
    {
      "cell_type": "markdown",
      "metadata": {
        "id": "WzrS1imIA7tK",
        "colab_type": "text"
      },
      "source": [
        "For all files (blobs) in the bucket we will split the blob name into the following components:\n",
        "\n",
        "\n",
        "1.   Source\n",
        "2.   Year\n",
        "3.   File\n",
        "4.   File Type\n",
        "\n"
      ]
    },
    {
      "cell_type": "code",
      "metadata": {
        "id": "Y079XL3UC6cS",
        "colab_type": "code",
        "colab": {}
      },
      "source": [
        "import collections\n",
        "blob_to_process = collections.namedtuple('blob_to_process','source year file file_type')"
      ],
      "execution_count": 0,
      "outputs": []
    },
    {
      "cell_type": "code",
      "metadata": {
        "id": "q3hTOUYG8p4M",
        "colab_type": "code",
        "colab": {
          "base_uri": "https://localhost:8080/",
          "height": 435
        },
        "outputId": "eccd6ec6-dffe-4a4f-cc51-8eca142cfaad"
      },
      "source": [
        "for blob in return_blob_list('wi-dpi-010','landing-009'):\n",
        "  print(re.findall(r\"[\\w']+\",blob.name))"
      ],
      "execution_count": 61,
      "outputs": [
        {
          "output_type": "stream",
          "text": [
            "['all_staff_report']\n",
            "['all_staff_report', '1995', '1995_all_staff_report', 'fwf']\n",
            "['all_staff_report', '1995', '1995_all_staff_report', 'metadata']\n",
            "['all_staff_report', '1995', '1995_degree', 'csv']\n",
            "['all_staff_report', '1995', '1995_grade_code', 'csv']\n",
            "['all_staff_report', '1995', '1995_race', 'csv']\n",
            "['all_staff_report', '1995', '1995_salary_fund_source', 'csv']\n",
            "['all_staff_report', '1995', '1995_school_type', 'csv']\n",
            "['all_staff_report', '1995', '1995_staff_type', 'csv']\n",
            "['all_staff_report', '1995', '1995_work_agency_type', 'csv']\n",
            "['all_staff_report', '1996', '1996_all_staff_report', 'fwf']\n",
            "['all_staff_report', '1996', '1996_all_staff_report', 'metadata']\n",
            "['all_staff_report', '2015', '2015_agency_type', 'csv']\n",
            "['all_staff_report', '2015', '2015_all_staff_report', 'csv']\n",
            "['all_staff_report', '2015', '2015_assignment_area', 'csv']\n",
            "['all_staff_report', '2015', '2015_grade_level', 'csv']\n",
            "['all_staff_report', '2015', '2015_highest_educational_degree', 'csv']\n",
            "['all_staff_report', '2015', '2015_low_high_grade_level', 'csv']\n",
            "['all_staff_report', '2015', '2015_position_type', 'csv']\n",
            "['all_staff_report', '2015', '2015_positions', 'csv']\n",
            "['all_staff_report', '2015', '2015_race', 'csv']\n",
            "['all_staff_report', '2015', '2015_staff_category', 'csv']\n",
            "['temp_upload']\n"
          ],
          "name": "stdout"
        }
      ]
    },
    {
      "cell_type": "code",
      "metadata": {
        "id": "f66fv9vMH0R3",
        "colab_type": "code",
        "colab": {}
      },
      "source": [
        "fixed_width_file = 'all_staff_report/1995/1995_all_staff_report.fwf'\n",
        "metadata_file = 'all_staff_report/1995/1995_all_staff_report.metadata'\n",
        "staff_type_file = 'all_staff_report/1995/1995_staff_type.csv'"
      ],
      "execution_count": 0,
      "outputs": []
    },
    {
      "cell_type": "code",
      "metadata": {
        "id": "bYWHVwVw7B6K",
        "colab_type": "code",
        "colab": {}
      },
      "source": [
        "storage_client = storage.Client(project=project_id)\n",
        "bucket = storage_client.get_bucket(raw_data_bucket_name)\n",
        "data_blob = bucket.get_blob(fixed_width_file)\n",
        "data = data_blob.download_as_string()\n",
        "metadata_blob = bucket.get_blob(metadata_file)\n",
        "metadata = metadata_blob.download_as_string()"
      ],
      "execution_count": 0,
      "outputs": []
    },
    {
      "cell_type": "code",
      "metadata": {
        "id": "KMkAk6J0CfRZ",
        "colab_type": "code",
        "colab": {}
      },
      "source": [
        "metadata_df = pd.read_csv(StringIO(metadata.decode('utf-8')))"
      ],
      "execution_count": 0,
      "outputs": []
    },
    {
      "cell_type": "code",
      "metadata": {
        "id": "I25pr3rrFp-H",
        "colab_type": "code",
        "outputId": "fd4e954d-9e2a-4d06-9101-4077bb255025",
        "colab": {
          "base_uri": "https://localhost:8080/",
          "height": 163
        }
      },
      "source": [
        "print (metadata_df)"
      ],
      "execution_count": 12,
      "outputs": [
        {
          "output_type": "stream",
          "text": [
            "                   name  start  length\n",
            "0             id_number    1.0     9.0\n",
            "1             last_name   10.0    20.0\n",
            "..                  ...    ...     ...\n",
            "60  administrators_name  499.0    30.0\n",
            "61               filler  529.0     2.0\n",
            "\n",
            "[62 rows x 3 columns]\n"
          ],
          "name": "stdout"
        }
      ]
    },
    {
      "cell_type": "code",
      "metadata": {
        "id": "XMMq5cgXGRk2",
        "colab_type": "code",
        "colab": {}
      },
      "source": [
        "col_widths = metadata_df['length'].apply(int)"
      ],
      "execution_count": 0,
      "outputs": []
    },
    {
      "cell_type": "code",
      "metadata": {
        "id": "lZHUctvsFs1q",
        "colab_type": "code",
        "colab": {}
      },
      "source": [
        "col_names = metadata_df['name']"
      ],
      "execution_count": 0,
      "outputs": []
    },
    {
      "cell_type": "code",
      "metadata": {
        "id": "FEXOM5uqF0Q-",
        "colab_type": "code",
        "outputId": "c483dbcb-c948-42d9-edb6-0991227c14d6",
        "colab": {
          "base_uri": "https://localhost:8080/",
          "height": 126
        }
      },
      "source": [
        "col_names"
      ],
      "execution_count": 15,
      "outputs": [
        {
          "output_type": "execute_result",
          "data": {
            "text/plain": [
              "0               id_number\n",
              "1               last_name\n",
              "             ...         \n",
              "60    administrators_name\n",
              "61                 filler\n",
              "Name: name, Length: 62, dtype: object"
            ]
          },
          "metadata": {
            "tags": []
          },
          "execution_count": 15
        }
      ]
    },
    {
      "cell_type": "code",
      "metadata": {
        "id": "FSIcbjOq2Gz3",
        "colab_type": "code",
        "colab": {}
      },
      "source": [
        "df.columns = df.columns.str.strip().str.lower().str.replace(' ', '_').str.replace('(', '').str.replace(')', '')"
      ],
      "execution_count": 0,
      "outputs": []
    },
    {
      "cell_type": "code",
      "metadata": {
        "id": "afmtT9qw2QUf",
        "colab_type": "code",
        "colab": {
          "base_uri": "https://localhost:8080/",
          "height": 257
        },
        "outputId": "cde52086-47d0-4b7a-a2bf-45dac712d419"
      },
      "source": [
        "metadata_df.groupby(['name']).count()"
      ],
      "execution_count": 27,
      "outputs": [
        {
          "output_type": "execute_result",
          "data": {
            "text/html": [
              "<div>\n",
              "<style scoped>\n",
              "    .dataframe tbody tr th:only-of-type {\n",
              "        vertical-align: middle;\n",
              "    }\n",
              "\n",
              "    .dataframe tbody tr th {\n",
              "        vertical-align: top;\n",
              "    }\n",
              "\n",
              "    .dataframe thead th {\n",
              "        text-align: right;\n",
              "    }\n",
              "</style>\n",
              "<table border=\"1\" class=\"dataframe\">\n",
              "  <thead>\n",
              "    <tr style=\"text-align: right;\">\n",
              "      <th></th>\n",
              "      <th>start</th>\n",
              "      <th>length</th>\n",
              "    </tr>\n",
              "    <tr>\n",
              "      <th>name</th>\n",
              "      <th></th>\n",
              "      <th></th>\n",
              "    </tr>\n",
              "  </thead>\n",
              "  <tbody>\n",
              "    <tr>\n",
              "      <th>administrators_name</th>\n",
              "      <td>1</td>\n",
              "      <td>1</td>\n",
              "    </tr>\n",
              "    <tr>\n",
              "      <th>agency_name_of_work_location</th>\n",
              "      <td>1</td>\n",
              "      <td>1</td>\n",
              "    </tr>\n",
              "    <tr>\n",
              "      <th>...</th>\n",
              "      <td>...</td>\n",
              "      <td>...</td>\n",
              "    </tr>\n",
              "    <tr>\n",
              "      <th>work_agency_type</th>\n",
              "      <td>1</td>\n",
              "      <td>1</td>\n",
              "    </tr>\n",
              "    <tr>\n",
              "      <th>year_and_session</th>\n",
              "      <td>1</td>\n",
              "      <td>1</td>\n",
              "    </tr>\n",
              "  </tbody>\n",
              "</table>\n",
              "<p>61 rows × 2 columns</p>\n",
              "</div>"
            ],
            "text/plain": [
              "                              start  length\n",
              "name                                       \n",
              "administrators_name               1       1\n",
              "agency_name_of_work_location      1       1\n",
              "...                             ...     ...\n",
              "work_agency_type                  1       1\n",
              "year_and_session                  1       1\n",
              "\n",
              "[61 rows x 2 columns]"
            ]
          },
          "metadata": {
            "tags": []
          },
          "execution_count": 27
        }
      ]
    },
    {
      "cell_type": "code",
      "metadata": {
        "id": "ahZUH9jm61BP",
        "colab_type": "code",
        "outputId": "85ca6fbb-275e-41ae-9c2a-0253164acda8",
        "colab": {
          "base_uri": "https://localhost:8080/",
          "height": 54
        }
      },
      "source": [
        "data_df = pd.read_fwf(StringIO(data.decode('utf-8')), widths=col_widths, names=col_names)"
      ],
      "execution_count": 29,
      "outputs": [
        {
          "output_type": "stream",
          "text": [
            "/usr/local/lib/python3.6/dist-packages/pandas/io/parsers.py:803: UserWarning: Duplicate names specified. This will raise an error in the future.\n",
            "  return _read(filepath_or_buffer, kwds)\n"
          ],
          "name": "stderr"
        }
      ]
    },
    {
      "cell_type": "code",
      "metadata": {
        "id": "5VrQZ5YP30Z-",
        "colab_type": "code",
        "colab": {}
      },
      "source": [
        "data_df.columns = data_df.columns.str.replace('.','_')"
      ],
      "execution_count": 0,
      "outputs": []
    },
    {
      "cell_type": "code",
      "metadata": {
        "id": "0su52KWx7g30",
        "colab_type": "code",
        "colab": {}
      },
      "source": [
        ""
      ],
      "execution_count": 0,
      "outputs": []
    },
    {
      "cell_type": "markdown",
      "metadata": {
        "id": "Y_qwhCX12Yxz",
        "colab_type": "text"
      },
      "source": [
        "### Load Data"
      ]
    },
    {
      "cell_type": "code",
      "metadata": {
        "id": "AF9BLzao07Rk",
        "colab_type": "code",
        "outputId": "4716da22-84c0-41e5-d9b8-2f5fc372dbdd",
        "colab": {
          "base_uri": "https://localhost:8080/",
          "height": 35
        }
      },
      "source": [
        "data_df.to_gbq('landing.1995_test',project_id=project_id,if_exists='replace')"
      ],
      "execution_count": 31,
      "outputs": [
        {
          "output_type": "stream",
          "text": [
            "1it [00:06,  6.34s/it]\n"
          ],
          "name": "stderr"
        }
      ]
    },
    {
      "cell_type": "code",
      "metadata": {
        "id": "qbLc3JDuGuhW",
        "colab_type": "code",
        "colab": {}
      },
      "source": [
        ""
      ],
      "execution_count": 0,
      "outputs": []
    }
  ]
}