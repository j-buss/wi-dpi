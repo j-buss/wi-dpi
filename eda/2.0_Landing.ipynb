{
  "nbformat": 4,
  "nbformat_minor": 0,
  "metadata": {
    "colab": {
      "name": "wi-dpi-all-staff-eda.ipynb",
      "version": "0.3.2",
      "provenance": [],
      "toc_visible": true,
      "include_colab_link": true
    },
    "kernelspec": {
      "name": "python3",
      "display_name": "Python 3"
    }
  },
  "cells": [
    {
      "cell_type": "markdown",
      "metadata": {
        "id": "view-in-github",
        "colab_type": "text"
      },
      "source": [
        "<a href=\"https://colab.research.google.com/github/j-buss/wi-dpi-analysis/blob/development/eda/2.0_Landing.ipynb\" target=\"_parent\"><img src=\"https://colab.research.google.com/assets/colab-badge.svg\" alt=\"Open In Colab\"/></a>"
      ]
    },
    {
      "cell_type": "markdown",
      "metadata": {
        "id": "FYnVbPCC1u1b",
        "colab_type": "text"
      },
      "source": [
        "# Salary and Education in Wisconsin - 2.0 Load Landing BigQuery"
      ]
    },
    {
      "cell_type": "markdown",
      "metadata": {
        "id": "JixlqF171iMF",
        "colab_type": "text"
      },
      "source": [
        "This notebook is intended to describe analysis on salaries of teachers within the Wisconsin Department of Public Instruction."
      ]
    },
    {
      "cell_type": "markdown",
      "metadata": {
        "id": "E770jioT8RX-",
        "colab_type": "text"
      },
      "source": [
        "## Introduction"
      ]
    },
    {
      "cell_type": "markdown",
      "metadata": {
        "id": "DhwK8pzspUrA",
        "colab_type": "text"
      },
      "source": [
        "### Load libraries\n",
        "Install the following packages in order to load data to BigQuery.\n",
        "\n",
        "*Please note this will require a restart to the runtime*"
      ]
    },
    {
      "cell_type": "code",
      "metadata": {
        "id": "OtGtyuBxjjWM",
        "colab_type": "code",
        "colab": {}
      },
      "source": [
        "!pip install --upgrade google-cloud-bigquery\n",
        "!pip install gcsfs\n",
        "!pip install pandas-gbq -U"
      ],
      "execution_count": 0,
      "outputs": []
    },
    {
      "cell_type": "markdown",
      "metadata": {
        "id": "MPuM0yyTed1Q",
        "colab_type": "text"
      },
      "source": [
        "### Authenticate to Google Cloud"
      ]
    },
    {
      "cell_type": "code",
      "metadata": {
        "id": "dYIG0s-0ec9o",
        "colab_type": "code",
        "colab": {}
      },
      "source": [
        "from google.colab import auth\n",
        "auth.authenticate_user()"
      ],
      "execution_count": 0,
      "outputs": []
    },
    {
      "cell_type": "markdown",
      "metadata": {
        "id": "q0v-JSvaAiqM",
        "colab_type": "text"
      },
      "source": [
        "### Import Libraries"
      ]
    },
    {
      "cell_type": "code",
      "metadata": {
        "id": "cyEpDjO19Tt1",
        "colab_type": "code",
        "colab": {}
      },
      "source": [
        "import numpy as np\n",
        "import pandas as pd\n",
        "pd.set_option('display.max_columns', 50)\n",
        "pd.set_option('display.max_rows', 5)\n",
        "import seaborn as sns\n",
        "import matplotlib.pyplot as plt\n"
      ],
      "execution_count": 0,
      "outputs": []
    },
    {
      "cell_type": "code",
      "metadata": {
        "id": "nZufn9GG9W5q",
        "colab_type": "code",
        "colab": {}
      },
      "source": [
        "%matplotlib inline\n",
        "plt.style.use('bmh')"
      ],
      "execution_count": 0,
      "outputs": []
    },
    {
      "cell_type": "code",
      "metadata": {
        "id": "lzBusRztAnPi",
        "colab_type": "code",
        "colab": {}
      },
      "source": [
        "from google.cloud import bigquery\n",
        "from google.cloud import storage\n",
        "from io import StringIO\n",
        "import re\n",
        "import collections"
      ],
      "execution_count": 0,
      "outputs": []
    },
    {
      "cell_type": "markdown",
      "metadata": {
        "id": "UfqK__FMONeR",
        "colab_type": "text"
      },
      "source": [
        "### Functions"
      ]
    },
    {
      "cell_type": "code",
      "metadata": {
        "id": "ioY3_FupCJ8b",
        "colab_type": "code",
        "colab": {}
      },
      "source": [
        "def download_file(url, filename):\n",
        "  r = requests.get(url)\n",
        "  f = open(filename,'wb')\n",
        "  f.write(r.content)\n",
        "  f.close()"
      ],
      "execution_count": 0,
      "outputs": []
    },
    {
      "cell_type": "code",
      "metadata": {
        "id": "yAvU_MEyOJ4m",
        "colab_type": "code",
        "colab": {}
      },
      "source": [
        "def create_dataset(client, project_id, dataset_name):\n",
        "  \n",
        "  \n",
        "  dataset_id = \"{}.{}\".format(project_id, dataset_name)\n",
        "  dataset = bigquery.Dataset(dataset_id)\n",
        "  dataset.location = \"US\"\n",
        "\n",
        "  dataset = client.create_dataset(dataset)\n",
        "  #print(\"Created dataset {}.{}\".format(client.project, dataset.dataset_id))"
      ],
      "execution_count": 0,
      "outputs": []
    },
    {
      "cell_type": "code",
      "metadata": {
        "id": "QOMI9QWsby8H",
        "colab_type": "code",
        "colab": {}
      },
      "source": [
        "def delete_dataset(client, project_id, dataset_name):\n",
        "  \n",
        "  \n",
        "  dataset_id = \"{}.{}\".format(project_id, dataset_name)\n",
        "  client.delete_dataset(dataset_id, delete_contents=True, not_found_ok=True)"
      ],
      "execution_count": 0,
      "outputs": []
    },
    {
      "cell_type": "code",
      "metadata": {
        "id": "7wKFdTT1-Nbt",
        "colab_type": "code",
        "colab": {}
      },
      "source": [
        "def return_blob_list(project_id, bucket_name):\n",
        "    \"\"\"Lists all the blobs in the bucket.\"\"\"\n",
        "    storage_client = storage.Client(project=project_id)\n",
        "    bucket = storage_client.get_bucket(bucket_name)\n",
        "\n",
        "    blobs = bucket.list_blobs()\n",
        "    return blobs"
      ],
      "execution_count": 0,
      "outputs": []
    },
    {
      "cell_type": "code",
      "metadata": {
        "id": "61YoyFbkWzI9",
        "colab_type": "code",
        "colab": {}
      },
      "source": [
        "def clean_column_headers(columns):\n",
        "  return columns.str.strip().str.lower().str.replace(' ', '_').str.replace('(', '').str.replace(')', '').str.replace('.','_').str.replace('/','_')"
      ],
      "execution_count": 0,
      "outputs": []
    },
    {
      "cell_type": "markdown",
      "metadata": {
        "id": "4lJBE_QB8gqh",
        "colab_type": "text"
      },
      "source": [
        "### Define Values"
      ]
    },
    {
      "cell_type": "code",
      "metadata": {
        "id": "Ge6tOEad9OSK",
        "colab_type": "code",
        "colab": {}
      },
      "source": [
        "project_id='wi-dpi-010'\n",
        "raw_data_bucket_name='landing-009'\n",
        "\n",
        "landing_dataset_name='landing'\n",
        "refined_dataset_name='refined'"
      ],
      "execution_count": 0,
      "outputs": []
    },
    {
      "cell_type": "markdown",
      "metadata": {
        "id": "VIzr1UNerQWw",
        "colab_type": "text"
      },
      "source": [
        "## Data Preparation"
      ]
    },
    {
      "cell_type": "markdown",
      "metadata": {
        "id": "QGPBL6pB8uz7",
        "colab_type": "text"
      },
      "source": [
        "### Create Dataset"
      ]
    },
    {
      "cell_type": "code",
      "metadata": {
        "id": "fAl_QS--cS_F",
        "colab_type": "code",
        "colab": {}
      },
      "source": [
        "landing_dataset_name = 'landing'\n",
        "bq_client = bigquery.Client(project=project_id)"
      ],
      "execution_count": 0,
      "outputs": []
    },
    {
      "cell_type": "code",
      "metadata": {
        "id": "J0P1MbpYg36z",
        "colab_type": "code",
        "colab": {}
      },
      "source": [
        "create_dataset(bq_client, project_id, landing_dataset_name)"
      ],
      "execution_count": 0,
      "outputs": []
    },
    {
      "cell_type": "code",
      "metadata": {
        "id": "lFP_lDI6bVPA",
        "colab_type": "code",
        "colab": {}
      },
      "source": [
        "###DELETE DATASET\n",
        "#delete_dataset(bq_client, project_id, landing_dataset_name)"
      ],
      "execution_count": 0,
      "outputs": []
    },
    {
      "cell_type": "markdown",
      "metadata": {
        "id": "fug36iW38yti",
        "colab_type": "text"
      },
      "source": [
        "### Create Dataframes from GCS Blobs"
      ]
    },
    {
      "cell_type": "markdown",
      "metadata": {
        "id": "WzrS1imIA7tK",
        "colab_type": "text"
      },
      "source": [
        "For all files (blobs) in the bucket we will split the blob name into the following components:\n",
        "\n",
        "\n",
        "1.   Source\n",
        "2.   Year\n",
        "3.   File\n",
        "4.   File Type\n",
        "\n",
        "Additionally, we will use a NamedTuple to define the components and ensure they are callable."
      ]
    },
    {
      "cell_type": "code",
      "metadata": {
        "id": "Y079XL3UC6cS",
        "colab_type": "code",
        "colab": {}
      },
      "source": [
        "blob_to_process = collections.namedtuple('blob_to_process','source year file file_type fullname')"
      ],
      "execution_count": 0,
      "outputs": []
    },
    {
      "cell_type": "code",
      "metadata": {
        "id": "q3hTOUYG8p4M",
        "colab_type": "code",
        "colab": {}
      },
      "source": [
        "list_of_blobs = []\n",
        "for blob in return_blob_list('wi-dpi-010','landing-009'):\n",
        "  temp = re.findall(r\"[\\w']+\",blob.name)\n",
        "  temp.append(blob.name)\n",
        "  if len(temp) == 5:\n",
        "    list_of_blobs.append(blob_to_process(*temp))"
      ],
      "execution_count": 0,
      "outputs": []
    },
    {
      "cell_type": "markdown",
      "metadata": {
        "id": "J53WGstUPxXL",
        "colab_type": "text"
      },
      "source": [
        "Now the object \n",
        "`list_of_blobs`\n",
        "has all the blob object information. We will cycle through it to create the tables as needed in BigQuery."
      ]
    },
    {
      "cell_type": "code",
      "metadata": {
        "id": "iwuL9NrlSJKV",
        "colab_type": "code",
        "colab": {}
      },
      "source": [
        "storage_client = storage.Client(project=project_id)\n",
        "bucket = storage_client.get_bucket(raw_data_bucket_name)"
      ],
      "execution_count": 0,
      "outputs": []
    },
    {
      "cell_type": "code",
      "metadata": {
        "id": "GBZlEml6Umke",
        "colab_type": "code",
        "colab": {
          "base_uri": "https://localhost:8080/",
          "height": 34
        },
        "outputId": "73e1cfda-34eb-4375-938d-a2a85c6d296e"
      },
      "source": [
        "#list_of_blobs.file_type\n",
        "len([p for p in list_of_blobs if p.file_type == 'metadata'])"
      ],
      "execution_count": 58,
      "outputs": [
        {
          "output_type": "execute_result",
          "data": {
            "text/plain": [
              "2"
            ]
          },
          "metadata": {
            "tags": []
          },
          "execution_count": 58
        }
      ]
    },
    {
      "cell_type": "code",
      "metadata": {
        "id": "qV7MMYTCN8-l",
        "colab_type": "code",
        "colab": {
          "base_uri": "https://localhost:8080/",
          "height": 306
        },
        "outputId": "aee9686d-ae53-4988-c7f6-973fd0ed8451"
      },
      "source": [
        "for blob in list_of_blobs:\n",
        "  if blob.file_type == 'csv':\n",
        "    data_blob = bucket.get_blob(blob.fullname)\n",
        "    data = data_blob.download_as_string()\n",
        "    df = pd.read_csv(StringIO(data.decode('utf-8')),low_memory=False)\n",
        "    df.columns = clean_column_headers(df.columns)\n",
        "    #df.to_gbq(landing_dataset_name + '.' + blob.file,project_id=project_id,if_exists='replace')\n",
        "  elif blob.file_type == 'fwf':\n",
        "    data_blob = bucket.get_blob(blob.fullname)\n",
        "    data = data_blob.download_as_string()\n",
        "    metadata_blob = bucket.get_blob(metadata_file)\n",
        "    metadata = metadata_blob.download_as_string()\n",
        "    df = pd.read_csv(StringIO(data.decode('utf-8')),low_memory=False)\n",
        "    df.columns = clean_column_headers(df.columns)\n",
        "    #df.to_gbq(landing_dataset_name + '.' + blob.file,project_id=project_id,if_exists='replace')\n",
        "    "
      ],
      "execution_count": 75,
      "outputs": [
        {
          "output_type": "stream",
          "text": [
            "1it [00:03,  3.86s/it]\n",
            "1it [00:04,  4.02s/it]\n",
            "1it [00:02,  2.85s/it]\n",
            "1it [00:03,  3.38s/it]\n",
            "1it [00:02,  2.77s/it]\n",
            "1it [00:03,  3.81s/it]\n",
            "1it [00:02,  2.41s/it]\n",
            "1it [00:03,  3.07s/it]\n",
            "1it [00:05,  5.02s/it]\n",
            "1it [00:03,  3.14s/it]\n",
            "1it [00:04,  4.48s/it]\n",
            "1it [00:04,  4.27s/it]\n",
            "1it [00:02,  2.72s/it]\n",
            "1it [00:02,  2.50s/it]\n",
            "1it [00:03,  3.63s/it]\n",
            "1it [00:02,  2.88s/it]\n",
            "1it [00:03,  3.44s/it]\n"
          ],
          "name": "stderr"
        }
      ]
    },
    {
      "cell_type": "code",
      "metadata": {
        "id": "f66fv9vMH0R3",
        "colab_type": "code",
        "colab": {}
      },
      "source": [
        "fixed_width_file = 'all_staff_report/1995/1995_all_staff_report.fwf'\n",
        "metadata_file = 'all_staff_report/1995/1995_all_staff_report.metadata'\n",
        "staff_type_file = 'all_staff_report/1995/1995_staff_type.csv'"
      ],
      "execution_count": 0,
      "outputs": []
    },
    {
      "cell_type": "code",
      "metadata": {
        "id": "bYWHVwVw7B6K",
        "colab_type": "code",
        "colab": {}
      },
      "source": [
        "storage_client = storage.Client(project=project_id)\n",
        "bucket = storage_client.get_bucket(raw_data_bucket_name)\n",
        "data_blob = bucket.get_blob(fixed_width_file)\n",
        "data = data_blob.download_as_string()\n",
        "metadata_blob = bucket.get_blob(metadata_file)\n",
        "metadata = metadata_blob.download_as_string()"
      ],
      "execution_count": 0,
      "outputs": []
    },
    {
      "cell_type": "code",
      "metadata": {
        "id": "KMkAk6J0CfRZ",
        "colab_type": "code",
        "colab": {}
      },
      "source": [
        "metadata_df = pd.read_csv(StringIO(metadata.decode('utf-8')))"
      ],
      "execution_count": 0,
      "outputs": []
    },
    {
      "cell_type": "code",
      "metadata": {
        "id": "I25pr3rrFp-H",
        "colab_type": "code",
        "outputId": "fd4e954d-9e2a-4d06-9101-4077bb255025",
        "colab": {
          "base_uri": "https://localhost:8080/",
          "height": 163
        }
      },
      "source": [
        "print (metadata_df)"
      ],
      "execution_count": 0,
      "outputs": [
        {
          "output_type": "stream",
          "text": [
            "                   name  start  length\n",
            "0             id_number    1.0     9.0\n",
            "1             last_name   10.0    20.0\n",
            "..                  ...    ...     ...\n",
            "60  administrators_name  499.0    30.0\n",
            "61               filler  529.0     2.0\n",
            "\n",
            "[62 rows x 3 columns]\n"
          ],
          "name": "stdout"
        }
      ]
    },
    {
      "cell_type": "code",
      "metadata": {
        "id": "XMMq5cgXGRk2",
        "colab_type": "code",
        "colab": {}
      },
      "source": [
        "col_widths = metadata_df['length'].apply(int)"
      ],
      "execution_count": 0,
      "outputs": []
    },
    {
      "cell_type": "code",
      "metadata": {
        "id": "lZHUctvsFs1q",
        "colab_type": "code",
        "colab": {}
      },
      "source": [
        "col_names = metadata_df['name']"
      ],
      "execution_count": 0,
      "outputs": []
    },
    {
      "cell_type": "code",
      "metadata": {
        "id": "FEXOM5uqF0Q-",
        "colab_type": "code",
        "outputId": "c483dbcb-c948-42d9-edb6-0991227c14d6",
        "colab": {
          "base_uri": "https://localhost:8080/",
          "height": 126
        }
      },
      "source": [
        "col_names"
      ],
      "execution_count": 0,
      "outputs": [
        {
          "output_type": "execute_result",
          "data": {
            "text/plain": [
              "0               id_number\n",
              "1               last_name\n",
              "             ...         \n",
              "60    administrators_name\n",
              "61                 filler\n",
              "Name: name, Length: 62, dtype: object"
            ]
          },
          "metadata": {
            "tags": []
          },
          "execution_count": 15
        }
      ]
    },
    {
      "cell_type": "code",
      "metadata": {
        "id": "FSIcbjOq2Gz3",
        "colab_type": "code",
        "colab": {}
      },
      "source": [
        "df.columns = df.columns.str.strip().str.lower().str.replace(' ', '_').str.replace('(', '').str.replace(')', '')"
      ],
      "execution_count": 0,
      "outputs": []
    },
    {
      "cell_type": "code",
      "metadata": {
        "id": "afmtT9qw2QUf",
        "colab_type": "code",
        "outputId": "cde52086-47d0-4b7a-a2bf-45dac712d419",
        "colab": {
          "base_uri": "https://localhost:8080/",
          "height": 257
        }
      },
      "source": [
        "metadata_df.groupby(['name']).count()"
      ],
      "execution_count": 0,
      "outputs": [
        {
          "output_type": "execute_result",
          "data": {
            "text/html": [
              "<div>\n",
              "<style scoped>\n",
              "    .dataframe tbody tr th:only-of-type {\n",
              "        vertical-align: middle;\n",
              "    }\n",
              "\n",
              "    .dataframe tbody tr th {\n",
              "        vertical-align: top;\n",
              "    }\n",
              "\n",
              "    .dataframe thead th {\n",
              "        text-align: right;\n",
              "    }\n",
              "</style>\n",
              "<table border=\"1\" class=\"dataframe\">\n",
              "  <thead>\n",
              "    <tr style=\"text-align: right;\">\n",
              "      <th></th>\n",
              "      <th>start</th>\n",
              "      <th>length</th>\n",
              "    </tr>\n",
              "    <tr>\n",
              "      <th>name</th>\n",
              "      <th></th>\n",
              "      <th></th>\n",
              "    </tr>\n",
              "  </thead>\n",
              "  <tbody>\n",
              "    <tr>\n",
              "      <th>administrators_name</th>\n",
              "      <td>1</td>\n",
              "      <td>1</td>\n",
              "    </tr>\n",
              "    <tr>\n",
              "      <th>agency_name_of_work_location</th>\n",
              "      <td>1</td>\n",
              "      <td>1</td>\n",
              "    </tr>\n",
              "    <tr>\n",
              "      <th>...</th>\n",
              "      <td>...</td>\n",
              "      <td>...</td>\n",
              "    </tr>\n",
              "    <tr>\n",
              "      <th>work_agency_type</th>\n",
              "      <td>1</td>\n",
              "      <td>1</td>\n",
              "    </tr>\n",
              "    <tr>\n",
              "      <th>year_and_session</th>\n",
              "      <td>1</td>\n",
              "      <td>1</td>\n",
              "    </tr>\n",
              "  </tbody>\n",
              "</table>\n",
              "<p>61 rows × 2 columns</p>\n",
              "</div>"
            ],
            "text/plain": [
              "                              start  length\n",
              "name                                       \n",
              "administrators_name               1       1\n",
              "agency_name_of_work_location      1       1\n",
              "...                             ...     ...\n",
              "work_agency_type                  1       1\n",
              "year_and_session                  1       1\n",
              "\n",
              "[61 rows x 2 columns]"
            ]
          },
          "metadata": {
            "tags": []
          },
          "execution_count": 27
        }
      ]
    },
    {
      "cell_type": "code",
      "metadata": {
        "id": "ahZUH9jm61BP",
        "colab_type": "code",
        "outputId": "85ca6fbb-275e-41ae-9c2a-0253164acda8",
        "colab": {
          "base_uri": "https://localhost:8080/",
          "height": 54
        }
      },
      "source": [
        "data_df = pd.read_fwf(StringIO(data.decode('utf-8')), widths=col_widths, names=col_names)"
      ],
      "execution_count": 0,
      "outputs": [
        {
          "output_type": "stream",
          "text": [
            "/usr/local/lib/python3.6/dist-packages/pandas/io/parsers.py:803: UserWarning: Duplicate names specified. This will raise an error in the future.\n",
            "  return _read(filepath_or_buffer, kwds)\n"
          ],
          "name": "stderr"
        }
      ]
    },
    {
      "cell_type": "code",
      "metadata": {
        "id": "5VrQZ5YP30Z-",
        "colab_type": "code",
        "colab": {}
      },
      "source": [
        "data_df.columns = data_df.columns.str.replace('.','_')"
      ],
      "execution_count": 0,
      "outputs": []
    },
    {
      "cell_type": "code",
      "metadata": {
        "id": "0su52KWx7g30",
        "colab_type": "code",
        "colab": {}
      },
      "source": [
        ""
      ],
      "execution_count": 0,
      "outputs": []
    },
    {
      "cell_type": "markdown",
      "metadata": {
        "id": "Y_qwhCX12Yxz",
        "colab_type": "text"
      },
      "source": [
        "### Load Data"
      ]
    },
    {
      "cell_type": "code",
      "metadata": {
        "id": "AF9BLzao07Rk",
        "colab_type": "code",
        "outputId": "4716da22-84c0-41e5-d9b8-2f5fc372dbdd",
        "colab": {
          "base_uri": "https://localhost:8080/",
          "height": 35
        }
      },
      "source": [
        "data_df.to_gbq('landing.1995_test',project_id=project_id,if_exists='replace')"
      ],
      "execution_count": 0,
      "outputs": [
        {
          "output_type": "stream",
          "text": [
            "1it [00:06,  6.34s/it]\n"
          ],
          "name": "stderr"
        }
      ]
    },
    {
      "cell_type": "code",
      "metadata": {
        "id": "qbLc3JDuGuhW",
        "colab_type": "code",
        "colab": {}
      },
      "source": [
        ""
      ],
      "execution_count": 0,
      "outputs": []
    }
  ]
}