{
  "nbformat": 4,
  "nbformat_minor": 0,
  "metadata": {
    "colab": {
      "name": "wi-dpi-all-staff-eda.ipynb",
      "version": "0.3.2",
      "provenance": [],
      "toc_visible": true,
      "include_colab_link": true
    },
    "kernelspec": {
      "name": "python3",
      "display_name": "Python 3"
    }
  },
  "cells": [
    {
      "cell_type": "markdown",
      "metadata": {
        "id": "view-in-github",
        "colab_type": "text"
      },
      "source": [
        "<a href=\"https://colab.research.google.com/github/j-buss/wi-dpi-analysis/blob/development/eda/3.0_Refined.ipynb\" target=\"_parent\"><img src=\"https://colab.research.google.com/assets/colab-badge.svg\" alt=\"Open In Colab\"/></a>"
      ]
    },
    {
      "cell_type": "markdown",
      "metadata": {
        "id": "FYnVbPCC1u1b",
        "colab_type": "text"
      },
      "source": [
        "# Salary and Education in Wisconsin - 3.0 Refined Data"
      ]
    },
    {
      "cell_type": "markdown",
      "metadata": {
        "id": "JixlqF171iMF",
        "colab_type": "text"
      },
      "source": [
        "This it the 3rd in a series of notebooks depicting the steps to acquire, store and analyze data pertaining to teachers in Wisconsin.\n",
        "\n",
        "\n",
        "\n",
        "1.   List item\n",
        "2.   List item\n",
        "3.   Refined Data - Create ***all_staff_record*** tables by year\n",
        "\n"
      ]
    },
    {
      "cell_type": "markdown",
      "metadata": {
        "id": "QuoTGZC9_757",
        "colab_type": "text"
      },
      "source": [
        "## Prep"
      ]
    },
    {
      "cell_type": "code",
      "metadata": {
        "id": "eg1ojvLxEVD5",
        "colab_type": "code",
        "outputId": "98c982a8-5da5-464c-fb97-deb902e4a760",
        "colab": {
          "base_uri": "https://localhost:8080/",
          "height": 679
        }
      },
      "source": [
        "!pip install --upgrade google-cloud-bigquery"
      ],
      "execution_count": 1,
      "outputs": [
        {
          "output_type": "stream",
          "text": [
            "Collecting google-cloud-bigquery\n",
            "\u001b[?25l  Downloading https://files.pythonhosted.org/packages/33/a8/14d83b2fb394143fa943b3de5162a406ec516725083f9c6eeda8af2198af/google_cloud_bigquery-1.13.0-py2.py3-none-any.whl (132kB)\n",
            "\r\u001b[K     |██▌                             | 10kB 11.1MB/s eta 0:00:01\r\u001b[K     |█████                           | 20kB 3.0MB/s eta 0:00:01\r\u001b[K     |███████▍                        | 30kB 4.4MB/s eta 0:00:01\r\u001b[K     |█████████▉                      | 40kB 2.9MB/s eta 0:00:01\r\u001b[K     |████████████▍                   | 51kB 3.5MB/s eta 0:00:01\r\u001b[K     |██████████████▉                 | 61kB 4.1MB/s eta 0:00:01\r\u001b[K     |█████████████████▎              | 71kB 4.8MB/s eta 0:00:01\r\u001b[K     |███████████████████▊            | 81kB 5.3MB/s eta 0:00:01\r\u001b[K     |██████████████████████▎         | 92kB 6.0MB/s eta 0:00:01\r\u001b[K     |████████████████████████▊       | 102kB 4.7MB/s eta 0:00:01\r\u001b[K     |███████████████████████████▏    | 112kB 4.7MB/s eta 0:00:01\r\u001b[K     |█████████████████████████████▋  | 122kB 4.7MB/s eta 0:00:01\r\u001b[K     |████████████████████████████████| 133kB 4.7MB/s \n",
            "\u001b[?25hRequirement already satisfied, skipping upgrade: protobuf>=3.6.0 in /usr/local/lib/python3.6/dist-packages (from google-cloud-bigquery) (3.7.1)\n",
            "Requirement already satisfied, skipping upgrade: google-api-core<2.0.0dev,>=1.6.0 in /usr/local/lib/python3.6/dist-packages (from google-cloud-bigquery) (1.11.1)\n",
            "Collecting google-cloud-core<2.0dev,>=1.0.0 (from google-cloud-bigquery)\n",
            "  Downloading https://files.pythonhosted.org/packages/32/e5/e7a58b88e13801424a654c7bb1740c3e83055459d02452389693ccc4870f/google_cloud_core-1.0.1-py2.py3-none-any.whl\n",
            "Requirement already satisfied, skipping upgrade: google-resumable-media>=0.3.1 in /usr/local/lib/python3.6/dist-packages (from google-cloud-bigquery) (0.3.2)\n",
            "Requirement already satisfied, skipping upgrade: setuptools in /usr/local/lib/python3.6/dist-packages (from protobuf>=3.6.0->google-cloud-bigquery) (41.0.1)\n",
            "Requirement already satisfied, skipping upgrade: six>=1.9 in /usr/local/lib/python3.6/dist-packages (from protobuf>=3.6.0->google-cloud-bigquery) (1.12.0)\n",
            "Requirement already satisfied, skipping upgrade: pytz in /usr/local/lib/python3.6/dist-packages (from google-api-core<2.0.0dev,>=1.6.0->google-cloud-bigquery) (2018.9)\n",
            "Requirement already satisfied, skipping upgrade: google-auth<2.0dev,>=0.4.0 in /usr/local/lib/python3.6/dist-packages (from google-api-core<2.0.0dev,>=1.6.0->google-cloud-bigquery) (1.4.2)\n",
            "Requirement already satisfied, skipping upgrade: requests<3.0.0dev,>=2.18.0 in /usr/local/lib/python3.6/dist-packages (from google-api-core<2.0.0dev,>=1.6.0->google-cloud-bigquery) (2.21.0)\n",
            "Requirement already satisfied, skipping upgrade: googleapis-common-protos!=1.5.4,<2.0dev,>=1.5.3 in /usr/local/lib/python3.6/dist-packages (from google-api-core<2.0.0dev,>=1.6.0->google-cloud-bigquery) (1.6.0)\n",
            "Requirement already satisfied, skipping upgrade: rsa>=3.1.4 in /usr/local/lib/python3.6/dist-packages (from google-auth<2.0dev,>=0.4.0->google-api-core<2.0.0dev,>=1.6.0->google-cloud-bigquery) (4.0)\n",
            "Requirement already satisfied, skipping upgrade: pyasn1-modules>=0.2.1 in /usr/local/lib/python3.6/dist-packages (from google-auth<2.0dev,>=0.4.0->google-api-core<2.0.0dev,>=1.6.0->google-cloud-bigquery) (0.2.5)\n",
            "Requirement already satisfied, skipping upgrade: cachetools>=2.0.0 in /usr/local/lib/python3.6/dist-packages (from google-auth<2.0dev,>=0.4.0->google-api-core<2.0.0dev,>=1.6.0->google-cloud-bigquery) (3.1.1)\n",
            "Requirement already satisfied, skipping upgrade: chardet<3.1.0,>=3.0.2 in /usr/local/lib/python3.6/dist-packages (from requests<3.0.0dev,>=2.18.0->google-api-core<2.0.0dev,>=1.6.0->google-cloud-bigquery) (3.0.4)\n",
            "Requirement already satisfied, skipping upgrade: idna<2.9,>=2.5 in /usr/local/lib/python3.6/dist-packages (from requests<3.0.0dev,>=2.18.0->google-api-core<2.0.0dev,>=1.6.0->google-cloud-bigquery) (2.8)\n",
            "Requirement already satisfied, skipping upgrade: urllib3<1.25,>=1.21.1 in /usr/local/lib/python3.6/dist-packages (from requests<3.0.0dev,>=2.18.0->google-api-core<2.0.0dev,>=1.6.0->google-cloud-bigquery) (1.24.3)\n",
            "Requirement already satisfied, skipping upgrade: certifi>=2017.4.17 in /usr/local/lib/python3.6/dist-packages (from requests<3.0.0dev,>=2.18.0->google-api-core<2.0.0dev,>=1.6.0->google-cloud-bigquery) (2019.3.9)\n",
            "Requirement already satisfied, skipping upgrade: pyasn1>=0.1.3 in /usr/local/lib/python3.6/dist-packages (from rsa>=3.1.4->google-auth<2.0dev,>=0.4.0->google-api-core<2.0.0dev,>=1.6.0->google-cloud-bigquery) (0.4.5)\n",
            "\u001b[31mERROR: google-cloud-translate 1.3.3 has requirement google-cloud-core<0.30dev,>=0.29.0, but you'll have google-cloud-core 1.0.1 which is incompatible.\u001b[0m\n",
            "\u001b[31mERROR: google-cloud-storage 1.13.2 has requirement google-cloud-core<0.30dev,>=0.29.0, but you'll have google-cloud-core 1.0.1 which is incompatible.\u001b[0m\n",
            "Installing collected packages: google-cloud-core, google-cloud-bigquery\n",
            "  Found existing installation: google-cloud-core 0.29.1\n",
            "    Uninstalling google-cloud-core-0.29.1:\n",
            "      Successfully uninstalled google-cloud-core-0.29.1\n",
            "  Found existing installation: google-cloud-bigquery 1.8.1\n",
            "    Uninstalling google-cloud-bigquery-1.8.1:\n",
            "      Successfully uninstalled google-cloud-bigquery-1.8.1\n",
            "Successfully installed google-cloud-bigquery-1.13.0 google-cloud-core-1.0.1\n"
          ],
          "name": "stdout"
        },
        {
          "output_type": "display_data",
          "data": {
            "application/vnd.colab-display-data+json": {
              "pip_warning": {
                "packages": [
                  "google"
                ]
              }
            }
          },
          "metadata": {
            "tags": []
          }
        }
      ]
    },
    {
      "cell_type": "markdown",
      "metadata": {
        "id": "vOdf51fEvTs3",
        "colab_type": "text"
      },
      "source": [
        "### Import Libraries"
      ]
    },
    {
      "cell_type": "code",
      "metadata": {
        "id": "jh2eOMqCvXMo",
        "colab_type": "code",
        "colab": {}
      },
      "source": [
        "import numpy as np\n",
        "import pandas as pd\n",
        "pd.set_option('display.max_columns', 50)\n",
        "pd.set_option('display.max_rows', 5)\n",
        "import seaborn as sns\n",
        "import matplotlib.pyplot as plt\n",
        "\n",
        "from google.cloud import bigquery"
      ],
      "execution_count": 0,
      "outputs": []
    },
    {
      "cell_type": "code",
      "metadata": {
        "id": "qoO7YTTFviOg",
        "colab_type": "code",
        "colab": {}
      },
      "source": [
        "%matplotlib inline\n",
        "plt.style.use('bmh')"
      ],
      "execution_count": 0,
      "outputs": []
    },
    {
      "cell_type": "markdown",
      "metadata": {
        "id": "UfqK__FMONeR",
        "colab_type": "text"
      },
      "source": [
        "### Functions"
      ]
    },
    {
      "cell_type": "code",
      "metadata": {
        "id": "yAvU_MEyOJ4m",
        "colab_type": "code",
        "colab": {}
      },
      "source": [
        "def create_dataset(client, project_id, dataset_name):\n",
        "  \n",
        "  \n",
        "  dataset_id = \"{}.{}\".format(project_id, dataset_name)\n",
        "  dataset = bigquery.Dataset(dataset_id)\n",
        "  dataset.location = \"US\"\n",
        "\n",
        "  dataset = client.create_dataset(dataset)\n",
        "  print(\"Created dataset {}.{}\".format(client.project, dataset.dataset_id))"
      ],
      "execution_count": 0,
      "outputs": []
    },
    {
      "cell_type": "code",
      "metadata": {
        "id": "X2G4rHUdxXYs",
        "colab_type": "code",
        "colab": {}
      },
      "source": [
        "def convert_currency(val):\n",
        "    \"\"\"\n",
        "    Convert the string number value to a float\n",
        "     - Remove $\n",
        "     - Remove commas\n",
        "     - Convert to float type\n",
        "    \"\"\"\n",
        "    new_val = val.replace(',','').replace('$', '')\n",
        "    return float(new_val)"
      ],
      "execution_count": 0,
      "outputs": []
    },
    {
      "cell_type": "code",
      "metadata": {
        "id": "Ab8PtjstWFLw",
        "colab_type": "code",
        "colab": {}
      },
      "source": [
        "def prep_name(val):\n",
        "  \"\"\"\n",
        "  Take name and make first leter capital; rest lowercase\n",
        "  \"\"\"\n",
        "  new_val  = val.lower().title()\n",
        "  return new_val"
      ],
      "execution_count": 0,
      "outputs": []
    },
    {
      "cell_type": "code",
      "metadata": {
        "id": "MT8EihoBFv55",
        "colab_type": "code",
        "colab": {}
      },
      "source": [
        "def create_tbl_w_sql(sql, dataset_name, table_name):\n",
        "  job_config = bigquery.QueryJobConfig()\n",
        "  # Set the destination table\n",
        "  table_ref = bq_client.dataset(dataset_name).table(table_name)\n",
        "  job_config.destination = table_ref\n",
        "\n",
        "  # Start the query, passing in the extra configuration.\n",
        "  query_job = bq_client.query(\n",
        "    sql,\n",
        "    # Location must match that of the dataset(s) referenced in the query\n",
        "    # and of the destination table.\n",
        "    location='US',\n",
        "    job_config=job_config)  # API request - starts the query\n",
        "\n",
        "  query_job.result()  # Waits for the query to finish\n",
        "  print('Query results loaded to table {}'.format(table_ref.path))\n",
        "  "
      ],
      "execution_count": 0,
      "outputs": []
    },
    {
      "cell_type": "markdown",
      "metadata": {
        "id": "gvDjl_tD9YOq",
        "colab_type": "text"
      },
      "source": [
        "## Processing"
      ]
    },
    {
      "cell_type": "code",
      "metadata": {
        "id": "XaySm9Da9Q6L",
        "colab_type": "code",
        "colab": {}
      },
      "source": [
        "# Authenticate to GCS.\n",
        "from google.colab import auth\n",
        "auth.authenticate_user()"
      ],
      "execution_count": 0,
      "outputs": []
    },
    {
      "cell_type": "code",
      "metadata": {
        "id": "4brDC4DU-Iwq",
        "colab_type": "code",
        "colab": {}
      },
      "source": [
        "project_id='wi-dpi-010'\n",
        "landing_dataset_name='landing'\n",
        "refined_dataset_name='refined'"
      ],
      "execution_count": 0,
      "outputs": []
    },
    {
      "cell_type": "code",
      "metadata": {
        "id": "_OD2O7yB-qR0",
        "colab_type": "code",
        "colab": {}
      },
      "source": [
        "bq_client = bigquery.Client(project=project_id)"
      ],
      "execution_count": 0,
      "outputs": []
    },
    {
      "cell_type": "code",
      "metadata": {
        "id": "fH3XvBgkDaeB",
        "colab_type": "code",
        "colab": {}
      },
      "source": [
        "#Create Refined Dataset - Likely already done\n",
        "##create_dataset(bq_client, project_id, refined_dataset_name)"
      ],
      "execution_count": 0,
      "outputs": []
    },
    {
      "cell_type": "markdown",
      "metadata": {
        "id": "EZ-iYK9xDQU-",
        "colab_type": "text"
      },
      "source": [
        "\n",
        "### 2015\n",
        "\n"
      ]
    },
    {
      "cell_type": "code",
      "metadata": {
        "id": "bfmgwVYGkAs4",
        "colab_type": "code",
        "colab": {}
      },
      "source": [
        " all_staff_report_2015 = '''SELECT\n",
        "  all_staff_report.id_nbr,\n",
        "  TRIM(lower(all_staff_report.first_name)) as first_name,\n",
        "  TRIM(lower(all_staff_report.last_name)) as last_name,\n",
        "  SAFE_CAST(all_staff_report.file_number as INT64) as file_number,\n",
        "  TRIM(all_staff_report.gndr) as gender,\n",
        "  TRIM(all_staff_report.raceethn) as race_ethnicity_cd,\n",
        "  race_ethnicity.description as race_ethnicity_desc,\n",
        "  all_staff_report.birth_year,\n",
        "  SAFE_CAST(all_staff_report.high_degree as INT64) as high_degree_cd,\n",
        "  TRIM(highest_degree.description) as high_degree_desc,\n",
        "  SAFE_CAST(REGEXP_EXTRACT(all_staff_report.year_session, r\"^[0-9]{4}\") AS INT64) as school_year,\n",
        "  all_staff_report.cntrct_days as contract_days,\n",
        "  all_staff_report.local_exp,\n",
        "  all_staff_report.total_exp,\n",
        "  CAST(REGEXP_REPLACE(REGEXP_REPLACE(all_staff_report.tot_salary, r\"^[$]\",\"\"), r\",\",\"\") AS FLOAT64) as salary,\n",
        "  CAST(REGEXP_REPLACE(REGEXP_REPLACE(all_staff_report.tot_fringe, r\"^[$]\",\"\"), r\",\",\"\") AS FLOAT64) as benefits,\n",
        "  SAFE_CAST(all_staff_report.staff_cat as INT64) as staff_category_cd,\n",
        "  TRIM(staff_cat.description) as staff_category_desc,\n",
        "  LPAD(CAST(all_staff_report.hire_agncy_typ AS STRING), 2, \"0\") as hire_agency_type_cd,\n",
        "  hire_agency_type.description as hire_agency_type_desc,\n",
        "  all_staff_report.hire_agncy_cd as hire_agency_cd,\n",
        "  LPAD(CAST(all_staff_report.work_agncy_typ AS STRING), 2, \"0\") as work_agency_type_cd,\n",
        "  work_agency_type.description as work_agency_type_desc,\n",
        "  all_staff_report.work_agncy_cd as work_agency_cd,\n",
        "  TRIM(all_staff_report.school_cd) as school_cd,\n",
        "  position.position_type as position_type_cd,\n",
        "  pos_type.description as position_type_desc,\n",
        "  all_staff_report.position_cd,\n",
        "  position.position_description,\n",
        "  all_staff_report.assgn_area_cd as assignment_area_cd,\n",
        "  assignment_area.assignment_area_description,\n",
        "  TRIM(all_staff_report.low_grd) as low_grade,\n",
        "  TRIM(all_staff_report.high_grd) as high_grade,\n",
        "  all_staff_report.lg_sort_cd,\n",
        "  all_staff_report.hg_sort_cd,\n",
        "  all_staff_report.bilingual,\n",
        "  all_staff_report.assgn_fte,\n",
        "  TRIM(all_staff_report.work_location_name) as work_location_name,\n",
        "  TRIM(all_staff_report.school_name) as school_name,\n",
        "  TRIM(all_staff_report.grd_level) as grade_level,\n",
        "  SAFE_CAST(TRIM(all_staff_report.cesa_number) as INT64) as cesa_num,\n",
        "  all_staff_report.cnty_nbr as county_number,\n",
        "  TRIM(all_staff_report.cnty_name) as county_name,\n",
        "  TRIM(all_staff_report.school_mailing_address1) as school_mailing_address1,\n",
        "  TRIM(all_staff_report.school_mailing_address2) as school_mailing_address2,\n",
        "  TRIM(all_staff_report.mail_city) as mail_city,\n",
        "  TRIM(all_staff_report.mail_st) as mail_st,\n",
        "  TRIM(all_staff_report.mail_zip_cd) as mail_zip_cd,\n",
        "  TRIM(all_staff_report.school_shipping_address1) as school_shipping_address1,\n",
        "  TRIM(all_staff_report.school_shipping_address2) as school_shipping_address2,\n",
        "  TRIM(all_staff_report.mail_city) as ship_city,\n",
        "  TRIM(all_staff_report.mail_st) as ship_st,\n",
        "  TRIM(all_staff_report.mail_zip_cd) as ship_zip_cd,\n",
        "  TRIM(all_staff_report.phone) as phone,\n",
        "  TRIM(all_staff_report.admin_name) as admin_name,\n",
        "  TRIM(all_staff_report.former_last_nm) as former_last_name,\n",
        "  TRIM(all_staff_report.lt_sub) as long_term_sub,\n",
        "  TRIM(all_staff_report.sub_cntrctd) as sub_contracted\n",
        "FROM\n",
        "  `wi-dpi-010.landing.2015_all_staff_report` all_staff_report \n",
        "  LEFT JOIN `wi-dpi-010.landing.2015_positions` position \n",
        "   ON all_staff_report.position_cd = position.code\n",
        "  LEFT JOIN `wi-dpi-010.landing.2015_assignment_area` assignment_area\n",
        "   ON all_staff_report.assgn_area_cd = CAST(assignment_area.code as INT64)\n",
        "  LEFT JOIN `wi-dpi-010.landing.2015_highest_educational_degree` highest_degree\n",
        "   ON SAFE_CAST(all_staff_report.high_degree as INT64) = highest_degree.code\n",
        "  LEFT JOIN `wi-dpi-010.landing.2015_staff_category` staff_cat\n",
        "   ON SAFE_CAST(all_staff_report.staff_cat as INT64) = staff_cat.code\n",
        "  LEFT JOIN `wi-dpi-010.landing.2015_position_type` pos_type\n",
        "   ON position.position_type = pos_type.code\n",
        "  LEFT JOIN `wi-dpi-010.landing.2015_agency_type` hire_agency_type\n",
        "   ON LPAD(CAST(all_staff_report.hire_agncy_typ AS STRING), 2, \"0\") = hire_agency_type.code\n",
        "  LEFT JOIN `wi-dpi-010.landing.2015_agency_type` work_agency_type\n",
        "   ON LPAD(CAST(all_staff_report.work_agncy_typ AS STRING), 2, \"0\") = work_agency_type.code\n",
        "  LEFT JOIN `wi-dpi-010.landing.2015_race` race_ethnicity\n",
        "   ON TRIM(all_staff_report.raceethn) = race_ethnicity.code\n",
        "'''"
      ],
      "execution_count": 0,
      "outputs": []
    },
    {
      "cell_type": "code",
      "metadata": {
        "id": "pFtsbFg_Syvo",
        "colab_type": "code",
        "colab": {}
      },
      "source": [
        ""
      ],
      "execution_count": 0,
      "outputs": []
    },
    {
      "cell_type": "code",
      "metadata": {
        "id": "5RYMRKNsXRsR",
        "colab_type": "code",
        "outputId": "7fcb44fc-b372-436d-99c5-bf63a4deca3f",
        "colab": {
          "base_uri": "https://localhost:8080/",
          "height": 54
        }
      },
      "source": [
        "create_tbl_w_sql(all_staff_report_2015 , refined_dataset_name, '2015_all_staff_report')"
      ],
      "execution_count": 0,
      "outputs": [
        {
          "output_type": "stream",
          "text": [
            "Query results loaded to table /projects/wi-dpi-010/datasets/refined/tables/2015_all_staff_report\n"
          ],
          "name": "stdout"
        }
      ]
    },
    {
      "cell_type": "markdown",
      "metadata": {
        "id": "7i0S0H22W7jq",
        "colab_type": "text"
      },
      "source": [
        "### 2016"
      ]
    },
    {
      "cell_type": "code",
      "metadata": {
        "id": "zKy65KDSX-az",
        "colab_type": "code",
        "colab": {}
      },
      "source": [
        "update_2016_agency_type='''\n",
        "UPDATE\n",
        "  `wi-dpi-010.landing.2016_agency_type` \n",
        "SET\n",
        "  code = LPAD(CAST(code AS STRING), 2, \"0\")\n",
        "WHERE\n",
        "  LENGTH(code) < 2\n",
        "'''"
      ],
      "execution_count": 0,
      "outputs": []
    },
    {
      "cell_type": "code",
      "metadata": {
        "id": "U6T3P2fCZ2HE",
        "colab_type": "code",
        "colab": {}
      },
      "source": [
        "query_job=bq_client.query(update_2016_agency_type)\n",
        "results = query_job.result()"
      ],
      "execution_count": 0,
      "outputs": []
    },
    {
      "cell_type": "code",
      "metadata": {
        "id": "qle0Kt8eW-Fy",
        "colab_type": "code",
        "colab": {}
      },
      "source": [
        "all_staff_report_2016='''\n",
        "SELECT\n",
        "  all_staff_report.id_nbr,\n",
        "  TRIM(lower(all_staff_report.first_name)) as first_name,\n",
        "  TRIM(lower(all_staff_report.last_name)) as last_name,\n",
        "  SAFE_CAST(all_staff_report.file_number as INT64) as file_number,\n",
        "  TRIM(all_staff_report.gndr) as gender,\n",
        "  TRIM(all_staff_report.raceethn) as race_ethnicity_cd,\n",
        "  race_ethnicity.description as race_ethnicity_desc,  \n",
        "  all_staff_report.birth_year,\n",
        "  SAFE_CAST(all_staff_report.high_degree as INT64) as high_degree_cd,\n",
        "  TRIM(highest_degree.description) as high_degree_desc,\n",
        "  SAFE_CAST(REGEXP_EXTRACT(all_staff_report.year_session, r\"^[0-9]{4}\") AS INT64) as school_year,\n",
        "  all_staff_report.cntrct_days as contract_days,\n",
        "  all_staff_report.local_exp,\n",
        "  all_staff_report.total_exp,\n",
        "  CAST(REGEXP_REPLACE(REGEXP_REPLACE(all_staff_report.tot_salary, r\"^[$]\",\"\"), r\",\",\"\") AS FLOAT64) as salary,\n",
        "  CAST(REGEXP_REPLACE(REGEXP_REPLACE(all_staff_report.tot_fringe, r\"^[$]\",\"\"), r\",\",\"\") AS FLOAT64) as benefits,\n",
        "  SAFE_CAST(all_staff_report.staff_cat as INT64) as staff_category_cd,\n",
        "  TRIM(staff_cat.description) as staff_category_desc,\n",
        "  LPAD(CAST(all_staff_report.hire_agncy_typ AS STRING), 2, \"0\") as hire_agency_type_cd,\n",
        "  hire_agency_type.description as hire_agency_type_desc,\n",
        "  all_staff_report.hire_agncy_cd as hire_agency_cd,\n",
        "  LPAD(CAST(all_staff_report.work_agncy_typ AS STRING), 2, \"0\") as work_agency_type_cd,\n",
        "  work_agency_type.description as work_agency_type_desc,\n",
        "  all_staff_report.work_agncy_cd as work_agency_cd,\n",
        "  TRIM(all_staff_report.school_cd) as school_cd,\n",
        "  position.position_type as position_type_cd,\n",
        "  pos_type.description as position_type_desc,\n",
        "  all_staff_report.position_cd,\n",
        "  position.position_description,\n",
        "  all_staff_report.assgn_area_cd as assignment_area_cd,\n",
        "  assignment_area.assignment_area_description,\n",
        "  TRIM(all_staff_report.low_grd) as low_grade,\n",
        "  TRIM(all_staff_report.high_grd) as high_grade,\n",
        "  all_staff_report.lg_sort_cd,\n",
        "  all_staff_report.hg_sort_cd,\n",
        "  all_staff_report.bilingual,\n",
        "  all_staff_report.assgn_fte,\n",
        "  TRIM(all_staff_report.work_location_name) as work_location_name,\n",
        "  TRIM(all_staff_report.school_name) as school_name,\n",
        "  TRIM(all_staff_report.grd_level) as grade_level,\n",
        "  SAFE_CAST(TRIM(all_staff_report.cesa_number) as INT64) as cesa_num,\n",
        "  all_staff_report.cnty_nbr as county_number,\n",
        "  TRIM(all_staff_report.cnty_name) as county_name,\n",
        "  TRIM(all_staff_report.school_mailing_address1) as school_mailing_address1,\n",
        "  TRIM(all_staff_report.school_mailing_address2) as school_mailing_address2,\n",
        "  TRIM(all_staff_report.mail_city) as mail_city,\n",
        "  TRIM(all_staff_report.mail_st) as mail_st,\n",
        "  TRIM(all_staff_report.mail_zip_cd) as mail_zip_cd,\n",
        "  TRIM(all_staff_report.school_shipping_address1) as school_shipping_address1,\n",
        "  TRIM(all_staff_report.school_shipping_address2) as school_shipping_address2,\n",
        "  TRIM(all_staff_report.mail_city) as ship_city,\n",
        "  TRIM(all_staff_report.mail_st) as ship_st,\n",
        "  TRIM(all_staff_report.mail_zip_cd) as ship_zip_cd,\n",
        "  TRIM(all_staff_report.phone) as phone,\n",
        "  TRIM(all_staff_report.admin_name) as admin_name,\n",
        "  TRIM(all_staff_report.former_last_nm) as former_last_name,\n",
        "  TRIM(all_staff_report.lt_sub) as long_term_sub,\n",
        "  TRIM(all_staff_report.sub_cntrctd) as sub_contracted\n",
        "FROM\n",
        "  `wi-dpi-010.landing.2016_all_staff_report` all_staff_report \n",
        "  LEFT JOIN `wi-dpi-010.landing.2016_positions` position \n",
        "   ON all_staff_report.position_cd = position.code\n",
        "  LEFT JOIN `wi-dpi-010.landing.2016_assignment_area` assignment_area\n",
        "   ON all_staff_report.assgn_area_cd = CAST(assignment_area.code as INT64)\n",
        "  LEFT JOIN `wi-dpi-010.landing.2016_highest_educational_degree` highest_degree\n",
        "   ON SAFE_CAST(all_staff_report.high_degree as INT64) = highest_degree.code\n",
        "  LEFT JOIN `wi-dpi-010.landing.2016_staff_category` staff_cat\n",
        "   ON SAFE_CAST(all_staff_report.staff_cat as INT64) = staff_cat.code\n",
        "  LEFT JOIN `wi-dpi-010.landing.2016_position_type` pos_type\n",
        "   ON position.position_type = pos_type.code\n",
        "  LEFT JOIN `wi-dpi-010.landing.2016_agency_type` hire_agency_type\n",
        "   ON all_staff_report.hire_agncy_typ = hire_agency_type.code\n",
        "  LEFT JOIN `wi-dpi-010.landing.2016_agency_type` work_agency_type\n",
        "   ON all_staff_report.work_agncy_typ = work_agency_type.code\n",
        "  LEFT JOIN `wi-dpi-010.landing.2016_race` race_ethnicity\n",
        "   ON TRIM(all_staff_report.raceethn) = race_ethnicity.code\n",
        "'''"
      ],
      "execution_count": 0,
      "outputs": []
    },
    {
      "cell_type": "code",
      "metadata": {
        "id": "woEznBhsW48U",
        "colab_type": "code",
        "outputId": "363cf1ba-2a4c-4f1b-a891-daf5878ff08b",
        "colab": {
          "base_uri": "https://localhost:8080/",
          "height": 54
        }
      },
      "source": [
        "create_tbl_w_sql(all_staff_report_2016, refined_dataset_name, '2016_all_staff_report')"
      ],
      "execution_count": 0,
      "outputs": [
        {
          "output_type": "stream",
          "text": [
            "Query results loaded to table /projects/wi-dpi-010/datasets/refined/tables/2016_all_staff_report\n"
          ],
          "name": "stdout"
        }
      ]
    },
    {
      "cell_type": "markdown",
      "metadata": {
        "id": "O6Q_de8ATQPs",
        "colab_type": "text"
      },
      "source": [
        "### 2017"
      ]
    },
    {
      "cell_type": "code",
      "metadata": {
        "id": "ldVD26dxTW4f",
        "colab_type": "code",
        "colab": {}
      },
      "source": [
        "all_staff_report_2017='''\n",
        "SELECT\n",
        "  all_staff_report.research_id,\n",
        "  all_staff_report.school_year as year_session,\n",
        "  TRIM(lower(all_staff_report.first_name)) as first_name,\n",
        "  TRIM(lower(all_staff_report.last_name)) as last_name,\n",
        "  SAFE_CAST(all_staff_report.entity_id as INT64) as entity_id,\n",
        "  TRIM(all_staff_report.gender) as gender,\n",
        "  TRIM(SPLIT(all_staff_report.raceethnicity, \" - \")[safe_offset(0)]) as race_ethnicity_cd,\n",
        "  TRIM(SPLIT(all_staff_report.raceethnicity, \" - \")[safe_offset(1)]) as race_ethnicity_desc,\n",
        "  all_staff_report.birth_year,\n",
        "  TRIM(SPLIT(all_staff_report.contract_hire_agency,\" - \")[safe_offset(0)]) as contract_hire_agency_cd,\n",
        "  TRIM(SPLIT(all_staff_report.contract_hire_agency,\" - \")[safe_offset(1)]) as contract_hire_agency_desc,\n",
        "  TRIM(SPLIT(all_staff_report.contract_high_degree, \" - \")[safe_offset(0)]) as contract_high_degree_cd,\n",
        "  TRIM(SPLIT(all_staff_report.contract_high_degree, \" - \")[safe_offset(1)]) as contract_high_degree_desc,\n",
        "  SAFE_CAST(all_staff_report.contract_days as INT64) as contract_days,\n",
        "  all_staff_report.contract_local_experience,\n",
        "  all_staff_report.contract_total_experience,\n",
        "  CAST(REGEXP_REPLACE(REGEXP_REPLACE(all_staff_report.total_salary, r\"^[$]\",\"\"), r\",\",\"\") AS FLOAT64) as salary,\n",
        "  CAST(REGEXP_REPLACE(REGEXP_REPLACE(all_staff_report.total_fringe, r\"^[$]\",\"\"), r\",\",\"\") AS FLOAT64) as benefits,\n",
        "  TRIM(SPLIT(all_staff_report.assignment_area, \" - \")[safe_offset(0)]) as assignment_area_cd,\n",
        "  TRIM(SPLIT(all_staff_report.assignment_area, \" - \")[safe_offset(1)]) as assignment_area_desc,\n",
        "  TRIM(SPLIT(all_staff_report.assignment_staff_category, \" - \")[safe_offset(0)]) as assignment_staff_category_cd,\n",
        "  TRIM(SPLIT(all_staff_report.assignment_staff_category, \" - \")[safe_offset(1)]) as assignment_staff_category_desc,\n",
        "  all_staff_report.position_classification,\n",
        "  TRIM(SPLIT(all_staff_report.hire_agency, \" - \")[safe_offset(0)]) as hire_agency_cd,\n",
        "  TRIM(SPLIT(all_staff_report.hire_agency, \" - \")[safe_offset(1)]) as hire_agency_desc,\n",
        "  TRIM(SPLIT(all_staff_report.assignment_hire_agency_type, \" - \")[safe_offset(0)]) as assignment_hire_agency_type_cd,\n",
        "  TRIM(SPLIT(all_staff_report.assignment_hire_agency_type, \" - \")[safe_offset(1)]) as assignment_hire_agency_type_desc,\n",
        "  TRIM(SPLIT(all_staff_report.assignment_work_agency, \" - \")[safe_offset(0)]) as assignment_work_agency_cd,\n",
        "  TRIM(SPLIT(all_staff_report.assignment_work_agency, \" - \")[safe_offset(1)]) as assignment_work_agency_desc,\n",
        "  TRIM(SPLIT(all_staff_report.work_agency_type, \" - \")[safe_offset(0)]) as work_agency_type_cd,\n",
        "  TRIM(SPLIT(all_staff_report.work_agency_type, \" - \")[safe_offset(1)]) as work_agency_type_desc,\n",
        "  CASE\n",
        "    WHEN REGEXP_CONTAINS(all_staff_report.assignment_work_school,\" - \") THEN TRIM(SPLIT(all_staff_report.assignment_work_school, \" - \")[safe_OFFSET(0)])\n",
        "  ELSE\n",
        "    \"\"\n",
        "  END AS assignment_work_school_cd,\n",
        "  CASE\n",
        "    WHEN REGEXP_CONTAINS(all_staff_report.assignment_work_school,\" - \") THEN TRIM(SPLIT(all_staff_report.assignment_work_school, \" - \")[safe_OFFSET(1)])\n",
        "  ELSE\n",
        "    TRIM(all_staff_report.assignment_work_school)\n",
        "  END AS assignment_work_school_desc,\n",
        "  SAFE_CAST(all_staff_report.assignment_work_cesa_number as INT64) as cesa_num,\n",
        "  TRIM(SPLIT(all_staff_report.assignment_work_county, \" - \")[safe_offset(0)]) as assignment_work_county_cd,\n",
        "  TRIM(SPLIT(all_staff_report.assignment_work_county, \" - \")[safe_offset(1)]) as assignment_work_county_name,\n",
        "  TRIM(SPLIT(all_staff_report.assignment_work_school_level, \" - \")[safe_offset(0)]) as assignment_work_school_level_cd,\n",
        "  TRIM(SPLIT(all_staff_report.assignment_work_school_level, \" - \")[safe_offset(1)]) as assignment_work_school_level_desc,\n",
        "  TRIM(SPLIT(all_staff_report.assignment_position, \" - \")[safe_offset(0)]) as assignment_position_cd,\n",
        "  TRIM(SPLIT(all_staff_report.assignment_position, \" - \")[safe_offset(1)]) as assignment_position_desc,\n",
        "  all_staff_report.assignment_fte,\n",
        "  TRIM(all_staff_report.assignment_grades_served) as assignment_grades_served,\n",
        "  TRIM(all_staff_report.assignment_long_term_substitute) as assignment_long_term_substitute,\n",
        "  TRIM(all_staff_report.assignment_bilingual_program) as assignment_bilingual_program,\n",
        "  TRIM(all_staff_report.assignment_alternative_program) as assignment_alternative_program,\n",
        "  TRIM(all_staff_report.assignment_subcontracted) as assignment_subcontracted,\n",
        "  TRIM(all_staff_report.assignment_requires_dpi_license) as assignment_requires_dpi_license,\n",
        "  TRIM(all_staff_report.school_mailing_street_address) as school_mailing_street_address,\n",
        "  SAFE_CAST(all_staff_report.district_mailing_po_box as INT64) as school_mailing_po_box,\n",
        "  TRIM(all_staff_report.school_mailing_city) as school_mailing_city,\n",
        "  TRIM(all_staff_report.school_mailing_state) as school_mailing_state,\n",
        "  SAFE_CAST(all_staff_report.school_mailing_zip_code as String) as school_mailing_zip_code,\n",
        "  TRIM(all_staff_report.district_mailing_street_address) as district_mailing_street_address,\n",
        "  SAFE_CAST(all_staff_report.district_mailing_po_box as INT64) as district_mailing_po_box,\n",
        "  TRIM(all_staff_report.district_mailing_city) as district_mailing_city,\n",
        "  TRIM(all_staff_report.district_mailing_state) as district_mailing_state,\n",
        "  SAFE_CAST(all_staff_report.district_mailing_zip_code as String) as district_mailing_zip_code\n",
        "FROM\n",
        "  `wi-dpi-010.landing.2017_all_staff_report` all_staff_report\n",
        "'''"
      ],
      "execution_count": 0,
      "outputs": []
    },
    {
      "cell_type": "code",
      "metadata": {
        "id": "D37tRpQuTSSr",
        "colab_type": "code",
        "outputId": "45d0876e-fd14-4dce-c27d-053d36030abc",
        "colab": {
          "base_uri": "https://localhost:8080/",
          "height": 54
        }
      },
      "source": [
        "create_tbl_w_sql(all_staff_report_2017, refined_dataset_name, '2017_all_staff_report')"
      ],
      "execution_count": 0,
      "outputs": [
        {
          "output_type": "stream",
          "text": [
            "Query results loaded to table /projects/wi-dpi-010/datasets/refined/tables/2017_all_staff_report\n"
          ],
          "name": "stdout"
        }
      ]
    },
    {
      "cell_type": "markdown",
      "metadata": {
        "id": "Yg2JGfdoGVVh",
        "colab_type": "text"
      },
      "source": [
        "## Consolidate Yearly Tables"
      ]
    },
    {
      "cell_type": "code",
      "metadata": {
        "id": "5hNOlheJGVDw",
        "colab_type": "code",
        "colab": {}
      },
      "source": [
        "consolidate_select='''\n",
        "'''"
      ],
      "execution_count": 0,
      "outputs": []
    }
  ]
}