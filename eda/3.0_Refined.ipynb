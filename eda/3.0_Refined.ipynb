{
  "nbformat": 4,
  "nbformat_minor": 0,
  "metadata": {
    "colab": {
      "name": "wi-dpi-all-staff-eda.ipynb",
      "version": "0.3.2",
      "provenance": [],
      "toc_visible": true,
      "include_colab_link": true
    },
    "kernelspec": {
      "name": "python3",
      "display_name": "Python 3"
    }
  },
  "cells": [
    {
      "cell_type": "markdown",
      "metadata": {
        "id": "view-in-github",
        "colab_type": "text"
      },
      "source": [
        "<a href=\"https://colab.research.google.com/github/j-buss/wi-dpi-analysis/blob/development/eda/3.0_Refined.ipynb\" target=\"_parent\"><img src=\"https://colab.research.google.com/assets/colab-badge.svg\" alt=\"Open In Colab\"/></a>"
      ]
    },
    {
      "cell_type": "markdown",
      "metadata": {
        "id": "FYnVbPCC1u1b",
        "colab_type": "text"
      },
      "source": [
        "# Salary and Education in Wisconsin - 3.0 Refined Data"
      ]
    },
    {
      "cell_type": "markdown",
      "metadata": {
        "id": "JixlqF171iMF",
        "colab_type": "text"
      },
      "source": [
        "This it the 3rd in a series of notebooks depicting the steps to acquire, store and analyze data pertaining to teachers in Wisconsin.\n",
        "\n",
        "\n",
        "\n",
        "1.   List item\n",
        "2.   List item\n",
        "3.   Refined Data - Create ***all_staff_record*** tables by year\n",
        "\n"
      ]
    },
    {
      "cell_type": "markdown",
      "metadata": {
        "id": "QuoTGZC9_757",
        "colab_type": "text"
      },
      "source": [
        "## Prep"
      ]
    },
    {
      "cell_type": "code",
      "metadata": {
        "id": "eg1ojvLxEVD5",
        "colab_type": "code",
        "outputId": "a4918481-6e11-4040-f4c4-a78242a2d86a",
        "colab": {
          "base_uri": "https://localhost:8080/",
          "height": 679
        }
      },
      "source": [
        "!pip install --upgrade google-cloud-bigquery"
      ],
      "execution_count": 0,
      "outputs": [
        {
          "output_type": "stream",
          "text": [
            "Collecting google-cloud-bigquery\n",
            "\u001b[?25l  Downloading https://files.pythonhosted.org/packages/6f/c1/74dce5b9ffde50910082431e9117e221f18978efec88a085e3ec46d63ed4/google_cloud_bigquery-1.12.1-py2.py3-none-any.whl (130kB)\n",
            "\r\u001b[K     |██▌                             | 10kB 12.5MB/s eta 0:00:01\r\u001b[K     |█████                           | 20kB 1.8MB/s eta 0:00:01\r\u001b[K     |███████▌                        | 30kB 2.7MB/s eta 0:00:01\r\u001b[K     |██████████                      | 40kB 1.7MB/s eta 0:00:01\r\u001b[K     |████████████▋                   | 51kB 2.1MB/s eta 0:00:01\r\u001b[K     |███████████████                 | 61kB 2.6MB/s eta 0:00:01\r\u001b[K     |█████████████████▋              | 71kB 3.0MB/s eta 0:00:01\r\u001b[K     |████████████████████            | 81kB 3.4MB/s eta 0:00:01\r\u001b[K     |██████████████████████▋         | 92kB 3.8MB/s eta 0:00:01\r\u001b[K     |█████████████████████████▏      | 102kB 2.9MB/s eta 0:00:01\r\u001b[K     |███████████████████████████▋    | 112kB 2.9MB/s eta 0:00:01\r\u001b[K     |██████████████████████████████▏ | 122kB 2.9MB/s eta 0:00:01\r\u001b[K     |████████████████████████████████| 133kB 2.9MB/s \n",
            "\u001b[?25hCollecting google-cloud-core<2.0dev,>=1.0.0 (from google-cloud-bigquery)\n",
            "  Downloading https://files.pythonhosted.org/packages/34/ba/251d9b6a1695d25d9f081a3db537b0dfb15edaf2037b423e4a98280df7f9/google_cloud_core-1.0.0-py2.py3-none-any.whl\n",
            "Requirement already satisfied, skipping upgrade: google-api-core<2.0.0dev,>=1.6.0 in /usr/local/lib/python3.6/dist-packages (from google-cloud-bigquery) (1.11.0)\n",
            "Requirement already satisfied, skipping upgrade: google-resumable-media>=0.3.1 in /usr/local/lib/python3.6/dist-packages (from google-cloud-bigquery) (0.3.2)\n",
            "Requirement already satisfied, skipping upgrade: protobuf>=3.6.0 in /usr/local/lib/python3.6/dist-packages (from google-cloud-bigquery) (3.7.1)\n",
            "Requirement already satisfied, skipping upgrade: setuptools>=34.0.0 in /usr/local/lib/python3.6/dist-packages (from google-api-core<2.0.0dev,>=1.6.0->google-cloud-bigquery) (41.0.1)\n",
            "Requirement already satisfied, skipping upgrade: googleapis-common-protos!=1.5.4,<2.0dev,>=1.5.3 in /usr/local/lib/python3.6/dist-packages (from google-api-core<2.0.0dev,>=1.6.0->google-cloud-bigquery) (1.5.10)\n",
            "Requirement already satisfied, skipping upgrade: pytz in /usr/local/lib/python3.6/dist-packages (from google-api-core<2.0.0dev,>=1.6.0->google-cloud-bigquery) (2018.9)\n",
            "Requirement already satisfied, skipping upgrade: six>=1.10.0 in /usr/local/lib/python3.6/dist-packages (from google-api-core<2.0.0dev,>=1.6.0->google-cloud-bigquery) (1.12.0)\n",
            "Requirement already satisfied, skipping upgrade: google-auth<2.0dev,>=0.4.0 in /usr/local/lib/python3.6/dist-packages (from google-api-core<2.0.0dev,>=1.6.0->google-cloud-bigquery) (1.4.2)\n",
            "Requirement already satisfied, skipping upgrade: requests<3.0.0dev,>=2.18.0 in /usr/local/lib/python3.6/dist-packages (from google-api-core<2.0.0dev,>=1.6.0->google-cloud-bigquery) (2.21.0)\n",
            "Requirement already satisfied, skipping upgrade: cachetools>=2.0.0 in /usr/local/lib/python3.6/dist-packages (from google-auth<2.0dev,>=0.4.0->google-api-core<2.0.0dev,>=1.6.0->google-cloud-bigquery) (3.1.0)\n",
            "Requirement already satisfied, skipping upgrade: rsa>=3.1.4 in /usr/local/lib/python3.6/dist-packages (from google-auth<2.0dev,>=0.4.0->google-api-core<2.0.0dev,>=1.6.0->google-cloud-bigquery) (4.0)\n",
            "Requirement already satisfied, skipping upgrade: pyasn1-modules>=0.2.1 in /usr/local/lib/python3.6/dist-packages (from google-auth<2.0dev,>=0.4.0->google-api-core<2.0.0dev,>=1.6.0->google-cloud-bigquery) (0.2.5)\n",
            "Requirement already satisfied, skipping upgrade: chardet<3.1.0,>=3.0.2 in /usr/local/lib/python3.6/dist-packages (from requests<3.0.0dev,>=2.18.0->google-api-core<2.0.0dev,>=1.6.0->google-cloud-bigquery) (3.0.4)\n",
            "Requirement already satisfied, skipping upgrade: idna<2.9,>=2.5 in /usr/local/lib/python3.6/dist-packages (from requests<3.0.0dev,>=2.18.0->google-api-core<2.0.0dev,>=1.6.0->google-cloud-bigquery) (2.8)\n",
            "Requirement already satisfied, skipping upgrade: urllib3<1.25,>=1.21.1 in /usr/local/lib/python3.6/dist-packages (from requests<3.0.0dev,>=2.18.0->google-api-core<2.0.0dev,>=1.6.0->google-cloud-bigquery) (1.24.3)\n",
            "Requirement already satisfied, skipping upgrade: certifi>=2017.4.17 in /usr/local/lib/python3.6/dist-packages (from requests<3.0.0dev,>=2.18.0->google-api-core<2.0.0dev,>=1.6.0->google-cloud-bigquery) (2019.3.9)\n",
            "Requirement already satisfied, skipping upgrade: pyasn1>=0.1.3 in /usr/local/lib/python3.6/dist-packages (from rsa>=3.1.4->google-auth<2.0dev,>=0.4.0->google-api-core<2.0.0dev,>=1.6.0->google-cloud-bigquery) (0.4.5)\n",
            "\u001b[31mERROR: google-cloud-translate 1.3.3 has requirement google-cloud-core<0.30dev,>=0.29.0, but you'll have google-cloud-core 1.0.0 which is incompatible.\u001b[0m\n",
            "\u001b[31mERROR: google-cloud-storage 1.13.2 has requirement google-cloud-core<0.30dev,>=0.29.0, but you'll have google-cloud-core 1.0.0 which is incompatible.\u001b[0m\n",
            "Installing collected packages: google-cloud-core, google-cloud-bigquery\n",
            "  Found existing installation: google-cloud-core 0.29.1\n",
            "    Uninstalling google-cloud-core-0.29.1:\n",
            "      Successfully uninstalled google-cloud-core-0.29.1\n",
            "  Found existing installation: google-cloud-bigquery 1.8.1\n",
            "    Uninstalling google-cloud-bigquery-1.8.1:\n",
            "      Successfully uninstalled google-cloud-bigquery-1.8.1\n",
            "Successfully installed google-cloud-bigquery-1.12.1 google-cloud-core-1.0.0\n"
          ],
          "name": "stdout"
        },
        {
          "output_type": "display_data",
          "data": {
            "application/vnd.colab-display-data+json": {
              "pip_warning": {
                "packages": [
                  "google"
                ]
              }
            }
          },
          "metadata": {
            "tags": []
          }
        }
      ]
    },
    {
      "cell_type": "markdown",
      "metadata": {
        "id": "vOdf51fEvTs3",
        "colab_type": "text"
      },
      "source": [
        "### Import Libraries"
      ]
    },
    {
      "cell_type": "code",
      "metadata": {
        "id": "jh2eOMqCvXMo",
        "colab_type": "code",
        "colab": {}
      },
      "source": [
        "import numpy as np\n",
        "import pandas as pd\n",
        "pd.set_option('display.max_columns', 50)\n",
        "pd.set_option('display.max_rows', 5)\n",
        "import seaborn as sns\n",
        "import matplotlib.pyplot as plt\n",
        "\n",
        "from google.cloud import bigquery"
      ],
      "execution_count": 0,
      "outputs": []
    },
    {
      "cell_type": "code",
      "metadata": {
        "id": "qoO7YTTFviOg",
        "colab_type": "code",
        "colab": {}
      },
      "source": [
        "%matplotlib inline\n",
        "plt.style.use('bmh')"
      ],
      "execution_count": 0,
      "outputs": []
    },
    {
      "cell_type": "markdown",
      "metadata": {
        "id": "UfqK__FMONeR",
        "colab_type": "text"
      },
      "source": [
        "### Functions"
      ]
    },
    {
      "cell_type": "code",
      "metadata": {
        "id": "yAvU_MEyOJ4m",
        "colab_type": "code",
        "colab": {}
      },
      "source": [
        "def create_dataset(client, project_id, dataset_name):\n",
        "  \n",
        "  \n",
        "  dataset_id = \"{}.{}\".format(project_id, dataset_name)\n",
        "  dataset = bigquery.Dataset(dataset_id)\n",
        "  dataset.location = \"US\"\n",
        "\n",
        "  dataset = client.create_dataset(dataset)\n",
        "  print(\"Created dataset {}.{}\".format(client.project, dataset.dataset_id))"
      ],
      "execution_count": 0,
      "outputs": []
    },
    {
      "cell_type": "code",
      "metadata": {
        "id": "X2G4rHUdxXYs",
        "colab_type": "code",
        "colab": {}
      },
      "source": [
        "def convert_currency(val):\n",
        "    \"\"\"\n",
        "    Convert the string number value to a float\n",
        "     - Remove $\n",
        "     - Remove commas\n",
        "     - Convert to float type\n",
        "    \"\"\"\n",
        "    new_val = val.replace(',','').replace('$', '')\n",
        "    return float(new_val)"
      ],
      "execution_count": 0,
      "outputs": []
    },
    {
      "cell_type": "code",
      "metadata": {
        "id": "Ab8PtjstWFLw",
        "colab_type": "code",
        "colab": {}
      },
      "source": [
        "def prep_name(val):\n",
        "  \"\"\"\n",
        "  Take name and make first leter capital; rest lowercase\n",
        "  \"\"\"\n",
        "  new_val  = val.lower().title()\n",
        "  return new_val"
      ],
      "execution_count": 0,
      "outputs": []
    },
    {
      "cell_type": "markdown",
      "metadata": {
        "id": "gvDjl_tD9YOq",
        "colab_type": "text"
      },
      "source": [
        "## Processing"
      ]
    },
    {
      "cell_type": "code",
      "metadata": {
        "id": "XaySm9Da9Q6L",
        "colab_type": "code",
        "colab": {}
      },
      "source": [
        "# Authenticate to GCS.\n",
        "from google.colab import auth\n",
        "auth.authenticate_user()"
      ],
      "execution_count": 0,
      "outputs": []
    },
    {
      "cell_type": "code",
      "metadata": {
        "id": "4brDC4DU-Iwq",
        "colab_type": "code",
        "colab": {}
      },
      "source": [
        "project_id='wi-dpi-010'\n",
        "landing_dataset_name='landing'\n",
        "refined_dataset_name='refined'"
      ],
      "execution_count": 0,
      "outputs": []
    },
    {
      "cell_type": "code",
      "metadata": {
        "id": "_OD2O7yB-qR0",
        "colab_type": "code",
        "colab": {}
      },
      "source": [
        "bq_client = bigquery.Client(project=project_id)"
      ],
      "execution_count": 0,
      "outputs": []
    },
    {
      "cell_type": "code",
      "metadata": {
        "id": "fH3XvBgkDaeB",
        "colab_type": "code",
        "colab": {}
      },
      "source": [
        "#Create Refined Dataset - Likely already done\n",
        "##create_dataset(bq_client, project_id, refined_dataset_name)"
      ],
      "execution_count": 0,
      "outputs": []
    },
    {
      "cell_type": "markdown",
      "metadata": {
        "id": "EZ-iYK9xDQU-",
        "colab_type": "text"
      },
      "source": [
        "\n",
        "### 2015\n",
        "\n"
      ]
    },
    {
      "cell_type": "code",
      "metadata": {
        "id": "bfmgwVYGkAs4",
        "colab_type": "code",
        "colab": {}
      },
      "source": [
        " select_2015 = '''SELECT\n",
        "  all_staff_report.id_nbr,\n",
        "  TRIM(all_staff_report.first_name) as first_name,\n",
        "  TRIM(all_staff_report.last_name) as last_name,\n",
        "  SAFE_CAST(all_staff_report.file_number as INT64) as file_number,\n",
        "  TRIM(all_staff_report.gndr) as gender,\n",
        "  TRIM(all_staff_report.raceethn) as race_ethnicity,\n",
        "  all_staff_report.birth_year,\n",
        "  SAFE_CAST(all_staff_report.high_degree as INT64) as high_degree_cd,\n",
        "  TRIM(highest_degree.description) as high_degree_desc,\n",
        "  TRIM(all_staff_report.year_session),\n",
        "  all_staff_report.cntrct_days as contract_days,\n",
        "  all_staff_report.local_exp,\n",
        "  all_staff_report.total_exp,\n",
        "  CAST(REGEXP_REPLACE(REGEXP_REPLACE(all_staff_report.tot_salary, r\"^[$]\",\"\"), r\",\",\"\") AS FLOAT64) as salary,\n",
        "  CAST(REGEXP_REPLACE(REGEXP_REPLACE(all_staff_report.tot_fringe, r\"^[$]\",\"\"), r\",\",\"\") AS FLOAT64) as benefits,\n",
        "  SAFE_CAST(all_staff_report.staff_cat as INT64) as staff_category_cd,\n",
        "  TRIM(staff_cat.description) as staff_category_desc,\n",
        "  all_staff_report.hire_agncy_cd,\n",
        "  all_staff_report.work_agncy_cd,\n",
        "  all_staff_report.hire_agncy_typ,\n",
        "  hire_agency_type.description as hire_agency_desc,\n",
        "  all_staff_report.work_agncy_typ,\n",
        "  work_agency_type.description as work_agency_desc,\n",
        "  TRIM(all_staff_report.school_cd),\n",
        "  all_staff_report.position_cd,\n",
        "  position.position_description,\n",
        "  position.position_type as position_type_cd,\n",
        "  pos_type.description as position_type_desc,\n",
        "  all_staff_report.assgn_area_cd,\n",
        "  assignment_area.assignment_area_description,\n",
        "  TRIM(all_staff_report.low_grd),\n",
        "  TRIM( high_grd ),\n",
        "  all_staff_report.bilingual,\n",
        "  all_staff_report.assgn_fte,\n",
        "  TRIM(all_staff_report.work_location_name),\n",
        "  TRIM(all_staff_report.school_name),\n",
        "  TRIM(all_staff_report.grd_level),\n",
        "  SAFE_CAST(TRIM(all_staff_report.cesa_number) as INT64) as cesa_num,\n",
        "  all_staff_report.cnty_nbr as county_number,\n",
        "  TRIM(all_staff_report.cnty_name) as county_name,\n",
        "  all_staff_report.school_mailing_address1,\n",
        "  all_staff_report.school_mailing_address2,\n",
        "  all_staff_report.mail_city,\n",
        "  all_staff_report.mail_st,\n",
        "  all_staff_report.mail_zip_cd\n",
        "FROM\n",
        "  `wi-dpi-010.landing.2015_all_staff_report` all_staff_report \n",
        "  LEFT JOIN `wi-dpi-010.landing.2015_positions` position \n",
        "   ON all_staff_report.position_cd = position.code\n",
        "  LEFT JOIN `wi-dpi-010.landing.2015_assignment_area` assignment_area\n",
        "   ON all_staff_report.assgn_area_cd = CAST(assignment_area.code as INT64)\n",
        "  LEFT JOIN `wi-dpi-010.landing.2015_highest_educational_degree` highest_degree\n",
        "   ON SAFE_CAST(all_staff_report.high_degree as INT64) = highest_degree.code\n",
        "  LEFT JOIN `wi-dpi-010.landing.2015_staff_category` staff_cat\n",
        "   ON SAFE_CAST(all_staff_report.staff_cat as INT64) = staff_cat.code\n",
        "  LEFT JOIN `wi-dpi-010.landing.2015_position_type` pos_type\n",
        "   ON position.position_type = pos_type.code\n",
        "  LEFT JOIN `wi-dpi-010.landing.2015_agency_type` hire_agency_type\n",
        "   ON all_staff_report.hire_agncy_typ = SAFE_CAST(hire_agency_type.code as INT64)\n",
        "  LEFT JOIN `wi-dpi-010.landing.2015_agency_type` work_agency_type\n",
        "   ON all_staff_report.hire_agncy_typ = SAFE_CAST(work_agency_type.code as INT64)\n",
        "'''"
      ],
      "execution_count": 0,
      "outputs": []
    },
    {
      "cell_type": "code",
      "metadata": {
        "id": "QBCHtmAbGDLB",
        "colab_type": "code",
        "colab": {}
      },
      "source": [
        ""
      ],
      "execution_count": 0,
      "outputs": []
    },
    {
      "cell_type": "markdown",
      "metadata": {
        "id": "Y_qwhCX12Yxz",
        "colab_type": "text"
      },
      "source": [
        "## Load Data for each Year"
      ]
    },
    {
      "cell_type": "markdown",
      "metadata": {
        "id": "w1s7Us73FwMr",
        "colab_type": "text"
      },
      "source": [
        ""
      ]
    },
    {
      "cell_type": "code",
      "metadata": {
        "id": "MT8EihoBFv55",
        "colab_type": "code",
        "colab": {}
      },
      "source": [
        ""
      ],
      "execution_count": 0,
      "outputs": []
    },
    {
      "cell_type": "code",
      "metadata": {
        "id": "TMMIKRn5p8dv",
        "colab_type": "code",
        "outputId": "43b618eb-71cf-41a9-dfd7-5ba5ebf797f3",
        "colab": {
          "base_uri": "https://localhost:8080/",
          "height": 35
        }
      },
      "source": [
        "job_config = bigquery.QueryJobConfig()\n",
        "# Set the destination table\n",
        "table_ref = bq_client.dataset(refined_dataset_name).table('2015_all_staff_report')\n",
        "job_config.destination = table_ref\n",
        "\n",
        "# Start the query, passing in the extra configuration.\n",
        "query_job = bq_client.query(\n",
        "    select_2015,\n",
        "    # Location must match that of the dataset(s) referenced in the query\n",
        "    # and of the destination table.\n",
        "    location='US',\n",
        "    job_config=job_config)  # API request - starts the query\n",
        "\n",
        "query_job.result()  # Waits for the query to finish\n",
        "print('Query results loaded to table {}'.format(table_ref.path))"
      ],
      "execution_count": 0,
      "outputs": [
        {
          "output_type": "stream",
          "text": [
            "Query results loaded to table /projects/wi-dpi-010/datasets/refined/tables/all_staff_report_2015\n"
          ],
          "name": "stdout"
        }
      ]
    },
    {
      "cell_type": "markdown",
      "metadata": {
        "id": "Yg2JGfdoGVVh",
        "colab_type": "text"
      },
      "source": [
        "## Consolidate Yearly Tables"
      ]
    },
    {
      "cell_type": "code",
      "metadata": {
        "id": "5hNOlheJGVDw",
        "colab_type": "code",
        "colab": {}
      },
      "source": [
        "consolidate_select='''\n",
        "'''"
      ],
      "execution_count": 0,
      "outputs": []
    }
  ]
}