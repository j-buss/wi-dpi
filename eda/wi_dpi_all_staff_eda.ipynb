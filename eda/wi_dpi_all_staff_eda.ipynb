{
  "nbformat": 4,
  "nbformat_minor": 0,
  "metadata": {
    "colab": {
      "name": "wi-dpi-all-staff-eda.ipynb",
      "version": "0.3.2",
      "provenance": [],
      "toc_visible": true,
      "include_colab_link": true
    },
    "kernelspec": {
      "name": "python3",
      "display_name": "Python 3"
    }
  },
  "cells": [
    {
      "cell_type": "markdown",
      "metadata": {
        "id": "view-in-github",
        "colab_type": "text"
      },
      "source": [
        "<a href=\"https://colab.research.google.com/github/j-buss/wi-dpi-analysis/blob/development/eda/wi_dpi_all_staff_eda.ipynb\" target=\"_parent\"><img src=\"https://colab.research.google.com/assets/colab-badge.svg\" alt=\"Open In Colab\"/></a>"
      ]
    },
    {
      "metadata": {
        "id": "FYnVbPCC1u1b",
        "colab_type": "text"
      },
      "cell_type": "markdown",
      "source": [
        "# Salary and Education in Wisconsin"
      ]
    },
    {
      "metadata": {
        "id": "JixlqF171iMF",
        "colab_type": "text"
      },
      "cell_type": "markdown",
      "source": [
        "This notebook is intended to describe analysis on salaries of teachers within the Wisconsin Department of Public Instruction."
      ]
    },
    {
      "metadata": {
        "id": "VIzr1UNerQWw",
        "colab_type": "text"
      },
      "cell_type": "markdown",
      "source": [
        "## Preparation"
      ]
    },
    {
      "metadata": {
        "id": "DhwK8pzspUrA",
        "colab_type": "text"
      },
      "cell_type": "markdown",
      "source": [
        "### Load libraries\n",
        "Only needed to load data to BigQuery"
      ]
    },
    {
      "metadata": {
        "id": "XtR-jFKmrP9f",
        "colab_type": "code",
        "colab": {}
      },
      "cell_type": "code",
      "source": [
        ""
      ],
      "execution_count": 0,
      "outputs": []
    },
    {
      "metadata": {
        "id": "u1Lqa5-u982K",
        "colab_type": "code",
        "colab": {}
      },
      "cell_type": "code",
      "source": [
        "!pip install gcsfs\n",
        "!pip install pandas-gbq -U\n",
        "import gcsfs"
      ],
      "execution_count": 0,
      "outputs": []
    },
    {
      "metadata": {
        "id": "vOdf51fEvTs3",
        "colab_type": "text"
      },
      "cell_type": "markdown",
      "source": [
        "### Import Libraries"
      ]
    },
    {
      "metadata": {
        "id": "jh2eOMqCvXMo",
        "colab_type": "code",
        "colab": {}
      },
      "cell_type": "code",
      "source": [
        "import numpy as np\n",
        "import pandas as pd\n",
        "import seaborn as sns\n",
        "import matplotlib.pyplot as plt\n",
        "\n",
        "from google.cloud import bigquery"
      ],
      "execution_count": 0,
      "outputs": []
    },
    {
      "metadata": {
        "id": "qoO7YTTFviOg",
        "colab_type": "code",
        "colab": {}
      },
      "cell_type": "code",
      "source": [
        "%matplotlib inline\n",
        "plt.style.use('bmh')"
      ],
      "execution_count": 0,
      "outputs": []
    },
    {
      "metadata": {
        "id": "4brDC4DU-Iwq",
        "colab_type": "code",
        "colab": {}
      },
      "cell_type": "code",
      "source": [
        "project_id='wi-dpi-010'\n",
        "raw_data_bucket_name='landing-009'\n",
        "source_name='all_staff_report'\n",
        "year='2017_2018'\n",
        "filename='AllStaffReportPublic__04152019_194414.csv'\n",
        "full_filename=raw_data_bucket_name + '/' + source_name + '/' + year + '/' + filename\n",
        "\n",
        "dataset_name='landing'\n",
        "table_name=source_name\n",
        "landing_bq_fullname=dataset_name + '.' + table_name\n",
        "\n"
      ],
      "execution_count": 0,
      "outputs": []
    },
    {
      "metadata": {
        "id": "UfqK__FMONeR",
        "colab_type": "text"
      },
      "cell_type": "markdown",
      "source": [
        "### Functions"
      ]
    },
    {
      "metadata": {
        "id": "yAvU_MEyOJ4m",
        "colab_type": "code",
        "colab": {}
      },
      "cell_type": "code",
      "source": [
        "def create_dataset(client, project_id, dataset_name):\n",
        "  \n",
        "  \n",
        "  dataset_id = \"{}.{}\".format(project_id, dataset_name)\n",
        "  dataset = bigquery.Dataset(dataset_id)\n",
        "  dataset.location = \"US\"\n",
        "\n",
        "  dataset = client.create_dataset(dataset)\n",
        "  print(\"Created dataset {}.{}\".format(client.project, dataset.dataset_id))"
      ],
      "execution_count": 0,
      "outputs": []
    },
    {
      "metadata": {
        "id": "X2G4rHUdxXYs",
        "colab_type": "code",
        "colab": {}
      },
      "cell_type": "code",
      "source": [
        "def convert_currency(val):\n",
        "    \"\"\"\n",
        "    Convert the string number value to a float\n",
        "     - Remove $\n",
        "     - Remove commas\n",
        "     - Convert to float type\n",
        "    \"\"\"\n",
        "    new_val = val.replace(',','').replace('$', '')\n",
        "    return float(new_val)"
      ],
      "execution_count": 0,
      "outputs": []
    },
    {
      "metadata": {
        "id": "Y_qwhCX12Yxz",
        "colab_type": "text"
      },
      "cell_type": "markdown",
      "source": [
        "### Load Data"
      ]
    },
    {
      "metadata": {
        "id": "2GkRUyVs2cTL",
        "colab_type": "text"
      },
      "cell_type": "markdown",
      "source": [
        "Data can be retrieved from the GCP Bucket."
      ]
    },
    {
      "metadata": {
        "id": "XaySm9Da9Q6L",
        "colab_type": "code",
        "colab": {}
      },
      "cell_type": "code",
      "source": [
        "# Authenticate to GCS.\n",
        "from google.colab import auth\n",
        "auth.authenticate_user()"
      ],
      "execution_count": 0,
      "outputs": []
    },
    {
      "metadata": {
        "id": "TMMIKRn5p8dv",
        "colab_type": "code",
        "colab": {}
      },
      "cell_type": "code",
      "source": [
        "client = bigquery.Client(project_id)"
      ],
      "execution_count": 0,
      "outputs": []
    },
    {
      "metadata": {
        "id": "ITv-xEEMOGX_",
        "colab_type": "code",
        "colab": {}
      },
      "cell_type": "code",
      "source": [
        "create_dataset(client, project_id, dataset_name)"
      ],
      "execution_count": 0,
      "outputs": []
    },
    {
      "metadata": {
        "id": "mfZ60Z8QBi0c",
        "colab_type": "code",
        "colab": {}
      },
      "cell_type": "code",
      "source": [
        "fs = gcsfs.GCSFileSystem(project=project_id)\n",
        "with fs.open(full_filename) as f:\n",
        "  df = pd.read_csv(f, skiprows=1)"
      ],
      "execution_count": 0,
      "outputs": []
    },
    {
      "metadata": {
        "id": "YChsG_uwCnZc",
        "colab_type": "code",
        "colab": {}
      },
      "cell_type": "code",
      "source": [
        "df.columns = df.columns.str.strip().str.lower().str.replace(' ', '_').str.replace('(', '').str.replace(')', '')\n",
        "df.to_gbq(landing_bq_fullname,project_id=project_id,if_exists='replace')"
      ],
      "execution_count": 0,
      "outputs": []
    },
    {
      "metadata": {
        "id": "6TcmnH4LvLm4",
        "colab_type": "text"
      },
      "cell_type": "markdown",
      "source": [
        "# Exploratory Data Analysis"
      ]
    },
    {
      "metadata": {
        "id": "0MUHXhNppH3_",
        "colab_type": "text"
      },
      "cell_type": "markdown",
      "source": [
        "The following fields are Integers; but have Nulls in the columns. \n",
        "\n",
        "As such they are loaded as floats:\n",
        "\n",
        "1.  entity_id\n",
        "2.  assignment_work_cesa_number\n",
        "3.  district_mailing_po_box\n"
      ]
    },
    {
      "metadata": {
        "id": "_MpK4xoJx1vZ",
        "colab_type": "code",
        "colab": {}
      },
      "cell_type": "code",
      "source": [
        "query = '''\n",
        "  SELECT\n",
        "    *\n",
        "  FROM\n",
        "    [{project}.{dataset}.{table}]\n",
        " '''.format(project=project_id, dataset=dataset_name, table=table_name)"
      ],
      "execution_count": 0,
      "outputs": []
    },
    {
      "metadata": {
        "id": "DmZJbGMpsBcK",
        "colab_type": "code",
        "colab": {}
      },
      "cell_type": "code",
      "source": [
        "df = pd.io.gbq.read_gbq(query, project_id=project_id, reauth=True)"
      ],
      "execution_count": 0,
      "outputs": []
    },
    {
      "metadata": {
        "id": "IxXzUudQ3mhK",
        "colab_type": "code",
        "colab": {}
      },
      "cell_type": "code",
      "source": [
        "df.head()"
      ],
      "execution_count": 0,
      "outputs": []
    },
    {
      "metadata": {
        "id": "hxile4lcOPLW",
        "colab_type": "code",
        "colab": {}
      },
      "cell_type": "code",
      "source": [
        "df.info()"
      ],
      "execution_count": 0,
      "outputs": []
    },
    {
      "metadata": {
        "id": "frmUaxbnwieB",
        "colab_type": "code",
        "colab": {}
      },
      "cell_type": "code",
      "source": [
        "df['total_salary'].apply(convert_currency)"
      ],
      "execution_count": 0,
      "outputs": []
    },
    {
      "metadata": {
        "id": "wFrnAv8GxwAY",
        "colab_type": "code",
        "colab": {}
      },
      "cell_type": "code",
      "source": [
        "df['total_salary'].replace('None', np.nan, inplace=True)"
      ],
      "execution_count": 0,
      "outputs": []
    },
    {
      "metadata": {
        "id": "LCjYLLZFroFD",
        "colab_type": "code",
        "colab": {}
      },
      "cell_type": "code",
      "source": [
        "# df.count() does not include NaN values\n",
        "df2 = df[[column for column in df if df[column].count() / len(df) >= 0.3]]\n",
        "#del df2['Id']\n",
        "print(\"List of dropped columns:\", end=\" \")\n",
        "for c in df.columns:\n",
        "    if c not in df2.columns:\n",
        "        print(c, end=\", \")\n",
        "print('\\n')\n",
        "df = df2"
      ],
      "execution_count": 0,
      "outputs": []
    },
    {
      "metadata": {
        "id": "bZ5rOsQvtB4s",
        "colab_type": "code",
        "colab": {}
      },
      "cell_type": "code",
      "source": [
        "print(df['total_salary'].describe())\n",
        "plt.figure(figsize=(9, 8))\n",
        "#sns.distplot(df['total_salary'], color='g', bins=100);"
      ],
      "execution_count": 0,
      "outputs": []
    },
    {
      "metadata": {
        "id": "pz3H_J1xteSc",
        "colab_type": "code",
        "colab": {}
      },
      "cell_type": "code",
      "source": [
        ""
      ],
      "execution_count": 0,
      "outputs": []
    }
  ]
}