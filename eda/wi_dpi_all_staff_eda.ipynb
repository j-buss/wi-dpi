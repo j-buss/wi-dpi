{
  "nbformat": 4,
  "nbformat_minor": 0,
  "metadata": {
    "colab": {
      "name": "wi-dpi-all-staff-eda.ipynb",
      "version": "0.3.2",
      "provenance": [],
      "toc_visible": true
    },
    "kernelspec": {
      "name": "python3",
      "display_name": "Python 3"
    }
  },
  "cells": [
    {
      "metadata": {
        "id": "FYnVbPCC1u1b",
        "colab_type": "text"
      },
      "cell_type": "markdown",
      "source": [
        "# Salary and Education in Wisconsin"
      ]
    },
    {
      "metadata": {
        "id": "JixlqF171iMF",
        "colab_type": "text"
      },
      "cell_type": "markdown",
      "source": [
        "This notebook is intended to describe analysis on salaries of teachers within the Wisconsin Department of Public Instruction."
      ]
    },
    {
      "metadata": {
        "id": "VIzr1UNerQWw",
        "colab_type": "text"
      },
      "cell_type": "markdown",
      "source": [
        "## Preparation"
      ]
    },
    {
      "metadata": {
        "id": "DhwK8pzspUrA",
        "colab_type": "text"
      },
      "cell_type": "markdown",
      "source": [
        "### Load libraries\n",
        "Only needed to load data to BigQuery"
      ]
    },
    {
      "metadata": {
        "id": "XtR-jFKmrP9f",
        "colab_type": "code",
        "colab": {}
      },
      "cell_type": "code",
      "source": [
        ""
      ],
      "execution_count": 0,
      "outputs": []
    },
    {
      "metadata": {
        "id": "u1Lqa5-u982K",
        "colab_type": "code",
        "colab": {}
      },
      "cell_type": "code",
      "source": [
        "!pip install gcsfs\n",
        "!pip install pandas-gbq -U\n",
        "import gcsfs"
      ],
      "execution_count": 0,
      "outputs": []
    },
    {
      "metadata": {
        "id": "vOdf51fEvTs3",
        "colab_type": "text"
      },
      "cell_type": "markdown",
      "source": [
        "### Import Libraries"
      ]
    },
    {
      "metadata": {
        "id": "jh2eOMqCvXMo",
        "colab_type": "code",
        "colab": {}
      },
      "cell_type": "code",
      "source": [
        "import numpy as np\n",
        "import pandas as pd\n",
        "import seaborn as sns\n",
        "import matplotlib.pyplot as plt\n",
        "\n",
        "from google.cloud import bigquery"
      ],
      "execution_count": 0,
      "outputs": []
    },
    {
      "metadata": {
        "id": "qoO7YTTFviOg",
        "colab_type": "code",
        "colab": {}
      },
      "cell_type": "code",
      "source": [
        "%matplotlib inline\n",
        "plt.style.use('bmh')"
      ],
      "execution_count": 0,
      "outputs": []
    },
    {
      "metadata": {
        "id": "4brDC4DU-Iwq",
        "colab_type": "code",
        "colab": {}
      },
      "cell_type": "code",
      "source": [
        "project_id='wi-dpi-010'\n",
        "raw_data_bucket_name='landing-009'\n",
        "source_name='all_staff_report'\n",
        "year='2017_2018'\n",
        "filename='AllStaffReportPublic__04152019_194414.csv'\n",
        "full_filename=raw_data_bucket_name + '/' + source_name + '/' + year + '/' + filename\n",
        "\n",
        "dataset_name='landing'\n",
        "table_name=source_name\n",
        "landing_bq_fullname=dataset_name + '.' + table_name\n",
        "\n"
      ],
      "execution_count": 0,
      "outputs": []
    },
    {
      "metadata": {
        "id": "UfqK__FMONeR",
        "colab_type": "text"
      },
      "cell_type": "markdown",
      "source": [
        "### Functions"
      ]
    },
    {
      "metadata": {
        "id": "yAvU_MEyOJ4m",
        "colab_type": "code",
        "colab": {}
      },
      "cell_type": "code",
      "source": [
        "def create_dataset(client, project_id, dataset_name):\n",
        "  \n",
        "  \n",
        "  dataset_id = \"{}.{}\".format(project_id, dataset_name)\n",
        "  dataset = bigquery.Dataset(dataset_id)\n",
        "  dataset.location = \"US\"\n",
        "\n",
        "  dataset = client.create_dataset(dataset)\n",
        "  print(\"Created dataset {}.{}\".format(client.project, dataset.dataset_id))"
      ],
      "execution_count": 0,
      "outputs": []
    },
    {
      "metadata": {
        "id": "X2G4rHUdxXYs",
        "colab_type": "code",
        "colab": {}
      },
      "cell_type": "code",
      "source": [
        "def convert_currency(val):\n",
        "    \"\"\"\n",
        "    Convert the string number value to a float\n",
        "     - Remove $\n",
        "     - Remove commas\n",
        "     - Convert to float type\n",
        "    \"\"\"\n",
        "    new_val = val.replace(',','').replace('$', '')\n",
        "    return float(new_val)"
      ],
      "execution_count": 0,
      "outputs": []
    },
    {
      "metadata": {
        "id": "Y_qwhCX12Yxz",
        "colab_type": "text"
      },
      "cell_type": "markdown",
      "source": [
        "### Load Data"
      ]
    },
    {
      "metadata": {
        "id": "2GkRUyVs2cTL",
        "colab_type": "text"
      },
      "cell_type": "markdown",
      "source": [
        "Data can be retrieved from the GCP Bucket."
      ]
    },
    {
      "metadata": {
        "id": "XaySm9Da9Q6L",
        "colab_type": "code",
        "colab": {}
      },
      "cell_type": "code",
      "source": [
        "# Authenticate to GCS.\n",
        "from google.colab import auth\n",
        "auth.authenticate_user()"
      ],
      "execution_count": 0,
      "outputs": []
    },
    {
      "metadata": {
        "id": "TMMIKRn5p8dv",
        "colab_type": "code",
        "colab": {}
      },
      "cell_type": "code",
      "source": [
        "client = bigquery.Client(project_id)"
      ],
      "execution_count": 0,
      "outputs": []
    },
    {
      "metadata": {
        "id": "ITv-xEEMOGX_",
        "colab_type": "code",
        "colab": {}
      },
      "cell_type": "code",
      "source": [
        "create_dataset(client, project_id, dataset_name)"
      ],
      "execution_count": 0,
      "outputs": []
    },
    {
      "metadata": {
        "id": "mfZ60Z8QBi0c",
        "colab_type": "code",
        "colab": {}
      },
      "cell_type": "code",
      "source": [
        "fs = gcsfs.GCSFileSystem(project=project_id)\n",
        "with fs.open(full_filename) as f:\n",
        "  df = pd.read_csv(f, skiprows=1)"
      ],
      "execution_count": 0,
      "outputs": []
    },
    {
      "metadata": {
        "id": "YChsG_uwCnZc",
        "colab_type": "code",
        "colab": {}
      },
      "cell_type": "code",
      "source": [
        "df.columns = df.columns.str.strip().str.lower().str.replace(' ', '_').str.replace('(', '').str.replace(')', '')\n",
        "df.to_gbq(landing_bq_fullname,project_id=project_id,if_exists='replace')"
      ],
      "execution_count": 0,
      "outputs": []
    },
    {
      "metadata": {
        "id": "6TcmnH4LvLm4",
        "colab_type": "text"
      },
      "cell_type": "markdown",
      "source": [
        "# Exploratory Data Analysis"
      ]
    },
    {
      "metadata": {
        "id": "0MUHXhNppH3_",
        "colab_type": "text"
      },
      "cell_type": "markdown",
      "source": [
        "The following fields are Integers; but have Nulls in the columns. \n",
        "\n",
        "As such they are loaded as floats:\n",
        "\n",
        "1.  entity_id\n",
        "2.  assignment_work_cesa_number\n",
        "3.  district_mailing_po_box\n"
      ]
    },
    {
      "metadata": {
        "id": "_MpK4xoJx1vZ",
        "colab_type": "code",
        "colab": {}
      },
      "cell_type": "code",
      "source": [
        "query = '''\n",
        "  SELECT\n",
        "    *\n",
        "  FROM\n",
        "    [{project}.{dataset}.{table}]\n",
        " '''.format(project=project_id, dataset=dataset_name, table=table_name)"
      ],
      "execution_count": 0,
      "outputs": []
    },
    {
      "metadata": {
        "id": "DmZJbGMpsBcK",
        "colab_type": "code",
        "colab": {
          "base_uri": "https://localhost:8080/",
          "height": 107
        },
        "outputId": "21f8dccb-de92-4f51-f90f-8b31255d2f29"
      },
      "cell_type": "code",
      "source": [
        "df = pd.io.gbq.read_gbq(query, project_id=project_id, reauth=True)"
      ],
      "execution_count": 6,
      "outputs": [
        {
          "output_type": "stream",
          "text": [
            "/usr/local/lib/python3.6/dist-packages/ipykernel_launcher.py:1: FutureWarning: The default value for dialect is changing to \"standard\" in a future version of pandas-gbq. Pass in dialect=\"legacy\" to disable this warning.\n",
            "  \"\"\"Entry point for launching an IPython kernel.\n"
          ],
          "name": "stderr"
        },
        {
          "output_type": "stream",
          "text": [
            "Please visit this URL to authorize this application: https://accounts.google.com/o/oauth2/auth?response_type=code&client_id=495642085510-k0tmvj2m941jhre2nbqka17vqpjfddtd.apps.googleusercontent.com&redirect_uri=urn%3Aietf%3Awg%3Aoauth%3A2.0%3Aoob&scope=https%3A%2F%2Fwww.googleapis.com%2Fauth%2Fbigquery&state=5i3n8OBz8iE9vOJglm3ftYcnGNA0Bx&prompt=consent&access_type=offline\n",
            "Enter the authorization code: 4/NQHt-pktFhy3rLlqgobuKmKxgr3X8omOquq-IsRy79vPXrTc8fCCPvU\n"
          ],
          "name": "stdout"
        }
      ]
    },
    {
      "metadata": {
        "id": "IxXzUudQ3mhK",
        "colab_type": "code",
        "colab": {
          "base_uri": "https://localhost:8080/",
          "height": 261
        },
        "outputId": "b90ae607-2d3f-4a91-aec1-806dc2599c36"
      },
      "cell_type": "code",
      "source": [
        "df.head()"
      ],
      "execution_count": 7,
      "outputs": [
        {
          "output_type": "execute_result",
          "data": {
            "text/html": [
              "<div>\n",
              "<style scoped>\n",
              "    .dataframe tbody tr th:only-of-type {\n",
              "        vertical-align: middle;\n",
              "    }\n",
              "\n",
              "    .dataframe tbody tr th {\n",
              "        vertical-align: top;\n",
              "    }\n",
              "\n",
              "    .dataframe thead th {\n",
              "        text-align: right;\n",
              "    }\n",
              "</style>\n",
              "<table border=\"1\" class=\"dataframe\">\n",
              "  <thead>\n",
              "    <tr style=\"text-align: right;\">\n",
              "      <th></th>\n",
              "      <th>research_id</th>\n",
              "      <th>school_year</th>\n",
              "      <th>last_name</th>\n",
              "      <th>first_name</th>\n",
              "      <th>entity_id</th>\n",
              "      <th>gender</th>\n",
              "      <th>raceethnicity</th>\n",
              "      <th>birth_year</th>\n",
              "      <th>contract_hire_agency</th>\n",
              "      <th>contract_high_degree</th>\n",
              "      <th>...</th>\n",
              "      <th>school_mailing_street_address</th>\n",
              "      <th>school_mailing_po_box</th>\n",
              "      <th>school_mailing_city</th>\n",
              "      <th>school_mailing_state</th>\n",
              "      <th>school_mailing_zip_code</th>\n",
              "      <th>district_mailing_street_address</th>\n",
              "      <th>district_mailing_po_box</th>\n",
              "      <th>district_mailing_city</th>\n",
              "      <th>district_mailing_state</th>\n",
              "      <th>district_mailing_zip_code</th>\n",
              "    </tr>\n",
              "  </thead>\n",
              "  <tbody>\n",
              "    <tr>\n",
              "      <th>0</th>\n",
              "      <td>90313</td>\n",
              "      <td>2018</td>\n",
              "      <td>Anderson</td>\n",
              "      <td>Gayle</td>\n",
              "      <td>673393.0</td>\n",
              "      <td>F</td>\n",
              "      <td>W - White</td>\n",
              "      <td>1948</td>\n",
              "      <td>None</td>\n",
              "      <td>None</td>\n",
              "      <td>...</td>\n",
              "      <td>755 Scheuring Rd</td>\n",
              "      <td>None</td>\n",
              "      <td>De Pere</td>\n",
              "      <td>WI</td>\n",
              "      <td>54115.0</td>\n",
              "      <td>755 Scheuring Rd</td>\n",
              "      <td>NaN</td>\n",
              "      <td>De Pere</td>\n",
              "      <td>WI</td>\n",
              "      <td>54115</td>\n",
              "    </tr>\n",
              "    <tr>\n",
              "      <th>1</th>\n",
              "      <td>23255</td>\n",
              "      <td>2018</td>\n",
              "      <td>Boudreau</td>\n",
              "      <td>Jennifer</td>\n",
              "      <td>440950.0</td>\n",
              "      <td>F</td>\n",
              "      <td>W - White</td>\n",
              "      <td>1967</td>\n",
              "      <td>None</td>\n",
              "      <td>None</td>\n",
              "      <td>...</td>\n",
              "      <td>755 Scheuring Rd</td>\n",
              "      <td>None</td>\n",
              "      <td>De Pere</td>\n",
              "      <td>WI</td>\n",
              "      <td>54115.0</td>\n",
              "      <td>755 Scheuring Rd</td>\n",
              "      <td>NaN</td>\n",
              "      <td>De Pere</td>\n",
              "      <td>WI</td>\n",
              "      <td>54115</td>\n",
              "    </tr>\n",
              "    <tr>\n",
              "      <th>2</th>\n",
              "      <td>148857</td>\n",
              "      <td>2018</td>\n",
              "      <td>Burkard</td>\n",
              "      <td>Brenda</td>\n",
              "      <td>808929.0</td>\n",
              "      <td>F</td>\n",
              "      <td>W - White</td>\n",
              "      <td>1971</td>\n",
              "      <td>None</td>\n",
              "      <td>None</td>\n",
              "      <td>...</td>\n",
              "      <td>755 Scheuring Rd</td>\n",
              "      <td>None</td>\n",
              "      <td>De Pere</td>\n",
              "      <td>WI</td>\n",
              "      <td>54115.0</td>\n",
              "      <td>755 Scheuring Rd</td>\n",
              "      <td>NaN</td>\n",
              "      <td>De Pere</td>\n",
              "      <td>WI</td>\n",
              "      <td>54115</td>\n",
              "    </tr>\n",
              "    <tr>\n",
              "      <th>3</th>\n",
              "      <td>78347</td>\n",
              "      <td>2018</td>\n",
              "      <td>Doucette</td>\n",
              "      <td>Patrick</td>\n",
              "      <td>57697.0</td>\n",
              "      <td>M</td>\n",
              "      <td>W - White</td>\n",
              "      <td>1951</td>\n",
              "      <td>None</td>\n",
              "      <td>None</td>\n",
              "      <td>...</td>\n",
              "      <td>755 Scheuring Rd</td>\n",
              "      <td>None</td>\n",
              "      <td>De Pere</td>\n",
              "      <td>WI</td>\n",
              "      <td>54115.0</td>\n",
              "      <td>755 Scheuring Rd</td>\n",
              "      <td>NaN</td>\n",
              "      <td>De Pere</td>\n",
              "      <td>WI</td>\n",
              "      <td>54115</td>\n",
              "    </tr>\n",
              "    <tr>\n",
              "      <th>4</th>\n",
              "      <td>40518</td>\n",
              "      <td>2018</td>\n",
              "      <td>Fossen-Rades</td>\n",
              "      <td>Christine</td>\n",
              "      <td>53515.0</td>\n",
              "      <td>F</td>\n",
              "      <td>W - White</td>\n",
              "      <td>1969</td>\n",
              "      <td>None</td>\n",
              "      <td>None</td>\n",
              "      <td>...</td>\n",
              "      <td>755 Scheuring Rd</td>\n",
              "      <td>None</td>\n",
              "      <td>De Pere</td>\n",
              "      <td>WI</td>\n",
              "      <td>54115.0</td>\n",
              "      <td>755 Scheuring Rd</td>\n",
              "      <td>NaN</td>\n",
              "      <td>De Pere</td>\n",
              "      <td>WI</td>\n",
              "      <td>54115</td>\n",
              "    </tr>\n",
              "  </tbody>\n",
              "</table>\n",
              "<p>5 rows × 44 columns</p>\n",
              "</div>"
            ],
            "text/plain": [
              "   research_id  school_year     last_name first_name  entity_id gender  \\\n",
              "0        90313         2018      Anderson      Gayle   673393.0      F   \n",
              "1        23255         2018      Boudreau   Jennifer   440950.0      F   \n",
              "2       148857         2018       Burkard     Brenda   808929.0      F   \n",
              "3        78347         2018      Doucette    Patrick    57697.0      M   \n",
              "4        40518         2018  Fossen-Rades  Christine    53515.0      F   \n",
              "\n",
              "  raceethnicity  birth_year contract_hire_agency contract_high_degree  ...  \\\n",
              "0     W - White        1948                 None                 None  ...   \n",
              "1     W - White        1967                 None                 None  ...   \n",
              "2     W - White        1971                 None                 None  ...   \n",
              "3     W - White        1951                 None                 None  ...   \n",
              "4     W - White        1969                 None                 None  ...   \n",
              "\n",
              "   school_mailing_street_address  school_mailing_po_box  school_mailing_city  \\\n",
              "0               755 Scheuring Rd                   None              De Pere   \n",
              "1               755 Scheuring Rd                   None              De Pere   \n",
              "2               755 Scheuring Rd                   None              De Pere   \n",
              "3               755 Scheuring Rd                   None              De Pere   \n",
              "4               755 Scheuring Rd                   None              De Pere   \n",
              "\n",
              "  school_mailing_state school_mailing_zip_code  \\\n",
              "0                   WI                 54115.0   \n",
              "1                   WI                 54115.0   \n",
              "2                   WI                 54115.0   \n",
              "3                   WI                 54115.0   \n",
              "4                   WI                 54115.0   \n",
              "\n",
              "  district_mailing_street_address district_mailing_po_box  \\\n",
              "0                755 Scheuring Rd                     NaN   \n",
              "1                755 Scheuring Rd                     NaN   \n",
              "2                755 Scheuring Rd                     NaN   \n",
              "3                755 Scheuring Rd                     NaN   \n",
              "4                755 Scheuring Rd                     NaN   \n",
              "\n",
              "  district_mailing_city district_mailing_state district_mailing_zip_code  \n",
              "0               De Pere                     WI                     54115  \n",
              "1               De Pere                     WI                     54115  \n",
              "2               De Pere                     WI                     54115  \n",
              "3               De Pere                     WI                     54115  \n",
              "4               De Pere                     WI                     54115  \n",
              "\n",
              "[5 rows x 44 columns]"
            ]
          },
          "metadata": {
            "tags": []
          },
          "execution_count": 7
        }
      ]
    },
    {
      "metadata": {
        "id": "hxile4lcOPLW",
        "colab_type": "code",
        "colab": {
          "base_uri": "https://localhost:8080/",
          "height": 879
        },
        "outputId": "154bb86d-f5fa-455c-e1bb-8b3fdd4a304b"
      },
      "cell_type": "code",
      "source": [
        "df.info()"
      ],
      "execution_count": 8,
      "outputs": [
        {
          "output_type": "stream",
          "text": [
            "<class 'pandas.core.frame.DataFrame'>\n",
            "RangeIndex: 187344 entries, 0 to 187343\n",
            "Data columns (total 44 columns):\n",
            "research_id                        187344 non-null int64\n",
            "school_year                        187344 non-null int64\n",
            "last_name                          187344 non-null object\n",
            "first_name                         187344 non-null object\n",
            "entity_id                          142718 non-null float64\n",
            "gender                             187344 non-null object\n",
            "raceethnicity                      187344 non-null object\n",
            "birth_year                         187344 non-null int64\n",
            "contract_hire_agency               107926 non-null object\n",
            "contract_high_degree               107898 non-null object\n",
            "contract_days                      107926 non-null float64\n",
            "contract_local_experience          107926 non-null float64\n",
            "contract_total_experience          107926 non-null float64\n",
            "total_salary                       107926 non-null object\n",
            "total_fringe                       107898 non-null object\n",
            "assignment_area                    187344 non-null object\n",
            "assignment_staff_category          187344 non-null object\n",
            "position_classification            174570 non-null object\n",
            "hire_agency                        187344 non-null object\n",
            "assignment_hire_agency_type        187344 non-null object\n",
            "assignment_work_agency             187344 non-null object\n",
            "work_agency_type                   187344 non-null object\n",
            "assignment_work_school             187344 non-null object\n",
            "assignment_work_cesa_number        187041 non-null float64\n",
            "assignment_work_county             187344 non-null object\n",
            "assignment_work_school_level       147475 non-null object\n",
            "assignment_position                187344 non-null object\n",
            "assignment_fte                     161157 non-null float64\n",
            "assignment_grades_served           78265 non-null object\n",
            "assignment_long_term_substitute    95171 non-null object\n",
            "assignment_bilingual_program       75664 non-null object\n",
            "assignment_alternative_program     73144 non-null object\n",
            "assignment_subcontracted           187299 non-null object\n",
            "assignment_requires_dpi_license    187344 non-null object\n",
            "school_mailing_street_address      131506 non-null object\n",
            "school_mailing_po_box              15666 non-null object\n",
            "school_mailing_city                147172 non-null object\n",
            "school_mailing_state               147172 non-null object\n",
            "school_mailing_zip_code            147172 non-null float64\n",
            "district_mailing_street_address    140239 non-null object\n",
            "district_mailing_po_box            47105 non-null float64\n",
            "district_mailing_city              187344 non-null object\n",
            "district_mailing_state             187344 non-null object\n",
            "district_mailing_zip_code          187344 non-null int64\n",
            "dtypes: float64(8), int64(4), object(32)\n",
            "memory usage: 62.9+ MB\n"
          ],
          "name": "stdout"
        }
      ]
    },
    {
      "metadata": {
        "id": "LCjYLLZFroFD",
        "colab_type": "code",
        "colab": {
          "base_uri": "https://localhost:8080/",
          "height": 52
        },
        "outputId": "f13ec8b3-27ff-49ae-accf-284985efee34"
      },
      "cell_type": "code",
      "source": [
        "# df.count() does not include NaN values\n",
        "df2 = df[[column for column in df if df[column].count() / len(df) >= 0.3]]\n",
        "#del df2['Id']\n",
        "print(\"List of dropped columns:\", end=\" \")\n",
        "for c in df.columns:\n",
        "    if c not in df2.columns:\n",
        "        print(c, end=\", \")\n",
        "print('\\n')\n",
        "df = df2"
      ],
      "execution_count": 9,
      "outputs": [
        {
          "output_type": "stream",
          "text": [
            "List of dropped columns: school_mailing_po_box, district_mailing_po_box, \n",
            "\n"
          ],
          "name": "stdout"
        }
      ]
    },
    {
      "metadata": {
        "id": "frmUaxbnwieB",
        "colab_type": "code",
        "colab": {}
      },
      "cell_type": "code",
      "source": [
        "df['total_salary'] = df['total_salary'].apply(lambda x: convert_currency(x) if pd.notnull(x) else x)\n",
        "#df['total_salary'].map(convert_currency({}), na_action='ignore')"
      ],
      "execution_count": 0,
      "outputs": []
    },
    {
      "metadata": {
        "id": "j6DSfbSg380e",
        "colab_type": "code",
        "colab": {
          "base_uri": "https://localhost:8080/",
          "height": 1108
        },
        "outputId": "41d178f0-1885-4154-baa4-fc960ff4b4f9"
      },
      "cell_type": "code",
      "source": [
        "df['total_salary'][df['total_salary'].notnull()]"
      ],
      "execution_count": 22,
      "outputs": [
        {
          "output_type": "execute_result",
          "data": {
            "text/plain": [
              "208       17664.0\n",
              "280       25549.0\n",
              "374       31391.0\n",
              "375       12615.0\n",
              "376       18713.0\n",
              "529       22526.0\n",
              "612       21000.0\n",
              "613       25200.0\n",
              "685        4319.0\n",
              "1004      21802.0\n",
              "1005      26386.0\n",
              "1455       5000.0\n",
              "1509       8825.0\n",
              "1510       8825.0\n",
              "1511       8825.0\n",
              "1512       8825.0\n",
              "1991      22701.0\n",
              "2095      11500.0\n",
              "2173       5599.0\n",
              "2274      22965.0\n",
              "2733       8425.0\n",
              "2734       2500.0\n",
              "2790      18926.0\n",
              "2967      20000.0\n",
              "3329      12086.0\n",
              "3330      21057.0\n",
              "3331       6612.0\n",
              "3343       7363.0\n",
              "3482      24016.0\n",
              "4057      19067.0\n",
              "           ...   \n",
              "183240    20000.0\n",
              "184352     7809.0\n",
              "184373    16099.0\n",
              "185512    40833.0\n",
              "185513    42787.0\n",
              "185514    63464.0\n",
              "185515    28041.0\n",
              "185516    56371.0\n",
              "185517    56371.0\n",
              "185518    45270.0\n",
              "185519     4673.0\n",
              "185520    34204.0\n",
              "185521    36744.0\n",
              "185522    32709.0\n",
              "185523    48504.0\n",
              "185524    44994.0\n",
              "185525    33165.0\n",
              "185526    40833.0\n",
              "185527    63464.0\n",
              "185528    49242.0\n",
              "185529    45931.0\n",
              "185530    39545.0\n",
              "185531    37759.0\n",
              "185532    33821.0\n",
              "185533    49658.0\n",
              "185534     6896.0\n",
              "185535    20548.0\n",
              "186779    21200.0\n",
              "186780    20525.0\n",
              "187286    14837.0\n",
              "Name: total_salary, Length: 107926, dtype: float64"
            ]
          },
          "metadata": {
            "tags": []
          },
          "execution_count": 22
        }
      ]
    },
    {
      "metadata": {
        "id": "bZ5rOsQvtB4s",
        "colab_type": "code",
        "colab": {
          "base_uri": "https://localhost:8080/",
          "height": 833
        },
        "outputId": "e2d76e09-4c91-4b14-ac60-81654e7e5a3b"
      },
      "cell_type": "code",
      "source": [
        "print(df['total_salary'].describe())\n",
        "plt.figure(figsize=(9, 8))\n",
        "#sns.distplot(df['total_salary'], color='g', bins=100);\n",
        "sns.distplot(df['total_salary'], color='g', bins=100, hist_kws={'alpha': 0.4})"
      ],
      "execution_count": 24,
      "outputs": [
        {
          "output_type": "stream",
          "text": [
            "count    107926.000000\n",
            "mean      56725.224283\n",
            "std       16923.958347\n",
            "min         258.000000\n",
            "25%       44984.000000\n",
            "50%       55000.000000\n",
            "75%       65890.000000\n",
            "max      255000.000000\n",
            "Name: total_salary, dtype: float64\n"
          ],
          "name": "stdout"
        },
        {
          "output_type": "stream",
          "text": [
            "/usr/local/lib/python3.6/dist-packages/numpy/lib/histograms.py:824: RuntimeWarning: invalid value encountered in greater_equal\n",
            "  keep = (tmp_a >= first_edge)\n",
            "/usr/local/lib/python3.6/dist-packages/numpy/lib/histograms.py:825: RuntimeWarning: invalid value encountered in less_equal\n",
            "  keep &= (tmp_a <= last_edge)\n",
            "/usr/local/lib/python3.6/dist-packages/statsmodels/nonparametric/kde.py:448: RuntimeWarning: invalid value encountered in greater\n",
            "  X = X[np.logical_and(X > clip[0], X < clip[1])] # won't work for two columns.\n",
            "/usr/local/lib/python3.6/dist-packages/statsmodels/nonparametric/kde.py:448: RuntimeWarning: invalid value encountered in less\n",
            "  X = X[np.logical_and(X > clip[0], X < clip[1])] # won't work for two columns.\n"
          ],
          "name": "stderr"
        },
        {
          "output_type": "execute_result",
          "data": {
            "text/plain": [
              "<matplotlib.axes._subplots.AxesSubplot at 0x7ff7dfda5a90>"
            ]
          },
          "metadata": {
            "tags": []
          },
          "execution_count": 24
        },
        {
          "output_type": "display_data",
          "data": {
            "image/png": "[encoded data removed]",
            "text/plain": [
              "<Figure size 648x576 with 1 Axes>"
            ]
          },
          "metadata": {
            "tags": []
          }
        }
      ]
    },
    {
      "metadata": {
        "id": "pz3H_J1xteSc",
        "colab_type": "code",
        "colab": {}
      },
      "cell_type": "code",
      "source": [
        ""
      ],
      "execution_count": 0,
      "outputs": []
    }
  ]
}