{
  "nbformat": 4,
  "nbformat_minor": 0,
  "metadata": {
    "colab": {
      "name": "wi-dpi-all-staff-eda.ipynb",
      "version": "0.3.2",
      "provenance": [],
      "toc_visible": true
    },
    "kernelspec": {
      "name": "python3",
      "display_name": "Python 3"
    }
  },
  "cells": [
    {
      "metadata": {
        "id": "FYnVbPCC1u1b",
        "colab_type": "text"
      },
      "cell_type": "markdown",
      "source": [
        "# Salary and Education in Wisconsin"
      ]
    },
    {
      "metadata": {
        "id": "JixlqF171iMF",
        "colab_type": "text"
      },
      "cell_type": "markdown",
      "source": [
        "This notebook is intended to describe analysis on salaries of teachers within the Wisconsin Department of Public Instruction."
      ]
    },
    {
      "metadata": {
        "id": "VIzr1UNerQWw",
        "colab_type": "text"
      },
      "cell_type": "markdown",
      "source": [
        "## Preparation"
      ]
    },
    {
      "metadata": {
        "id": "DhwK8pzspUrA",
        "colab_type": "text"
      },
      "cell_type": "markdown",
      "source": [
        "### Load libraries\n",
        "Only needed to load data to BigQuery"
      ]
    },
    {
      "metadata": {
        "id": "XtR-jFKmrP9f",
        "colab_type": "code",
        "colab": {}
      },
      "cell_type": "code",
      "source": [
        ""
      ],
      "execution_count": 0,
      "outputs": []
    },
    {
      "metadata": {
        "id": "u1Lqa5-u982K",
        "colab_type": "code",
        "colab": {}
      },
      "cell_type": "code",
      "source": [
        "!pip install gcsfs\n",
        "!pip install pandas-gbq -U\n",
        "import gcsfs"
      ],
      "execution_count": 0,
      "outputs": []
    },
    {
      "metadata": {
        "id": "vOdf51fEvTs3",
        "colab_type": "text"
      },
      "cell_type": "markdown",
      "source": [
        "### Import Libraries"
      ]
    },
    {
      "metadata": {
        "id": "jh2eOMqCvXMo",
        "colab_type": "code",
        "colab": {}
      },
      "cell_type": "code",
      "source": [
        "import numpy as np\n",
        "import pandas as pd\n",
        "import seaborn as sns\n",
        "import matplotlib.pyplot as plt\n",
        "\n",
        "from google.cloud import bigquery"
      ],
      "execution_count": 0,
      "outputs": []
    },
    {
      "metadata": {
        "id": "qoO7YTTFviOg",
        "colab_type": "code",
        "colab": {}
      },
      "cell_type": "code",
      "source": [
        "%matplotlib inline\n",
        "plt.style.use('bmh')"
      ],
      "execution_count": 0,
      "outputs": []
    },
    {
      "metadata": {
        "id": "4brDC4DU-Iwq",
        "colab_type": "code",
        "colab": {}
      },
      "cell_type": "code",
      "source": [
        "project_id='wi-dpi-010'\n",
        "raw_data_bucket_name='landing-009'\n",
        "source_name='all_staff_report'\n",
        "year='2017_2018'\n",
        "filename='AllStaffReportPublic__04152019_194414.csv'\n",
        "full_filename=raw_data_bucket_name + '/' + source_name + '/' + year + '/' + filename\n",
        "\n",
        "dataset_name='landing'\n",
        "table_name=source_name\n",
        "landing_bq_fullname=dataset_name + '.' + table_name\n",
        "\n"
      ],
      "execution_count": 0,
      "outputs": []
    },
    {
      "metadata": {
        "id": "UfqK__FMONeR",
        "colab_type": "text"
      },
      "cell_type": "markdown",
      "source": [
        "### Functions"
      ]
    },
    {
      "metadata": {
        "id": "yAvU_MEyOJ4m",
        "colab_type": "code",
        "colab": {}
      },
      "cell_type": "code",
      "source": [
        "def create_dataset(client, project_id, dataset_name):\n",
        "  \n",
        "  \n",
        "  dataset_id = \"{}.{}\".format(project_id, dataset_name)\n",
        "  dataset = bigquery.Dataset(dataset_id)\n",
        "  dataset.location = \"US\"\n",
        "\n",
        "  dataset = client.create_dataset(dataset)\n",
        "  print(\"Created dataset {}.{}\".format(client.project, dataset.dataset_id))"
      ],
      "execution_count": 0,
      "outputs": []
    },
    {
      "metadata": {
        "id": "X2G4rHUdxXYs",
        "colab_type": "code",
        "colab": {}
      },
      "cell_type": "code",
      "source": [
        "def convert_currency(val):\n",
        "    \"\"\"\n",
        "    Convert the string number value to a float\n",
        "     - Remove $\n",
        "     - Remove commas\n",
        "     - Convert to float type\n",
        "    \"\"\"\n",
        "    new_val = val.replace(',','').replace('$', '')\n",
        "    return float(new_val)"
      ],
      "execution_count": 0,
      "outputs": []
    },
    {
      "metadata": {
        "id": "Y_qwhCX12Yxz",
        "colab_type": "text"
      },
      "cell_type": "markdown",
      "source": [
        "### Load Data"
      ]
    },
    {
      "metadata": {
        "id": "2GkRUyVs2cTL",
        "colab_type": "text"
      },
      "cell_type": "markdown",
      "source": [
        "Data can be retrieved from the GCP Bucket."
      ]
    },
    {
      "metadata": {
        "id": "XaySm9Da9Q6L",
        "colab_type": "code",
        "colab": {}
      },
      "cell_type": "code",
      "source": [
        "# Authenticate to GCS.\n",
        "from google.colab import auth\n",
        "auth.authenticate_user()"
      ],
      "execution_count": 0,
      "outputs": []
    },
    {
      "metadata": {
        "id": "TMMIKRn5p8dv",
        "colab_type": "code",
        "colab": {}
      },
      "cell_type": "code",
      "source": [
        "client = bigquery.Client(project_id)"
      ],
      "execution_count": 0,
      "outputs": []
    },
    {
      "metadata": {
        "id": "ITv-xEEMOGX_",
        "colab_type": "code",
        "colab": {}
      },
      "cell_type": "code",
      "source": [
        "create_dataset(client, project_id, dataset_name)"
      ],
      "execution_count": 0,
      "outputs": []
    },
    {
      "metadata": {
        "id": "mfZ60Z8QBi0c",
        "colab_type": "code",
        "colab": {}
      },
      "cell_type": "code",
      "source": [
        "fs = gcsfs.GCSFileSystem(project=project_id)\n",
        "with fs.open(full_filename) as f:\n",
        "  df = pd.read_csv(f, skiprows=1)"
      ],
      "execution_count": 0,
      "outputs": []
    },
    {
      "metadata": {
        "id": "YChsG_uwCnZc",
        "colab_type": "code",
        "colab": {}
      },
      "cell_type": "code",
      "source": [
        "df.columns = df.columns.str.strip().str.lower().str.replace(' ', '_').str.replace('(', '').str.replace(')', '')\n",
        "df.to_gbq(landing_bq_fullname,project_id=project_id,if_exists='replace')"
      ],
      "execution_count": 0,
      "outputs": []
    },
    {
      "metadata": {
        "id": "6TcmnH4LvLm4",
        "colab_type": "text"
      },
      "cell_type": "markdown",
      "source": [
        "# Exploratory Data Analysis"
      ]
    },
    {
      "metadata": {
        "id": "0MUHXhNppH3_",
        "colab_type": "text"
      },
      "cell_type": "markdown",
      "source": [
        "The following fields are Integers; but have Nulls in the columns. \n",
        "\n",
        "As such they are loaded as floats:\n",
        "\n",
        "1.  entity_id\n",
        "2.  assignment_work_cesa_number\n",
        "3.  district_mailing_po_box\n"
      ]
    },
    {
      "metadata": {
        "id": "_MpK4xoJx1vZ",
        "colab_type": "code",
        "colab": {}
      },
      "cell_type": "code",
      "source": [
        "query = '''\n",
        "  SELECT\n",
        "    *\n",
        "  FROM\n",
        "    [{project}.{dataset}.{table}]\n",
        " '''.format(project=project_id, dataset=dataset_name, table=table_name)"
      ],
      "execution_count": 0,
      "outputs": []
    },
    {
      "metadata": {
        "id": "DmZJbGMpsBcK",
        "colab_type": "code",
        "outputId": "b4ad0621-dc08-444c-ca3d-80f248594701",
        "colab": {
          "base_uri": "https://localhost:8080/",
          "height": 72
        }
      },
      "cell_type": "code",
      "source": [
        "df = pd.io.gbq.read_gbq(query, project_id=project_id, reauth=True)"
      ],
      "execution_count": 9,
      "outputs": [
        {
          "output_type": "stream",
          "text": [
            "/usr/local/lib/python3.6/dist-packages/ipykernel_launcher.py:1: FutureWarning: The default value for dialect is changing to \"standard\" in a future version of pandas-gbq. Pass in dialect=\"legacy\" to disable this warning.\n",
            "  \"\"\"Entry point for launching an IPython kernel.\n"
          ],
          "name": "stderr"
        }
      ]
    },
    {
      "metadata": {
        "id": "IxXzUudQ3mhK",
        "colab_type": "code",
        "outputId": "e36d6179-d764-42c0-b804-1b9f1c05dec9",
        "colab": {
          "base_uri": "https://localhost:8080/",
          "height": 261
        }
      },
      "cell_type": "code",
      "source": [
        "df.head()"
      ],
      "execution_count": 10,
      "outputs": [
        {
          "output_type": "execute_result",
          "data": {
            "text/html": [
              "<div>\n",
              "<style scoped>\n",
              "    .dataframe tbody tr th:only-of-type {\n",
              "        vertical-align: middle;\n",
              "    }\n",
              "\n",
              "    .dataframe tbody tr th {\n",
              "        vertical-align: top;\n",
              "    }\n",
              "\n",
              "    .dataframe thead th {\n",
              "        text-align: right;\n",
              "    }\n",
              "</style>\n",
              "<table border=\"1\" class=\"dataframe\">\n",
              "  <thead>\n",
              "    <tr style=\"text-align: right;\">\n",
              "      <th></th>\n",
              "      <th>research_id</th>\n",
              "      <th>school_year</th>\n",
              "      <th>last_name</th>\n",
              "      <th>first_name</th>\n",
              "      <th>entity_id</th>\n",
              "      <th>gender</th>\n",
              "      <th>raceethnicity</th>\n",
              "      <th>birth_year</th>\n",
              "      <th>contract_hire_agency</th>\n",
              "      <th>contract_high_degree</th>\n",
              "      <th>...</th>\n",
              "      <th>school_mailing_street_address</th>\n",
              "      <th>school_mailing_po_box</th>\n",
              "      <th>school_mailing_city</th>\n",
              "      <th>school_mailing_state</th>\n",
              "      <th>school_mailing_zip_code</th>\n",
              "      <th>district_mailing_street_address</th>\n",
              "      <th>district_mailing_po_box</th>\n",
              "      <th>district_mailing_city</th>\n",
              "      <th>district_mailing_state</th>\n",
              "      <th>district_mailing_zip_code</th>\n",
              "    </tr>\n",
              "  </thead>\n",
              "  <tbody>\n",
              "    <tr>\n",
              "      <th>0</th>\n",
              "      <td>90313</td>\n",
              "      <td>2018</td>\n",
              "      <td>Anderson</td>\n",
              "      <td>Gayle</td>\n",
              "      <td>673393.0</td>\n",
              "      <td>F</td>\n",
              "      <td>W - White</td>\n",
              "      <td>1948</td>\n",
              "      <td>None</td>\n",
              "      <td>None</td>\n",
              "      <td>...</td>\n",
              "      <td>755 Scheuring Rd</td>\n",
              "      <td>None</td>\n",
              "      <td>De Pere</td>\n",
              "      <td>WI</td>\n",
              "      <td>54115.0</td>\n",
              "      <td>755 Scheuring Rd</td>\n",
              "      <td>NaN</td>\n",
              "      <td>De Pere</td>\n",
              "      <td>WI</td>\n",
              "      <td>54115</td>\n",
              "    </tr>\n",
              "    <tr>\n",
              "      <th>1</th>\n",
              "      <td>23255</td>\n",
              "      <td>2018</td>\n",
              "      <td>Boudreau</td>\n",
              "      <td>Jennifer</td>\n",
              "      <td>440950.0</td>\n",
              "      <td>F</td>\n",
              "      <td>W - White</td>\n",
              "      <td>1967</td>\n",
              "      <td>None</td>\n",
              "      <td>None</td>\n",
              "      <td>...</td>\n",
              "      <td>755 Scheuring Rd</td>\n",
              "      <td>None</td>\n",
              "      <td>De Pere</td>\n",
              "      <td>WI</td>\n",
              "      <td>54115.0</td>\n",
              "      <td>755 Scheuring Rd</td>\n",
              "      <td>NaN</td>\n",
              "      <td>De Pere</td>\n",
              "      <td>WI</td>\n",
              "      <td>54115</td>\n",
              "    </tr>\n",
              "    <tr>\n",
              "      <th>2</th>\n",
              "      <td>148857</td>\n",
              "      <td>2018</td>\n",
              "      <td>Burkard</td>\n",
              "      <td>Brenda</td>\n",
              "      <td>808929.0</td>\n",
              "      <td>F</td>\n",
              "      <td>W - White</td>\n",
              "      <td>1971</td>\n",
              "      <td>None</td>\n",
              "      <td>None</td>\n",
              "      <td>...</td>\n",
              "      <td>755 Scheuring Rd</td>\n",
              "      <td>None</td>\n",
              "      <td>De Pere</td>\n",
              "      <td>WI</td>\n",
              "      <td>54115.0</td>\n",
              "      <td>755 Scheuring Rd</td>\n",
              "      <td>NaN</td>\n",
              "      <td>De Pere</td>\n",
              "      <td>WI</td>\n",
              "      <td>54115</td>\n",
              "    </tr>\n",
              "    <tr>\n",
              "      <th>3</th>\n",
              "      <td>78347</td>\n",
              "      <td>2018</td>\n",
              "      <td>Doucette</td>\n",
              "      <td>Patrick</td>\n",
              "      <td>57697.0</td>\n",
              "      <td>M</td>\n",
              "      <td>W - White</td>\n",
              "      <td>1951</td>\n",
              "      <td>None</td>\n",
              "      <td>None</td>\n",
              "      <td>...</td>\n",
              "      <td>755 Scheuring Rd</td>\n",
              "      <td>None</td>\n",
              "      <td>De Pere</td>\n",
              "      <td>WI</td>\n",
              "      <td>54115.0</td>\n",
              "      <td>755 Scheuring Rd</td>\n",
              "      <td>NaN</td>\n",
              "      <td>De Pere</td>\n",
              "      <td>WI</td>\n",
              "      <td>54115</td>\n",
              "    </tr>\n",
              "    <tr>\n",
              "      <th>4</th>\n",
              "      <td>40518</td>\n",
              "      <td>2018</td>\n",
              "      <td>Fossen-Rades</td>\n",
              "      <td>Christine</td>\n",
              "      <td>53515.0</td>\n",
              "      <td>F</td>\n",
              "      <td>W - White</td>\n",
              "      <td>1969</td>\n",
              "      <td>None</td>\n",
              "      <td>None</td>\n",
              "      <td>...</td>\n",
              "      <td>755 Scheuring Rd</td>\n",
              "      <td>None</td>\n",
              "      <td>De Pere</td>\n",
              "      <td>WI</td>\n",
              "      <td>54115.0</td>\n",
              "      <td>755 Scheuring Rd</td>\n",
              "      <td>NaN</td>\n",
              "      <td>De Pere</td>\n",
              "      <td>WI</td>\n",
              "      <td>54115</td>\n",
              "    </tr>\n",
              "  </tbody>\n",
              "</table>\n",
              "<p>5 rows × 44 columns</p>\n",
              "</div>"
            ],
            "text/plain": [
              "   research_id  school_year     last_name first_name  entity_id gender  \\\n",
              "0        90313         2018      Anderson      Gayle   673393.0      F   \n",
              "1        23255         2018      Boudreau   Jennifer   440950.0      F   \n",
              "2       148857         2018       Burkard     Brenda   808929.0      F   \n",
              "3        78347         2018      Doucette    Patrick    57697.0      M   \n",
              "4        40518         2018  Fossen-Rades  Christine    53515.0      F   \n",
              "\n",
              "  raceethnicity  birth_year contract_hire_agency contract_high_degree  ...  \\\n",
              "0     W - White        1948                 None                 None  ...   \n",
              "1     W - White        1967                 None                 None  ...   \n",
              "2     W - White        1971                 None                 None  ...   \n",
              "3     W - White        1951                 None                 None  ...   \n",
              "4     W - White        1969                 None                 None  ...   \n",
              "\n",
              "   school_mailing_street_address  school_mailing_po_box  school_mailing_city  \\\n",
              "0               755 Scheuring Rd                   None              De Pere   \n",
              "1               755 Scheuring Rd                   None              De Pere   \n",
              "2               755 Scheuring Rd                   None              De Pere   \n",
              "3               755 Scheuring Rd                   None              De Pere   \n",
              "4               755 Scheuring Rd                   None              De Pere   \n",
              "\n",
              "  school_mailing_state school_mailing_zip_code  \\\n",
              "0                   WI                 54115.0   \n",
              "1                   WI                 54115.0   \n",
              "2                   WI                 54115.0   \n",
              "3                   WI                 54115.0   \n",
              "4                   WI                 54115.0   \n",
              "\n",
              "  district_mailing_street_address district_mailing_po_box  \\\n",
              "0                755 Scheuring Rd                     NaN   \n",
              "1                755 Scheuring Rd                     NaN   \n",
              "2                755 Scheuring Rd                     NaN   \n",
              "3                755 Scheuring Rd                     NaN   \n",
              "4                755 Scheuring Rd                     NaN   \n",
              "\n",
              "  district_mailing_city district_mailing_state district_mailing_zip_code  \n",
              "0               De Pere                     WI                     54115  \n",
              "1               De Pere                     WI                     54115  \n",
              "2               De Pere                     WI                     54115  \n",
              "3               De Pere                     WI                     54115  \n",
              "4               De Pere                     WI                     54115  \n",
              "\n",
              "[5 rows x 44 columns]"
            ]
          },
          "metadata": {
            "tags": []
          },
          "execution_count": 10
        }
      ]
    },
    {
      "metadata": {
        "id": "hxile4lcOPLW",
        "colab_type": "code",
        "outputId": "d18139fc-eb4b-4332-f114-b5e72e1e3f6c",
        "colab": {
          "base_uri": "https://localhost:8080/",
          "height": 879
        }
      },
      "cell_type": "code",
      "source": [
        "df.info()"
      ],
      "execution_count": 11,
      "outputs": [
        {
          "output_type": "stream",
          "text": [
            "<class 'pandas.core.frame.DataFrame'>\n",
            "RangeIndex: 187344 entries, 0 to 187343\n",
            "Data columns (total 44 columns):\n",
            "research_id                        187344 non-null int64\n",
            "school_year                        187344 non-null int64\n",
            "last_name                          187344 non-null object\n",
            "first_name                         187344 non-null object\n",
            "entity_id                          142718 non-null float64\n",
            "gender                             187344 non-null object\n",
            "raceethnicity                      187344 non-null object\n",
            "birth_year                         187344 non-null int64\n",
            "contract_hire_agency               107926 non-null object\n",
            "contract_high_degree               107898 non-null object\n",
            "contract_days                      107926 non-null float64\n",
            "contract_local_experience          107926 non-null float64\n",
            "contract_total_experience          107926 non-null float64\n",
            "total_salary                       107926 non-null object\n",
            "total_fringe                       107898 non-null object\n",
            "assignment_area                    187344 non-null object\n",
            "assignment_staff_category          187344 non-null object\n",
            "position_classification            174570 non-null object\n",
            "hire_agency                        187344 non-null object\n",
            "assignment_hire_agency_type        187344 non-null object\n",
            "assignment_work_agency             187344 non-null object\n",
            "work_agency_type                   187344 non-null object\n",
            "assignment_work_school             187344 non-null object\n",
            "assignment_work_cesa_number        187041 non-null float64\n",
            "assignment_work_county             187344 non-null object\n",
            "assignment_work_school_level       147475 non-null object\n",
            "assignment_position                187344 non-null object\n",
            "assignment_fte                     161157 non-null float64\n",
            "assignment_grades_served           78265 non-null object\n",
            "assignment_long_term_substitute    95171 non-null object\n",
            "assignment_bilingual_program       75664 non-null object\n",
            "assignment_alternative_program     73144 non-null object\n",
            "assignment_subcontracted           187299 non-null object\n",
            "assignment_requires_dpi_license    187344 non-null object\n",
            "school_mailing_street_address      131506 non-null object\n",
            "school_mailing_po_box              15666 non-null object\n",
            "school_mailing_city                147172 non-null object\n",
            "school_mailing_state               147172 non-null object\n",
            "school_mailing_zip_code            147172 non-null float64\n",
            "district_mailing_street_address    140239 non-null object\n",
            "district_mailing_po_box            47105 non-null float64\n",
            "district_mailing_city              187344 non-null object\n",
            "district_mailing_state             187344 non-null object\n",
            "district_mailing_zip_code          187344 non-null int64\n",
            "dtypes: float64(8), int64(4), object(32)\n",
            "memory usage: 62.9+ MB\n"
          ],
          "name": "stdout"
        }
      ]
    },
    {
      "metadata": {
        "id": "LCjYLLZFroFD",
        "colab_type": "code",
        "outputId": "4f760976-3449-4890-ad95-4e4cf55c9675",
        "colab": {
          "base_uri": "https://localhost:8080/",
          "height": 52
        }
      },
      "cell_type": "code",
      "source": [
        "# df.count() does not include NaN values\n",
        "df2 = df[[column for column in df if df[column].count() / len(df) >= 0.3]]\n",
        "#del df2['Id']\n",
        "print(\"List of dropped columns:\", end=\" \")\n",
        "for c in df.columns:\n",
        "    if c not in df2.columns:\n",
        "        print(c, end=\", \")\n",
        "print('\\n')\n",
        "df = df2"
      ],
      "execution_count": 12,
      "outputs": [
        {
          "output_type": "stream",
          "text": [
            "List of dropped columns: school_mailing_po_box, district_mailing_po_box, \n",
            "\n"
          ],
          "name": "stdout"
        }
      ]
    },
    {
      "metadata": {
        "id": "frmUaxbnwieB",
        "colab_type": "code",
        "colab": {}
      },
      "cell_type": "code",
      "source": [
        "df['total_salary'] = df['total_salary'].apply(lambda x: convert_currency(x) if pd.notnull(x) else x)\n",
        "df['total_fringe'] = df['total_fringe'].apply(lambda x: convert_currency(x) if pd.notnull(x) else x)\n"
      ],
      "execution_count": 0,
      "outputs": []
    },
    {
      "metadata": {
        "id": "j6DSfbSg380e",
        "colab_type": "code",
        "outputId": "88ba65e5-2b14-4b31-e064-2d9d95d5091a",
        "colab": {
          "base_uri": "https://localhost:8080/",
          "height": 1108
        }
      },
      "cell_type": "code",
      "source": [
        "df['total_salary'][df['total_salary'].notnull()]"
      ],
      "execution_count": 14,
      "outputs": [
        {
          "output_type": "execute_result",
          "data": {
            "text/plain": [
              "208       17664.0\n",
              "280       25549.0\n",
              "374       31391.0\n",
              "375       12615.0\n",
              "376       18713.0\n",
              "529       22526.0\n",
              "612       21000.0\n",
              "613       25200.0\n",
              "685        4319.0\n",
              "1004      21802.0\n",
              "1005      26386.0\n",
              "1455       5000.0\n",
              "1509       8825.0\n",
              "1510       8825.0\n",
              "1511       8825.0\n",
              "1512       8825.0\n",
              "1991      22701.0\n",
              "2095      11500.0\n",
              "2173       5599.0\n",
              "2274      22965.0\n",
              "2733       8425.0\n",
              "2734       2500.0\n",
              "2790      18926.0\n",
              "2967      20000.0\n",
              "3329      12086.0\n",
              "3330      21057.0\n",
              "3331       6612.0\n",
              "3343       7363.0\n",
              "3482      24016.0\n",
              "4057      19067.0\n",
              "           ...   \n",
              "183240    20000.0\n",
              "184352     7809.0\n",
              "184373    16099.0\n",
              "185512    40833.0\n",
              "185513    42787.0\n",
              "185514    63464.0\n",
              "185515    28041.0\n",
              "185516    56371.0\n",
              "185517    56371.0\n",
              "185518    45270.0\n",
              "185519     4673.0\n",
              "185520    34204.0\n",
              "185521    36744.0\n",
              "185522    32709.0\n",
              "185523    48504.0\n",
              "185524    44994.0\n",
              "185525    33165.0\n",
              "185526    40833.0\n",
              "185527    63464.0\n",
              "185528    49242.0\n",
              "185529    45931.0\n",
              "185530    39545.0\n",
              "185531    37759.0\n",
              "185532    33821.0\n",
              "185533    49658.0\n",
              "185534     6896.0\n",
              "185535    20548.0\n",
              "186779    21200.0\n",
              "186780    20525.0\n",
              "187286    14837.0\n",
              "Name: total_salary, Length: 107926, dtype: float64"
            ]
          },
          "metadata": {
            "tags": []
          },
          "execution_count": 14
        }
      ]
    },
    {
      "metadata": {
        "id": "bZ5rOsQvtB4s",
        "colab_type": "code",
        "outputId": "3fc57ca8-607c-47ad-a464-a1d179da8018",
        "colab": {
          "base_uri": "https://localhost:8080/",
          "height": 833
        }
      },
      "cell_type": "code",
      "source": [
        "print(df['total_salary'].describe())\n",
        "plt.figure(figsize=(9, 8))\n",
        "#sns.distplot(df['total_salary'], color='g', bins=100);\n",
        "sns.distplot(df['total_salary'], color='g', bins=100, hist_kws={'alpha': 0.4})"
      ],
      "execution_count": 15,
      "outputs": [
        {
          "output_type": "stream",
          "text": [
            "count    107926.000000\n",
            "mean      56725.224283\n",
            "std       16923.958347\n",
            "min         258.000000\n",
            "25%       44984.000000\n",
            "50%       55000.000000\n",
            "75%       65890.000000\n",
            "max      255000.000000\n",
            "Name: total_salary, dtype: float64\n"
          ],
          "name": "stdout"
        },
        {
          "output_type": "stream",
          "text": [
            "/usr/local/lib/python3.6/dist-packages/numpy/lib/histograms.py:824: RuntimeWarning: invalid value encountered in greater_equal\n",
            "  keep = (tmp_a >= first_edge)\n",
            "/usr/local/lib/python3.6/dist-packages/numpy/lib/histograms.py:825: RuntimeWarning: invalid value encountered in less_equal\n",
            "  keep &= (tmp_a <= last_edge)\n",
            "/usr/local/lib/python3.6/dist-packages/statsmodels/nonparametric/kde.py:448: RuntimeWarning: invalid value encountered in greater\n",
            "  X = X[np.logical_and(X > clip[0], X < clip[1])] # won't work for two columns.\n",
            "/usr/local/lib/python3.6/dist-packages/statsmodels/nonparametric/kde.py:448: RuntimeWarning: invalid value encountered in less\n",
            "  X = X[np.logical_and(X > clip[0], X < clip[1])] # won't work for two columns.\n"
          ],
          "name": "stderr"
        },
        {
          "output_type": "execute_result",
          "data": {
            "text/plain": [
              "<matplotlib.axes._subplots.AxesSubplot at 0x7ff21daf2438>"
            ]
          },
          "metadata": {
            "tags": []
          },
          "execution_count": 15
        },
        {
          "output_type": "display_data",
          "data": {
            "image/png": "[encoded data removed]",
            "text/plain": [
              "<Figure size 648x576 with 1 Axes>"
            ]
          },
          "metadata": {
            "tags": []
          }
        }
      ]
    },
    {
      "metadata": {
        "id": "pz3H_J1xteSc",
        "colab_type": "code",
        "colab": {
          "base_uri": "https://localhost:8080/",
          "height": 833
        },
        "outputId": "740a2dba-fef4-4e8e-8bbd-0e6092903a7c"
      },
      "cell_type": "code",
      "source": [
        "print(df['total_fringe'].describe())\n",
        "plt.figure(figsize=(9, 8))\n",
        "#sns.distplot(df['total_salary'], color='g', bins=100);\n",
        "sns.distplot(df['total_fringe'], color='g', bins=100, hist_kws={'alpha': 0.4})"
      ],
      "execution_count": 16,
      "outputs": [
        {
          "output_type": "stream",
          "text": [
            "count    107898.000000\n",
            "mean      22094.992660\n",
            "std        9286.242987\n",
            "min           0.000000\n",
            "25%       14480.000000\n",
            "50%       24221.000000\n",
            "75%       29193.750000\n",
            "max       84414.000000\n",
            "Name: total_fringe, dtype: float64\n"
          ],
          "name": "stdout"
        },
        {
          "output_type": "stream",
          "text": [
            "/usr/local/lib/python3.6/dist-packages/numpy/lib/histograms.py:824: RuntimeWarning: invalid value encountered in greater_equal\n",
            "  keep = (tmp_a >= first_edge)\n",
            "/usr/local/lib/python3.6/dist-packages/numpy/lib/histograms.py:825: RuntimeWarning: invalid value encountered in less_equal\n",
            "  keep &= (tmp_a <= last_edge)\n",
            "/usr/local/lib/python3.6/dist-packages/statsmodels/nonparametric/kde.py:448: RuntimeWarning: invalid value encountered in greater\n",
            "  X = X[np.logical_and(X > clip[0], X < clip[1])] # won't work for two columns.\n",
            "/usr/local/lib/python3.6/dist-packages/statsmodels/nonparametric/kde.py:448: RuntimeWarning: invalid value encountered in less\n",
            "  X = X[np.logical_and(X > clip[0], X < clip[1])] # won't work for two columns.\n"
          ],
          "name": "stderr"
        },
        {
          "output_type": "execute_result",
          "data": {
            "text/plain": [
              "<matplotlib.axes._subplots.AxesSubplot at 0x7ff20a03f550>"
            ]
          },
          "metadata": {
            "tags": []
          },
          "execution_count": 16
        },
        {
          "output_type": "display_data",
          "data": {
            "image/png": "[encoded data removed]",
            "text/plain": [
              "<Figure size 648x576 with 1 Axes>"
            ]
          },
          "metadata": {
            "tags": []
          }
        }
      ]
    },
    {
      "metadata": {
        "id": "xyk3q8P5etL8",
        "colab_type": "code",
        "colab": {}
      },
      "cell_type": "code",
      "source": [
        "print(df['total_salary'].describe())\n",
        "plt.figure(figsize=(9, 8))\n",
        "#sns.distplot(df['total_salary'], color='g', bins=100);\n",
        "sns.distplot(df['total_salary'], color='g', bins=100, hist_kws={'alpha': 0.4})"
      ],
      "execution_count": 0,
      "outputs": []
    },
    {
      "metadata": {
        "id": "mJSQaKBOe1wI",
        "colab_type": "code",
        "colab": {}
      },
      "cell_type": "code",
      "source": [
        "df['total_compensation']=df['total_salary']+df['total_fringe']"
      ],
      "execution_count": 0,
      "outputs": []
    },
    {
      "metadata": {
        "id": "BswsLthXe8Ol",
        "colab_type": "code",
        "colab": {
          "base_uri": "https://localhost:8080/",
          "height": 834
        },
        "outputId": "c44a71b9-029e-4013-9e0c-15df73bbe69e"
      },
      "cell_type": "code",
      "source": [
        "print(df['total_compensation'].describe())\n",
        "plt.figure(figsize=(9, 8))\n",
        "#sns.distplot(df['total_salary'], color='g', bins=100);\n",
        "sns.distplot(df['total_compensation'], color='g', bins=100, hist_kws={'alpha': 0.4})"
      ],
      "execution_count": 18,
      "outputs": [
        {
          "output_type": "stream",
          "text": [
            "count    107898.000000\n",
            "mean      78825.891462\n",
            "std       23036.103956\n",
            "min         262.000000\n",
            "25%       63875.000000\n",
            "50%       78015.500000\n",
            "75%       92166.750000\n",
            "max      298577.000000\n",
            "Name: total_compensation, dtype: float64\n"
          ],
          "name": "stdout"
        },
        {
          "output_type": "stream",
          "text": [
            "/usr/local/lib/python3.6/dist-packages/numpy/lib/histograms.py:824: RuntimeWarning: invalid value encountered in greater_equal\n",
            "  keep = (tmp_a >= first_edge)\n",
            "/usr/local/lib/python3.6/dist-packages/numpy/lib/histograms.py:825: RuntimeWarning: invalid value encountered in less_equal\n",
            "  keep &= (tmp_a <= last_edge)\n",
            "/usr/local/lib/python3.6/dist-packages/statsmodels/nonparametric/kde.py:448: RuntimeWarning: invalid value encountered in greater\n",
            "  X = X[np.logical_and(X > clip[0], X < clip[1])] # won't work for two columns.\n",
            "/usr/local/lib/python3.6/dist-packages/statsmodels/nonparametric/kde.py:448: RuntimeWarning: invalid value encountered in less\n",
            "  X = X[np.logical_and(X > clip[0], X < clip[1])] # won't work for two columns.\n"
          ],
          "name": "stderr"
        },
        {
          "output_type": "execute_result",
          "data": {
            "text/plain": [
              "<matplotlib.axes._subplots.AxesSubplot at 0x7ff22c8cf390>"
            ]
          },
          "metadata": {
            "tags": []
          },
          "execution_count": 18
        },
        {
          "output_type": "display_data",
          "data": {
            "image/png": "[encoded data removed]",
            "text/plain": [
              "<Figure size 648x576 with 1 Axes>"
            ]
          },
          "metadata": {
            "tags": []
          }
        }
      ]
    },
    {
      "metadata": {
        "id": "eieLbnKTfAdj",
        "colab_type": "code",
        "colab": {
          "base_uri": "https://localhost:8080/",
          "height": 34
        },
        "outputId": "9acf4375-0415-493b-9f08-40f2b71b3514"
      },
      "cell_type": "code",
      "source": [
        "list(set(df.dtypes.tolist()))"
      ],
      "execution_count": 19,
      "outputs": [
        {
          "output_type": "execute_result",
          "data": {
            "text/plain": [
              "[dtype('float64'), dtype('int64'), dtype('O')]"
            ]
          },
          "metadata": {
            "tags": []
          },
          "execution_count": 19
        }
      ]
    },
    {
      "metadata": {
        "id": "agbXUhZcfewr",
        "colab_type": "code",
        "colab": {
          "base_uri": "https://localhost:8080/",
          "height": 215
        },
        "outputId": "69f92dd5-b6cd-4741-ce5e-20344e210746"
      },
      "cell_type": "code",
      "source": [
        "df_num = df.select_dtypes(include = ['float64', 'int64'])\n",
        "df_num.head()"
      ],
      "execution_count": 20,
      "outputs": [
        {
          "output_type": "execute_result",
          "data": {
            "text/html": [
              "<div>\n",
              "<style scoped>\n",
              "    .dataframe tbody tr th:only-of-type {\n",
              "        vertical-align: middle;\n",
              "    }\n",
              "\n",
              "    .dataframe tbody tr th {\n",
              "        vertical-align: top;\n",
              "    }\n",
              "\n",
              "    .dataframe thead th {\n",
              "        text-align: right;\n",
              "    }\n",
              "</style>\n",
              "<table border=\"1\" class=\"dataframe\">\n",
              "  <thead>\n",
              "    <tr style=\"text-align: right;\">\n",
              "      <th></th>\n",
              "      <th>research_id</th>\n",
              "      <th>school_year</th>\n",
              "      <th>entity_id</th>\n",
              "      <th>birth_year</th>\n",
              "      <th>contract_days</th>\n",
              "      <th>contract_local_experience</th>\n",
              "      <th>contract_total_experience</th>\n",
              "      <th>total_salary</th>\n",
              "      <th>total_fringe</th>\n",
              "      <th>assignment_work_cesa_number</th>\n",
              "      <th>assignment_fte</th>\n",
              "      <th>school_mailing_zip_code</th>\n",
              "      <th>district_mailing_zip_code</th>\n",
              "      <th>total_compensation</th>\n",
              "    </tr>\n",
              "  </thead>\n",
              "  <tbody>\n",
              "    <tr>\n",
              "      <th>0</th>\n",
              "      <td>90313</td>\n",
              "      <td>2018</td>\n",
              "      <td>673393.0</td>\n",
              "      <td>1948</td>\n",
              "      <td>NaN</td>\n",
              "      <td>NaN</td>\n",
              "      <td>NaN</td>\n",
              "      <td>NaN</td>\n",
              "      <td>NaN</td>\n",
              "      <td>7.0</td>\n",
              "      <td>NaN</td>\n",
              "      <td>54115.0</td>\n",
              "      <td>54115</td>\n",
              "      <td>NaN</td>\n",
              "    </tr>\n",
              "    <tr>\n",
              "      <th>1</th>\n",
              "      <td>23255</td>\n",
              "      <td>2018</td>\n",
              "      <td>440950.0</td>\n",
              "      <td>1967</td>\n",
              "      <td>NaN</td>\n",
              "      <td>NaN</td>\n",
              "      <td>NaN</td>\n",
              "      <td>NaN</td>\n",
              "      <td>NaN</td>\n",
              "      <td>7.0</td>\n",
              "      <td>NaN</td>\n",
              "      <td>54115.0</td>\n",
              "      <td>54115</td>\n",
              "      <td>NaN</td>\n",
              "    </tr>\n",
              "    <tr>\n",
              "      <th>2</th>\n",
              "      <td>148857</td>\n",
              "      <td>2018</td>\n",
              "      <td>808929.0</td>\n",
              "      <td>1971</td>\n",
              "      <td>NaN</td>\n",
              "      <td>NaN</td>\n",
              "      <td>NaN</td>\n",
              "      <td>NaN</td>\n",
              "      <td>NaN</td>\n",
              "      <td>7.0</td>\n",
              "      <td>NaN</td>\n",
              "      <td>54115.0</td>\n",
              "      <td>54115</td>\n",
              "      <td>NaN</td>\n",
              "    </tr>\n",
              "    <tr>\n",
              "      <th>3</th>\n",
              "      <td>78347</td>\n",
              "      <td>2018</td>\n",
              "      <td>57697.0</td>\n",
              "      <td>1951</td>\n",
              "      <td>NaN</td>\n",
              "      <td>NaN</td>\n",
              "      <td>NaN</td>\n",
              "      <td>NaN</td>\n",
              "      <td>NaN</td>\n",
              "      <td>7.0</td>\n",
              "      <td>NaN</td>\n",
              "      <td>54115.0</td>\n",
              "      <td>54115</td>\n",
              "      <td>NaN</td>\n",
              "    </tr>\n",
              "    <tr>\n",
              "      <th>4</th>\n",
              "      <td>40518</td>\n",
              "      <td>2018</td>\n",
              "      <td>53515.0</td>\n",
              "      <td>1969</td>\n",
              "      <td>NaN</td>\n",
              "      <td>NaN</td>\n",
              "      <td>NaN</td>\n",
              "      <td>NaN</td>\n",
              "      <td>NaN</td>\n",
              "      <td>7.0</td>\n",
              "      <td>NaN</td>\n",
              "      <td>54115.0</td>\n",
              "      <td>54115</td>\n",
              "      <td>NaN</td>\n",
              "    </tr>\n",
              "  </tbody>\n",
              "</table>\n",
              "</div>"
            ],
            "text/plain": [
              "   research_id  school_year  entity_id  birth_year  contract_days  \\\n",
              "0        90313         2018   673393.0        1948            NaN   \n",
              "1        23255         2018   440950.0        1967            NaN   \n",
              "2       148857         2018   808929.0        1971            NaN   \n",
              "3        78347         2018    57697.0        1951            NaN   \n",
              "4        40518         2018    53515.0        1969            NaN   \n",
              "\n",
              "   contract_local_experience  contract_total_experience  total_salary  \\\n",
              "0                        NaN                        NaN           NaN   \n",
              "1                        NaN                        NaN           NaN   \n",
              "2                        NaN                        NaN           NaN   \n",
              "3                        NaN                        NaN           NaN   \n",
              "4                        NaN                        NaN           NaN   \n",
              "\n",
              "   total_fringe  assignment_work_cesa_number  assignment_fte  \\\n",
              "0           NaN                          7.0             NaN   \n",
              "1           NaN                          7.0             NaN   \n",
              "2           NaN                          7.0             NaN   \n",
              "3           NaN                          7.0             NaN   \n",
              "4           NaN                          7.0             NaN   \n",
              "\n",
              "   school_mailing_zip_code  district_mailing_zip_code  total_compensation  \n",
              "0                  54115.0                      54115                 NaN  \n",
              "1                  54115.0                      54115                 NaN  \n",
              "2                  54115.0                      54115                 NaN  \n",
              "3                  54115.0                      54115                 NaN  \n",
              "4                  54115.0                      54115                 NaN  "
            ]
          },
          "metadata": {
            "tags": []
          },
          "execution_count": 20
        }
      ]
    },
    {
      "metadata": {
        "id": "GxFmOXuChMYY",
        "colab_type": "code",
        "colab": {
          "base_uri": "https://localhost:8080/",
          "height": 1902
        },
        "outputId": "b96bf25d-e139-40a3-e762-2fbc9fdf2ea0"
      },
      "cell_type": "code",
      "source": [
        "df_num[['birth_year','contract_days','assignment_fte','contract_local_experience','contract_total_experience']]"
      ],
      "execution_count": 26,
      "outputs": [
        {
          "output_type": "execute_result",
          "data": {
            "text/html": [
              "<div>\n",
              "<style scoped>\n",
              "    .dataframe tbody tr th:only-of-type {\n",
              "        vertical-align: middle;\n",
              "    }\n",
              "\n",
              "    .dataframe tbody tr th {\n",
              "        vertical-align: top;\n",
              "    }\n",
              "\n",
              "    .dataframe thead th {\n",
              "        text-align: right;\n",
              "    }\n",
              "</style>\n",
              "<table border=\"1\" class=\"dataframe\">\n",
              "  <thead>\n",
              "    <tr style=\"text-align: right;\">\n",
              "      <th></th>\n",
              "      <th>birth_year</th>\n",
              "      <th>contract_days</th>\n",
              "      <th>assignment_fte</th>\n",
              "      <th>contract_local_experience</th>\n",
              "      <th>contract_total_experience</th>\n",
              "    </tr>\n",
              "  </thead>\n",
              "  <tbody>\n",
              "    <tr>\n",
              "      <th>0</th>\n",
              "      <td>1948</td>\n",
              "      <td>NaN</td>\n",
              "      <td>NaN</td>\n",
              "      <td>NaN</td>\n",
              "      <td>NaN</td>\n",
              "    </tr>\n",
              "    <tr>\n",
              "      <th>1</th>\n",
              "      <td>1967</td>\n",
              "      <td>NaN</td>\n",
              "      <td>NaN</td>\n",
              "      <td>NaN</td>\n",
              "      <td>NaN</td>\n",
              "    </tr>\n",
              "    <tr>\n",
              "      <th>2</th>\n",
              "      <td>1971</td>\n",
              "      <td>NaN</td>\n",
              "      <td>NaN</td>\n",
              "      <td>NaN</td>\n",
              "      <td>NaN</td>\n",
              "    </tr>\n",
              "    <tr>\n",
              "      <th>3</th>\n",
              "      <td>1951</td>\n",
              "      <td>NaN</td>\n",
              "      <td>NaN</td>\n",
              "      <td>NaN</td>\n",
              "      <td>NaN</td>\n",
              "    </tr>\n",
              "    <tr>\n",
              "      <th>4</th>\n",
              "      <td>1969</td>\n",
              "      <td>NaN</td>\n",
              "      <td>NaN</td>\n",
              "      <td>NaN</td>\n",
              "      <td>NaN</td>\n",
              "    </tr>\n",
              "    <tr>\n",
              "      <th>5</th>\n",
              "      <td>1961</td>\n",
              "      <td>NaN</td>\n",
              "      <td>NaN</td>\n",
              "      <td>NaN</td>\n",
              "      <td>NaN</td>\n",
              "    </tr>\n",
              "    <tr>\n",
              "      <th>6</th>\n",
              "      <td>1947</td>\n",
              "      <td>NaN</td>\n",
              "      <td>NaN</td>\n",
              "      <td>NaN</td>\n",
              "      <td>NaN</td>\n",
              "    </tr>\n",
              "    <tr>\n",
              "      <th>7</th>\n",
              "      <td>1968</td>\n",
              "      <td>NaN</td>\n",
              "      <td>NaN</td>\n",
              "      <td>NaN</td>\n",
              "      <td>NaN</td>\n",
              "    </tr>\n",
              "    <tr>\n",
              "      <th>8</th>\n",
              "      <td>1940</td>\n",
              "      <td>NaN</td>\n",
              "      <td>NaN</td>\n",
              "      <td>NaN</td>\n",
              "      <td>NaN</td>\n",
              "    </tr>\n",
              "    <tr>\n",
              "      <th>9</th>\n",
              "      <td>1950</td>\n",
              "      <td>NaN</td>\n",
              "      <td>NaN</td>\n",
              "      <td>NaN</td>\n",
              "      <td>NaN</td>\n",
              "    </tr>\n",
              "    <tr>\n",
              "      <th>10</th>\n",
              "      <td>1955</td>\n",
              "      <td>NaN</td>\n",
              "      <td>NaN</td>\n",
              "      <td>NaN</td>\n",
              "      <td>NaN</td>\n",
              "    </tr>\n",
              "    <tr>\n",
              "      <th>11</th>\n",
              "      <td>1962</td>\n",
              "      <td>NaN</td>\n",
              "      <td>NaN</td>\n",
              "      <td>NaN</td>\n",
              "      <td>NaN</td>\n",
              "    </tr>\n",
              "    <tr>\n",
              "      <th>12</th>\n",
              "      <td>1978</td>\n",
              "      <td>NaN</td>\n",
              "      <td>NaN</td>\n",
              "      <td>NaN</td>\n",
              "      <td>NaN</td>\n",
              "    </tr>\n",
              "    <tr>\n",
              "      <th>13</th>\n",
              "      <td>1946</td>\n",
              "      <td>NaN</td>\n",
              "      <td>NaN</td>\n",
              "      <td>NaN</td>\n",
              "      <td>NaN</td>\n",
              "    </tr>\n",
              "    <tr>\n",
              "      <th>14</th>\n",
              "      <td>1948</td>\n",
              "      <td>NaN</td>\n",
              "      <td>NaN</td>\n",
              "      <td>NaN</td>\n",
              "      <td>NaN</td>\n",
              "    </tr>\n",
              "    <tr>\n",
              "      <th>15</th>\n",
              "      <td>1957</td>\n",
              "      <td>NaN</td>\n",
              "      <td>NaN</td>\n",
              "      <td>NaN</td>\n",
              "      <td>NaN</td>\n",
              "    </tr>\n",
              "    <tr>\n",
              "      <th>16</th>\n",
              "      <td>1971</td>\n",
              "      <td>NaN</td>\n",
              "      <td>NaN</td>\n",
              "      <td>NaN</td>\n",
              "      <td>NaN</td>\n",
              "    </tr>\n",
              "    <tr>\n",
              "      <th>17</th>\n",
              "      <td>1973</td>\n",
              "      <td>NaN</td>\n",
              "      <td>NaN</td>\n",
              "      <td>NaN</td>\n",
              "      <td>NaN</td>\n",
              "    </tr>\n",
              "    <tr>\n",
              "      <th>18</th>\n",
              "      <td>1971</td>\n",
              "      <td>NaN</td>\n",
              "      <td>NaN</td>\n",
              "      <td>NaN</td>\n",
              "      <td>NaN</td>\n",
              "    </tr>\n",
              "    <tr>\n",
              "      <th>19</th>\n",
              "      <td>1952</td>\n",
              "      <td>NaN</td>\n",
              "      <td>NaN</td>\n",
              "      <td>NaN</td>\n",
              "      <td>NaN</td>\n",
              "    </tr>\n",
              "    <tr>\n",
              "      <th>20</th>\n",
              "      <td>1968</td>\n",
              "      <td>NaN</td>\n",
              "      <td>NaN</td>\n",
              "      <td>NaN</td>\n",
              "      <td>NaN</td>\n",
              "    </tr>\n",
              "    <tr>\n",
              "      <th>21</th>\n",
              "      <td>1952</td>\n",
              "      <td>NaN</td>\n",
              "      <td>NaN</td>\n",
              "      <td>NaN</td>\n",
              "      <td>NaN</td>\n",
              "    </tr>\n",
              "    <tr>\n",
              "      <th>22</th>\n",
              "      <td>1953</td>\n",
              "      <td>NaN</td>\n",
              "      <td>NaN</td>\n",
              "      <td>NaN</td>\n",
              "      <td>NaN</td>\n",
              "    </tr>\n",
              "    <tr>\n",
              "      <th>23</th>\n",
              "      <td>1951</td>\n",
              "      <td>NaN</td>\n",
              "      <td>NaN</td>\n",
              "      <td>NaN</td>\n",
              "      <td>NaN</td>\n",
              "    </tr>\n",
              "    <tr>\n",
              "      <th>24</th>\n",
              "      <td>1958</td>\n",
              "      <td>NaN</td>\n",
              "      <td>NaN</td>\n",
              "      <td>NaN</td>\n",
              "      <td>NaN</td>\n",
              "    </tr>\n",
              "    <tr>\n",
              "      <th>25</th>\n",
              "      <td>1957</td>\n",
              "      <td>NaN</td>\n",
              "      <td>NaN</td>\n",
              "      <td>NaN</td>\n",
              "      <td>NaN</td>\n",
              "    </tr>\n",
              "    <tr>\n",
              "      <th>26</th>\n",
              "      <td>1947</td>\n",
              "      <td>NaN</td>\n",
              "      <td>NaN</td>\n",
              "      <td>NaN</td>\n",
              "      <td>NaN</td>\n",
              "    </tr>\n",
              "    <tr>\n",
              "      <th>27</th>\n",
              "      <td>1952</td>\n",
              "      <td>NaN</td>\n",
              "      <td>NaN</td>\n",
              "      <td>NaN</td>\n",
              "      <td>NaN</td>\n",
              "    </tr>\n",
              "    <tr>\n",
              "      <th>28</th>\n",
              "      <td>1957</td>\n",
              "      <td>NaN</td>\n",
              "      <td>NaN</td>\n",
              "      <td>NaN</td>\n",
              "      <td>NaN</td>\n",
              "    </tr>\n",
              "    <tr>\n",
              "      <th>29</th>\n",
              "      <td>1980</td>\n",
              "      <td>NaN</td>\n",
              "      <td>NaN</td>\n",
              "      <td>NaN</td>\n",
              "      <td>NaN</td>\n",
              "    </tr>\n",
              "    <tr>\n",
              "      <th>...</th>\n",
              "      <td>...</td>\n",
              "      <td>...</td>\n",
              "      <td>...</td>\n",
              "      <td>...</td>\n",
              "      <td>...</td>\n",
              "    </tr>\n",
              "    <tr>\n",
              "      <th>187314</th>\n",
              "      <td>1985</td>\n",
              "      <td>NaN</td>\n",
              "      <td>0.33</td>\n",
              "      <td>NaN</td>\n",
              "      <td>NaN</td>\n",
              "    </tr>\n",
              "    <tr>\n",
              "      <th>187315</th>\n",
              "      <td>1979</td>\n",
              "      <td>NaN</td>\n",
              "      <td>0.54</td>\n",
              "      <td>NaN</td>\n",
              "      <td>NaN</td>\n",
              "    </tr>\n",
              "    <tr>\n",
              "      <th>187316</th>\n",
              "      <td>1978</td>\n",
              "      <td>NaN</td>\n",
              "      <td>0.53</td>\n",
              "      <td>NaN</td>\n",
              "      <td>NaN</td>\n",
              "    </tr>\n",
              "    <tr>\n",
              "      <th>187317</th>\n",
              "      <td>1966</td>\n",
              "      <td>NaN</td>\n",
              "      <td>0.53</td>\n",
              "      <td>NaN</td>\n",
              "      <td>NaN</td>\n",
              "    </tr>\n",
              "    <tr>\n",
              "      <th>187318</th>\n",
              "      <td>1968</td>\n",
              "      <td>NaN</td>\n",
              "      <td>0.53</td>\n",
              "      <td>NaN</td>\n",
              "      <td>NaN</td>\n",
              "    </tr>\n",
              "    <tr>\n",
              "      <th>187319</th>\n",
              "      <td>1979</td>\n",
              "      <td>NaN</td>\n",
              "      <td>0.53</td>\n",
              "      <td>NaN</td>\n",
              "      <td>NaN</td>\n",
              "    </tr>\n",
              "    <tr>\n",
              "      <th>187320</th>\n",
              "      <td>1976</td>\n",
              "      <td>NaN</td>\n",
              "      <td>0.27</td>\n",
              "      <td>NaN</td>\n",
              "      <td>NaN</td>\n",
              "    </tr>\n",
              "    <tr>\n",
              "      <th>187321</th>\n",
              "      <td>1976</td>\n",
              "      <td>NaN</td>\n",
              "      <td>0.26</td>\n",
              "      <td>NaN</td>\n",
              "      <td>NaN</td>\n",
              "    </tr>\n",
              "    <tr>\n",
              "      <th>187322</th>\n",
              "      <td>1979</td>\n",
              "      <td>NaN</td>\n",
              "      <td>0.26</td>\n",
              "      <td>NaN</td>\n",
              "      <td>NaN</td>\n",
              "    </tr>\n",
              "    <tr>\n",
              "      <th>187323</th>\n",
              "      <td>1979</td>\n",
              "      <td>NaN</td>\n",
              "      <td>0.27</td>\n",
              "      <td>NaN</td>\n",
              "      <td>NaN</td>\n",
              "    </tr>\n",
              "    <tr>\n",
              "      <th>187324</th>\n",
              "      <td>1959</td>\n",
              "      <td>NaN</td>\n",
              "      <td>0.53</td>\n",
              "      <td>NaN</td>\n",
              "      <td>NaN</td>\n",
              "    </tr>\n",
              "    <tr>\n",
              "      <th>187325</th>\n",
              "      <td>1957</td>\n",
              "      <td>NaN</td>\n",
              "      <td>0.53</td>\n",
              "      <td>NaN</td>\n",
              "      <td>NaN</td>\n",
              "    </tr>\n",
              "    <tr>\n",
              "      <th>187326</th>\n",
              "      <td>1980</td>\n",
              "      <td>NaN</td>\n",
              "      <td>0.53</td>\n",
              "      <td>NaN</td>\n",
              "      <td>NaN</td>\n",
              "    </tr>\n",
              "    <tr>\n",
              "      <th>187327</th>\n",
              "      <td>1985</td>\n",
              "      <td>NaN</td>\n",
              "      <td>0.17</td>\n",
              "      <td>NaN</td>\n",
              "      <td>NaN</td>\n",
              "    </tr>\n",
              "    <tr>\n",
              "      <th>187328</th>\n",
              "      <td>1975</td>\n",
              "      <td>NaN</td>\n",
              "      <td>0.53</td>\n",
              "      <td>NaN</td>\n",
              "      <td>NaN</td>\n",
              "    </tr>\n",
              "    <tr>\n",
              "      <th>187329</th>\n",
              "      <td>1970</td>\n",
              "      <td>NaN</td>\n",
              "      <td>0.53</td>\n",
              "      <td>NaN</td>\n",
              "      <td>NaN</td>\n",
              "    </tr>\n",
              "    <tr>\n",
              "      <th>187330</th>\n",
              "      <td>1953</td>\n",
              "      <td>NaN</td>\n",
              "      <td>0.54</td>\n",
              "      <td>NaN</td>\n",
              "      <td>NaN</td>\n",
              "    </tr>\n",
              "    <tr>\n",
              "      <th>187331</th>\n",
              "      <td>1971</td>\n",
              "      <td>NaN</td>\n",
              "      <td>0.27</td>\n",
              "      <td>NaN</td>\n",
              "      <td>NaN</td>\n",
              "    </tr>\n",
              "    <tr>\n",
              "      <th>187332</th>\n",
              "      <td>1965</td>\n",
              "      <td>NaN</td>\n",
              "      <td>0.53</td>\n",
              "      <td>NaN</td>\n",
              "      <td>NaN</td>\n",
              "    </tr>\n",
              "    <tr>\n",
              "      <th>187333</th>\n",
              "      <td>1969</td>\n",
              "      <td>NaN</td>\n",
              "      <td>0.53</td>\n",
              "      <td>NaN</td>\n",
              "      <td>NaN</td>\n",
              "    </tr>\n",
              "    <tr>\n",
              "      <th>187334</th>\n",
              "      <td>1968</td>\n",
              "      <td>NaN</td>\n",
              "      <td>0.53</td>\n",
              "      <td>NaN</td>\n",
              "      <td>NaN</td>\n",
              "    </tr>\n",
              "    <tr>\n",
              "      <th>187335</th>\n",
              "      <td>1957</td>\n",
              "      <td>NaN</td>\n",
              "      <td>0.53</td>\n",
              "      <td>NaN</td>\n",
              "      <td>NaN</td>\n",
              "    </tr>\n",
              "    <tr>\n",
              "      <th>187336</th>\n",
              "      <td>1976</td>\n",
              "      <td>NaN</td>\n",
              "      <td>0.54</td>\n",
              "      <td>NaN</td>\n",
              "      <td>NaN</td>\n",
              "    </tr>\n",
              "    <tr>\n",
              "      <th>187337</th>\n",
              "      <td>1965</td>\n",
              "      <td>NaN</td>\n",
              "      <td>0.53</td>\n",
              "      <td>NaN</td>\n",
              "      <td>NaN</td>\n",
              "    </tr>\n",
              "    <tr>\n",
              "      <th>187338</th>\n",
              "      <td>1956</td>\n",
              "      <td>NaN</td>\n",
              "      <td>0.64</td>\n",
              "      <td>NaN</td>\n",
              "      <td>NaN</td>\n",
              "    </tr>\n",
              "    <tr>\n",
              "      <th>187339</th>\n",
              "      <td>1971</td>\n",
              "      <td>NaN</td>\n",
              "      <td>0.26</td>\n",
              "      <td>NaN</td>\n",
              "      <td>NaN</td>\n",
              "    </tr>\n",
              "    <tr>\n",
              "      <th>187340</th>\n",
              "      <td>1975</td>\n",
              "      <td>NaN</td>\n",
              "      <td>0.53</td>\n",
              "      <td>NaN</td>\n",
              "      <td>NaN</td>\n",
              "    </tr>\n",
              "    <tr>\n",
              "      <th>187341</th>\n",
              "      <td>1983</td>\n",
              "      <td>NaN</td>\n",
              "      <td>1.00</td>\n",
              "      <td>NaN</td>\n",
              "      <td>NaN</td>\n",
              "    </tr>\n",
              "    <tr>\n",
              "      <th>187342</th>\n",
              "      <td>1990</td>\n",
              "      <td>NaN</td>\n",
              "      <td>1.00</td>\n",
              "      <td>NaN</td>\n",
              "      <td>NaN</td>\n",
              "    </tr>\n",
              "    <tr>\n",
              "      <th>187343</th>\n",
              "      <td>1971</td>\n",
              "      <td>NaN</td>\n",
              "      <td>1.00</td>\n",
              "      <td>NaN</td>\n",
              "      <td>NaN</td>\n",
              "    </tr>\n",
              "  </tbody>\n",
              "</table>\n",
              "<p>187344 rows × 5 columns</p>\n",
              "</div>"
            ],
            "text/plain": [
              "        birth_year  contract_days  assignment_fte  contract_local_experience  \\\n",
              "0             1948            NaN             NaN                        NaN   \n",
              "1             1967            NaN             NaN                        NaN   \n",
              "2             1971            NaN             NaN                        NaN   \n",
              "3             1951            NaN             NaN                        NaN   \n",
              "4             1969            NaN             NaN                        NaN   \n",
              "5             1961            NaN             NaN                        NaN   \n",
              "6             1947            NaN             NaN                        NaN   \n",
              "7             1968            NaN             NaN                        NaN   \n",
              "8             1940            NaN             NaN                        NaN   \n",
              "9             1950            NaN             NaN                        NaN   \n",
              "10            1955            NaN             NaN                        NaN   \n",
              "11            1962            NaN             NaN                        NaN   \n",
              "12            1978            NaN             NaN                        NaN   \n",
              "13            1946            NaN             NaN                        NaN   \n",
              "14            1948            NaN             NaN                        NaN   \n",
              "15            1957            NaN             NaN                        NaN   \n",
              "16            1971            NaN             NaN                        NaN   \n",
              "17            1973            NaN             NaN                        NaN   \n",
              "18            1971            NaN             NaN                        NaN   \n",
              "19            1952            NaN             NaN                        NaN   \n",
              "20            1968            NaN             NaN                        NaN   \n",
              "21            1952            NaN             NaN                        NaN   \n",
              "22            1953            NaN             NaN                        NaN   \n",
              "23            1951            NaN             NaN                        NaN   \n",
              "24            1958            NaN             NaN                        NaN   \n",
              "25            1957            NaN             NaN                        NaN   \n",
              "26            1947            NaN             NaN                        NaN   \n",
              "27            1952            NaN             NaN                        NaN   \n",
              "28            1957            NaN             NaN                        NaN   \n",
              "29            1980            NaN             NaN                        NaN   \n",
              "...            ...            ...             ...                        ...   \n",
              "187314        1985            NaN            0.33                        NaN   \n",
              "187315        1979            NaN            0.54                        NaN   \n",
              "187316        1978            NaN            0.53                        NaN   \n",
              "187317        1966            NaN            0.53                        NaN   \n",
              "187318        1968            NaN            0.53                        NaN   \n",
              "187319        1979            NaN            0.53                        NaN   \n",
              "187320        1976            NaN            0.27                        NaN   \n",
              "187321        1976            NaN            0.26                        NaN   \n",
              "187322        1979            NaN            0.26                        NaN   \n",
              "187323        1979            NaN            0.27                        NaN   \n",
              "187324        1959            NaN            0.53                        NaN   \n",
              "187325        1957            NaN            0.53                        NaN   \n",
              "187326        1980            NaN            0.53                        NaN   \n",
              "187327        1985            NaN            0.17                        NaN   \n",
              "187328        1975            NaN            0.53                        NaN   \n",
              "187329        1970            NaN            0.53                        NaN   \n",
              "187330        1953            NaN            0.54                        NaN   \n",
              "187331        1971            NaN            0.27                        NaN   \n",
              "187332        1965            NaN            0.53                        NaN   \n",
              "187333        1969            NaN            0.53                        NaN   \n",
              "187334        1968            NaN            0.53                        NaN   \n",
              "187335        1957            NaN            0.53                        NaN   \n",
              "187336        1976            NaN            0.54                        NaN   \n",
              "187337        1965            NaN            0.53                        NaN   \n",
              "187338        1956            NaN            0.64                        NaN   \n",
              "187339        1971            NaN            0.26                        NaN   \n",
              "187340        1975            NaN            0.53                        NaN   \n",
              "187341        1983            NaN            1.00                        NaN   \n",
              "187342        1990            NaN            1.00                        NaN   \n",
              "187343        1971            NaN            1.00                        NaN   \n",
              "\n",
              "        contract_total_experience  \n",
              "0                             NaN  \n",
              "1                             NaN  \n",
              "2                             NaN  \n",
              "3                             NaN  \n",
              "4                             NaN  \n",
              "5                             NaN  \n",
              "6                             NaN  \n",
              "7                             NaN  \n",
              "8                             NaN  \n",
              "9                             NaN  \n",
              "10                            NaN  \n",
              "11                            NaN  \n",
              "12                            NaN  \n",
              "13                            NaN  \n",
              "14                            NaN  \n",
              "15                            NaN  \n",
              "16                            NaN  \n",
              "17                            NaN  \n",
              "18                            NaN  \n",
              "19                            NaN  \n",
              "20                            NaN  \n",
              "21                            NaN  \n",
              "22                            NaN  \n",
              "23                            NaN  \n",
              "24                            NaN  \n",
              "25                            NaN  \n",
              "26                            NaN  \n",
              "27                            NaN  \n",
              "28                            NaN  \n",
              "29                            NaN  \n",
              "...                           ...  \n",
              "187314                        NaN  \n",
              "187315                        NaN  \n",
              "187316                        NaN  \n",
              "187317                        NaN  \n",
              "187318                        NaN  \n",
              "187319                        NaN  \n",
              "187320                        NaN  \n",
              "187321                        NaN  \n",
              "187322                        NaN  \n",
              "187323                        NaN  \n",
              "187324                        NaN  \n",
              "187325                        NaN  \n",
              "187326                        NaN  \n",
              "187327                        NaN  \n",
              "187328                        NaN  \n",
              "187329                        NaN  \n",
              "187330                        NaN  \n",
              "187331                        NaN  \n",
              "187332                        NaN  \n",
              "187333                        NaN  \n",
              "187334                        NaN  \n",
              "187335                        NaN  \n",
              "187336                        NaN  \n",
              "187337                        NaN  \n",
              "187338                        NaN  \n",
              "187339                        NaN  \n",
              "187340                        NaN  \n",
              "187341                        NaN  \n",
              "187342                        NaN  \n",
              "187343                        NaN  \n",
              "\n",
              "[187344 rows x 5 columns]"
            ]
          },
          "metadata": {
            "tags": []
          },
          "execution_count": 26
        }
      ]
    },
    {
      "metadata": {
        "id": "n6Zg-qfzfkE8",
        "colab_type": "code",
        "colab": {
          "base_uri": "https://localhost:8080/",
          "height": 1168
        },
        "outputId": "3bb234ed-9bb2-410a-bd25-066cfb714320"
      },
      "cell_type": "code",
      "source": [
        "df_num.hist(figsize=(16, 20), bins=50, xlabelsize=8, ylabelsize=8);"
      ],
      "execution_count": 21,
      "outputs": [
        {
          "output_type": "display_data",
          "data": {
            "image/png": "[encoded data removed]",
            "text/plain": [
              "<Figure size 1152x1440 with 16 Axes>"
            ]
          },
          "metadata": {
            "tags": []
          }
        }
      ]
    },
    {
      "metadata": {
        "id": "uRLPUtAPf0cp",
        "colab_type": "code",
        "colab": {
          "base_uri": "https://localhost:8080/",
          "height": 370
        },
        "outputId": "826a9d7e-bb6c-424c-c127-e9cbba11a3b0"
      },
      "cell_type": "code",
      "source": [
        ""
      ],
      "execution_count": 24,
      "outputs": [
        {
          "output_type": "stream",
          "text": [
            "/usr/local/lib/python3.6/dist-packages/ipykernel_launcher.py:1: FutureWarning: 'select' is deprecated and will be removed in a future release. You can use .loc[labels.map(crit)] as a replacement\n",
            "  \"\"\"Entry point for launching an IPython kernel.\n"
          ],
          "name": "stderr"
        },
        {
          "output_type": "error",
          "ename": "TypeError",
          "evalue": "ignored",
          "traceback": [
            "\u001b[0;31m---------------------------------------------------------------------------\u001b[0m",
            "\u001b[0;31mTypeError\u001b[0m                                 Traceback (most recent call last)",
            "\u001b[0;32m<ipython-input-24-5920cc1f082b>\u001b[0m in \u001b[0;36m<module>\u001b[0;34m()\u001b[0m\n\u001b[0;32m----> 1\u001b[0;31m \u001b[0mdf\u001b[0m\u001b[0;34m.\u001b[0m\u001b[0mselect\u001b[0m\u001b[0;34m(\u001b[0m\u001b[0;34m'total_salary'\u001b[0m\u001b[0;34m)\u001b[0m\u001b[0;34m\u001b[0m\u001b[0;34m\u001b[0m\u001b[0m\n\u001b[0m",
            "\u001b[0;32m/usr/local/lib/python3.6/dist-packages/pandas/core/generic.py\u001b[0m in \u001b[0;36mselect\u001b[0;34m(self, crit, axis)\u001b[0m\n\u001b[1;32m   3649\u001b[0m         \u001b[0;32mif\u001b[0m \u001b[0mlen\u001b[0m\u001b[0;34m(\u001b[0m\u001b[0maxis_values\u001b[0m\u001b[0;34m)\u001b[0m \u001b[0;34m>\u001b[0m \u001b[0;36m0\u001b[0m\u001b[0;34m:\u001b[0m\u001b[0;34m\u001b[0m\u001b[0;34m\u001b[0m\u001b[0m\n\u001b[1;32m   3650\u001b[0m             new_axis = axis_values[\n\u001b[0;32m-> 3651\u001b[0;31m                 np.asarray([bool(crit(label)) for label in axis_values])]\n\u001b[0m\u001b[1;32m   3652\u001b[0m         \u001b[0;32melse\u001b[0m\u001b[0;34m:\u001b[0m\u001b[0;34m\u001b[0m\u001b[0;34m\u001b[0m\u001b[0m\n\u001b[1;32m   3653\u001b[0m             \u001b[0mnew_axis\u001b[0m \u001b[0;34m=\u001b[0m \u001b[0maxis_values\u001b[0m\u001b[0;34m\u001b[0m\u001b[0;34m\u001b[0m\u001b[0m\n",
            "\u001b[0;32m/usr/local/lib/python3.6/dist-packages/pandas/core/generic.py\u001b[0m in \u001b[0;36m<listcomp>\u001b[0;34m(.0)\u001b[0m\n\u001b[1;32m   3649\u001b[0m         \u001b[0;32mif\u001b[0m \u001b[0mlen\u001b[0m\u001b[0;34m(\u001b[0m\u001b[0maxis_values\u001b[0m\u001b[0;34m)\u001b[0m \u001b[0;34m>\u001b[0m \u001b[0;36m0\u001b[0m\u001b[0;34m:\u001b[0m\u001b[0;34m\u001b[0m\u001b[0;34m\u001b[0m\u001b[0m\n\u001b[1;32m   3650\u001b[0m             new_axis = axis_values[\n\u001b[0;32m-> 3651\u001b[0;31m                 np.asarray([bool(crit(label)) for label in axis_values])]\n\u001b[0m\u001b[1;32m   3652\u001b[0m         \u001b[0;32melse\u001b[0m\u001b[0;34m:\u001b[0m\u001b[0;34m\u001b[0m\u001b[0;34m\u001b[0m\u001b[0m\n\u001b[1;32m   3653\u001b[0m             \u001b[0mnew_axis\u001b[0m \u001b[0;34m=\u001b[0m \u001b[0maxis_values\u001b[0m\u001b[0;34m\u001b[0m\u001b[0;34m\u001b[0m\u001b[0m\n",
            "\u001b[0;31mTypeError\u001b[0m: 'str' object is not callable"
          ]
        }
      ]
    },
    {
      "metadata": {
        "id": "DAwXMmjqgGhm",
        "colab_type": "code",
        "colab": {}
      },
      "cell_type": "code",
      "source": [
        ""
      ],
      "execution_count": 0,
      "outputs": []
    }
  ]
}