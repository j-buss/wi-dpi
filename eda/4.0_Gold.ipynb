{
  "nbformat": 4,
  "nbformat_minor": 0,
  "metadata": {
    "colab": {
      "name": "Untitled4.ipynb",
      "version": "0.3.2",
      "provenance": [],
      "toc_visible": true,
      "include_colab_link": true
    },
    "kernelspec": {
      "name": "python3",
      "display_name": "Python 3"
    }
  },
  "cells": [
    {
      "cell_type": "markdown",
      "metadata": {
        "id": "view-in-github",
        "colab_type": "text"
      },
      "source": [
        "<a href=\"https://colab.research.google.com/github/j-buss/wi-dpi-analysis/blob/development/eda/4.0_Gold.ipynb\" target=\"_parent\"><img src=\"https://colab.research.google.com/assets/colab-badge.svg\" alt=\"Open In Colab\"/></a>"
      ]
    },
    {
      "cell_type": "markdown",
      "metadata": {
        "id": "dUhK2YzNXtF_",
        "colab_type": "text"
      },
      "source": [
        "# Salary and Education in Wisconsin - 4.0 Gold Layer"
      ]
    },
    {
      "cell_type": "markdown",
      "metadata": {
        "id": "KYmRXQbFX0qT",
        "colab_type": "text"
      },
      "source": [
        "This it the 4th in a series of notebooks depicting the steps to acquire, store and analyze data pertaining to teachers in Wisconsin.\n",
        "\n",
        "\n",
        "\n",
        "1.   List item\n",
        "2.   List item\n",
        "3.   Refined Data - Create ***all_staff_record*** tables by year"
      ]
    },
    {
      "cell_type": "markdown",
      "metadata": {
        "id": "Rrx3MX1iX5Dz",
        "colab_type": "text"
      },
      "source": [
        "## Prep"
      ]
    },
    {
      "cell_type": "code",
      "metadata": {
        "id": "BYwBDVBwX6eb",
        "colab_type": "code",
        "colab": {
          "base_uri": "https://localhost:8080/",
          "height": 367
        },
        "outputId": "700c4979-0326-4d78-93df-780feef62dce"
      },
      "source": [
        "!pip install --upgrade google-cloud-bigquery"
      ],
      "execution_count": 1,
      "outputs": [
        {
          "output_type": "stream",
          "text": [
            "Requirement already up-to-date: google-cloud-bigquery in /usr/local/lib/python3.6/dist-packages (1.12.1)\n",
            "Requirement already satisfied, skipping upgrade: protobuf>=3.6.0 in /usr/local/lib/python3.6/dist-packages (from google-cloud-bigquery) (3.7.1)\n",
            "Requirement already satisfied, skipping upgrade: google-api-core<2.0.0dev,>=1.6.0 in /usr/local/lib/python3.6/dist-packages (from google-cloud-bigquery) (1.11.0)\n",
            "Requirement already satisfied, skipping upgrade: google-cloud-core<2.0dev,>=1.0.0 in /usr/local/lib/python3.6/dist-packages (from google-cloud-bigquery) (1.0.0)\n",
            "Requirement already satisfied, skipping upgrade: google-resumable-media>=0.3.1 in /usr/local/lib/python3.6/dist-packages (from google-cloud-bigquery) (0.3.2)\n",
            "Requirement already satisfied, skipping upgrade: setuptools in /usr/local/lib/python3.6/dist-packages (from protobuf>=3.6.0->google-cloud-bigquery) (41.0.1)\n",
            "Requirement already satisfied, skipping upgrade: six>=1.9 in /usr/local/lib/python3.6/dist-packages (from protobuf>=3.6.0->google-cloud-bigquery) (1.12.0)\n",
            "Requirement already satisfied, skipping upgrade: requests<3.0.0dev,>=2.18.0 in /usr/local/lib/python3.6/dist-packages (from google-api-core<2.0.0dev,>=1.6.0->google-cloud-bigquery) (2.21.0)\n",
            "Requirement already satisfied, skipping upgrade: google-auth<2.0dev,>=0.4.0 in /usr/local/lib/python3.6/dist-packages (from google-api-core<2.0.0dev,>=1.6.0->google-cloud-bigquery) (1.4.2)\n",
            "Requirement already satisfied, skipping upgrade: googleapis-common-protos!=1.5.4,<2.0dev,>=1.5.3 in /usr/local/lib/python3.6/dist-packages (from google-api-core<2.0.0dev,>=1.6.0->google-cloud-bigquery) (1.5.10)\n",
            "Requirement already satisfied, skipping upgrade: pytz in /usr/local/lib/python3.6/dist-packages (from google-api-core<2.0.0dev,>=1.6.0->google-cloud-bigquery) (2018.9)\n",
            "Requirement already satisfied, skipping upgrade: urllib3<1.25,>=1.21.1 in /usr/local/lib/python3.6/dist-packages (from requests<3.0.0dev,>=2.18.0->google-api-core<2.0.0dev,>=1.6.0->google-cloud-bigquery) (1.24.3)\n",
            "Requirement already satisfied, skipping upgrade: certifi>=2017.4.17 in /usr/local/lib/python3.6/dist-packages (from requests<3.0.0dev,>=2.18.0->google-api-core<2.0.0dev,>=1.6.0->google-cloud-bigquery) (2019.3.9)\n",
            "Requirement already satisfied, skipping upgrade: idna<2.9,>=2.5 in /usr/local/lib/python3.6/dist-packages (from requests<3.0.0dev,>=2.18.0->google-api-core<2.0.0dev,>=1.6.0->google-cloud-bigquery) (2.8)\n",
            "Requirement already satisfied, skipping upgrade: chardet<3.1.0,>=3.0.2 in /usr/local/lib/python3.6/dist-packages (from requests<3.0.0dev,>=2.18.0->google-api-core<2.0.0dev,>=1.6.0->google-cloud-bigquery) (3.0.4)\n",
            "Requirement already satisfied, skipping upgrade: rsa>=3.1.4 in /usr/local/lib/python3.6/dist-packages (from google-auth<2.0dev,>=0.4.0->google-api-core<2.0.0dev,>=1.6.0->google-cloud-bigquery) (4.0)\n",
            "Requirement already satisfied, skipping upgrade: cachetools>=2.0.0 in /usr/local/lib/python3.6/dist-packages (from google-auth<2.0dev,>=0.4.0->google-api-core<2.0.0dev,>=1.6.0->google-cloud-bigquery) (3.1.0)\n",
            "Requirement already satisfied, skipping upgrade: pyasn1-modules>=0.2.1 in /usr/local/lib/python3.6/dist-packages (from google-auth<2.0dev,>=0.4.0->google-api-core<2.0.0dev,>=1.6.0->google-cloud-bigquery) (0.2.5)\n",
            "Requirement already satisfied, skipping upgrade: pyasn1>=0.1.3 in /usr/local/lib/python3.6/dist-packages (from rsa>=3.1.4->google-auth<2.0dev,>=0.4.0->google-api-core<2.0.0dev,>=1.6.0->google-cloud-bigquery) (0.4.5)\n"
          ],
          "name": "stdout"
        }
      ]
    },
    {
      "cell_type": "code",
      "metadata": {
        "id": "C4GuEZPjX9Yk",
        "colab_type": "code",
        "colab": {}
      },
      "source": [
        ""
      ],
      "execution_count": 0,
      "outputs": []
    },
    {
      "cell_type": "markdown",
      "metadata": {
        "id": "uwf3bBztX_Ks",
        "colab_type": "text"
      },
      "source": [
        "### Import Libraries"
      ]
    },
    {
      "cell_type": "code",
      "metadata": {
        "id": "g5yVt7wzYBJL",
        "colab_type": "code",
        "colab": {}
      },
      "source": [
        "import numpy as np\n",
        "import pandas as pd\n",
        "pd.set_option('display.max_columns', 50)\n",
        "pd.set_option('display.max_rows', 5)\n",
        "import seaborn as sns\n",
        "import matplotlib.pyplot as plt\n",
        "\n",
        "from google.cloud import bigquery"
      ],
      "execution_count": 0,
      "outputs": []
    },
    {
      "cell_type": "code",
      "metadata": {
        "id": "GGxE-FEQYDi1",
        "colab_type": "code",
        "colab": {}
      },
      "source": [
        "%matplotlib inline\n",
        "plt.style.use('bmh')"
      ],
      "execution_count": 0,
      "outputs": []
    },
    {
      "cell_type": "markdown",
      "metadata": {
        "id": "tvoY64NqYGMk",
        "colab_type": "text"
      },
      "source": [
        "### Functions"
      ]
    },
    {
      "cell_type": "code",
      "metadata": {
        "id": "IcI5ELLCYFf8",
        "colab_type": "code",
        "colab": {}
      },
      "source": [
        "def create_dataset(client, project_id, dataset_name):\n",
        "  \n",
        "  \n",
        "  dataset_id = \"{}.{}\".format(project_id, dataset_name)\n",
        "  dataset = bigquery.Dataset(dataset_id)\n",
        "  dataset.location = \"US\"\n",
        "\n",
        "  dataset = client.create_dataset(dataset)\n",
        "  print(\"Created dataset {}.{}\".format(client.project, dataset.dataset_id))"
      ],
      "execution_count": 0,
      "outputs": []
    },
    {
      "cell_type": "markdown",
      "metadata": {
        "id": "UsGx_dBpYSX8",
        "colab_type": "text"
      },
      "source": [
        "## Processing"
      ]
    },
    {
      "cell_type": "code",
      "metadata": {
        "id": "HUlrKYztYRxL",
        "colab_type": "code",
        "colab": {}
      },
      "source": [
        "# Authenticate to GCS.\n",
        "from google.colab import auth\n",
        "auth.authenticate_user()"
      ],
      "execution_count": 0,
      "outputs": []
    },
    {
      "cell_type": "code",
      "metadata": {
        "id": "p4xSNoB6YXDU",
        "colab_type": "code",
        "colab": {}
      },
      "source": [
        "project_id='wi-dpi-010'\n",
        "landing_dataset_name='landing'\n",
        "refined_dataset_name='refined'\n",
        "gold_dataset_name='gold'"
      ],
      "execution_count": 0,
      "outputs": []
    },
    {
      "cell_type": "code",
      "metadata": {
        "id": "Kfp34BIXYb7j",
        "colab_type": "code",
        "colab": {}
      },
      "source": [
        "bq_client = bigquery.Client(project=project_id)"
      ],
      "execution_count": 0,
      "outputs": []
    },
    {
      "cell_type": "code",
      "metadata": {
        "id": "tT_JPOyiYeAj",
        "colab_type": "code",
        "colab": {}
      },
      "source": [
        "#Create Refined Dataset - Likely already done\n",
        "#create_dataset(bq_client, project_id, gold_dataset_name)"
      ],
      "execution_count": 0,
      "outputs": []
    },
    {
      "cell_type": "code",
      "metadata": {
        "id": "VFLXL7MdYi9z",
        "colab_type": "code",
        "colab": {
          "base_uri": "https://localhost:8080/",
          "height": 425
        },
        "outputId": "4b147806-07d7-447d-df60-4b50a307733d"
      },
      "source": [
        "df = pd.read_gbq(\"select * from {}.{}\".format(refined_dataset_name, \"2015_all_staff_report\"),project_id=project_id)"
      ],
      "execution_count": 12,
      "outputs": [
        {
          "output_type": "stream",
          "text": [
            "/usr/local/lib/python3.6/dist-packages/ipykernel_launcher.py:1: FutureWarning: The default value for dialect is changing to \"standard\" in a future version of pandas-gbq. Pass in dialect=\"legacy\" to disable this warning.\n",
            "  \"\"\"Entry point for launching an IPython kernel.\n"
          ],
          "name": "stderr"
        },
        {
          "output_type": "execute_result",
          "data": {
            "text/html": [
              "<div>\n",
              "<style scoped>\n",
              "    .dataframe tbody tr th:only-of-type {\n",
              "        vertical-align: middle;\n",
              "    }\n",
              "\n",
              "    .dataframe tbody tr th {\n",
              "        vertical-align: top;\n",
              "    }\n",
              "\n",
              "    .dataframe thead th {\n",
              "        text-align: right;\n",
              "    }\n",
              "</style>\n",
              "<table border=\"1\" class=\"dataframe\">\n",
              "  <thead>\n",
              "    <tr style=\"text-align: right;\">\n",
              "      <th></th>\n",
              "      <th>id_nbr</th>\n",
              "      <th>first_name</th>\n",
              "      <th>last_name</th>\n",
              "      <th>file_number</th>\n",
              "      <th>gender</th>\n",
              "      <th>race_ethnicity</th>\n",
              "      <th>birth_year</th>\n",
              "      <th>high_degree_cd</th>\n",
              "      <th>high_degree_desc</th>\n",
              "      <th>year_session</th>\n",
              "      <th>contract_days</th>\n",
              "      <th>local_exp</th>\n",
              "      <th>total_exp</th>\n",
              "      <th>salary</th>\n",
              "      <th>benefits</th>\n",
              "      <th>staff_category_cd</th>\n",
              "      <th>staff_category_desc</th>\n",
              "      <th>school_cd</th>\n",
              "      <th>position_cd</th>\n",
              "      <th>position_description</th>\n",
              "      <th>position_type_cd</th>\n",
              "      <th>position_type_desc</th>\n",
              "      <th>assignment_area_cd</th>\n",
              "      <th>assignment_area_desc</th>\n",
              "      <th>low_grade_cd</th>\n",
              "      <th>low_grade_desc</th>\n",
              "      <th>high_grade_cd</th>\n",
              "      <th>high_grade_desc</th>\n",
              "      <th>assignment_fte</th>\n",
              "      <th>school_name</th>\n",
              "      <th>grade_level_cd</th>\n",
              "      <th>grade_level_desc</th>\n",
              "      <th>cesa_number</th>\n",
              "      <th>cnty_name</th>\n",
              "      <th>school_mailing_address1</th>\n",
              "      <th>school_mailing_address2</th>\n",
              "      <th>mail_city</th>\n",
              "      <th>mail_st</th>\n",
              "      <th>mail_zip_cd</th>\n",
              "    </tr>\n",
              "  </thead>\n",
              "  <tbody>\n",
              "    <tr>\n",
              "      <th>0</th>\n",
              "      <td>333790</td>\n",
              "      <td>Richard</td>\n",
              "      <td>Waski</td>\n",
              "      <td>214440</td>\n",
              "      <td>M</td>\n",
              "      <td>W</td>\n",
              "      <td>1972</td>\n",
              "      <td>6</td>\n",
              "      <td>6-year Specialist's degree</td>\n",
              "      <td>2015R</td>\n",
              "      <td>260</td>\n",
              "      <td>2.0</td>\n",
              "      <td>19.0</td>\n",
              "      <td>119722.0</td>\n",
              "      <td>42582.0</td>\n",
              "      <td>1</td>\n",
              "      <td>Professional-Regular Education</td>\n",
              "      <td></td>\n",
              "      <td>5</td>\n",
              "      <td>District Administrator</td>\n",
              "      <td>A</td>\n",
              "      <td>Administrative</td>\n",
              "      <td>0</td>\n",
              "      <td>No Description Beyond Position</td>\n",
              "      <td>K4</td>\n",
              "      <td>4-year-old Kindergarten</td>\n",
              "      <td>12</td>\n",
              "      <td>Twelfth Grade</td>\n",
              "      <td>1.0</td>\n",
              "      <td>Adams-Friendship Area Sch Dist</td>\n",
              "      <td>None</td>\n",
              "      <td>None</td>\n",
              "      <td>5</td>\n",
              "      <td>Adams County</td>\n",
              "      <td>201 W 6th St</td>\n",
              "      <td>Friendship WI  53934-9135</td>\n",
              "      <td>Friendship</td>\n",
              "      <td>WI</td>\n",
              "      <td>53934-9135</td>\n",
              "    </tr>\n",
              "    <tr>\n",
              "      <th>1</th>\n",
              "      <td>282202</td>\n",
              "      <td>Nicholas</td>\n",
              "      <td>Cochart</td>\n",
              "      <td>679898</td>\n",
              "      <td>M</td>\n",
              "      <td>W</td>\n",
              "      <td>1981</td>\n",
              "      <td>6</td>\n",
              "      <td>6-year Specialist's degree</td>\n",
              "      <td>2015R</td>\n",
              "      <td>260</td>\n",
              "      <td>4.0</td>\n",
              "      <td>10.0</td>\n",
              "      <td>150000.0</td>\n",
              "      <td>41648.0</td>\n",
              "      <td>1</td>\n",
              "      <td>Professional-Regular Education</td>\n",
              "      <td></td>\n",
              "      <td>5</td>\n",
              "      <td>District Administrator</td>\n",
              "      <td>A</td>\n",
              "      <td>Administrative</td>\n",
              "      <td>0</td>\n",
              "      <td>No Description Beyond Position</td>\n",
              "      <td>K4</td>\n",
              "      <td>4-year-old Kindergarten</td>\n",
              "      <td>12</td>\n",
              "      <td>Twelfth Grade</td>\n",
              "      <td>0.5</td>\n",
              "      <td>Algoma Sch Dist</td>\n",
              "      <td>None</td>\n",
              "      <td>None</td>\n",
              "      <td>7</td>\n",
              "      <td>Kewaunee County</td>\n",
              "      <td>1715 Division St</td>\n",
              "      <td>Algoma WI  54201-1498</td>\n",
              "      <td>Algoma</td>\n",
              "      <td>WI</td>\n",
              "      <td>54201-1498</td>\n",
              "    </tr>\n",
              "    <tr>\n",
              "      <th>...</th>\n",
              "      <td>...</td>\n",
              "      <td>...</td>\n",
              "      <td>...</td>\n",
              "      <td>...</td>\n",
              "      <td>...</td>\n",
              "      <td>...</td>\n",
              "      <td>...</td>\n",
              "      <td>...</td>\n",
              "      <td>...</td>\n",
              "      <td>...</td>\n",
              "      <td>...</td>\n",
              "      <td>...</td>\n",
              "      <td>...</td>\n",
              "      <td>...</td>\n",
              "      <td>...</td>\n",
              "      <td>...</td>\n",
              "      <td>...</td>\n",
              "      <td>...</td>\n",
              "      <td>...</td>\n",
              "      <td>...</td>\n",
              "      <td>...</td>\n",
              "      <td>...</td>\n",
              "      <td>...</td>\n",
              "      <td>...</td>\n",
              "      <td>...</td>\n",
              "      <td>...</td>\n",
              "      <td>...</td>\n",
              "      <td>...</td>\n",
              "      <td>...</td>\n",
              "      <td>...</td>\n",
              "      <td>...</td>\n",
              "      <td>...</td>\n",
              "      <td>...</td>\n",
              "      <td>...</td>\n",
              "      <td>...</td>\n",
              "      <td>...</td>\n",
              "      <td>...</td>\n",
              "      <td>...</td>\n",
              "      <td>...</td>\n",
              "    </tr>\n",
              "    <tr>\n",
              "      <th>173822</th>\n",
              "      <td>397111</td>\n",
              "      <td>Brad</td>\n",
              "      <td>Johannes</td>\n",
              "      <td>677987</td>\n",
              "      <td>M</td>\n",
              "      <td>W</td>\n",
              "      <td>1981</td>\n",
              "      <td>None</td>\n",
              "      <td>None</td>\n",
              "      <td>2015R</td>\n",
              "      <td>0</td>\n",
              "      <td>NaN</td>\n",
              "      <td>NaN</td>\n",
              "      <td>0.0</td>\n",
              "      <td>0.0</td>\n",
              "      <td>4</td>\n",
              "      <td>Support-Special Education</td>\n",
              "      <td>7105</td>\n",
              "      <td>96</td>\n",
              "      <td>None</td>\n",
              "      <td>None</td>\n",
              "      <td>None</td>\n",
              "      <td>870</td>\n",
              "      <td>None</td>\n",
              "      <td>PK</td>\n",
              "      <td>Pre-Kindergarten</td>\n",
              "      <td>12</td>\n",
              "      <td>Twelfth Grade</td>\n",
              "      <td>1.0</td>\n",
              "      <td>Winnebago MHI</td>\n",
              "      <td>7</td>\n",
              "      <td>Combined Elementary/Secondary School</td>\n",
              "      <td>None</td>\n",
              "      <td>Winnebago County</td>\n",
              "      <td>PO Box 9</td>\n",
              "      <td>Winnebago WI  54985-0009</td>\n",
              "      <td>Winnebago</td>\n",
              "      <td>WI</td>\n",
              "      <td>54985-0009</td>\n",
              "    </tr>\n",
              "    <tr>\n",
              "      <th>173823</th>\n",
              "      <td>392557</td>\n",
              "      <td>Fallon</td>\n",
              "      <td>Crowe</td>\n",
              "      <td>671093</td>\n",
              "      <td>F</td>\n",
              "      <td>W</td>\n",
              "      <td>1982</td>\n",
              "      <td>None</td>\n",
              "      <td>None</td>\n",
              "      <td>2015R</td>\n",
              "      <td>0</td>\n",
              "      <td>NaN</td>\n",
              "      <td>NaN</td>\n",
              "      <td>0.0</td>\n",
              "      <td>0.0</td>\n",
              "      <td>4</td>\n",
              "      <td>Support-Special Education</td>\n",
              "      <td>7105</td>\n",
              "      <td>96</td>\n",
              "      <td>None</td>\n",
              "      <td>None</td>\n",
              "      <td>None</td>\n",
              "      <td>870</td>\n",
              "      <td>None</td>\n",
              "      <td>PK</td>\n",
              "      <td>Pre-Kindergarten</td>\n",
              "      <td>12</td>\n",
              "      <td>Twelfth Grade</td>\n",
              "      <td>0.5</td>\n",
              "      <td>Winnebago MHI</td>\n",
              "      <td>7</td>\n",
              "      <td>Combined Elementary/Secondary School</td>\n",
              "      <td>None</td>\n",
              "      <td>Winnebago County</td>\n",
              "      <td>PO Box 9</td>\n",
              "      <td>Winnebago WI  54985-0009</td>\n",
              "      <td>Winnebago</td>\n",
              "      <td>WI</td>\n",
              "      <td>54985-0009</td>\n",
              "    </tr>\n",
              "  </tbody>\n",
              "</table>\n",
              "<p>173824 rows × 39 columns</p>\n",
              "</div>"
            ],
            "text/plain": [
              "        id_nbr first_name last_name file_number gender race_ethnicity  \\\n",
              "0       333790    Richard     Waski      214440      M              W   \n",
              "1       282202   Nicholas   Cochart      679898      M              W   \n",
              "...        ...        ...       ...         ...    ...            ...   \n",
              "173822  397111       Brad  Johannes      677987      M              W   \n",
              "173823  392557     Fallon     Crowe      671093      F              W   \n",
              "\n",
              "        birth_year high_degree_cd            high_degree_desc year_session  \\\n",
              "0             1972              6  6-year Specialist's degree        2015R   \n",
              "1             1981              6  6-year Specialist's degree        2015R   \n",
              "...            ...            ...                         ...          ...   \n",
              "173822        1981           None                        None        2015R   \n",
              "173823        1982           None                        None        2015R   \n",
              "\n",
              "        contract_days  local_exp  total_exp    salary  benefits  \\\n",
              "0                 260        2.0       19.0  119722.0   42582.0   \n",
              "1                 260        4.0       10.0  150000.0   41648.0   \n",
              "...               ...        ...        ...       ...       ...   \n",
              "173822              0        NaN        NaN       0.0       0.0   \n",
              "173823              0        NaN        NaN       0.0       0.0   \n",
              "\n",
              "       staff_category_cd             staff_category_desc school_cd  \\\n",
              "0                      1  Professional-Regular Education             \n",
              "1                      1  Professional-Regular Education             \n",
              "...                  ...                             ...       ...   \n",
              "173822                 4       Support-Special Education      7105   \n",
              "173823                 4       Support-Special Education      7105   \n",
              "\n",
              "        position_cd    position_description position_type_cd  \\\n",
              "0                 5  District Administrator                A   \n",
              "1                 5  District Administrator                A   \n",
              "...             ...                     ...              ...   \n",
              "173822           96                    None             None   \n",
              "173823           96                    None             None   \n",
              "\n",
              "       position_type_desc  assignment_area_cd            assignment_area_desc  \\\n",
              "0          Administrative                   0  No Description Beyond Position   \n",
              "1          Administrative                   0  No Description Beyond Position   \n",
              "...                   ...                 ...                             ...   \n",
              "173822               None                 870                            None   \n",
              "173823               None                 870                            None   \n",
              "\n",
              "       low_grade_cd           low_grade_desc high_grade_cd high_grade_desc  \\\n",
              "0                K4  4-year-old Kindergarten            12   Twelfth Grade   \n",
              "1                K4  4-year-old Kindergarten            12   Twelfth Grade   \n",
              "...             ...                      ...           ...             ...   \n",
              "173822           PK         Pre-Kindergarten            12   Twelfth Grade   \n",
              "173823           PK         Pre-Kindergarten            12   Twelfth Grade   \n",
              "\n",
              "        assignment_fte                     school_name grade_level_cd  \\\n",
              "0                  1.0  Adams-Friendship Area Sch Dist           None   \n",
              "1                  0.5  Algoma Sch Dist                          None   \n",
              "...                ...                             ...            ...   \n",
              "173822             1.0  Winnebago MHI                               7   \n",
              "173823             0.5  Winnebago MHI                               7   \n",
              "\n",
              "                            grade_level_desc cesa_number  \\\n",
              "0                                       None           5   \n",
              "1                                       None           7   \n",
              "...                                      ...         ...   \n",
              "173822  Combined Elementary/Secondary School        None   \n",
              "173823  Combined Elementary/Secondary School        None   \n",
              "\n",
              "                             cnty_name         school_mailing_address1  \\\n",
              "0       Adams County                    201 W 6th St                     \n",
              "1       Kewaunee County                 1715 Division St                 \n",
              "...                                ...                             ...   \n",
              "173822  Winnebago County                PO Box 9                         \n",
              "173823  Winnebago County                PO Box 9                         \n",
              "\n",
              "               school_mailing_address2          mail_city mail_st mail_zip_cd  \n",
              "0       Friendship WI  53934-9135       Friendship             WI  53934-9135  \n",
              "1       Algoma WI  54201-1498           Algoma                 WI  54201-1498  \n",
              "...                                ...                ...     ...         ...  \n",
              "173822  Winnebago WI  54985-0009        Winnebago              WI  54985-0009  \n",
              "173823  Winnebago WI  54985-0009        Winnebago              WI  54985-0009  \n",
              "\n",
              "[173824 rows x 39 columns]"
            ]
          },
          "metadata": {
            "tags": []
          },
          "execution_count": 12
        }
      ]
    },
    {
      "cell_type": "code",
      "metadata": {
        "id": "n7cdR_KaZQHT",
        "colab_type": "code",
        "colab": {
          "base_uri": "https://localhost:8080/",
          "height": 166
        },
        "outputId": "887eba56-c7d9-43ea-8355-73358788210a"
      },
      "source": [
        "df.head()"
      ],
      "execution_count": 13,
      "outputs": [
        {
          "output_type": "error",
          "ename": "NameError",
          "evalue": "ignored",
          "traceback": [
            "\u001b[0;31m---------------------------------------------------------------------------\u001b[0m",
            "\u001b[0;31mNameError\u001b[0m                                 Traceback (most recent call last)",
            "\u001b[0;32m<ipython-input-13-c42a15b2c7cf>\u001b[0m in \u001b[0;36m<module>\u001b[0;34m()\u001b[0m\n\u001b[0;32m----> 1\u001b[0;31m \u001b[0mdf\u001b[0m\u001b[0;34m.\u001b[0m\u001b[0mhead\u001b[0m\u001b[0;34m(\u001b[0m\u001b[0;34m)\u001b[0m\u001b[0;34m\u001b[0m\u001b[0;34m\u001b[0m\u001b[0m\n\u001b[0m",
            "\u001b[0;31mNameError\u001b[0m: name 'df' is not defined"
          ]
        }
      ]
    },
    {
      "cell_type": "code",
      "metadata": {
        "id": "gquZLfmYZiLT",
        "colab_type": "code",
        "colab": {}
      },
      "source": [
        ""
      ],
      "execution_count": 0,
      "outputs": []
    }
  ]
}