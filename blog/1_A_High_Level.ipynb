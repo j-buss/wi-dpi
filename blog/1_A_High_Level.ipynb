{
  "nbformat": 4,
  "nbformat_minor": 0,
  "metadata": {
    "colab": {
      "name": "7.1_Blog_High_Level.ipynb",
      "version": "0.3.2",
      "provenance": [],
      "include_colab_link": true
    },
    "kernelspec": {
      "name": "python3",
      "display_name": "Python 3"
    }
  },
  "cells": [
    {
      "cell_type": "markdown",
      "metadata": {
        "id": "view-in-github",
        "colab_type": "text"
      },
      "source": [
        "<a href=\"https://colab.research.google.com/github/j-buss/wi-dpi-analysis/blob/development/blog/1_A_High_Level.ipynb\" target=\"_parent\"><img src=\"https://colab.research.google.com/assets/colab-badge.svg\" alt=\"Open In Colab\"/></a>"
      ]
    },
    {
      "cell_type": "markdown",
      "metadata": {
        "id": "xwL2NmqjFkXc",
        "colab_type": "text"
      },
      "source": [
        "## Salary and Education in Wisconsin - 7.1 Blog - High Level"
      ]
    },
    {
      "cell_type": "markdown",
      "metadata": {
        "id": "qIHJHvnZFxR7",
        "colab_type": "text"
      },
      "source": [
        "### Import Libraries"
      ]
    },
    {
      "cell_type": "code",
      "metadata": {
        "id": "-zLfZ-rPFowi",
        "colab_type": "code",
        "colab": {}
      },
      "source": [
        "import numpy as np\n",
        "import pandas as pd\n",
        "pd.set_option('display.max_rows', 100)\n",
        "pd.set_option('display.max_columns', 1000)\n",
        "pd.set_option('display.width', 1000)\n",
        "import seaborn as sns\n",
        "import matplotlib.pyplot as plt\n",
        "\n",
        "from google.cloud import bigquery"
      ],
      "execution_count": 0,
      "outputs": []
    },
    {
      "cell_type": "code",
      "metadata": {
        "id": "Nxp5JtUsFvQI",
        "colab_type": "code",
        "colab": {}
      },
      "source": [
        "%matplotlib inline\n",
        "plt.style.use('bmh')"
      ],
      "execution_count": 0,
      "outputs": []
    },
    {
      "cell_type": "code",
      "metadata": {
        "id": "tPXkplFH72QJ",
        "colab_type": "code",
        "outputId": "4a83c191-7fd3-44ed-a8d0-0fc4ebbaa79c",
        "colab": {
          "base_uri": "https://localhost:8080/",
          "height": 468
        }
      },
      "source": [
        "import matplotlib.style as style\n",
        "style.available"
      ],
      "execution_count": 3,
      "outputs": [
        {
          "output_type": "execute_result",
          "data": {
            "text/plain": [
              "['grayscale',\n",
              " 'fast',\n",
              " 'seaborn-pastel',\n",
              " 'dark_background',\n",
              " 'seaborn-notebook',\n",
              " 'seaborn-deep',\n",
              " 'seaborn-darkgrid',\n",
              " '_classic_test',\n",
              " 'bmh',\n",
              " 'seaborn-dark-palette',\n",
              " 'ggplot',\n",
              " 'classic',\n",
              " 'seaborn-poster',\n",
              " 'tableau-colorblind10',\n",
              " 'seaborn-colorblind',\n",
              " 'Solarize_Light2',\n",
              " 'seaborn-white',\n",
              " 'seaborn-talk',\n",
              " 'seaborn-ticks',\n",
              " 'seaborn-paper',\n",
              " 'seaborn-dark',\n",
              " 'seaborn-whitegrid',\n",
              " 'seaborn',\n",
              " 'fivethirtyeight',\n",
              " 'seaborn-muted',\n",
              " 'seaborn-bright']"
            ]
          },
          "metadata": {
            "tags": []
          },
          "execution_count": 3
        }
      ]
    },
    {
      "cell_type": "code",
      "metadata": {
        "id": "4xuyzLhn9NkQ",
        "colab_type": "code",
        "colab": {}
      },
      "source": [
        "style.use('fivethirtyeight')"
      ],
      "execution_count": 0,
      "outputs": []
    },
    {
      "cell_type": "markdown",
      "metadata": {
        "id": "tz7ImNbHF59b",
        "colab_type": "text"
      },
      "source": [
        "### Functions"
      ]
    },
    {
      "cell_type": "code",
      "metadata": {
        "id": "2vdPbJ3vF7PC",
        "colab_type": "code",
        "colab": {}
      },
      "source": [
        "# To help with the pie charts later\n",
        "def make_autopct(values):\n",
        "  def my_autopct(pct):\n",
        "    total = sum(values)\n",
        "    val = int(round(pct*total/100.0))\n",
        "    return '{p:.2f}% \\n({v:,d})'.format(p=pct,v=val)\n",
        "  return my_autopct"
      ],
      "execution_count": 0,
      "outputs": []
    },
    {
      "cell_type": "markdown",
      "metadata": {
        "id": "K5tACG4WF_uj",
        "colab_type": "text"
      },
      "source": [
        "### Processing"
      ]
    },
    {
      "cell_type": "code",
      "metadata": {
        "id": "yXJlrpnfF9ar",
        "colab_type": "code",
        "colab": {}
      },
      "source": [
        "# Authenticate to GCS.\n",
        "from google.colab import auth\n",
        "auth.authenticate_user()"
      ],
      "execution_count": 0,
      "outputs": []
    },
    {
      "cell_type": "code",
      "metadata": {
        "id": "mp5ACLIdGC7y",
        "colab_type": "code",
        "colab": {}
      },
      "source": [
        "project_id='wi-dpi-010'\n",
        "landing_dataset_name='landing'\n",
        "refined_dataset_name='refined'\n",
        "gold_dataset_name='gold'"
      ],
      "execution_count": 0,
      "outputs": []
    },
    {
      "cell_type": "code",
      "metadata": {
        "id": "HGCxvt0zGF0q",
        "colab_type": "code",
        "colab": {}
      },
      "source": [
        "bq_client = bigquery.Client(project=project_id)"
      ],
      "execution_count": 0,
      "outputs": []
    },
    {
      "cell_type": "markdown",
      "metadata": {
        "id": "CjWQ9o2GGOUj",
        "colab_type": "text"
      },
      "source": [
        "## Analysis"
      ]
    },
    {
      "cell_type": "markdown",
      "metadata": {
        "id": "-q30wYluGZ2D",
        "colab_type": "text"
      },
      "source": [
        "There are many aids, teachers, and administrators who have many roles. The information provided by the Wisconsin Department of Public Instruction is a mix of information for an individual as well as information about the individual's role.\n",
        "\n",
        "The state only provides salary information for individuals that have a contract with the state. "
      ]
    },
    {
      "cell_type": "markdown",
      "metadata": {
        "id": "xSaVHhEIHVE6",
        "colab_type": "text"
      },
      "source": [
        "### How many individuals have a contract with a public school?"
      ]
    },
    {
      "cell_type": "code",
      "metadata": {
        "id": "W3fQNB6mGKhA",
        "colab_type": "code",
        "colab": {}
      },
      "source": [
        "sql_educator_master_data ='''\n",
        "  SELECT\n",
        "    *\n",
        "  FROM\n",
        "    {}.{}\n",
        "'''.format('refined','2017_educator_master_data')"
      ],
      "execution_count": 0,
      "outputs": []
    },
    {
      "cell_type": "code",
      "metadata": {
        "id": "4t27aR_G7bBa",
        "colab_type": "code",
        "outputId": "51379c97-8f3d-4a01-84c2-6995872a5674",
        "colab": {
          "base_uri": "https://localhost:8080/",
          "height": 72
        }
      },
      "source": [
        "df_emd = pd.read_gbq(sql_educator_master_data, project_id=project_id)"
      ],
      "execution_count": 10,
      "outputs": [
        {
          "output_type": "stream",
          "text": [
            "/usr/local/lib/python3.6/dist-packages/ipykernel_launcher.py:1: FutureWarning: The default value for dialect is changing to \"standard\" in a future version of pandas-gbq. Pass in dialect=\"legacy\" to disable this warning.\n",
            "  \"\"\"Entry point for launching an IPython kernel.\n"
          ],
          "name": "stderr"
        }
      ]
    },
    {
      "cell_type": "code",
      "metadata": {
        "id": "HmPu1yMB7sTV",
        "colab_type": "code",
        "outputId": "b95942c7-af3d-4e47-a0b8-3481ec5a1dc3",
        "colab": {
          "base_uri": "https://localhost:8080/",
          "height": 416
        }
      },
      "source": [
        "df_emd.info()"
      ],
      "execution_count": 11,
      "outputs": [
        {
          "output_type": "stream",
          "text": [
            "<class 'pandas.core.frame.DataFrame'>\n",
            "RangeIndex: 143493 entries, 0 to 143492\n",
            "Data columns (total 18 columns):\n",
            "research_id                      143493 non-null int64\n",
            "first_name                       143493 non-null object\n",
            "last_name                        143493 non-null object\n",
            "gender                           143493 non-null object\n",
            "race_ethnicity_cd                143493 non-null object\n",
            "race_ethnicity_desc              143493 non-null object\n",
            "birth_year                       143493 non-null int64\n",
            "max_contract_high_degree_cd      73332 non-null object\n",
            "max_contract_local_experience    73359 non-null float64\n",
            "max_contract_total_experience    73359 non-null float64\n",
            "Rec_Cnt                          143493 non-null int64\n",
            "Assignment_FTE                   128948 non-null float64\n",
            "Contract_Cnt                     143493 non-null int64\n",
            "Salary_Cnt                       143493 non-null int64\n",
            "Null_Salary_Cnt                  143493 non-null int64\n",
            "Salary                           73359 non-null float64\n",
            "Benefits                         73336 non-null float64\n",
            "Pos_Cat_Flag                     143493 non-null object\n",
            "dtypes: float64(5), int64(6), object(7)\n",
            "memory usage: 19.7+ MB\n"
          ],
          "name": "stdout"
        }
      ]
    },
    {
      "cell_type": "code",
      "metadata": {
        "id": "o5MZ1vdD7yTg",
        "colab_type": "code",
        "colab": {}
      },
      "source": [
        "df_emd_wo_salary = df_emd[df_emd['Salary_Cnt']==0]\n",
        "df_emd_w_salary = df_emd[df_emd['Salary_Cnt']!=0]"
      ],
      "execution_count": 0,
      "outputs": []
    },
    {
      "cell_type": "code",
      "metadata": {
        "id": "4cB3ENvg85zp",
        "colab_type": "code",
        "colab": {}
      },
      "source": [
        "# Pie chart, where the slices will be ordered and plotted counter-clockwise:\n",
        "labels = ['Parties w/o Salary', 'Parties w Salary']\n",
        "values = [df_emd_wo_salary.count().max(), df_emd_w_salary.count().max()]\n",
        "explode = (0.1, 0)"
      ],
      "execution_count": 0,
      "outputs": []
    },
    {
      "cell_type": "code",
      "metadata": {
        "id": "vImNxcSi8g7g",
        "colab_type": "code",
        "outputId": "50c30dc4-9a9d-4f78-876e-d31e68d17979",
        "colab": {
          "base_uri": "https://localhost:8080/",
          "height": 285
        }
      },
      "source": [
        "plt.title('% of Parties with Salary')\n",
        "plt.pie(values, explode=explode, labels=labels, autopct=make_autopct(values),\n",
        "       shadow=True, startangle=90, labeldistance=1.15)\n",
        "plt.show()"
      ],
      "execution_count": 34,
      "outputs": [
        {
          "output_type": "display_data",
          "data": {
            "image/png": "[encoded data removed]",
            "text/plain": [
              "<Figure size 432x288 with 1 Axes>"
            ]
          },
          "metadata": {
            "tags": []
          }
        }
      ]
    },
    {
      "cell_type": "markdown",
      "metadata": {
        "id": "0irNLjZp9fq1",
        "colab_type": "text"
      },
      "source": [
        "#### How many of the individuals with a Salary are Teachers vs. Administrators?"
      ]
    },
    {
      "cell_type": "markdown",
      "metadata": {
        "id": "JgXuIVHW_uwb",
        "colab_type": "text"
      },
      "source": [
        "We are looking at the individuals that have a salary. They can be grouped into 3 broad categories:\n",
        "\n",
        "\n",
        "1.   Teachers\n",
        "2.   Administrators\n",
        "3.   Other (e.g. Pupil Services, Aides / Paraprofessionals, Other)\n",
        "\n"
      ]
    },
    {
      "cell_type": "code",
      "metadata": {
        "id": "KJQE_6D7uPpr",
        "colab_type": "code",
        "colab": {
          "base_uri": "https://localhost:8080/",
          "height": 171
        },
        "outputId": "762c6f23-6f72-4c8d-de42-5e6008970c6b"
      },
      "source": [
        "df_emd_w_salary.groupby('Pos_Cat_Flag').count()[['research_id']].sort_values(by=['research_id'],ascending=False)"
      ],
      "execution_count": 70,
      "outputs": [
        {
          "output_type": "execute_result",
          "data": {
            "text/html": [
              "<div>\n",
              "<style scoped>\n",
              "    .dataframe tbody tr th:only-of-type {\n",
              "        vertical-align: middle;\n",
              "    }\n",
              "\n",
              "    .dataframe tbody tr th {\n",
              "        vertical-align: top;\n",
              "    }\n",
              "\n",
              "    .dataframe thead th {\n",
              "        text-align: right;\n",
              "    }\n",
              "</style>\n",
              "<table border=\"1\" class=\"dataframe\">\n",
              "  <thead>\n",
              "    <tr style=\"text-align: right;\">\n",
              "      <th></th>\n",
              "      <th>research_id</th>\n",
              "    </tr>\n",
              "    <tr>\n",
              "      <th>Pos_Cat_Flag</th>\n",
              "      <th></th>\n",
              "    </tr>\n",
              "  </thead>\n",
              "  <tbody>\n",
              "    <tr>\n",
              "      <th>T</th>\n",
              "      <td>62656</td>\n",
              "    </tr>\n",
              "    <tr>\n",
              "      <th>O</th>\n",
              "      <td>6185</td>\n",
              "    </tr>\n",
              "    <tr>\n",
              "      <th>A</th>\n",
              "      <td>4518</td>\n",
              "    </tr>\n",
              "  </tbody>\n",
              "</table>\n",
              "</div>"
            ],
            "text/plain": [
              "              research_id\n",
              "Pos_Cat_Flag             \n",
              "T                   62656\n",
              "O                    6185\n",
              "A                    4518"
            ]
          },
          "metadata": {
            "tags": []
          },
          "execution_count": 70
        }
      ]
    },
    {
      "cell_type": "code",
      "metadata": {
        "id": "Be1TwyCb9ro6",
        "colab_type": "code",
        "colab": {}
      },
      "source": [
        "# Pie chart, where the slices will be ordered and plotted counter-clockwise:\n",
        "labels = [\n",
        "    'Teachers' ,\n",
        "    'Other',\n",
        "    'Administrators'\n",
        "]\n",
        "values = [\n",
        "          df_emd_w_salary[(df_emd_w_salary['Pos_Cat_Flag']=='T')].count().max(), \n",
        "          df_emd_w_salary[(df_emd_w_salary['Pos_Cat_Flag']=='O')].count().max(),\n",
        "          df_emd_w_salary[(df_emd_w_salary['Pos_Cat_Flag']=='A')].count().max()\n",
        "          \n",
        "         ]\n",
        "explode = (0.05, 0.05, 0.05)"
      ],
      "execution_count": 0,
      "outputs": []
    },
    {
      "cell_type": "code",
      "metadata": {
        "id": "XbQURsVr9tq4",
        "colab_type": "code",
        "outputId": "b36d8291-3798-443a-824b-9721624edeba",
        "colab": {
          "base_uri": "https://localhost:8080/",
          "height": 285
        }
      },
      "source": [
        "plt.title('Teachers vs. Aministrators')\n",
        "plt.pie(values, explode=explode, labels=labels, autopct=make_autopct(values),\n",
        "       startangle=90, pctdistance=0.65)\n",
        "\n",
        "#draw circle\n",
        "#centre_circle = plt.Circle((0,0),0.60,fc='white')\n",
        "#fig = plt.gcf()\n",
        "#fig.gca().add_artist(centre_circle)\n",
        "\n",
        "# Equal aspect ratio ensures that pie is drawn as a circle\n",
        "#plt.axis('equal')  \n",
        "#plt.tight_layout()\n",
        "plt.show()"
      ],
      "execution_count": 55,
      "outputs": [
        {
          "output_type": "display_data",
          "data": {
            "image/png": "[encoded data removed]",
            "text/plain": [
              "<Figure size 432x288 with 1 Axes>"
            ]
          },
          "metadata": {
            "tags": []
          }
        }
      ]
    },
    {
      "cell_type": "code",
      "metadata": {
        "id": "uUBH-Uha_JZl",
        "colab_type": "code",
        "colab": {}
      },
      "source": [
        ""
      ],
      "execution_count": 0,
      "outputs": []
    }
  ]
}