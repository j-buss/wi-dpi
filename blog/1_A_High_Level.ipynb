{
  "nbformat": 4,
  "nbformat_minor": 0,
  "metadata": {
    "colab": {
      "name": "7.1_Blog_High_Level.ipynb",
      "version": "0.3.2",
      "provenance": [],
      "toc_visible": true,
      "include_colab_link": true
    },
    "kernelspec": {
      "name": "python3",
      "display_name": "Python 3"
    }
  },
  "cells": [
    {
      "cell_type": "markdown",
      "metadata": {
        "id": "view-in-github",
        "colab_type": "text"
      },
      "source": [
        "<a href=\"https://colab.research.google.com/github/j-buss/wi-dpi-analysis/blob/development/blog/1_A_High_Level.ipynb\" target=\"_parent\"><img src=\"https://colab.research.google.com/assets/colab-badge.svg\" alt=\"Open In Colab\"/></a>"
      ]
    },
    {
      "cell_type": "markdown",
      "metadata": {
        "id": "xwL2NmqjFkXc",
        "colab_type": "text"
      },
      "source": [
        "## Salary and Education in Wisconsin - 7.1 Blog - High Level"
      ]
    },
    {
      "cell_type": "markdown",
      "metadata": {
        "id": "qIHJHvnZFxR7",
        "colab_type": "text"
      },
      "source": [
        "### Import Libraries"
      ]
    },
    {
      "cell_type": "code",
      "metadata": {
        "id": "-zLfZ-rPFowi",
        "colab_type": "code",
        "colab": {}
      },
      "source": [
        "import numpy as np\n",
        "import pandas as pd\n",
        "pd.set_option('display.max_rows', 100)\n",
        "pd.set_option('display.max_columns', 1000)\n",
        "pd.set_option('display.width', 1000)\n",
        "import seaborn as sns\n",
        "import matplotlib.pyplot as plt\n",
        "\n",
        "from google.cloud import bigquery\n",
        "import matplotlib"
      ],
      "execution_count": 0,
      "outputs": []
    },
    {
      "cell_type": "code",
      "metadata": {
        "id": "Nxp5JtUsFvQI",
        "colab_type": "code",
        "colab": {}
      },
      "source": [
        "%matplotlib inline\n",
        "plt.style.use('bmh')"
      ],
      "execution_count": 0,
      "outputs": []
    },
    {
      "cell_type": "code",
      "metadata": {
        "id": "tPXkplFH72QJ",
        "colab_type": "code",
        "outputId": "4c2179cc-a38c-44a3-b46c-42386d657fbd",
        "colab": {
          "base_uri": "https://localhost:8080/",
          "height": 474
        }
      },
      "source": [
        "import matplotlib.style as style\n",
        "style.available"
      ],
      "execution_count": 3,
      "outputs": [
        {
          "output_type": "execute_result",
          "data": {
            "text/plain": [
              "['Solarize_Light2',\n",
              " 'classic',\n",
              " 'seaborn-muted',\n",
              " 'seaborn-notebook',\n",
              " 'seaborn-poster',\n",
              " 'fast',\n",
              " 'seaborn-ticks',\n",
              " 'seaborn-colorblind',\n",
              " 'seaborn-talk',\n",
              " 'tableau-colorblind10',\n",
              " 'seaborn-dark',\n",
              " 'fivethirtyeight',\n",
              " 'seaborn-darkgrid',\n",
              " '_classic_test',\n",
              " 'seaborn-paper',\n",
              " 'seaborn-deep',\n",
              " 'seaborn',\n",
              " 'dark_background',\n",
              " 'seaborn-bright',\n",
              " 'seaborn-whitegrid',\n",
              " 'grayscale',\n",
              " 'seaborn-white',\n",
              " 'bmh',\n",
              " 'seaborn-dark-palette',\n",
              " 'seaborn-pastel',\n",
              " 'ggplot']"
            ]
          },
          "metadata": {
            "tags": []
          },
          "execution_count": 3
        }
      ]
    },
    {
      "cell_type": "code",
      "metadata": {
        "id": "4xuyzLhn9NkQ",
        "colab_type": "code",
        "colab": {}
      },
      "source": [
        "style.use('fivethirtyeight')"
      ],
      "execution_count": 0,
      "outputs": []
    },
    {
      "cell_type": "markdown",
      "metadata": {
        "id": "tz7ImNbHF59b",
        "colab_type": "text"
      },
      "source": [
        "### Functions"
      ]
    },
    {
      "cell_type": "code",
      "metadata": {
        "id": "2vdPbJ3vF7PC",
        "colab_type": "code",
        "colab": {}
      },
      "source": [
        "# To help with the pie charts later\n",
        "def make_autopct(values):\n",
        "  def my_autopct(pct):\n",
        "    total = sum(values)\n",
        "    val = int(round(pct*total/100.0))\n",
        "    return '{p:.2f}% \\n({v:,d})'.format(p=pct,v=val)\n",
        "  return my_autopct"
      ],
      "execution_count": 0,
      "outputs": []
    },
    {
      "cell_type": "markdown",
      "metadata": {
        "id": "K5tACG4WF_uj",
        "colab_type": "text"
      },
      "source": [
        "### Processing"
      ]
    },
    {
      "cell_type": "code",
      "metadata": {
        "id": "yXJlrpnfF9ar",
        "colab_type": "code",
        "colab": {}
      },
      "source": [
        "# Authenticate to GCS.\n",
        "from google.colab import auth\n",
        "auth.authenticate_user()"
      ],
      "execution_count": 0,
      "outputs": []
    },
    {
      "cell_type": "code",
      "metadata": {
        "id": "mp5ACLIdGC7y",
        "colab_type": "code",
        "colab": {}
      },
      "source": [
        "project_id='wi-dpi-010'\n",
        "landing_dataset_name='landing'\n",
        "refined_dataset_name='refined'\n",
        "gold_dataset_name='gold'"
      ],
      "execution_count": 0,
      "outputs": []
    },
    {
      "cell_type": "code",
      "metadata": {
        "id": "HGCxvt0zGF0q",
        "colab_type": "code",
        "colab": {}
      },
      "source": [
        "bq_client = bigquery.Client(project=project_id)"
      ],
      "execution_count": 0,
      "outputs": []
    },
    {
      "cell_type": "markdown",
      "metadata": {
        "id": "CjWQ9o2GGOUj",
        "colab_type": "text"
      },
      "source": [
        "## Analysis"
      ]
    },
    {
      "cell_type": "markdown",
      "metadata": {
        "id": "-q30wYluGZ2D",
        "colab_type": "text"
      },
      "source": [
        "There are many aids, teachers, and administrators who have many roles. The information provided by the Wisconsin Department of Public Instruction is a mix of information for an individual as well as information about the individual's role.\n",
        "\n",
        "The state only provides salary information for individuals that have a contract with the state. "
      ]
    },
    {
      "cell_type": "markdown",
      "metadata": {
        "id": "xSaVHhEIHVE6",
        "colab_type": "text"
      },
      "source": [
        "### How many individuals have a contract with a public school?"
      ]
    },
    {
      "cell_type": "code",
      "metadata": {
        "id": "W3fQNB6mGKhA",
        "colab_type": "code",
        "colab": {}
      },
      "source": [
        "sql_educator_master_data ='''\n",
        "  SELECT\n",
        "    *\n",
        "  FROM\n",
        "    {}.{}\n",
        "'''.format('refined','2017_educator_master_data')"
      ],
      "execution_count": 0,
      "outputs": []
    },
    {
      "cell_type": "code",
      "metadata": {
        "id": "4t27aR_G7bBa",
        "colab_type": "code",
        "outputId": "4bcb69ee-f534-40d4-a40c-523bd87f66ad",
        "colab": {
          "base_uri": "https://localhost:8080/",
          "height": 72
        }
      },
      "source": [
        "df_emd = pd.read_gbq(sql_educator_master_data, project_id=project_id)"
      ],
      "execution_count": 10,
      "outputs": [
        {
          "output_type": "stream",
          "text": [
            "/usr/local/lib/python3.6/dist-packages/ipykernel_launcher.py:1: FutureWarning: The default value for dialect is changing to \"standard\" in a future version of pandas-gbq. Pass in dialect=\"legacy\" to disable this warning.\n",
            "  \"\"\"Entry point for launching an IPython kernel.\n"
          ],
          "name": "stderr"
        }
      ]
    },
    {
      "cell_type": "code",
      "metadata": {
        "id": "HmPu1yMB7sTV",
        "colab_type": "code",
        "outputId": "7c59bb4c-0c7e-4c3c-e0bf-6a5a107b729a",
        "colab": {
          "base_uri": "https://localhost:8080/",
          "height": 422
        }
      },
      "source": [
        "df_emd.info()"
      ],
      "execution_count": 11,
      "outputs": [
        {
          "output_type": "stream",
          "text": [
            "<class 'pandas.core.frame.DataFrame'>\n",
            "RangeIndex: 143493 entries, 0 to 143492\n",
            "Data columns (total 18 columns):\n",
            "research_id                      143493 non-null int64\n",
            "first_name                       143493 non-null object\n",
            "last_name                        143493 non-null object\n",
            "gender                           143493 non-null object\n",
            "race_ethnicity_cd                143493 non-null object\n",
            "race_ethnicity_desc              143493 non-null object\n",
            "birth_year                       143493 non-null int64\n",
            "max_contract_high_degree_cd      73332 non-null object\n",
            "max_contract_local_experience    73359 non-null float64\n",
            "max_contract_total_experience    73359 non-null float64\n",
            "Rec_Cnt                          143493 non-null int64\n",
            "Assignment_FTE                   128948 non-null float64\n",
            "Contract_Cnt                     143493 non-null int64\n",
            "Salary_Cnt                       143493 non-null int64\n",
            "Null_Salary_Cnt                  143493 non-null int64\n",
            "Salary                           73359 non-null float64\n",
            "Benefits                         73336 non-null float64\n",
            "Pos_Cat_Flag                     143493 non-null object\n",
            "dtypes: float64(5), int64(6), object(7)\n",
            "memory usage: 19.7+ MB\n"
          ],
          "name": "stdout"
        }
      ]
    },
    {
      "cell_type": "code",
      "metadata": {
        "id": "IfsI5JRDe4Ih",
        "colab_type": "code",
        "colab": {}
      },
      "source": [
        ""
      ],
      "execution_count": 0,
      "outputs": []
    },
    {
      "cell_type": "code",
      "metadata": {
        "id": "o5MZ1vdD7yTg",
        "colab_type": "code",
        "colab": {}
      },
      "source": [
        "df_emd_wo_salary = df_emd[df_emd['Salary_Cnt']==0]\n",
        "df_emd_w_salary = df_emd[df_emd['Salary_Cnt']!=0]"
      ],
      "execution_count": 0,
      "outputs": []
    },
    {
      "cell_type": "code",
      "metadata": {
        "id": "4cB3ENvg85zp",
        "colab_type": "code",
        "colab": {}
      },
      "source": [
        "# Pie chart, where the slices will be ordered and plotted counter-clockwise:\n",
        "labels_1 = ['Parties \\nw/o Salary', 'Parties \\nwith Salary']\n",
        "values_1 = [df_emd_wo_salary.count().max(), df_emd_w_salary.count().max()]"
      ],
      "execution_count": 0,
      "outputs": []
    },
    {
      "cell_type": "code",
      "metadata": {
        "id": "vImNxcSi8g7g",
        "colab_type": "code",
        "outputId": "6cf920ca-84dd-4163-d516-580405700f0f",
        "colab": {
          "base_uri": "https://localhost:8080/",
          "height": 286
        }
      },
      "source": [
        "plt.title('% of Parties with Salary')\n",
        "plt.pie(values_1, explode=(0,0.05), labels=labels_1, autopct=make_autopct(values_1),\n",
        "       shadow=False, startangle=90, frame=False, radius=1.25)\n",
        "plt.show\n",
        "plt.savefig('01_Perc_Parties_Salary.png', bbox_inches = 'tight', pad_inches=0.25, dpi=300)"
      ],
      "execution_count": 14,
      "outputs": [
        {
          "output_type": "display_data",
          "data": {
            "image/png": "[encoded data removed]",
            "text/plain": [
              "<Figure size 432x288 with 1 Axes>"
            ]
          },
          "metadata": {
            "tags": []
          }
        }
      ]
    },
    {
      "cell_type": "markdown",
      "metadata": {
        "id": "0irNLjZp9fq1",
        "colab_type": "text"
      },
      "source": [
        "#### How many of the individuals with a Salary are Teachers vs. Administrators?"
      ]
    },
    {
      "cell_type": "markdown",
      "metadata": {
        "id": "JgXuIVHW_uwb",
        "colab_type": "text"
      },
      "source": [
        "We are looking at the individuals that have a salary. They can be grouped into 3 broad categories:\n",
        "\n",
        "\n",
        "1.   Teachers\n",
        "2.   Administrators\n",
        "3.   Other (e.g. Pupil Services, Aides / Paraprofessionals, Other)\n",
        "\n"
      ]
    },
    {
      "cell_type": "code",
      "metadata": {
        "id": "KJQE_6D7uPpr",
        "colab_type": "code",
        "outputId": "3ae1140b-c39d-4410-c464-2d9e3c87a387",
        "colab": {
          "base_uri": "https://localhost:8080/",
          "height": 166
        }
      },
      "source": [
        "df_emd_w_salary.groupby('Pos_Cat_Flag').count()[['research_id']].sort_values(by=['research_id'],ascending=False)"
      ],
      "execution_count": 15,
      "outputs": [
        {
          "output_type": "execute_result",
          "data": {
            "text/html": [
              "<div>\n",
              "<style scoped>\n",
              "    .dataframe tbody tr th:only-of-type {\n",
              "        vertical-align: middle;\n",
              "    }\n",
              "\n",
              "    .dataframe tbody tr th {\n",
              "        vertical-align: top;\n",
              "    }\n",
              "\n",
              "    .dataframe thead th {\n",
              "        text-align: right;\n",
              "    }\n",
              "</style>\n",
              "<table border=\"1\" class=\"dataframe\">\n",
              "  <thead>\n",
              "    <tr style=\"text-align: right;\">\n",
              "      <th></th>\n",
              "      <th>research_id</th>\n",
              "    </tr>\n",
              "    <tr>\n",
              "      <th>Pos_Cat_Flag</th>\n",
              "      <th></th>\n",
              "    </tr>\n",
              "  </thead>\n",
              "  <tbody>\n",
              "    <tr>\n",
              "      <th>T</th>\n",
              "      <td>62656</td>\n",
              "    </tr>\n",
              "    <tr>\n",
              "      <th>O</th>\n",
              "      <td>6185</td>\n",
              "    </tr>\n",
              "    <tr>\n",
              "      <th>A</th>\n",
              "      <td>4518</td>\n",
              "    </tr>\n",
              "  </tbody>\n",
              "</table>\n",
              "</div>"
            ],
            "text/plain": [
              "              research_id\n",
              "Pos_Cat_Flag             \n",
              "T                   62656\n",
              "O                    6185\n",
              "A                    4518"
            ]
          },
          "metadata": {
            "tags": []
          },
          "execution_count": 15
        }
      ]
    },
    {
      "cell_type": "code",
      "metadata": {
        "id": "Be1TwyCb9ro6",
        "colab_type": "code",
        "colab": {}
      },
      "source": [
        "# Pie chart, where the slices will be ordered and plotted counter-clockwise:\n",
        "labels_2 = [\n",
        "    'Teachers' ,\n",
        "    'Other',\n",
        "    'Administrators'\n",
        "]\n",
        "values_2 = [\n",
        "          df_emd_w_salary[(df_emd_w_salary['Pos_Cat_Flag']=='T')].count().max(), \n",
        "          df_emd_w_salary[(df_emd_w_salary['Pos_Cat_Flag']=='O')].count().max(),\n",
        "          df_emd_w_salary[(df_emd_w_salary['Pos_Cat_Flag']=='A')].count().max()\n",
        "         ]"
      ],
      "execution_count": 0,
      "outputs": []
    },
    {
      "cell_type": "code",
      "metadata": {
        "id": "V9_zecOIBDFx",
        "colab_type": "code",
        "outputId": "2c5a8599-6cfa-4073-ea13-cafef270396a",
        "colab": {
          "base_uri": "https://localhost:8080/",
          "height": 285
        }
      },
      "source": [
        "plt.title('% of Employee Types with Salary')\n",
        "plt.pie(values_2, explode=(0.05,0.05, 0.05), labels=labels_2, autopct=make_autopct(values_2),\n",
        "       shadow=False, startangle=200, frame=False, radius=1, pctdistance=0.70, textprops={'size': 'smaller'})\n",
        "plt.show\n",
        "plt.savefig('02_Perc_Emp_Types_Salary.png', bbox_inches = 'tight', pad_inches=0.25, dpi=300)"
      ],
      "execution_count": 17,
      "outputs": [
        {
          "output_type": "display_data",
          "data": {
            "image/png": "[encoded data removed]",
            "text/plain": [
              "<Figure size 432x288 with 1 Axes>"
            ]
          },
          "metadata": {
            "tags": []
          }
        }
      ]
    },
    {
      "cell_type": "markdown",
      "metadata": {
        "id": "vTRR-xDubwrU",
        "colab_type": "text"
      },
      "source": [
        "#### What is the distribution of Teacher Pay?"
      ]
    },
    {
      "cell_type": "code",
      "metadata": {
        "id": "SnHLC5UDg5W6",
        "colab_type": "code",
        "colab": {}
      },
      "source": [
        "df_t = df_emd_w_salary[(df_emd_w_salary['Pos_Cat_Flag']=='T')]\n",
        "df_a = df_emd_w_salary[(df_emd_w_salary['Pos_Cat_Flag']=='A')]"
      ],
      "execution_count": 0,
      "outputs": []
    },
    {
      "cell_type": "code",
      "metadata": {
        "id": "eqFiOP-Gb2QD",
        "colab_type": "code",
        "outputId": "23ec9883-2d6a-478b-dc3c-c7b0d543d4c6",
        "colab": {
          "base_uri": "https://localhost:8080/",
          "height": 298
        }
      },
      "source": [
        "t_sal = df_t['Salary']\n",
        "sal_graph = sns.distplot(t_sal, bins=200, hist=True, color=\"steelblue\", kde=False, label=\"Teachers\")\n",
        "\n",
        "sal_graph.set_xlim(left = np.percentile(t_sal, .1), right = np.percentile(t_sal, 99.9))\n",
        "\n",
        "sal_graph.set_title('Teacher Salary', loc='center')\n",
        "sal_graph.tick_params(axis = 'both', labelsize = 9)\n",
        "sal_graph.get_xaxis().set_major_formatter(\n",
        "  matplotlib.ticker.FuncFormatter(lambda x, p: format(int(x), ',')))\n",
        "sal_graph.get_yaxis().set_major_formatter(\n",
        "  matplotlib.ticker.FuncFormatter(lambda x, p: format(int(x), ',')))\n",
        "\n",
        "sal_graph.xaxis.label.set_visible(False)\n",
        "sal_graph.axvline(t_sal.mean(), color='b', linestyle='dashed', linewidth=1)\n",
        "_, max_ = plt.ylim()\n",
        "plt.text(t_sal.mean() + t_sal.mean()/50, \n",
        "         max_ - max_/10, \n",
        "         'Mean: ${:,.0f}'.format(t_sal.mean()))\n",
        "plt.savefig('03_Salary_Histogram_Teacher_Mean.png', dpi=300)"
      ],
      "execution_count": 19,
      "outputs": [
        {
          "output_type": "display_data",
          "data": {
            "image/png": "[encoded data removed]",
            "text/plain": [
              "<Figure size 432x288 with 1 Axes>"
            ]
          },
          "metadata": {
            "tags": []
          }
        }
      ]
    },
    {
      "cell_type": "code",
      "metadata": {
        "id": "2aaKnamTjPMh",
        "colab_type": "code",
        "outputId": "28c79284-3faf-4e9d-d680-e0eac7849bc5",
        "colab": {
          "base_uri": "https://localhost:8080/",
          "height": 298
        }
      },
      "source": [
        "a_sal = df_a['Salary']\n",
        "sal_graph = sns.distplot(a_sal, bins=100, hist=True, color=\"coral\", kde=False, label=\"Teachers\")\n",
        "\n",
        "sal_graph.set_xlim(left = np.percentile(a_sal, .1), right = np.percentile(a_sal, 99.9))\n",
        "\n",
        "sal_graph.set_title('Administrator Salary', loc='center')\n",
        "sal_graph.tick_params(axis = 'both', labelsize = 9)\n",
        "sal_graph.get_xaxis().set_major_formatter(\n",
        "  matplotlib.ticker.FuncFormatter(lambda x, p: format(int(x), ',')))\n",
        "sal_graph.get_yaxis().set_major_formatter(\n",
        "  matplotlib.ticker.FuncFormatter(lambda x, p: format(int(x), ',')))\n",
        "\n",
        "sal_graph.xaxis.label.set_visible(False)\n",
        "sal_graph.axvline(a_sal.mean(), color='r', linestyle='dashed', linewidth=1)\n",
        "_, max_ = plt.ylim()\n",
        "plt.text(a_sal.mean() + a_sal.mean()/50, \n",
        "         max_ - max_/10, \n",
        "         'Mean: ${:,.0f}'.format(a_sal.mean()))\n",
        "plt.savefig('04_Salary_Histogram_Administrator_Mean.png', dpi=300)"
      ],
      "execution_count": 20,
      "outputs": [
        {
          "output_type": "display_data",
          "data": {
            "image/png": "[encoded data removed]",
            "text/plain": [
              "<Figure size 432x288 with 1 Axes>"
            ]
          },
          "metadata": {
            "tags": []
          }
        }
      ]
    },
    {
      "cell_type": "code",
      "metadata": {
        "id": "mbBc2ysyDOCM",
        "colab_type": "code",
        "colab": {}
      },
      "source": [
        "first_year = np.round(df_t[(df_t['max_contract_total_experience']<1.0) & (df_t['Assignment_FTE']>=1.0)]['Salary'].mean(),2)"
      ],
      "execution_count": 0,
      "outputs": []
    },
    {
      "cell_type": "code",
      "metadata": {
        "id": "OnSnu0gQj1mW",
        "colab_type": "code",
        "colab": {}
      },
      "source": [
        "ten_year = np.round(df_t[(df_t['max_contract_total_experience']<11.0) & (df_t['max_contract_total_experience']>9.0) & (df_t['Assignment_FTE']>=1.0)]['Salary'].mean(),2)"
      ],
      "execution_count": 0,
      "outputs": []
    },
    {
      "cell_type": "code",
      "metadata": {
        "id": "RyeCsA_cEfpv",
        "colab_type": "code",
        "colab": {}
      },
      "source": [
        "twenty_year = np.round(df_t[(df_t['max_contract_total_experience']<21.0) & (df_t['max_contract_total_experience']>19.0) & (df_t['Assignment_FTE']>=1.0)]['Salary'].mean(),2)"
      ],
      "execution_count": 0,
      "outputs": []
    },
    {
      "cell_type": "code",
      "metadata": {
        "id": "03oUbSL0EhmQ",
        "colab_type": "code",
        "colab": {}
      },
      "source": [
        "thirty_year = np.round(df_t[(df_t['max_contract_total_experience']<31.0) & (df_t['max_contract_total_experience']>29.0) & (df_t['Assignment_FTE']>=1.0)]['Salary'].mean(),2)"
      ],
      "execution_count": 0,
      "outputs": []
    },
    {
      "cell_type": "code",
      "metadata": {
        "id": "9rhu3DBFEv3a",
        "colab_type": "code",
        "outputId": "c66654ad-d1fa-440c-9f14-518c21331aa0",
        "colab": {
          "base_uri": "https://localhost:8080/",
          "height": 320
        }
      },
      "source": [
        "t_sal = df_t['Salary']\n",
        "sal_graph = sns.distplot(t_sal, bins=200, hist=True, color=\"steelblue\", kde=False, label=\"Teachers\")\n",
        "\n",
        "sal_graph.set_xlim(left = np.percentile(t_sal, .1), right = np.percentile(t_sal, 99.9))\n",
        "\n",
        "sal_graph.set_title('Teacher Salary\\nAvg. by Experience', loc='center')\n",
        "sal_graph.tick_params(axis = 'both', labelsize = 9)\n",
        "sal_graph.get_xaxis().set_major_formatter(\n",
        "  matplotlib.ticker.FuncFormatter(lambda x, p: format(int(x), ',')))\n",
        "sal_graph.get_yaxis().set_major_formatter(\n",
        "  matplotlib.ticker.FuncFormatter(lambda x, p: format(int(x), ',')))\n",
        "\n",
        "sal_graph.xaxis.label.set_visible(False)\n",
        "\n",
        "sal_graph.axvline(first_year, color='darkred', linestyle='dashed', linewidth=1)\n",
        "sal_graph.text(first_year + 1500,\n",
        "               max_ - 8*max_/10,\n",
        "               '1st Year Avg:\\n   ${:,.0f}'.format(first_year),\n",
        "              bbox=dict(facecolor='darkred', alpha=0.5))\n",
        "\n",
        "sal_graph.axvline(ten_year, color='midnightblue', linestyle='dashed', linewidth=1)\n",
        "sal_graph.text(ten_year + 1500,\n",
        "               max_ - 6*max_/10,\n",
        "               '10 Year Avg:\\n   ${:,.0f}'.format(ten_year),\n",
        "              bbox=dict(facecolor='midnightblue', alpha=0.5))\n",
        "\n",
        "sal_graph.axvline(twenty_year, color='forestgreen', linestyle='dashed', linewidth=1)\n",
        "sal_graph.text(twenty_year + 1500,\n",
        "               max_ - 4*max_/10,\n",
        "               '20 Year Avg:\\n   ${:,.0f}'.format(twenty_year),\n",
        "              bbox=dict(facecolor='forestgreen', alpha=0.5))\n",
        "\n",
        "sal_graph.axvline(thirty_year, color='purple', linestyle='dashed', linewidth=1)\n",
        "sal_graph.text(thirty_year + 1500,\n",
        "               max_ - 2*max_/10,\n",
        "               '30 Year Avg:\\n   ${:,.0f}'.format(thirty_year),\n",
        "              bbox=dict(facecolor='purple', alpha=0.5))\n",
        "\n",
        "_, max_ = plt.ylim()\n",
        "\n",
        "plt.savefig('05_Salary_Decade_Teacher_Sal.png', dpi=300, bbox_inches = 'tight', pad_inches=0.5)"
      ],
      "execution_count": 55,
      "outputs": [
        {
          "output_type": "display_data",
          "data": {
            "image/png": "[encoded data removed]",
            "text/plain": [
              "<Figure size 432x288 with 1 Axes>"
            ]
          },
          "metadata": {
            "tags": []
          }
        }
      ]
    },
    {
      "cell_type": "code",
      "metadata": {
        "id": "Mo41N6PYE1el",
        "colab_type": "code",
        "colab": {}
      },
      "source": [
        ""
      ],
      "execution_count": 0,
      "outputs": []
    }
  ]
}