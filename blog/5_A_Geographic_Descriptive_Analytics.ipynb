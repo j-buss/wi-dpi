{
  "nbformat": 4,
  "nbformat_minor": 0,
  "metadata": {
    "colab": {
      "name": "5_A_Geographic_Descriptive_Analytics.ipynb",
      "version": "0.3.2",
      "provenance": [],
      "toc_visible": true,
      "include_colab_link": true
    },
    "kernelspec": {
      "name": "python3",
      "display_name": "Python 3"
    }
  },
  "cells": [
    {
      "cell_type": "markdown",
      "metadata": {
        "id": "view-in-github",
        "colab_type": "text"
      },
      "source": [
        "<a href=\"https://colab.research.google.com/github/j-buss/wi-dpi-analysis/blob/development/blog/5_A_Geographic_Descriptive_Analytics.ipynb\" target=\"_parent\"><img src=\"https://colab.research.google.com/assets/colab-badge.svg\" alt=\"Open In Colab\"/></a>"
      ]
    },
    {
      "cell_type": "markdown",
      "metadata": {
        "id": "bnTjcUssil74",
        "colab_type": "text"
      },
      "source": [
        "## Teacher Salary in Wisconsin - 5A - Blog - Geographic Pay Analysis"
      ]
    },
    {
      "cell_type": "markdown",
      "metadata": {
        "id": "xixtbodui-OW",
        "colab_type": "text"
      },
      "source": [
        "### Import Libraries"
      ]
    },
    {
      "cell_type": "code",
      "metadata": {
        "id": "GQqaRo-mihmq",
        "colab_type": "code",
        "colab": {}
      },
      "source": [
        "import numpy as np\n",
        "import pandas as pd\n",
        "pd.set_option('display.max_rows', 100)\n",
        "pd.set_option('display.max_columns', 1000)\n",
        "pd.set_option('display.width', 1000)\n",
        "import seaborn as sns\n",
        "import matplotlib.pyplot as plt\n",
        "import matplotlib.ticker as mtick\n",
        "\n",
        "from google.cloud import bigquery\n",
        "import matplotlib"
      ],
      "execution_count": 0,
      "outputs": []
    },
    {
      "cell_type": "code",
      "metadata": {
        "id": "cIppy15t5UNS",
        "colab_type": "code",
        "colab": {}
      },
      "source": [
        "%matplotlib inline\n",
        "plt.style.use('bmh')"
      ],
      "execution_count": 0,
      "outputs": []
    },
    {
      "cell_type": "code",
      "metadata": {
        "id": "MIoxtBgc5XJn",
        "colab_type": "code",
        "outputId": "041f19d8-3d08-4c4b-ad2a-be465c3bcddc",
        "colab": {
          "base_uri": "https://localhost:8080/",
          "height": 468
        }
      },
      "source": [
        "import matplotlib.style as style\n",
        "style.available"
      ],
      "execution_count": 3,
      "outputs": [
        {
          "output_type": "execute_result",
          "data": {
            "text/plain": [
              "['grayscale',\n",
              " 'fivethirtyeight',\n",
              " 'seaborn-notebook',\n",
              " 'classic',\n",
              " 'seaborn',\n",
              " '_classic_test',\n",
              " 'bmh',\n",
              " 'seaborn-dark-palette',\n",
              " 'seaborn-colorblind',\n",
              " 'seaborn-whitegrid',\n",
              " 'seaborn-white',\n",
              " 'seaborn-dark',\n",
              " 'seaborn-poster',\n",
              " 'seaborn-darkgrid',\n",
              " 'seaborn-ticks',\n",
              " 'seaborn-bright',\n",
              " 'seaborn-muted',\n",
              " 'seaborn-talk',\n",
              " 'dark_background',\n",
              " 'tableau-colorblind10',\n",
              " 'seaborn-deep',\n",
              " 'ggplot',\n",
              " 'fast',\n",
              " 'seaborn-pastel',\n",
              " 'Solarize_Light2',\n",
              " 'seaborn-paper']"
            ]
          },
          "metadata": {
            "tags": []
          },
          "execution_count": 3
        }
      ]
    },
    {
      "cell_type": "code",
      "metadata": {
        "id": "Eb7jz_Po5bQy",
        "colab_type": "code",
        "colab": {}
      },
      "source": [
        "style.use('fivethirtyeight')"
      ],
      "execution_count": 0,
      "outputs": []
    },
    {
      "cell_type": "markdown",
      "metadata": {
        "id": "GE1Nkp7j5dqg",
        "colab_type": "text"
      },
      "source": [
        "### Functions"
      ]
    },
    {
      "cell_type": "code",
      "metadata": {
        "id": "srNcqSFP5h34",
        "colab_type": "code",
        "colab": {}
      },
      "source": [
        "# To help with the pie charts later\n",
        "def make_autopct(values):\n",
        "  def my_autopct(pct):\n",
        "    total = sum(values)\n",
        "    val = int(round(pct*total/100.0))\n",
        "    return '{p:.2f}% \\n({v:,d})'.format(p=pct,v=val)\n",
        "  return my_autopct"
      ],
      "execution_count": 0,
      "outputs": []
    },
    {
      "cell_type": "markdown",
      "metadata": {
        "id": "COdcwrtA5jeN",
        "colab_type": "text"
      },
      "source": [
        "### Processing"
      ]
    },
    {
      "cell_type": "code",
      "metadata": {
        "id": "MYNkKZwT5lIY",
        "colab_type": "code",
        "colab": {}
      },
      "source": [
        "# Authenticate to GCS.\n",
        "from google.colab import auth\n",
        "auth.authenticate_user()"
      ],
      "execution_count": 0,
      "outputs": []
    },
    {
      "cell_type": "code",
      "metadata": {
        "id": "Kb9C_hjK5oex",
        "colab_type": "code",
        "colab": {}
      },
      "source": [
        "project_id='wi-dpi-010'\n",
        "landing_dataset_name='landing'\n",
        "refined_dataset_name='refined'\n",
        "gold_dataset_name='gold'"
      ],
      "execution_count": 0,
      "outputs": []
    },
    {
      "cell_type": "code",
      "metadata": {
        "id": "_VZ9SwrQ5raP",
        "colab_type": "code",
        "colab": {}
      },
      "source": [
        "bq_client = bigquery.Client(project=project_id)"
      ],
      "execution_count": 0,
      "outputs": []
    },
    {
      "cell_type": "markdown",
      "metadata": {
        "id": "M3mDlXwAzqNh",
        "colab_type": "text"
      },
      "source": [
        "### Cesa Summary"
      ]
    },
    {
      "cell_type": "markdown",
      "metadata": {
        "id": "ueHqjOdM5vrG",
        "colab_type": "text"
      },
      "source": [
        "Let's add another layer to the analysis. We can look at differences by location. A number of initial questions come to mind very quickly.\n",
        "\n",
        "\n",
        "1.   What is area with the highest average salary? What about the lowest?\n",
        "2.   What is the area with the highest starting salary? What about the lowest?\n",
        "3.   Are average salaries found in geographic groups?\n",
        "\n",
        "Well, to start answering these questions let's bring to mind the geographic hiearchy...or rather how do we start at the top: State and work our way down to School District...or maybe even school.\n",
        "\n",
        "Fortunately for us this topic is a fairly common one and the WI Department of Public Instruction has devised our first \"layer\" under a state. It is CESA.\n",
        "\n",
        "And as any group of people we must refer to the acronyms! CESA is the \"Cooperative Educational Service Agency\". For our purposes it simply groups districts together. However, for more information you can consult the [WI DPI CESA](https://dpi.wi.gov/cesa) page.\n",
        "\n"
      ]
    },
    {
      "cell_type": "markdown",
      "metadata": {
        "id": "mXc-KKA77sm6",
        "colab_type": "text"
      },
      "source": [
        "Within the information we have already looked at there is a code showing the CESA number for an individual role. \n",
        "\n",
        "Now there are a few individuals who do work \"across\" CESA districts. However for this analysis we will set asside those individuals and stick with the vast majority (99.45%) of individuals who work in only one district. "
      ]
    },
    {
      "cell_type": "markdown",
      "metadata": {
        "id": "jic_ovTAztVL",
        "colab_type": "text"
      },
      "source": [
        "#### Average Salary by Cesa"
      ]
    },
    {
      "cell_type": "code",
      "metadata": {
        "id": "LQA42P1MImEK",
        "colab_type": "code",
        "colab": {}
      },
      "source": [
        "# Group by CESA - [CESA_NUM, Avg_Salary, Count] - \n",
        "salary_analysis_by_cesa_sql ='''\n",
        "SELECT\n",
        "  Cesa_Num,\n",
        "  Round(Avg(Salary),2) as Avg_Salary,\n",
        "  count(research_ID) AS Count\n",
        "FROM\n",
        "  `wi-dpi-010.refined.2017_CESA_Analysis_level_01`\n",
        "WHERE\n",
        "  Pos_Cat_Flag = 'T'\n",
        "GROUP BY\n",
        "  Cesa_Num\n",
        "ORDER BY \n",
        "  1\n",
        "\n",
        "'''"
      ],
      "execution_count": 0,
      "outputs": []
    },
    {
      "cell_type": "markdown",
      "metadata": {
        "id": "G_GhBb6EaAK2",
        "colab_type": "text"
      },
      "source": [
        "First Year Teacher Salary by CESA"
      ]
    },
    {
      "cell_type": "code",
      "metadata": {
        "id": "WgKjq-6XXdYQ",
        "colab_type": "code",
        "colab": {}
      },
      "source": [
        "# Group by CESA - [CESA_NUM, Avg_Salary, Count]\n",
        "salary_analysis_by_cesa_sql ='''\n",
        "SELECT\n",
        "  Cesa_Num,\n",
        "  Round(Avg(Salary),2) as Avg_Salary,\n",
        "  count(research_ID) AS Count\n",
        "FROM\n",
        "  `wi-dpi-010.refined.2017_CESA_Analysis_level_01`\n",
        "WHERE\n",
        "  Pos_Cat_Flag = 'T' and\n",
        "  max_contract_total_experience < 1 and\n",
        "  assignment_fte >= 1.0\n",
        "GROUP BY\n",
        "  Cesa_Num\n",
        "ORDER BY \n",
        "  1\n",
        "\n",
        "'''"
      ],
      "execution_count": 0,
      "outputs": []
    },
    {
      "cell_type": "code",
      "metadata": {
        "id": "kRs2YoFzbjsl",
        "colab_type": "code",
        "colab": {}
      },
      "source": [
        "sql = '''\n",
        "SELECT\n",
        "  Cesa_Num,\n",
        "  Round(Avg(Salary),2) as Avg_Salary,\n",
        "  count(research_ID) AS Count,\n",
        "  Round(Avg(max_contract_total_experience),2) as experience,\n",
        "  Round(Avg(age),2) as age,\n",
        "  max_contract_days,\n",
        "FROM\n",
        "  {}.{}\n",
        "WHERE\n",
        "  Pos_Cat_Flag = 'T' and\n",
        "  assignment_fte >= 1.0\n",
        "GROUP BY\n",
        "  Cesa_Num\n",
        "  '''.format('refined','2017_geo_Analysis_level_01')"
      ],
      "execution_count": 0,
      "outputs": []
    },
    {
      "cell_type": "code",
      "metadata": {
        "id": "teUSx-1z1PI1",
        "colab_type": "code",
        "colab": {}
      },
      "source": [
        "sql = '''\n",
        "SELECT\n",
        "  Cesa_Num,\n",
        "  Round(Salary,2) as Salary,\n",
        "  research_ID,\n",
        "  Round(max_contract_total_experience,2) as experience,\n",
        "  Round(age,2) as age,\n",
        "  max_contract_days,\n",
        "  assignment_fte\n",
        "FROM\n",
        "  {}.{}\n",
        "WHERE\n",
        "  Pos_Cat_Flag = 'T'\n",
        "  '''.format('refined','2017_geo_Analysis_level_01')"
      ],
      "execution_count": 0,
      "outputs": []
    },
    {
      "cell_type": "code",
      "metadata": {
        "id": "prMn_J1fcVdO",
        "colab_type": "code",
        "outputId": "0292a94a-d427-4df1-9d59-a7cb7d4f8b05",
        "colab": {
          "base_uri": "https://localhost:8080/",
          "height": 72
        }
      },
      "source": [
        "geo_analysis_df = pd.read_gbq(sql, project_id=project_id)"
      ],
      "execution_count": 10,
      "outputs": [
        {
          "output_type": "stream",
          "text": [
            "/usr/local/lib/python3.6/dist-packages/ipykernel_launcher.py:1: FutureWarning: The default value for dialect is changing to \"standard\" in a future version of pandas-gbq. Pass in dialect=\"legacy\" to disable this warning.\n",
            "  \"\"\"Entry point for launching an IPython kernel.\n"
          ],
          "name": "stderr"
        }
      ]
    },
    {
      "cell_type": "code",
      "metadata": {
        "id": "JZggTPonVXtH",
        "colab_type": "code",
        "colab": {
          "base_uri": "https://localhost:8080/",
          "height": 17
        },
        "outputId": "df230682-c494-476d-b766-30fc30c1ab54"
      },
      "source": [
        "%%HTML\n",
        "<style type=\"text/css\">\n",
        "table.dataframe td, table.dataframe th {\n",
        "    border: 1px  black solid !important;\n",
        "  color: black !important;\n",
        "}\n",
        "</style>"
      ],
      "execution_count": 93,
      "outputs": [
        {
          "output_type": "display_data",
          "data": {
            "text/html": [
              "<style type=\"text/css\">\n",
              "table.dataframe td, table.dataframe th {\n",
              "    border: 1px  black solid !important;\n",
              "  color: black !important;\n",
              "}\n",
              "</style>"
            ],
            "text/plain": [
              "<IPython.core.display.HTML object>"
            ]
          },
          "metadata": {
            "tags": []
          }
        }
      ]
    },
    {
      "cell_type": "code",
      "metadata": {
        "id": "7bbeZul61uDr",
        "colab_type": "code",
        "colab": {}
      },
      "source": [
        "geo_analysis_df['contract_days_median'] = geo_analysis_df['max_contract_days'].median()\n",
        "geo_analysis_df['contract_days_std'] = geo_analysis_df['max_contract_days'].std()"
      ],
      "execution_count": 0,
      "outputs": []
    },
    {
      "cell_type": "code",
      "metadata": {
        "id": "r_ye7Uzkchot",
        "colab_type": "code",
        "outputId": "893acc2b-79a9-4172-cbf1-d8fb42e71fb6",
        "colab": {
          "base_uri": "https://localhost:8080/",
          "height": 222
        }
      },
      "source": [
        "geo_analysis_df.head(5)"
      ],
      "execution_count": 12,
      "outputs": [
        {
          "output_type": "execute_result",
          "data": {
            "text/html": [
              "<div>\n",
              "<style scoped>\n",
              "    .dataframe tbody tr th:only-of-type {\n",
              "        vertical-align: middle;\n",
              "    }\n",
              "\n",
              "    .dataframe tbody tr th {\n",
              "        vertical-align: top;\n",
              "    }\n",
              "\n",
              "    .dataframe thead th {\n",
              "        text-align: right;\n",
              "    }\n",
              "</style>\n",
              "<table border=\"1\" class=\"dataframe\">\n",
              "  <thead>\n",
              "    <tr style=\"text-align: right;\">\n",
              "      <th></th>\n",
              "      <th>Cesa_Num</th>\n",
              "      <th>Salary</th>\n",
              "      <th>research_ID</th>\n",
              "      <th>experience</th>\n",
              "      <th>age</th>\n",
              "      <th>max_contract_days</th>\n",
              "      <th>assignment_fte</th>\n",
              "      <th>contract_days_median</th>\n",
              "      <th>contract_days_std</th>\n",
              "    </tr>\n",
              "  </thead>\n",
              "  <tbody>\n",
              "    <tr>\n",
              "      <th>0</th>\n",
              "      <td>1</td>\n",
              "      <td>4700.0</td>\n",
              "      <td>100910</td>\n",
              "      <td>7.0</td>\n",
              "      <td>19.0</td>\n",
              "      <td>191</td>\n",
              "      <td>0.1</td>\n",
              "      <td>190.0</td>\n",
              "      <td>11.942235</td>\n",
              "    </tr>\n",
              "    <tr>\n",
              "      <th>1</th>\n",
              "      <td>10</td>\n",
              "      <td>71000.0</td>\n",
              "      <td>95910</td>\n",
              "      <td>4.0</td>\n",
              "      <td>20.0</td>\n",
              "      <td>188</td>\n",
              "      <td>1.0</td>\n",
              "      <td>190.0</td>\n",
              "      <td>11.942235</td>\n",
              "    </tr>\n",
              "    <tr>\n",
              "      <th>2</th>\n",
              "      <td>1</td>\n",
              "      <td>4500.0</td>\n",
              "      <td>3999</td>\n",
              "      <td>0.5</td>\n",
              "      <td>21.0</td>\n",
              "      <td>93</td>\n",
              "      <td>0.5</td>\n",
              "      <td>190.0</td>\n",
              "      <td>11.942235</td>\n",
              "    </tr>\n",
              "    <tr>\n",
              "      <th>3</th>\n",
              "      <td>1</td>\n",
              "      <td>41311.0</td>\n",
              "      <td>160958</td>\n",
              "      <td>1.0</td>\n",
              "      <td>21.0</td>\n",
              "      <td>191</td>\n",
              "      <td>1.0</td>\n",
              "      <td>190.0</td>\n",
              "      <td>11.942235</td>\n",
              "    </tr>\n",
              "    <tr>\n",
              "      <th>4</th>\n",
              "      <td>7</td>\n",
              "      <td>4500.0</td>\n",
              "      <td>5845</td>\n",
              "      <td>1.0</td>\n",
              "      <td>21.0</td>\n",
              "      <td>92</td>\n",
              "      <td>0.5</td>\n",
              "      <td>190.0</td>\n",
              "      <td>11.942235</td>\n",
              "    </tr>\n",
              "  </tbody>\n",
              "</table>\n",
              "</div>"
            ],
            "text/plain": [
              "   Cesa_Num   Salary  research_ID  experience   age  max_contract_days  assignment_fte  contract_days_median  contract_days_std\n",
              "0         1   4700.0       100910         7.0  19.0                191             0.1                 190.0          11.942235\n",
              "1        10  71000.0        95910         4.0  20.0                188             1.0                 190.0          11.942235\n",
              "2         1   4500.0         3999         0.5  21.0                 93             0.5                 190.0          11.942235\n",
              "3         1  41311.0       160958         1.0  21.0                191             1.0                 190.0          11.942235\n",
              "4         7   4500.0         5845         1.0  21.0                 92             0.5                 190.0          11.942235"
            ]
          },
          "metadata": {
            "tags": []
          },
          "execution_count": 12
        }
      ]
    },
    {
      "cell_type": "code",
      "metadata": {
        "id": "bGu6rHwk2fHZ",
        "colab_type": "code",
        "colab": {}
      },
      "source": [
        "Cesa_Sum_All_df = geo_analysis_df.groupby('Cesa_Num') \\\n",
        "  .agg({'Salary':'mean', 'research_ID':'size', 'experience':'mean', 'age':'mean'}) \\\n",
        "  .reset_index() \\\n",
        "  .rename(columns={'Salary':'Avg. Sal.', 'research_ID':'Indv. Count',\\\n",
        "                   'experience':'Avg. Exp.','age':'Avg. Age',\\\n",
        "                   'Cesa_Num':'CESA Num.'})\n",
        "\n",
        "#df = df.groupby('source') \\\n",
        "#       .agg({'text':'size', 'sent':'mean'}) \\\n",
        "#       .rename(columns={'text':'count','sent':'mean_sent'}) \\\n",
        "#       .reset_index()"
      ],
      "execution_count": 0,
      "outputs": []
    },
    {
      "cell_type": "code",
      "metadata": {
        "id": "EJFKj8kbPSnr",
        "colab_type": "code",
        "colab": {
          "base_uri": "https://localhost:8080/",
          "height": 288
        },
        "outputId": "6f4b6499-d430-46ab-ba71-343bff3daf83"
      },
      "source": [
        "Cesa_Sum_All_format_dict = {'Avg. Sal.':'${0:,.0f}','Indv. Count':'{0:,}',\\\n",
        "                            'Avg. Exp.':'{0:,.1f}','Avg. Age':'{0:,.1f}'}\n",
        "#Cesa_Sum_All_df.reset_index(level=0, inplace=True)\n",
        "\n",
        "Cesa_Sum_All_df.style.format(Cesa_Sum_All_format_dict).hide_index()\\\n",
        "  .set_properties( **{'width':'100px'},**{'text-align':'center'})\n",
        "\n"
      ],
      "execution_count": 94,
      "outputs": [
        {
          "output_type": "execute_result",
          "data": {
            "text/html": [
              "<style  type=\"text/css\" >\n",
              "    #T_c9d52784_a0b5_11e9_bea0_0242ac1c0002row0_col0 {\n",
              "            width:  100px;\n",
              "            text-align:  center;\n",
              "        }    #T_c9d52784_a0b5_11e9_bea0_0242ac1c0002row0_col1 {\n",
              "            width:  100px;\n",
              "            text-align:  center;\n",
              "        }    #T_c9d52784_a0b5_11e9_bea0_0242ac1c0002row0_col2 {\n",
              "            width:  100px;\n",
              "            text-align:  center;\n",
              "        }    #T_c9d52784_a0b5_11e9_bea0_0242ac1c0002row0_col3 {\n",
              "            width:  100px;\n",
              "            text-align:  center;\n",
              "        }    #T_c9d52784_a0b5_11e9_bea0_0242ac1c0002row0_col4 {\n",
              "            width:  100px;\n",
              "            text-align:  center;\n",
              "        }    #T_c9d52784_a0b5_11e9_bea0_0242ac1c0002row1_col0 {\n",
              "            width:  100px;\n",
              "            text-align:  center;\n",
              "        }    #T_c9d52784_a0b5_11e9_bea0_0242ac1c0002row1_col1 {\n",
              "            width:  100px;\n",
              "            text-align:  center;\n",
              "        }    #T_c9d52784_a0b5_11e9_bea0_0242ac1c0002row1_col2 {\n",
              "            width:  100px;\n",
              "            text-align:  center;\n",
              "        }    #T_c9d52784_a0b5_11e9_bea0_0242ac1c0002row1_col3 {\n",
              "            width:  100px;\n",
              "            text-align:  center;\n",
              "        }    #T_c9d52784_a0b5_11e9_bea0_0242ac1c0002row1_col4 {\n",
              "            width:  100px;\n",
              "            text-align:  center;\n",
              "        }    #T_c9d52784_a0b5_11e9_bea0_0242ac1c0002row2_col0 {\n",
              "            width:  100px;\n",
              "            text-align:  center;\n",
              "        }    #T_c9d52784_a0b5_11e9_bea0_0242ac1c0002row2_col1 {\n",
              "            width:  100px;\n",
              "            text-align:  center;\n",
              "        }    #T_c9d52784_a0b5_11e9_bea0_0242ac1c0002row2_col2 {\n",
              "            width:  100px;\n",
              "            text-align:  center;\n",
              "        }    #T_c9d52784_a0b5_11e9_bea0_0242ac1c0002row2_col3 {\n",
              "            width:  100px;\n",
              "            text-align:  center;\n",
              "        }    #T_c9d52784_a0b5_11e9_bea0_0242ac1c0002row2_col4 {\n",
              "            width:  100px;\n",
              "            text-align:  center;\n",
              "        }    #T_c9d52784_a0b5_11e9_bea0_0242ac1c0002row3_col0 {\n",
              "            width:  100px;\n",
              "            text-align:  center;\n",
              "        }    #T_c9d52784_a0b5_11e9_bea0_0242ac1c0002row3_col1 {\n",
              "            width:  100px;\n",
              "            text-align:  center;\n",
              "        }    #T_c9d52784_a0b5_11e9_bea0_0242ac1c0002row3_col2 {\n",
              "            width:  100px;\n",
              "            text-align:  center;\n",
              "        }    #T_c9d52784_a0b5_11e9_bea0_0242ac1c0002row3_col3 {\n",
              "            width:  100px;\n",
              "            text-align:  center;\n",
              "        }    #T_c9d52784_a0b5_11e9_bea0_0242ac1c0002row3_col4 {\n",
              "            width:  100px;\n",
              "            text-align:  center;\n",
              "        }    #T_c9d52784_a0b5_11e9_bea0_0242ac1c0002row4_col0 {\n",
              "            width:  100px;\n",
              "            text-align:  center;\n",
              "        }    #T_c9d52784_a0b5_11e9_bea0_0242ac1c0002row4_col1 {\n",
              "            width:  100px;\n",
              "            text-align:  center;\n",
              "        }    #T_c9d52784_a0b5_11e9_bea0_0242ac1c0002row4_col2 {\n",
              "            width:  100px;\n",
              "            text-align:  center;\n",
              "        }    #T_c9d52784_a0b5_11e9_bea0_0242ac1c0002row4_col3 {\n",
              "            width:  100px;\n",
              "            text-align:  center;\n",
              "        }    #T_c9d52784_a0b5_11e9_bea0_0242ac1c0002row4_col4 {\n",
              "            width:  100px;\n",
              "            text-align:  center;\n",
              "        }    #T_c9d52784_a0b5_11e9_bea0_0242ac1c0002row5_col0 {\n",
              "            width:  100px;\n",
              "            text-align:  center;\n",
              "        }    #T_c9d52784_a0b5_11e9_bea0_0242ac1c0002row5_col1 {\n",
              "            width:  100px;\n",
              "            text-align:  center;\n",
              "        }    #T_c9d52784_a0b5_11e9_bea0_0242ac1c0002row5_col2 {\n",
              "            width:  100px;\n",
              "            text-align:  center;\n",
              "        }    #T_c9d52784_a0b5_11e9_bea0_0242ac1c0002row5_col3 {\n",
              "            width:  100px;\n",
              "            text-align:  center;\n",
              "        }    #T_c9d52784_a0b5_11e9_bea0_0242ac1c0002row5_col4 {\n",
              "            width:  100px;\n",
              "            text-align:  center;\n",
              "        }    #T_c9d52784_a0b5_11e9_bea0_0242ac1c0002row6_col0 {\n",
              "            width:  100px;\n",
              "            text-align:  center;\n",
              "        }    #T_c9d52784_a0b5_11e9_bea0_0242ac1c0002row6_col1 {\n",
              "            width:  100px;\n",
              "            text-align:  center;\n",
              "        }    #T_c9d52784_a0b5_11e9_bea0_0242ac1c0002row6_col2 {\n",
              "            width:  100px;\n",
              "            text-align:  center;\n",
              "        }    #T_c9d52784_a0b5_11e9_bea0_0242ac1c0002row6_col3 {\n",
              "            width:  100px;\n",
              "            text-align:  center;\n",
              "        }    #T_c9d52784_a0b5_11e9_bea0_0242ac1c0002row6_col4 {\n",
              "            width:  100px;\n",
              "            text-align:  center;\n",
              "        }    #T_c9d52784_a0b5_11e9_bea0_0242ac1c0002row7_col0 {\n",
              "            width:  100px;\n",
              "            text-align:  center;\n",
              "        }    #T_c9d52784_a0b5_11e9_bea0_0242ac1c0002row7_col1 {\n",
              "            width:  100px;\n",
              "            text-align:  center;\n",
              "        }    #T_c9d52784_a0b5_11e9_bea0_0242ac1c0002row7_col2 {\n",
              "            width:  100px;\n",
              "            text-align:  center;\n",
              "        }    #T_c9d52784_a0b5_11e9_bea0_0242ac1c0002row7_col3 {\n",
              "            width:  100px;\n",
              "            text-align:  center;\n",
              "        }    #T_c9d52784_a0b5_11e9_bea0_0242ac1c0002row7_col4 {\n",
              "            width:  100px;\n",
              "            text-align:  center;\n",
              "        }    #T_c9d52784_a0b5_11e9_bea0_0242ac1c0002row8_col0 {\n",
              "            width:  100px;\n",
              "            text-align:  center;\n",
              "        }    #T_c9d52784_a0b5_11e9_bea0_0242ac1c0002row8_col1 {\n",
              "            width:  100px;\n",
              "            text-align:  center;\n",
              "        }    #T_c9d52784_a0b5_11e9_bea0_0242ac1c0002row8_col2 {\n",
              "            width:  100px;\n",
              "            text-align:  center;\n",
              "        }    #T_c9d52784_a0b5_11e9_bea0_0242ac1c0002row8_col3 {\n",
              "            width:  100px;\n",
              "            text-align:  center;\n",
              "        }    #T_c9d52784_a0b5_11e9_bea0_0242ac1c0002row8_col4 {\n",
              "            width:  100px;\n",
              "            text-align:  center;\n",
              "        }    #T_c9d52784_a0b5_11e9_bea0_0242ac1c0002row9_col0 {\n",
              "            width:  100px;\n",
              "            text-align:  center;\n",
              "        }    #T_c9d52784_a0b5_11e9_bea0_0242ac1c0002row9_col1 {\n",
              "            width:  100px;\n",
              "            text-align:  center;\n",
              "        }    #T_c9d52784_a0b5_11e9_bea0_0242ac1c0002row9_col2 {\n",
              "            width:  100px;\n",
              "            text-align:  center;\n",
              "        }    #T_c9d52784_a0b5_11e9_bea0_0242ac1c0002row9_col3 {\n",
              "            width:  100px;\n",
              "            text-align:  center;\n",
              "        }    #T_c9d52784_a0b5_11e9_bea0_0242ac1c0002row9_col4 {\n",
              "            width:  100px;\n",
              "            text-align:  center;\n",
              "        }    #T_c9d52784_a0b5_11e9_bea0_0242ac1c0002row10_col0 {\n",
              "            width:  100px;\n",
              "            text-align:  center;\n",
              "        }    #T_c9d52784_a0b5_11e9_bea0_0242ac1c0002row10_col1 {\n",
              "            width:  100px;\n",
              "            text-align:  center;\n",
              "        }    #T_c9d52784_a0b5_11e9_bea0_0242ac1c0002row10_col2 {\n",
              "            width:  100px;\n",
              "            text-align:  center;\n",
              "        }    #T_c9d52784_a0b5_11e9_bea0_0242ac1c0002row10_col3 {\n",
              "            width:  100px;\n",
              "            text-align:  center;\n",
              "        }    #T_c9d52784_a0b5_11e9_bea0_0242ac1c0002row10_col4 {\n",
              "            width:  100px;\n",
              "            text-align:  center;\n",
              "        }    #T_c9d52784_a0b5_11e9_bea0_0242ac1c0002row11_col0 {\n",
              "            width:  100px;\n",
              "            text-align:  center;\n",
              "        }    #T_c9d52784_a0b5_11e9_bea0_0242ac1c0002row11_col1 {\n",
              "            width:  100px;\n",
              "            text-align:  center;\n",
              "        }    #T_c9d52784_a0b5_11e9_bea0_0242ac1c0002row11_col2 {\n",
              "            width:  100px;\n",
              "            text-align:  center;\n",
              "        }    #T_c9d52784_a0b5_11e9_bea0_0242ac1c0002row11_col3 {\n",
              "            width:  100px;\n",
              "            text-align:  center;\n",
              "        }    #T_c9d52784_a0b5_11e9_bea0_0242ac1c0002row11_col4 {\n",
              "            width:  100px;\n",
              "            text-align:  center;\n",
              "        }</style><table id=\"T_c9d52784_a0b5_11e9_bea0_0242ac1c0002\" ><thead>    <tr>        <th class=\"col_heading level0 col0\" >CESA Num.</th>        <th class=\"col_heading level0 col1\" >Avg. Sal.</th>        <th class=\"col_heading level0 col2\" >Indv. Count</th>        <th class=\"col_heading level0 col3\" >Avg. Exp.</th>        <th class=\"col_heading level0 col4\" >Avg. Age</th>    </tr></thead><tbody>\n",
              "                <tr>\n",
              "                                <td id=\"T_c9d52784_a0b5_11e9_bea0_0242ac1c0002row0_col0\" class=\"data row0 col0\" >1</td>\n",
              "                        <td id=\"T_c9d52784_a0b5_11e9_bea0_0242ac1c0002row0_col1\" class=\"data row0 col1\" >$59,308</td>\n",
              "                        <td id=\"T_c9d52784_a0b5_11e9_bea0_0242ac1c0002row0_col2\" class=\"data row0 col2\" >16,863</td>\n",
              "                        <td id=\"T_c9d52784_a0b5_11e9_bea0_0242ac1c0002row0_col3\" class=\"data row0 col3\" >14.0</td>\n",
              "                        <td id=\"T_c9d52784_a0b5_11e9_bea0_0242ac1c0002row0_col4\" class=\"data row0 col4\" >42.0</td>\n",
              "            </tr>\n",
              "            <tr>\n",
              "                                <td id=\"T_c9d52784_a0b5_11e9_bea0_0242ac1c0002row1_col0\" class=\"data row1 col0\" >2</td>\n",
              "                        <td id=\"T_c9d52784_a0b5_11e9_bea0_0242ac1c0002row1_col1\" class=\"data row1 col1\" >$54,058</td>\n",
              "                        <td id=\"T_c9d52784_a0b5_11e9_bea0_0242ac1c0002row1_col2\" class=\"data row1 col2\" >11,907</td>\n",
              "                        <td id=\"T_c9d52784_a0b5_11e9_bea0_0242ac1c0002row1_col3\" class=\"data row1 col3\" >13.7</td>\n",
              "                        <td id=\"T_c9d52784_a0b5_11e9_bea0_0242ac1c0002row1_col4\" class=\"data row1 col4\" >41.2</td>\n",
              "            </tr>\n",
              "            <tr>\n",
              "                                <td id=\"T_c9d52784_a0b5_11e9_bea0_0242ac1c0002row2_col0\" class=\"data row2 col0\" >3</td>\n",
              "                        <td id=\"T_c9d52784_a0b5_11e9_bea0_0242ac1c0002row2_col1\" class=\"data row2 col1\" >$50,063</td>\n",
              "                        <td id=\"T_c9d52784_a0b5_11e9_bea0_0242ac1c0002row2_col2\" class=\"data row2 col2\" >1,647</td>\n",
              "                        <td id=\"T_c9d52784_a0b5_11e9_bea0_0242ac1c0002row2_col3\" class=\"data row2 col3\" >15.7</td>\n",
              "                        <td id=\"T_c9d52784_a0b5_11e9_bea0_0242ac1c0002row2_col4\" class=\"data row2 col4\" >42.3</td>\n",
              "            </tr>\n",
              "            <tr>\n",
              "                                <td id=\"T_c9d52784_a0b5_11e9_bea0_0242ac1c0002row3_col0\" class=\"data row3 col0\" >4</td>\n",
              "                        <td id=\"T_c9d52784_a0b5_11e9_bea0_0242ac1c0002row3_col1\" class=\"data row3 col1\" >$50,334</td>\n",
              "                        <td id=\"T_c9d52784_a0b5_11e9_bea0_0242ac1c0002row3_col2\" class=\"data row3 col2\" >2,913</td>\n",
              "                        <td id=\"T_c9d52784_a0b5_11e9_bea0_0242ac1c0002row3_col3\" class=\"data row3 col3\" >14.2</td>\n",
              "                        <td id=\"T_c9d52784_a0b5_11e9_bea0_0242ac1c0002row3_col4\" class=\"data row3 col4\" >41.1</td>\n",
              "            </tr>\n",
              "            <tr>\n",
              "                                <td id=\"T_c9d52784_a0b5_11e9_bea0_0242ac1c0002row4_col0\" class=\"data row4 col0\" >5</td>\n",
              "                        <td id=\"T_c9d52784_a0b5_11e9_bea0_0242ac1c0002row4_col1\" class=\"data row4 col1\" >$52,060</td>\n",
              "                        <td id=\"T_c9d52784_a0b5_11e9_bea0_0242ac1c0002row4_col2\" class=\"data row4 col2\" >3,901</td>\n",
              "                        <td id=\"T_c9d52784_a0b5_11e9_bea0_0242ac1c0002row4_col3\" class=\"data row4 col3\" >14.8</td>\n",
              "                        <td id=\"T_c9d52784_a0b5_11e9_bea0_0242ac1c0002row4_col4\" class=\"data row4 col4\" >41.9</td>\n",
              "            </tr>\n",
              "            <tr>\n",
              "                                <td id=\"T_c9d52784_a0b5_11e9_bea0_0242ac1c0002row5_col0\" class=\"data row5 col0\" >6</td>\n",
              "                        <td id=\"T_c9d52784_a0b5_11e9_bea0_0242ac1c0002row5_col1\" class=\"data row5 col1\" >$54,423</td>\n",
              "                        <td id=\"T_c9d52784_a0b5_11e9_bea0_0242ac1c0002row5_col2\" class=\"data row5 col2\" >7,144</td>\n",
              "                        <td id=\"T_c9d52784_a0b5_11e9_bea0_0242ac1c0002row5_col3\" class=\"data row5 col3\" >14.6</td>\n",
              "                        <td id=\"T_c9d52784_a0b5_11e9_bea0_0242ac1c0002row5_col4\" class=\"data row5 col4\" >41.2</td>\n",
              "            </tr>\n",
              "            <tr>\n",
              "                                <td id=\"T_c9d52784_a0b5_11e9_bea0_0242ac1c0002row6_col0\" class=\"data row6 col0\" >7</td>\n",
              "                        <td id=\"T_c9d52784_a0b5_11e9_bea0_0242ac1c0002row6_col1\" class=\"data row6 col1\" >$54,412</td>\n",
              "                        <td id=\"T_c9d52784_a0b5_11e9_bea0_0242ac1c0002row6_col2\" class=\"data row6 col2\" >6,388</td>\n",
              "                        <td id=\"T_c9d52784_a0b5_11e9_bea0_0242ac1c0002row6_col3\" class=\"data row6 col3\" >14.6</td>\n",
              "                        <td id=\"T_c9d52784_a0b5_11e9_bea0_0242ac1c0002row6_col4\" class=\"data row6 col4\" >41.6</td>\n",
              "            </tr>\n",
              "            <tr>\n",
              "                                <td id=\"T_c9d52784_a0b5_11e9_bea0_0242ac1c0002row7_col0\" class=\"data row7 col0\" >8</td>\n",
              "                        <td id=\"T_c9d52784_a0b5_11e9_bea0_0242ac1c0002row7_col1\" class=\"data row7 col1\" >$49,267</td>\n",
              "                        <td id=\"T_c9d52784_a0b5_11e9_bea0_0242ac1c0002row7_col2\" class=\"data row7 col2\" >1,612</td>\n",
              "                        <td id=\"T_c9d52784_a0b5_11e9_bea0_0242ac1c0002row7_col3\" class=\"data row7 col3\" >14.7</td>\n",
              "                        <td id=\"T_c9d52784_a0b5_11e9_bea0_0242ac1c0002row7_col4\" class=\"data row7 col4\" >42.6</td>\n",
              "            </tr>\n",
              "            <tr>\n",
              "                                <td id=\"T_c9d52784_a0b5_11e9_bea0_0242ac1c0002row8_col0\" class=\"data row8 col0\" >9</td>\n",
              "                        <td id=\"T_c9d52784_a0b5_11e9_bea0_0242ac1c0002row8_col1\" class=\"data row8 col1\" >$54,666</td>\n",
              "                        <td id=\"T_c9d52784_a0b5_11e9_bea0_0242ac1c0002row8_col2\" class=\"data row8 col2\" >2,564</td>\n",
              "                        <td id=\"T_c9d52784_a0b5_11e9_bea0_0242ac1c0002row8_col3\" class=\"data row8 col3\" >14.7</td>\n",
              "                        <td id=\"T_c9d52784_a0b5_11e9_bea0_0242ac1c0002row8_col4\" class=\"data row8 col4\" >42.0</td>\n",
              "            </tr>\n",
              "            <tr>\n",
              "                                <td id=\"T_c9d52784_a0b5_11e9_bea0_0242ac1c0002row9_col0\" class=\"data row9 col0\" >10</td>\n",
              "                        <td id=\"T_c9d52784_a0b5_11e9_bea0_0242ac1c0002row9_col1\" class=\"data row9 col1\" >$50,481</td>\n",
              "                        <td id=\"T_c9d52784_a0b5_11e9_bea0_0242ac1c0002row9_col2\" class=\"data row9 col2\" >2,727</td>\n",
              "                        <td id=\"T_c9d52784_a0b5_11e9_bea0_0242ac1c0002row9_col3\" class=\"data row9 col3\" >14.3</td>\n",
              "                        <td id=\"T_c9d52784_a0b5_11e9_bea0_0242ac1c0002row9_col4\" class=\"data row9 col4\" >41.1</td>\n",
              "            </tr>\n",
              "            <tr>\n",
              "                                <td id=\"T_c9d52784_a0b5_11e9_bea0_0242ac1c0002row10_col0\" class=\"data row10 col0\" >11</td>\n",
              "                        <td id=\"T_c9d52784_a0b5_11e9_bea0_0242ac1c0002row10_col1\" class=\"data row10 col1\" >$52,348</td>\n",
              "                        <td id=\"T_c9d52784_a0b5_11e9_bea0_0242ac1c0002row10_col2\" class=\"data row10 col2\" >3,484</td>\n",
              "                        <td id=\"T_c9d52784_a0b5_11e9_bea0_0242ac1c0002row10_col3\" class=\"data row10 col3\" >14.5</td>\n",
              "                        <td id=\"T_c9d52784_a0b5_11e9_bea0_0242ac1c0002row10_col4\" class=\"data row10 col4\" >41.7</td>\n",
              "            </tr>\n",
              "            <tr>\n",
              "                                <td id=\"T_c9d52784_a0b5_11e9_bea0_0242ac1c0002row11_col0\" class=\"data row11 col0\" >12</td>\n",
              "                        <td id=\"T_c9d52784_a0b5_11e9_bea0_0242ac1c0002row11_col1\" class=\"data row11 col1\" >$51,274</td>\n",
              "                        <td id=\"T_c9d52784_a0b5_11e9_bea0_0242ac1c0002row11_col2\" class=\"data row11 col2\" >1,194</td>\n",
              "                        <td id=\"T_c9d52784_a0b5_11e9_bea0_0242ac1c0002row11_col3\" class=\"data row11 col3\" >14.8</td>\n",
              "                        <td id=\"T_c9d52784_a0b5_11e9_bea0_0242ac1c0002row11_col4\" class=\"data row11 col4\" >44.1</td>\n",
              "            </tr>\n",
              "    </tbody></table>"
            ],
            "text/plain": [
              "<pandas.io.formats.style.Styler at 0x7fb35f264668>"
            ]
          },
          "metadata": {
            "tags": []
          },
          "execution_count": 94
        }
      ]
    },
    {
      "cell_type": "code",
      "metadata": {
        "id": "Ab7j2Rvs7bOf",
        "colab_type": "code",
        "colab": {}
      },
      "source": [
        "def highlight_max(s):\n",
        "    '''\n",
        "    highlight the maximum in a Series yellow.\n",
        "    '''\n",
        "    is_max = s == s.max()\n",
        "    return ['background-color: yellow' if v else '' for v in is_max]"
      ],
      "execution_count": 0,
      "outputs": []
    },
    {
      "cell_type": "code",
      "metadata": {
        "id": "o4dfDurxUja3",
        "colab_type": "code",
        "colab": {
          "base_uri": "https://localhost:8080/",
          "height": 447
        },
        "outputId": "767ee2dd-432d-41dc-92b7-087f20da3ed4"
      },
      "source": [
        "from IPython.display import display\n",
        "display(Cesa_Sum_All_df)"
      ],
      "execution_count": 65,
      "outputs": [
        {
          "output_type": "display_data",
          "data": {
            "text/html": [
              "<div>\n",
              "<style scoped>\n",
              "    .dataframe tbody tr th:only-of-type {\n",
              "        vertical-align: middle;\n",
              "    }\n",
              "\n",
              "    .dataframe tbody tr th {\n",
              "        vertical-align: top;\n",
              "    }\n",
              "\n",
              "    .dataframe thead th {\n",
              "        text-align: right;\n",
              "    }\n",
              "</style>\n",
              "<table border=\"1\" class=\"dataframe\">\n",
              "  <thead>\n",
              "    <tr style=\"text-align: right;\">\n",
              "      <th></th>\n",
              "      <th>Avg. Sal.</th>\n",
              "      <th>Indv. Count</th>\n",
              "      <th>Avg. Exp.</th>\n",
              "      <th>Avg. Age</th>\n",
              "    </tr>\n",
              "    <tr>\n",
              "      <th>Cesa_Num</th>\n",
              "      <th></th>\n",
              "      <th></th>\n",
              "      <th></th>\n",
              "      <th></th>\n",
              "    </tr>\n",
              "  </thead>\n",
              "  <tbody>\n",
              "    <tr>\n",
              "      <th>1</th>\n",
              "      <td>59307.509874</td>\n",
              "      <td>16863</td>\n",
              "      <td>13.989000</td>\n",
              "      <td>42.003202</td>\n",
              "    </tr>\n",
              "    <tr>\n",
              "      <th>2</th>\n",
              "      <td>54057.697489</td>\n",
              "      <td>11907</td>\n",
              "      <td>13.736877</td>\n",
              "      <td>41.160998</td>\n",
              "    </tr>\n",
              "    <tr>\n",
              "      <th>3</th>\n",
              "      <td>50062.897389</td>\n",
              "      <td>1647</td>\n",
              "      <td>15.723437</td>\n",
              "      <td>42.290225</td>\n",
              "    </tr>\n",
              "    <tr>\n",
              "      <th>4</th>\n",
              "      <td>50333.724339</td>\n",
              "      <td>2913</td>\n",
              "      <td>14.161002</td>\n",
              "      <td>41.088912</td>\n",
              "    </tr>\n",
              "    <tr>\n",
              "      <th>5</th>\n",
              "      <td>52059.911561</td>\n",
              "      <td>3901</td>\n",
              "      <td>14.766342</td>\n",
              "      <td>41.917457</td>\n",
              "    </tr>\n",
              "    <tr>\n",
              "      <th>6</th>\n",
              "      <td>54423.389558</td>\n",
              "      <td>7144</td>\n",
              "      <td>14.564740</td>\n",
              "      <td>41.159994</td>\n",
              "    </tr>\n",
              "    <tr>\n",
              "      <th>7</th>\n",
              "      <td>54412.092048</td>\n",
              "      <td>6388</td>\n",
              "      <td>14.584220</td>\n",
              "      <td>41.642611</td>\n",
              "    </tr>\n",
              "    <tr>\n",
              "      <th>8</th>\n",
              "      <td>49266.822581</td>\n",
              "      <td>1612</td>\n",
              "      <td>14.673077</td>\n",
              "      <td>42.605459</td>\n",
              "    </tr>\n",
              "    <tr>\n",
              "      <th>9</th>\n",
              "      <td>54665.723869</td>\n",
              "      <td>2564</td>\n",
              "      <td>14.717044</td>\n",
              "      <td>42.047972</td>\n",
              "    </tr>\n",
              "    <tr>\n",
              "      <th>10</th>\n",
              "      <td>50481.013568</td>\n",
              "      <td>2727</td>\n",
              "      <td>14.300880</td>\n",
              "      <td>41.079208</td>\n",
              "    </tr>\n",
              "    <tr>\n",
              "      <th>11</th>\n",
              "      <td>52347.804248</td>\n",
              "      <td>3484</td>\n",
              "      <td>14.509759</td>\n",
              "      <td>41.738806</td>\n",
              "    </tr>\n",
              "    <tr>\n",
              "      <th>12</th>\n",
              "      <td>51273.622278</td>\n",
              "      <td>1194</td>\n",
              "      <td>14.775544</td>\n",
              "      <td>44.093802</td>\n",
              "    </tr>\n",
              "  </tbody>\n",
              "</table>\n",
              "</div>"
            ],
            "text/plain": [
              "             Avg. Sal.  Indv. Count  Avg. Exp.   Avg. Age\n",
              "Cesa_Num                                                 \n",
              "1         59307.509874        16863  13.989000  42.003202\n",
              "2         54057.697489        11907  13.736877  41.160998\n",
              "3         50062.897389         1647  15.723437  42.290225\n",
              "4         50333.724339         2913  14.161002  41.088912\n",
              "5         52059.911561         3901  14.766342  41.917457\n",
              "6         54423.389558         7144  14.564740  41.159994\n",
              "7         54412.092048         6388  14.584220  41.642611\n",
              "8         49266.822581         1612  14.673077  42.605459\n",
              "9         54665.723869         2564  14.717044  42.047972\n",
              "10        50481.013568         2727  14.300880  41.079208\n",
              "11        52347.804248         3484  14.509759  41.738806\n",
              "12        51273.622278         1194  14.775544  44.093802"
            ]
          },
          "metadata": {
            "tags": []
          }
        }
      ]
    },
    {
      "cell_type": "code",
      "metadata": {
        "id": "Wi-8a3ExUoxQ",
        "colab_type": "code",
        "colab": {
          "base_uri": "https://localhost:8080/",
          "height": 447
        },
        "outputId": "2bbb40d3-6646-47e8-fb64-32186acfab37"
      },
      "source": [
        "Cesa_Sum_All_df"
      ],
      "execution_count": 63,
      "outputs": [
        {
          "output_type": "execute_result",
          "data": {
            "text/html": [
              "<div>\n",
              "<style scoped>\n",
              "    .dataframe tbody tr th:only-of-type {\n",
              "        vertical-align: middle;\n",
              "    }\n",
              "\n",
              "    .dataframe tbody tr th {\n",
              "        vertical-align: top;\n",
              "    }\n",
              "\n",
              "    .dataframe thead th {\n",
              "        text-align: right;\n",
              "    }\n",
              "</style>\n",
              "<table border=\"1\" class=\"dataframe\">\n",
              "  <thead>\n",
              "    <tr style=\"text-align: right;\">\n",
              "      <th></th>\n",
              "      <th>Avg. Sal.</th>\n",
              "      <th>Indv. Count</th>\n",
              "      <th>Avg. Exp.</th>\n",
              "      <th>Avg. Age</th>\n",
              "    </tr>\n",
              "    <tr>\n",
              "      <th>Cesa_Num</th>\n",
              "      <th></th>\n",
              "      <th></th>\n",
              "      <th></th>\n",
              "      <th></th>\n",
              "    </tr>\n",
              "  </thead>\n",
              "  <tbody>\n",
              "    <tr>\n",
              "      <th>1</th>\n",
              "      <td>59307.509874</td>\n",
              "      <td>16863</td>\n",
              "      <td>13.989000</td>\n",
              "      <td>42.003202</td>\n",
              "    </tr>\n",
              "    <tr>\n",
              "      <th>2</th>\n",
              "      <td>54057.697489</td>\n",
              "      <td>11907</td>\n",
              "      <td>13.736877</td>\n",
              "      <td>41.160998</td>\n",
              "    </tr>\n",
              "    <tr>\n",
              "      <th>3</th>\n",
              "      <td>50062.897389</td>\n",
              "      <td>1647</td>\n",
              "      <td>15.723437</td>\n",
              "      <td>42.290225</td>\n",
              "    </tr>\n",
              "    <tr>\n",
              "      <th>4</th>\n",
              "      <td>50333.724339</td>\n",
              "      <td>2913</td>\n",
              "      <td>14.161002</td>\n",
              "      <td>41.088912</td>\n",
              "    </tr>\n",
              "    <tr>\n",
              "      <th>5</th>\n",
              "      <td>52059.911561</td>\n",
              "      <td>3901</td>\n",
              "      <td>14.766342</td>\n",
              "      <td>41.917457</td>\n",
              "    </tr>\n",
              "    <tr>\n",
              "      <th>6</th>\n",
              "      <td>54423.389558</td>\n",
              "      <td>7144</td>\n",
              "      <td>14.564740</td>\n",
              "      <td>41.159994</td>\n",
              "    </tr>\n",
              "    <tr>\n",
              "      <th>7</th>\n",
              "      <td>54412.092048</td>\n",
              "      <td>6388</td>\n",
              "      <td>14.584220</td>\n",
              "      <td>41.642611</td>\n",
              "    </tr>\n",
              "    <tr>\n",
              "      <th>8</th>\n",
              "      <td>49266.822581</td>\n",
              "      <td>1612</td>\n",
              "      <td>14.673077</td>\n",
              "      <td>42.605459</td>\n",
              "    </tr>\n",
              "    <tr>\n",
              "      <th>9</th>\n",
              "      <td>54665.723869</td>\n",
              "      <td>2564</td>\n",
              "      <td>14.717044</td>\n",
              "      <td>42.047972</td>\n",
              "    </tr>\n",
              "    <tr>\n",
              "      <th>10</th>\n",
              "      <td>50481.013568</td>\n",
              "      <td>2727</td>\n",
              "      <td>14.300880</td>\n",
              "      <td>41.079208</td>\n",
              "    </tr>\n",
              "    <tr>\n",
              "      <th>11</th>\n",
              "      <td>52347.804248</td>\n",
              "      <td>3484</td>\n",
              "      <td>14.509759</td>\n",
              "      <td>41.738806</td>\n",
              "    </tr>\n",
              "    <tr>\n",
              "      <th>12</th>\n",
              "      <td>51273.622278</td>\n",
              "      <td>1194</td>\n",
              "      <td>14.775544</td>\n",
              "      <td>44.093802</td>\n",
              "    </tr>\n",
              "  </tbody>\n",
              "</table>\n",
              "</div>"
            ],
            "text/plain": [
              "             Avg. Sal.  Indv. Count  Avg. Exp.   Avg. Age\n",
              "Cesa_Num                                                 \n",
              "1         59307.509874        16863  13.989000  42.003202\n",
              "2         54057.697489        11907  13.736877  41.160998\n",
              "3         50062.897389         1647  15.723437  42.290225\n",
              "4         50333.724339         2913  14.161002  41.088912\n",
              "5         52059.911561         3901  14.766342  41.917457\n",
              "6         54423.389558         7144  14.564740  41.159994\n",
              "7         54412.092048         6388  14.584220  41.642611\n",
              "8         49266.822581         1612  14.673077  42.605459\n",
              "9         54665.723869         2564  14.717044  42.047972\n",
              "10        50481.013568         2727  14.300880  41.079208\n",
              "11        52347.804248         3484  14.509759  41.738806\n",
              "12        51273.622278         1194  14.775544  44.093802"
            ]
          },
          "metadata": {
            "tags": []
          },
          "execution_count": 63
        }
      ]
    },
    {
      "cell_type": "code",
      "metadata": {
        "id": "tGa_8pRuTLzo",
        "colab_type": "code",
        "colab": {
          "base_uri": "https://localhost:8080/",
          "height": 309
        },
        "outputId": "3b964448-7094-4c17-d90e-ca83871ac24d"
      },
      "source": [
        "Cesa_Sum_All_df.style.format(Cesa_Sum_All_format_dict)\\\n",
        "  .apply(highlight_max)"
      ],
      "execution_count": 62,
      "outputs": [
        {
          "output_type": "execute_result",
          "data": {
            "text/html": [
              "<style  type=\"text/css\" >\n",
              "    #T_6976f40e_a0af_11e9_bea0_0242ac1c0002row0_col0 {\n",
              "            background-color:  red;\n",
              "        }    #T_6976f40e_a0af_11e9_bea0_0242ac1c0002row0_col1 {\n",
              "            background-color:  red;\n",
              "        }    #T_6976f40e_a0af_11e9_bea0_0242ac1c0002row2_col2 {\n",
              "            background-color:  red;\n",
              "        }    #T_6976f40e_a0af_11e9_bea0_0242ac1c0002row11_col3 {\n",
              "            background-color:  red;\n",
              "        }</style><table id=\"T_6976f40e_a0af_11e9_bea0_0242ac1c0002\" ><thead>    <tr>        <th class=\"blank level0\" ></th>        <th class=\"col_heading level0 col0\" >Avg. Sal.</th>        <th class=\"col_heading level0 col1\" >Indv. Count</th>        <th class=\"col_heading level0 col2\" >Avg. Exp.</th>        <th class=\"col_heading level0 col3\" >Avg. Age</th>    </tr>    <tr>        <th class=\"index_name level0\" >Cesa_Num</th>        <th class=\"blank\" ></th>        <th class=\"blank\" ></th>        <th class=\"blank\" ></th>        <th class=\"blank\" ></th>    </tr></thead><tbody>\n",
              "                <tr>\n",
              "                        <th id=\"T_6976f40e_a0af_11e9_bea0_0242ac1c0002level0_row0\" class=\"row_heading level0 row0\" >1</th>\n",
              "                        <td id=\"T_6976f40e_a0af_11e9_bea0_0242ac1c0002row0_col0\" class=\"data row0 col0\" >$59,308</td>\n",
              "                        <td id=\"T_6976f40e_a0af_11e9_bea0_0242ac1c0002row0_col1\" class=\"data row0 col1\" >16,863</td>\n",
              "                        <td id=\"T_6976f40e_a0af_11e9_bea0_0242ac1c0002row0_col2\" class=\"data row0 col2\" >14.0</td>\n",
              "                        <td id=\"T_6976f40e_a0af_11e9_bea0_0242ac1c0002row0_col3\" class=\"data row0 col3\" >42.0</td>\n",
              "            </tr>\n",
              "            <tr>\n",
              "                        <th id=\"T_6976f40e_a0af_11e9_bea0_0242ac1c0002level0_row1\" class=\"row_heading level0 row1\" >2</th>\n",
              "                        <td id=\"T_6976f40e_a0af_11e9_bea0_0242ac1c0002row1_col0\" class=\"data row1 col0\" >$54,058</td>\n",
              "                        <td id=\"T_6976f40e_a0af_11e9_bea0_0242ac1c0002row1_col1\" class=\"data row1 col1\" >11,907</td>\n",
              "                        <td id=\"T_6976f40e_a0af_11e9_bea0_0242ac1c0002row1_col2\" class=\"data row1 col2\" >13.7</td>\n",
              "                        <td id=\"T_6976f40e_a0af_11e9_bea0_0242ac1c0002row1_col3\" class=\"data row1 col3\" >41.2</td>\n",
              "            </tr>\n",
              "            <tr>\n",
              "                        <th id=\"T_6976f40e_a0af_11e9_bea0_0242ac1c0002level0_row2\" class=\"row_heading level0 row2\" >3</th>\n",
              "                        <td id=\"T_6976f40e_a0af_11e9_bea0_0242ac1c0002row2_col0\" class=\"data row2 col0\" >$50,063</td>\n",
              "                        <td id=\"T_6976f40e_a0af_11e9_bea0_0242ac1c0002row2_col1\" class=\"data row2 col1\" >1,647</td>\n",
              "                        <td id=\"T_6976f40e_a0af_11e9_bea0_0242ac1c0002row2_col2\" class=\"data row2 col2\" >15.7</td>\n",
              "                        <td id=\"T_6976f40e_a0af_11e9_bea0_0242ac1c0002row2_col3\" class=\"data row2 col3\" >42.3</td>\n",
              "            </tr>\n",
              "            <tr>\n",
              "                        <th id=\"T_6976f40e_a0af_11e9_bea0_0242ac1c0002level0_row3\" class=\"row_heading level0 row3\" >4</th>\n",
              "                        <td id=\"T_6976f40e_a0af_11e9_bea0_0242ac1c0002row3_col0\" class=\"data row3 col0\" >$50,334</td>\n",
              "                        <td id=\"T_6976f40e_a0af_11e9_bea0_0242ac1c0002row3_col1\" class=\"data row3 col1\" >2,913</td>\n",
              "                        <td id=\"T_6976f40e_a0af_11e9_bea0_0242ac1c0002row3_col2\" class=\"data row3 col2\" >14.2</td>\n",
              "                        <td id=\"T_6976f40e_a0af_11e9_bea0_0242ac1c0002row3_col3\" class=\"data row3 col3\" >41.1</td>\n",
              "            </tr>\n",
              "            <tr>\n",
              "                        <th id=\"T_6976f40e_a0af_11e9_bea0_0242ac1c0002level0_row4\" class=\"row_heading level0 row4\" >5</th>\n",
              "                        <td id=\"T_6976f40e_a0af_11e9_bea0_0242ac1c0002row4_col0\" class=\"data row4 col0\" >$52,060</td>\n",
              "                        <td id=\"T_6976f40e_a0af_11e9_bea0_0242ac1c0002row4_col1\" class=\"data row4 col1\" >3,901</td>\n",
              "                        <td id=\"T_6976f40e_a0af_11e9_bea0_0242ac1c0002row4_col2\" class=\"data row4 col2\" >14.8</td>\n",
              "                        <td id=\"T_6976f40e_a0af_11e9_bea0_0242ac1c0002row4_col3\" class=\"data row4 col3\" >41.9</td>\n",
              "            </tr>\n",
              "            <tr>\n",
              "                        <th id=\"T_6976f40e_a0af_11e9_bea0_0242ac1c0002level0_row5\" class=\"row_heading level0 row5\" >6</th>\n",
              "                        <td id=\"T_6976f40e_a0af_11e9_bea0_0242ac1c0002row5_col0\" class=\"data row5 col0\" >$54,423</td>\n",
              "                        <td id=\"T_6976f40e_a0af_11e9_bea0_0242ac1c0002row5_col1\" class=\"data row5 col1\" >7,144</td>\n",
              "                        <td id=\"T_6976f40e_a0af_11e9_bea0_0242ac1c0002row5_col2\" class=\"data row5 col2\" >14.6</td>\n",
              "                        <td id=\"T_6976f40e_a0af_11e9_bea0_0242ac1c0002row5_col3\" class=\"data row5 col3\" >41.2</td>\n",
              "            </tr>\n",
              "            <tr>\n",
              "                        <th id=\"T_6976f40e_a0af_11e9_bea0_0242ac1c0002level0_row6\" class=\"row_heading level0 row6\" >7</th>\n",
              "                        <td id=\"T_6976f40e_a0af_11e9_bea0_0242ac1c0002row6_col0\" class=\"data row6 col0\" >$54,412</td>\n",
              "                        <td id=\"T_6976f40e_a0af_11e9_bea0_0242ac1c0002row6_col1\" class=\"data row6 col1\" >6,388</td>\n",
              "                        <td id=\"T_6976f40e_a0af_11e9_bea0_0242ac1c0002row6_col2\" class=\"data row6 col2\" >14.6</td>\n",
              "                        <td id=\"T_6976f40e_a0af_11e9_bea0_0242ac1c0002row6_col3\" class=\"data row6 col3\" >41.6</td>\n",
              "            </tr>\n",
              "            <tr>\n",
              "                        <th id=\"T_6976f40e_a0af_11e9_bea0_0242ac1c0002level0_row7\" class=\"row_heading level0 row7\" >8</th>\n",
              "                        <td id=\"T_6976f40e_a0af_11e9_bea0_0242ac1c0002row7_col0\" class=\"data row7 col0\" >$49,267</td>\n",
              "                        <td id=\"T_6976f40e_a0af_11e9_bea0_0242ac1c0002row7_col1\" class=\"data row7 col1\" >1,612</td>\n",
              "                        <td id=\"T_6976f40e_a0af_11e9_bea0_0242ac1c0002row7_col2\" class=\"data row7 col2\" >14.7</td>\n",
              "                        <td id=\"T_6976f40e_a0af_11e9_bea0_0242ac1c0002row7_col3\" class=\"data row7 col3\" >42.6</td>\n",
              "            </tr>\n",
              "            <tr>\n",
              "                        <th id=\"T_6976f40e_a0af_11e9_bea0_0242ac1c0002level0_row8\" class=\"row_heading level0 row8\" >9</th>\n",
              "                        <td id=\"T_6976f40e_a0af_11e9_bea0_0242ac1c0002row8_col0\" class=\"data row8 col0\" >$54,666</td>\n",
              "                        <td id=\"T_6976f40e_a0af_11e9_bea0_0242ac1c0002row8_col1\" class=\"data row8 col1\" >2,564</td>\n",
              "                        <td id=\"T_6976f40e_a0af_11e9_bea0_0242ac1c0002row8_col2\" class=\"data row8 col2\" >14.7</td>\n",
              "                        <td id=\"T_6976f40e_a0af_11e9_bea0_0242ac1c0002row8_col3\" class=\"data row8 col3\" >42.0</td>\n",
              "            </tr>\n",
              "            <tr>\n",
              "                        <th id=\"T_6976f40e_a0af_11e9_bea0_0242ac1c0002level0_row9\" class=\"row_heading level0 row9\" >10</th>\n",
              "                        <td id=\"T_6976f40e_a0af_11e9_bea0_0242ac1c0002row9_col0\" class=\"data row9 col0\" >$50,481</td>\n",
              "                        <td id=\"T_6976f40e_a0af_11e9_bea0_0242ac1c0002row9_col1\" class=\"data row9 col1\" >2,727</td>\n",
              "                        <td id=\"T_6976f40e_a0af_11e9_bea0_0242ac1c0002row9_col2\" class=\"data row9 col2\" >14.3</td>\n",
              "                        <td id=\"T_6976f40e_a0af_11e9_bea0_0242ac1c0002row9_col3\" class=\"data row9 col3\" >41.1</td>\n",
              "            </tr>\n",
              "            <tr>\n",
              "                        <th id=\"T_6976f40e_a0af_11e9_bea0_0242ac1c0002level0_row10\" class=\"row_heading level0 row10\" >11</th>\n",
              "                        <td id=\"T_6976f40e_a0af_11e9_bea0_0242ac1c0002row10_col0\" class=\"data row10 col0\" >$52,348</td>\n",
              "                        <td id=\"T_6976f40e_a0af_11e9_bea0_0242ac1c0002row10_col1\" class=\"data row10 col1\" >3,484</td>\n",
              "                        <td id=\"T_6976f40e_a0af_11e9_bea0_0242ac1c0002row10_col2\" class=\"data row10 col2\" >14.5</td>\n",
              "                        <td id=\"T_6976f40e_a0af_11e9_bea0_0242ac1c0002row10_col3\" class=\"data row10 col3\" >41.7</td>\n",
              "            </tr>\n",
              "            <tr>\n",
              "                        <th id=\"T_6976f40e_a0af_11e9_bea0_0242ac1c0002level0_row11\" class=\"row_heading level0 row11\" >12</th>\n",
              "                        <td id=\"T_6976f40e_a0af_11e9_bea0_0242ac1c0002row11_col0\" class=\"data row11 col0\" >$51,274</td>\n",
              "                        <td id=\"T_6976f40e_a0af_11e9_bea0_0242ac1c0002row11_col1\" class=\"data row11 col1\" >1,194</td>\n",
              "                        <td id=\"T_6976f40e_a0af_11e9_bea0_0242ac1c0002row11_col2\" class=\"data row11 col2\" >14.8</td>\n",
              "                        <td id=\"T_6976f40e_a0af_11e9_bea0_0242ac1c0002row11_col3\" class=\"data row11 col3\" >44.1</td>\n",
              "            </tr>\n",
              "    </tbody></table>"
            ],
            "text/plain": [
              "<pandas.io.formats.style.Styler at 0x7fb35dd02f98>"
            ]
          },
          "metadata": {
            "tags": []
          },
          "execution_count": 62
        }
      ]
    },
    {
      "cell_type": "code",
      "metadata": {
        "id": "Dzjl5pBlJKsd",
        "colab_type": "code",
        "colab": {
          "base_uri": "https://localhost:8080/",
          "height": 235
        },
        "outputId": "ccfddaab-0981-4f6d-f41c-b8d3a88f849c"
      },
      "source": [
        "for x,y in zip(xs,ys):\n",
        "\n",
        "    label = \"{:.2f}\".format(y)\n",
        "\n",
        "    plt.annotate(label, # this is the text\n",
        "                 (x,y), # this is the point to label\n",
        "                 textcoords=\"offset points\", # how to position the text\n",
        "                 xytext=(0,10), # distance from text to points (x,y)\n",
        "                 ha='center') # horizontal alignment can be left, right or center"
      ],
      "execution_count": 15,
      "outputs": [
        {
          "output_type": "error",
          "ename": "NameError",
          "evalue": "ignored",
          "traceback": [
            "\u001b[0;31m---------------------------------------------------------------------------\u001b[0m",
            "\u001b[0;31mNameError\u001b[0m                                 Traceback (most recent call last)",
            "\u001b[0;32m<ipython-input-15-ff8635e822fc>\u001b[0m in \u001b[0;36m<module>\u001b[0;34m()\u001b[0m\n\u001b[0;32m----> 1\u001b[0;31m \u001b[0;32mfor\u001b[0m \u001b[0mx\u001b[0m\u001b[0;34m,\u001b[0m\u001b[0my\u001b[0m \u001b[0;32min\u001b[0m \u001b[0mzip\u001b[0m\u001b[0;34m(\u001b[0m\u001b[0mxs\u001b[0m\u001b[0;34m,\u001b[0m\u001b[0mys\u001b[0m\u001b[0;34m)\u001b[0m\u001b[0;34m:\u001b[0m\u001b[0;34m\u001b[0m\u001b[0;34m\u001b[0m\u001b[0m\n\u001b[0m\u001b[1;32m      2\u001b[0m \u001b[0;34m\u001b[0m\u001b[0m\n\u001b[1;32m      3\u001b[0m     \u001b[0mlabel\u001b[0m \u001b[0;34m=\u001b[0m \u001b[0;34m\"{:.2f}\"\u001b[0m\u001b[0;34m.\u001b[0m\u001b[0mformat\u001b[0m\u001b[0;34m(\u001b[0m\u001b[0my\u001b[0m\u001b[0;34m)\u001b[0m\u001b[0;34m\u001b[0m\u001b[0;34m\u001b[0m\u001b[0m\n\u001b[1;32m      4\u001b[0m \u001b[0;34m\u001b[0m\u001b[0m\n\u001b[1;32m      5\u001b[0m     plt.annotate(label, # this is the text\n",
            "\u001b[0;31mNameError\u001b[0m: name 'xs' is not defined"
          ]
        }
      ]
    },
    {
      "cell_type": "code",
      "metadata": {
        "id": "Pe6qES8CK9wO",
        "colab_type": "code",
        "outputId": "62f2a8c5-1413-467d-823b-a250dfb6c1b4",
        "colab": {
          "base_uri": "https://localhost:8080/",
          "height": 225
        }
      },
      "source": [
        "for k, v in Cesa_Sum_All_df.iterrows():\n",
        "    print ( k, v['Avg. Salary'], v['Avg. Experience'])"
      ],
      "execution_count": 16,
      "outputs": [
        {
          "output_type": "stream",
          "text": [
            "1 59307.50987368796 13.988999584889996\n",
            "2 54057.697488872094 13.736877467036198\n",
            "3 50062.89738919247 15.723436551305404\n",
            "4 50333.72433916924 14.161002403020941\n",
            "5 52059.91156113817 14.766341963599077\n",
            "6 54423.38955767077 14.564739641657335\n",
            "7 54412.09204758923 14.58422041327489\n",
            "8 49266.82258064516 14.673076923076923\n",
            "9 54665.72386895476 14.71704368174727\n",
            "10 50481.01356802347 14.300880088008801\n",
            "11 52347.80424799082 14.5097588978186\n",
            "12 51273.62227805695 14.775544388609715\n"
          ],
          "name": "stdout"
        }
      ]
    },
    {
      "cell_type": "code",
      "metadata": {
        "id": "6RftrO0KNeyt",
        "colab_type": "code",
        "colab": {}
      },
      "source": [
        "annotation_offset_salary = 75\n",
        "annotation_offset_exp = 0.025"
      ],
      "execution_count": 0,
      "outputs": []
    },
    {
      "cell_type": "code",
      "metadata": {
        "id": "AB7yAJQqAnNv",
        "colab_type": "code",
        "outputId": "864da187-34ab-4142-833c-10f8e36f7c3d",
        "colab": {
          "base_uri": "https://localhost:8080/",
          "height": 399
        }
      },
      "source": [
        "fig, ax1 = plt.subplots(nrows=1, ncols=1,\n",
        "                           figsize=(10,5))\n",
        "\n",
        "currency_fmt = '${x:,.0f}'\n",
        "currency_tick = mtick.StrMethodFormatter(currency_fmt)\n",
        "\n",
        "\n",
        "ax = Cesa_Sum_All_df.plot.scatter(x=\"Avg. Salary\", y=\"Avg. Experience\", ax=ax1,color='b',label='All Teachers')\n",
        "ax1.set_ylabel('Avg. Experience (yrs)')\n",
        "ax1.xaxis.set_major_formatter(currency_tick) \n",
        "ax1.tick_params(axis='x', rotation=45)\n",
        "\n",
        "for k, v in Cesa_Sum_All_df.iterrows():\n",
        "    ax.text(v['Avg. Salary']+annotation_offset_salary, v['Avg. Experience']+annotation_offset_exp, k)"
      ],
      "execution_count": 36,
      "outputs": [
        {
          "output_type": "display_data",
          "data": {
            "image/png": "[encoded data removed]",
            "text/plain": [
              "<Figure size 720x360 with 1 Axes>"
            ]
          },
          "metadata": {
            "tags": []
          }
        }
      ]
    },
    {
      "cell_type": "code",
      "metadata": {
        "id": "k7nzyhTK7mFf",
        "colab_type": "code",
        "colab": {}
      },
      "source": [
        "geo_analysis_firstyear_df = geo_analysis_df[\n",
        "    (geo_analysis_df['experience']<= 1.0) & \\\n",
        "    (geo_analysis_df['assignment_fte']>=1.0) & \\\n",
        "    (geo_analysis_df['max_contract_days'] >= geo_analysis_df['contract_days_median']-2*geo_analysis_df['contract_days_std']) \\\n",
        "]"
      ],
      "execution_count": 0,
      "outputs": []
    },
    {
      "cell_type": "code",
      "metadata": {
        "id": "hlSiX_Eh7gsP",
        "colab_type": "code",
        "colab": {}
      },
      "source": [
        "Cesa_Sum_FirstYear_df = geo_analysis_firstyear_df.groupby('Cesa_Num') \\\n",
        "  .agg({'Salary':'mean', 'research_ID':'size', 'experience':'mean', 'age':'mean'}) \\\n",
        "  .rename(columns={'Salary':'Avg. Salary', 'research_ID':'Count of Individuals',\\\n",
        "                   'experience':'Avg. Experience','age':'Avg. Age'})"
      ],
      "execution_count": 0,
      "outputs": []
    },
    {
      "cell_type": "code",
      "metadata": {
        "id": "vDdwksrzNxlY",
        "colab_type": "code",
        "colab": {
          "base_uri": "https://localhost:8080/",
          "height": 305
        },
        "outputId": "e4b5a3a0-c0ba-47a3-d5e0-30a06176c9fc"
      },
      "source": [
        "fig, ax1 = plt.subplots(nrows=1, ncols=1,\n",
        "                           figsize=(6,3))\n",
        "\n",
        "currency_fmt = '${x:,.0f}'\n",
        "currency_tick = mtick.StrMethodFormatter(currency_fmt)\n",
        "\n",
        "\n",
        "ax = Cesa_Sum_All_df.plot.scatter(x=\"Avg. Salary\", y=\"Avg. Experience\", ax=ax1,color='b', label='All')\n",
        "ax = Cesa_Sum_FirstYear_df.plot.scatter(x=\"Avg. Salary\", y=\"Avg. Experience\", ax=ax1, color='r', label='First Year')\n",
        "ax1.set_ylabel('Avg. Experience (yrs)')\n",
        "ax1.xaxis.set_major_formatter(currency_tick) \n",
        "ax1.tick_params(axis='x', rotation=45)\n",
        "\n",
        "for k, v in Cesa_Sum_All_df.iterrows():\n",
        "    ax.text(v['Avg. Salary']+annotation_offset_salary, v['Avg. Experience']+annotation_offset_exp, k)\n",
        "\n",
        "ax1.set_ylim(0,20)\n",
        "\n",
        "ax1.set_xlim(35000, 60000)\n",
        "#Cesa_Sum_All_df['Avg.Salary','Avg. Experience','Cesa_num'].apply(lambda x: ax.text(*x),axis=1);\n"
      ],
      "execution_count": 31,
      "outputs": [
        {
          "output_type": "execute_result",
          "data": {
            "text/plain": [
              "(35000, 60000)"
            ]
          },
          "metadata": {
            "tags": []
          },
          "execution_count": 31
        },
        {
          "output_type": "display_data",
          "data": {
            "image/png": "[encoded data removed]",
            "text/plain": [
              "<Figure size 432x216 with 1 Axes>"
            ]
          },
          "metadata": {
            "tags": []
          }
        }
      ]
    },
    {
      "cell_type": "code",
      "metadata": {
        "id": "3X_jpz81ccVF",
        "colab_type": "code",
        "outputId": "73772eca-9a14-49a0-fdb3-c92d031c83a7",
        "colab": {
          "base_uri": "https://localhost:8080/",
          "height": 502
        }
      },
      "source": [
        "plt.scatter(Cesa_Sum_All_df['Avg. Salary'],Cesa_Sum_All_df['Avg. Experience'],s=Cesa_Sum_All_df['Count of Individuals']/10)\n",
        "\n",
        "#scat_graph.('SCATTER')\n",
        "#scat_graph.tick_params(axis = 'both', labelsize=9)\n",
        "plt.yaxis.set_major_formatter(FormatStrFormatter('%.2f'))\n",
        "#plt.get_xaxis().set_major_formatter(\n",
        "#  matplotlib.ticker.FuncFormatter(lambda x, p: format(int(x), ',')))\n",
        "#plt.get_yaxis().set_major_formatter(\n",
        "#  matplotlib.ticker.FuncFormatter(lambda x, p: format(int(x), ',')))\n",
        "plt.show()"
      ],
      "execution_count": 0,
      "outputs": [
        {
          "output_type": "error",
          "ename": "AttributeError",
          "evalue": "ignored",
          "traceback": [
            "\u001b[0;31m---------------------------------------------------------------------------\u001b[0m",
            "\u001b[0;31mAttributeError\u001b[0m                            Traceback (most recent call last)",
            "\u001b[0;32m<ipython-input-45-382093a527c4>\u001b[0m in \u001b[0;36m<module>\u001b[0;34m()\u001b[0m\n\u001b[1;32m      3\u001b[0m \u001b[0;31m#scat_graph.('SCATTER')\u001b[0m\u001b[0;34m\u001b[0m\u001b[0;34m\u001b[0m\u001b[0;34m\u001b[0m\u001b[0m\n\u001b[1;32m      4\u001b[0m \u001b[0;31m#scat_graph.tick_params(axis = 'both', labelsize=9)\u001b[0m\u001b[0;34m\u001b[0m\u001b[0;34m\u001b[0m\u001b[0;34m\u001b[0m\u001b[0m\n\u001b[0;32m----> 5\u001b[0;31m \u001b[0mplt\u001b[0m\u001b[0;34m.\u001b[0m\u001b[0myaxis\u001b[0m\u001b[0;34m.\u001b[0m\u001b[0mset_major_formatter\u001b[0m\u001b[0;34m(\u001b[0m\u001b[0mFormatStrFormatter\u001b[0m\u001b[0;34m(\u001b[0m\u001b[0;34m'%.2f'\u001b[0m\u001b[0;34m)\u001b[0m\u001b[0;34m)\u001b[0m\u001b[0;34m\u001b[0m\u001b[0;34m\u001b[0m\u001b[0m\n\u001b[0m\u001b[1;32m      6\u001b[0m \u001b[0;31m#plt.get_xaxis().set_major_formatter(\u001b[0m\u001b[0;34m\u001b[0m\u001b[0;34m\u001b[0m\u001b[0;34m\u001b[0m\u001b[0m\n\u001b[1;32m      7\u001b[0m \u001b[0;31m#  matplotlib.ticker.FuncFormatter(lambda x, p: format(int(x), ',')))\u001b[0m\u001b[0;34m\u001b[0m\u001b[0;34m\u001b[0m\u001b[0;34m\u001b[0m\u001b[0m\n",
            "\u001b[0;31mAttributeError\u001b[0m: module 'matplotlib.pyplot' has no attribute 'yaxis'"
          ]
        },
        {
          "output_type": "display_data",
          "data": {
            "image/png": "[encoded data removed]",
            "text/plain": [
              "<Figure size 432x288 with 1 Axes>"
            ]
          },
          "metadata": {
            "tags": []
          }
        }
      ]
    },
    {
      "cell_type": "code",
      "metadata": {
        "id": "bOCa53KT8_45",
        "colab_type": "code",
        "outputId": "ea103ebb-298f-4aca-dc28-15479def937c",
        "colab": {
          "base_uri": "https://localhost:8080/",
          "height": 432
        }
      },
      "source": [
        "Cesa_Sum_FirstYear_df"
      ],
      "execution_count": 0,
      "outputs": [
        {
          "output_type": "execute_result",
          "data": {
            "text/html": [
              "<div>\n",
              "<style scoped>\n",
              "    .dataframe tbody tr th:only-of-type {\n",
              "        vertical-align: middle;\n",
              "    }\n",
              "\n",
              "    .dataframe tbody tr th {\n",
              "        vertical-align: top;\n",
              "    }\n",
              "\n",
              "    .dataframe thead th {\n",
              "        text-align: right;\n",
              "    }\n",
              "</style>\n",
              "<table border=\"1\" class=\"dataframe\">\n",
              "  <thead>\n",
              "    <tr style=\"text-align: right;\">\n",
              "      <th></th>\n",
              "      <th>Avg. Salary</th>\n",
              "      <th>Count of Individuals</th>\n",
              "      <th>Avg. Experience</th>\n",
              "      <th>Avg. Age</th>\n",
              "    </tr>\n",
              "    <tr>\n",
              "      <th>Cesa_Num</th>\n",
              "      <th></th>\n",
              "      <th></th>\n",
              "      <th></th>\n",
              "      <th></th>\n",
              "    </tr>\n",
              "  </thead>\n",
              "  <tbody>\n",
              "    <tr>\n",
              "      <th>1</th>\n",
              "      <td>46157.836611</td>\n",
              "      <td>661</td>\n",
              "      <td>0.989410</td>\n",
              "      <td>30.373676</td>\n",
              "    </tr>\n",
              "    <tr>\n",
              "      <th>2</th>\n",
              "      <td>43211.625229</td>\n",
              "      <td>547</td>\n",
              "      <td>0.971664</td>\n",
              "      <td>30.120658</td>\n",
              "    </tr>\n",
              "    <tr>\n",
              "      <th>3</th>\n",
              "      <td>38936.373494</td>\n",
              "      <td>83</td>\n",
              "      <td>0.981928</td>\n",
              "      <td>27.771084</td>\n",
              "    </tr>\n",
              "    <tr>\n",
              "      <th>4</th>\n",
              "      <td>38302.849206</td>\n",
              "      <td>126</td>\n",
              "      <td>1.000000</td>\n",
              "      <td>27.158730</td>\n",
              "    </tr>\n",
              "    <tr>\n",
              "      <th>5</th>\n",
              "      <td>40277.655556</td>\n",
              "      <td>180</td>\n",
              "      <td>0.963889</td>\n",
              "      <td>29.211111</td>\n",
              "    </tr>\n",
              "    <tr>\n",
              "      <th>6</th>\n",
              "      <td>41804.308300</td>\n",
              "      <td>253</td>\n",
              "      <td>1.000000</td>\n",
              "      <td>29.418972</td>\n",
              "    </tr>\n",
              "    <tr>\n",
              "      <th>7</th>\n",
              "      <td>41642.736000</td>\n",
              "      <td>250</td>\n",
              "      <td>0.992000</td>\n",
              "      <td>29.704000</td>\n",
              "    </tr>\n",
              "    <tr>\n",
              "      <th>8</th>\n",
              "      <td>38078.833333</td>\n",
              "      <td>66</td>\n",
              "      <td>1.000000</td>\n",
              "      <td>31.060606</td>\n",
              "    </tr>\n",
              "    <tr>\n",
              "      <th>9</th>\n",
              "      <td>41857.508621</td>\n",
              "      <td>116</td>\n",
              "      <td>0.956897</td>\n",
              "      <td>29.879310</td>\n",
              "    </tr>\n",
              "    <tr>\n",
              "      <th>10</th>\n",
              "      <td>39103.684211</td>\n",
              "      <td>95</td>\n",
              "      <td>0.989474</td>\n",
              "      <td>27.421053</td>\n",
              "    </tr>\n",
              "    <tr>\n",
              "      <th>11</th>\n",
              "      <td>39984.131387</td>\n",
              "      <td>137</td>\n",
              "      <td>0.974453</td>\n",
              "      <td>29.817518</td>\n",
              "    </tr>\n",
              "    <tr>\n",
              "      <th>12</th>\n",
              "      <td>39126.568182</td>\n",
              "      <td>44</td>\n",
              "      <td>1.000000</td>\n",
              "      <td>30.727273</td>\n",
              "    </tr>\n",
              "  </tbody>\n",
              "</table>\n",
              "</div>"
            ],
            "text/plain": [
              "           Avg. Salary  Count of Individuals  Avg. Experience   Avg. Age\n",
              "Cesa_Num                                                                \n",
              "1         46157.836611                   661         0.989410  30.373676\n",
              "2         43211.625229                   547         0.971664  30.120658\n",
              "3         38936.373494                    83         0.981928  27.771084\n",
              "4         38302.849206                   126         1.000000  27.158730\n",
              "5         40277.655556                   180         0.963889  29.211111\n",
              "6         41804.308300                   253         1.000000  29.418972\n",
              "7         41642.736000                   250         0.992000  29.704000\n",
              "8         38078.833333                    66         1.000000  31.060606\n",
              "9         41857.508621                   116         0.956897  29.879310\n",
              "10        39103.684211                    95         0.989474  27.421053\n",
              "11        39984.131387                   137         0.974453  29.817518\n",
              "12        39126.568182                    44         1.000000  30.727273"
            ]
          },
          "metadata": {
            "tags": []
          },
          "execution_count": 68
        }
      ]
    },
    {
      "cell_type": "markdown",
      "metadata": {
        "id": "11B4y67NMH7v",
        "colab_type": "text"
      },
      "source": [
        "Need to load the districts / CESA information https://apps4.dpi.wi.gov/SchoolDirectory/Search/PublicDistrictsSearch"
      ]
    },
    {
      "cell_type": "markdown",
      "metadata": {
        "id": "ZVi5gQR80NTt",
        "colab_type": "text"
      },
      "source": [
        "### Map Salary Ranges"
      ]
    },
    {
      "cell_type": "markdown",
      "metadata": {
        "id": "ip-tYoi8BX-O",
        "colab_type": "text"
      },
      "source": [
        "So the previous analysis is good. However...yeah it is a bit lacking. I mean it feels like we need to bring the whole visual aspect into the analysis. I mean there is lots of good data in a list with averages, but let's add the whole mapping piece.\n",
        "\n",
        "If we want to add the map components we can consult the Open GEO Data for Wisconsin: http://geodata.wisc.edu/opengeoportal/\n",
        "The site has a nice interface in which to search for specific geographic information systems (GIS) data."
      ]
    },
    {
      "cell_type": "markdown",
      "metadata": {
        "id": "6JcjTs3I0eUZ",
        "colab_type": "text"
      },
      "source": [
        "#### By Cesa"
      ]
    },
    {
      "cell_type": "code",
      "metadata": {
        "id": "sWmUPgcoaL7Z",
        "colab_type": "code",
        "colab": {}
      },
      "source": [
        ""
      ],
      "execution_count": 0,
      "outputs": []
    },
    {
      "cell_type": "markdown",
      "metadata": {
        "id": "KlfGlCbUz7aI",
        "colab_type": "text"
      },
      "source": [
        "### District Summary"
      ]
    },
    {
      "cell_type": "markdown",
      "metadata": {
        "id": "c78Pk1k90En2",
        "colab_type": "text"
      },
      "source": [
        "#### Average Salary by District"
      ]
    },
    {
      "cell_type": "code",
      "metadata": {
        "id": "upTI53cez59i",
        "colab_type": "code",
        "colab": {}
      },
      "source": [
        "# Ascending - Top 10"
      ],
      "execution_count": 0,
      "outputs": []
    },
    {
      "cell_type": "code",
      "metadata": {
        "id": "Ko02suYY0KO5",
        "colab_type": "code",
        "colab": {}
      },
      "source": [
        "# Descending - Top 10"
      ],
      "execution_count": 0,
      "outputs": []
    },
    {
      "cell_type": "markdown",
      "metadata": {
        "id": "-46ujUEzKLYG",
        "colab_type": "text"
      },
      "source": [
        "Let's just map the CESA Areas..."
      ]
    },
    {
      "cell_type": "code",
      "metadata": {
        "id": "5uPDP7QwKO1f",
        "colab_type": "code",
        "colab": {}
      },
      "source": [
        "# CODE FOR MAP"
      ],
      "execution_count": 0,
      "outputs": []
    },
    {
      "cell_type": "markdown",
      "metadata": {
        "id": "uPBIY6zHKRD4",
        "colab_type": "text"
      },
      "source": [
        "Ok. Getting there. Now let's bring in the color coding based on the average salary."
      ]
    },
    {
      "cell_type": "code",
      "metadata": {
        "id": "a0ZUyEfo0L9d",
        "colab_type": "code",
        "colab": {}
      },
      "source": [
        "# Color based on Average Salary"
      ],
      "execution_count": 0,
      "outputs": []
    },
    {
      "cell_type": "code",
      "metadata": {
        "id": "BIrvjWG40VBl",
        "colab_type": "code",
        "colab": {}
      },
      "source": [
        "# Color based on 1st year Salary"
      ],
      "execution_count": 0,
      "outputs": []
    },
    {
      "cell_type": "markdown",
      "metadata": {
        "id": "MvVrimcy0gz_",
        "colab_type": "text"
      },
      "source": [
        "#### By District"
      ]
    },
    {
      "cell_type": "code",
      "metadata": {
        "id": "hepKeneP0XPM",
        "colab_type": "code",
        "colab": {}
      },
      "source": [
        "# Color based on Average Salary"
      ],
      "execution_count": 0,
      "outputs": []
    },
    {
      "cell_type": "code",
      "metadata": {
        "id": "AF64VCVP0kue",
        "colab_type": "code",
        "colab": {}
      },
      "source": [
        "# Color based on 1st year Salary"
      ],
      "execution_count": 0,
      "outputs": []
    }
  ]
}