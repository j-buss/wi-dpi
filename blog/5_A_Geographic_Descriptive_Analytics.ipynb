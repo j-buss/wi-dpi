{
  "nbformat": 4,
  "nbformat_minor": 0,
  "metadata": {
    "colab": {
      "name": "5_A_Geographic_Descriptive_Analytics.ipynb",
      "version": "0.3.2",
      "provenance": [],
      "toc_visible": true,
      "include_colab_link": true
    },
    "kernelspec": {
      "name": "python3",
      "display_name": "Python 3"
    }
  },
  "cells": [
    {
      "cell_type": "markdown",
      "metadata": {
        "id": "view-in-github",
        "colab_type": "text"
      },
      "source": [
        "<a href=\"https://colab.research.google.com/github/j-buss/wi-dpi-analysis/blob/development/blog/5_A_Geographic_Descriptive_Analytics.ipynb\" target=\"_parent\"><img src=\"https://colab.research.google.com/assets/colab-badge.svg\" alt=\"Open In Colab\"/></a>"
      ]
    },
    {
      "cell_type": "markdown",
      "metadata": {
        "id": "bnTjcUssil74",
        "colab_type": "text"
      },
      "source": [
        "## Teacher Salary in Wisconsin - 5A - Blog - Geographic Pay Analysis"
      ]
    },
    {
      "cell_type": "markdown",
      "metadata": {
        "id": "xixtbodui-OW",
        "colab_type": "text"
      },
      "source": [
        "### Import Libraries"
      ]
    },
    {
      "cell_type": "code",
      "metadata": {
        "id": "GQqaRo-mihmq",
        "colab_type": "code",
        "colab": {}
      },
      "source": [
        "import numpy as np\n",
        "import pandas as pd\n",
        "pd.set_option('display.max_rows', 100)\n",
        "pd.set_option('display.max_columns', 1000)\n",
        "pd.set_option('display.width', 1000)\n",
        "import seaborn as sns\n",
        "import matplotlib.pyplot as plt\n",
        "\n",
        "from google.cloud import bigquery\n",
        "import matplotlib"
      ],
      "execution_count": 0,
      "outputs": []
    },
    {
      "cell_type": "code",
      "metadata": {
        "id": "cIppy15t5UNS",
        "colab_type": "code",
        "colab": {}
      },
      "source": [
        "%matplotlib inline\n",
        "plt.style.use('bmh')"
      ],
      "execution_count": 0,
      "outputs": []
    },
    {
      "cell_type": "code",
      "metadata": {
        "id": "MIoxtBgc5XJn",
        "colab_type": "code",
        "outputId": "00d6c812-88d0-4d1c-e1c6-d1c29c4ec4aa",
        "colab": {
          "base_uri": "https://localhost:8080/",
          "height": 468
        }
      },
      "source": [
        "import matplotlib.style as style\n",
        "style.available"
      ],
      "execution_count": 3,
      "outputs": [
        {
          "output_type": "execute_result",
          "data": {
            "text/plain": [
              "['grayscale',\n",
              " 'fivethirtyeight',\n",
              " 'seaborn-notebook',\n",
              " 'classic',\n",
              " 'seaborn',\n",
              " '_classic_test',\n",
              " 'bmh',\n",
              " 'seaborn-dark-palette',\n",
              " 'seaborn-colorblind',\n",
              " 'seaborn-whitegrid',\n",
              " 'seaborn-white',\n",
              " 'seaborn-dark',\n",
              " 'seaborn-poster',\n",
              " 'seaborn-darkgrid',\n",
              " 'seaborn-ticks',\n",
              " 'seaborn-bright',\n",
              " 'seaborn-muted',\n",
              " 'seaborn-talk',\n",
              " 'dark_background',\n",
              " 'tableau-colorblind10',\n",
              " 'seaborn-deep',\n",
              " 'ggplot',\n",
              " 'fast',\n",
              " 'seaborn-pastel',\n",
              " 'Solarize_Light2',\n",
              " 'seaborn-paper']"
            ]
          },
          "metadata": {
            "tags": []
          },
          "execution_count": 3
        }
      ]
    },
    {
      "cell_type": "code",
      "metadata": {
        "id": "Eb7jz_Po5bQy",
        "colab_type": "code",
        "colab": {}
      },
      "source": [
        "style.use('fivethirtyeight')"
      ],
      "execution_count": 0,
      "outputs": []
    },
    {
      "cell_type": "markdown",
      "metadata": {
        "id": "GE1Nkp7j5dqg",
        "colab_type": "text"
      },
      "source": [
        "### Functions"
      ]
    },
    {
      "cell_type": "code",
      "metadata": {
        "id": "srNcqSFP5h34",
        "colab_type": "code",
        "colab": {}
      },
      "source": [
        "# To help with the pie charts later\n",
        "def make_autopct(values):\n",
        "  def my_autopct(pct):\n",
        "    total = sum(values)\n",
        "    val = int(round(pct*total/100.0))\n",
        "    return '{p:.2f}% \\n({v:,d})'.format(p=pct,v=val)\n",
        "  return my_autopct"
      ],
      "execution_count": 0,
      "outputs": []
    },
    {
      "cell_type": "markdown",
      "metadata": {
        "id": "COdcwrtA5jeN",
        "colab_type": "text"
      },
      "source": [
        "### Processing"
      ]
    },
    {
      "cell_type": "code",
      "metadata": {
        "id": "MYNkKZwT5lIY",
        "colab_type": "code",
        "colab": {}
      },
      "source": [
        "# Authenticate to GCS.\n",
        "from google.colab import auth\n",
        "auth.authenticate_user()"
      ],
      "execution_count": 0,
      "outputs": []
    },
    {
      "cell_type": "code",
      "metadata": {
        "id": "Kb9C_hjK5oex",
        "colab_type": "code",
        "colab": {}
      },
      "source": [
        "project_id='wi-dpi-010'\n",
        "landing_dataset_name='landing'\n",
        "refined_dataset_name='refined'\n",
        "gold_dataset_name='gold'"
      ],
      "execution_count": 0,
      "outputs": []
    },
    {
      "cell_type": "code",
      "metadata": {
        "id": "_VZ9SwrQ5raP",
        "colab_type": "code",
        "colab": {}
      },
      "source": [
        "bq_client = bigquery.Client(project=project_id)"
      ],
      "execution_count": 0,
      "outputs": []
    },
    {
      "cell_type": "markdown",
      "metadata": {
        "id": "M3mDlXwAzqNh",
        "colab_type": "text"
      },
      "source": [
        "### Cesa Summary"
      ]
    },
    {
      "cell_type": "markdown",
      "metadata": {
        "id": "ueHqjOdM5vrG",
        "colab_type": "text"
      },
      "source": [
        "Let's add another layer to the analysis. We can look at differences by location. A number of initial questions come to mind very quickly.\n",
        "\n",
        "\n",
        "1.   What is area with the highest average salary? What about the lowest?\n",
        "2.   What is the area with the highest starting salary? What about the lowest?\n",
        "3.   Are average salaries found in geographic groups?\n",
        "\n",
        "Well, to start answering these questions let's bring to mind the geographic hiearchy...or rather how do we start at the top: State and work our way down to School District...or maybe even school.\n",
        "\n",
        "Fortunately for us this topic is a fairly common one and the WI Department of Public Instruction has devised our first \"layer\" under a state. It is CESA.\n",
        "\n",
        "And as any group of people we must refer to the acronyms! CESA is the \"Cooperative Educational Service Agency\". For our purposes it simply groups districts together. However, for more information you can consult the [WI DPI CESA](https://dpi.wi.gov/cesa) page.\n",
        "\n"
      ]
    },
    {
      "cell_type": "markdown",
      "metadata": {
        "id": "mXc-KKA77sm6",
        "colab_type": "text"
      },
      "source": [
        "Within the information we have already looked at there is a code showing the CESA number for an individual role. \n",
        "\n",
        "Now there are a few individuals who do work \"across\" CESA districts. However for this analysis we will set asside those individuals and stick with the vast majority (99.45%) of individuals who work in only one district. "
      ]
    },
    {
      "cell_type": "markdown",
      "metadata": {
        "id": "jic_ovTAztVL",
        "colab_type": "text"
      },
      "source": [
        "#### Average Salary by Cesa"
      ]
    },
    {
      "cell_type": "code",
      "metadata": {
        "id": "LQA42P1MImEK",
        "colab_type": "code",
        "colab": {}
      },
      "source": [
        "# Group by CESA - [CESA_NUM, Avg_Salary, Count] - \n",
        "salary_analysis_by_cesa_sql ='''\n",
        "SELECT\n",
        "  Cesa_Num,\n",
        "  Round(Avg(Salary),2) as Avg_Salary,\n",
        "  count(research_ID) AS Count\n",
        "FROM\n",
        "  `wi-dpi-010.refined.2017_CESA_Analysis_level_01`\n",
        "WHERE\n",
        "  Pos_Cat_Flag = 'T'\n",
        "GROUP BY\n",
        "  Cesa_Num\n",
        "ORDER BY \n",
        "  1\n",
        "\n",
        "'''"
      ],
      "execution_count": 0,
      "outputs": []
    },
    {
      "cell_type": "markdown",
      "metadata": {
        "id": "G_GhBb6EaAK2",
        "colab_type": "text"
      },
      "source": [
        "First Year Teacher Salary by CESA"
      ]
    },
    {
      "cell_type": "code",
      "metadata": {
        "id": "WgKjq-6XXdYQ",
        "colab_type": "code",
        "colab": {}
      },
      "source": [
        "# Group by CESA - [CESA_NUM, Avg_Salary, Count]\n",
        "salary_analysis_by_cesa_sql ='''\n",
        "SELECT\n",
        "  Cesa_Num,\n",
        "  Round(Avg(Salary),2) as Avg_Salary,\n",
        "  count(research_ID) AS Count\n",
        "FROM\n",
        "  `wi-dpi-010.refined.2017_CESA_Analysis_level_01`\n",
        "WHERE\n",
        "  Pos_Cat_Flag = 'T' and\n",
        "  max_contract_total_experience < 1 and\n",
        "  assignment_fte >= 1.0\n",
        "GROUP BY\n",
        "  Cesa_Num\n",
        "ORDER BY \n",
        "  1\n",
        "\n",
        "'''"
      ],
      "execution_count": 0,
      "outputs": []
    },
    {
      "cell_type": "code",
      "metadata": {
        "id": "kRs2YoFzbjsl",
        "colab_type": "code",
        "colab": {}
      },
      "source": [
        "sql = '''\n",
        "SELECT\n",
        "  Cesa_Num,\n",
        "  Round(Avg(Salary),2) as Avg_Salary,\n",
        "  count(research_ID) AS Count,\n",
        "  Round(Avg(max_contract_total_experience),2) as experience,\n",
        "  Round(Avg(age),2) as age\n",
        "FROM\n",
        "  {}.{}\n",
        "WHERE\n",
        "  Pos_Cat_Flag = 'T' and\n",
        "  assignment_fte >= 1.0\n",
        "GROUP BY\n",
        "  Cesa_Num\n",
        "  '''.format('refined','2017_CESA_Analysis_level_01')"
      ],
      "execution_count": 0,
      "outputs": []
    },
    {
      "cell_type": "code",
      "metadata": {
        "id": "prMn_J1fcVdO",
        "colab_type": "code",
        "outputId": "9640bb6a-8ba4-4d6a-fe62-034a3e99a4cb",
        "colab": {
          "base_uri": "https://localhost:8080/",
          "height": 72
        }
      },
      "source": [
        "df = pd.read_gbq(sql, project_id=project_id)"
      ],
      "execution_count": 11,
      "outputs": [
        {
          "output_type": "stream",
          "text": [
            "/usr/local/lib/python3.6/dist-packages/ipykernel_launcher.py:1: FutureWarning: The default value for dialect is changing to \"standard\" in a future version of pandas-gbq. Pass in dialect=\"legacy\" to disable this warning.\n",
            "  \"\"\"Entry point for launching an IPython kernel.\n"
          ],
          "name": "stderr"
        }
      ]
    },
    {
      "cell_type": "code",
      "metadata": {
        "id": "r_ye7Uzkchot",
        "colab_type": "code",
        "outputId": "e6517626-2362-4503-a580-2cfd4b809dd4",
        "colab": {
          "base_uri": "https://localhost:8080/",
          "height": 243
        }
      },
      "source": [
        "df['Count']"
      ],
      "execution_count": 12,
      "outputs": [
        {
          "output_type": "execute_result",
          "data": {
            "text/plain": [
              "0      3748\n",
              "1     11157\n",
              "2     14932\n",
              "3      6070\n",
              "4      2488\n",
              "5      6814\n",
              "6      1557\n",
              "7      2610\n",
              "8      1582\n",
              "9      1149\n",
              "10     3293\n",
              "11     2810\n",
              "Name: Count, dtype: int64"
            ]
          },
          "metadata": {
            "tags": []
          },
          "execution_count": 12
        }
      ]
    },
    {
      "cell_type": "code",
      "metadata": {
        "id": "3X_jpz81ccVF",
        "colab_type": "code",
        "outputId": "af7c1b72-46e4-466a-b4b0-c4f27717fc81",
        "colab": {
          "base_uri": "https://localhost:8080/",
          "height": 501
        }
      },
      "source": [
        "plt.scatter(df['Avg_Salary'],df['experience'],s=df['Count']/10)\n",
        "\n",
        "#scat_graph.title('SCATTER')\n",
        "#scat_graph.tick_params(axis = 'both', labelsize=9)\n",
        "plt.yaxis.set_major_formatter(FormatStrFormatter('%.2f'))\n",
        "#plt.get_xaxis().set_major_formatter(\n",
        "#  matplotlib.ticker.FuncFormatter(lambda x, p: format(int(x), ',')))\n",
        "#plt.get_yaxis().set_major_formatter(\n",
        "#  matplotlib.ticker.FuncFormatter(lambda x, p: format(int(x), ',')))\n",
        "plt.show()"
      ],
      "execution_count": 24,
      "outputs": [
        {
          "output_type": "error",
          "ename": "AttributeError",
          "evalue": "ignored",
          "traceback": [
            "\u001b[0;31m---------------------------------------------------------------------------\u001b[0m",
            "\u001b[0;31mAttributeError\u001b[0m                            Traceback (most recent call last)",
            "\u001b[0;32m<ipython-input-24-9b3fd6bf0fe6>\u001b[0m in \u001b[0;36m<module>\u001b[0;34m()\u001b[0m\n\u001b[1;32m      3\u001b[0m \u001b[0;31m#scat_graph.title('SCATTER')\u001b[0m\u001b[0;34m\u001b[0m\u001b[0;34m\u001b[0m\u001b[0;34m\u001b[0m\u001b[0m\n\u001b[1;32m      4\u001b[0m \u001b[0;31m#scat_graph.tick_params(axis = 'both', labelsize=9)\u001b[0m\u001b[0;34m\u001b[0m\u001b[0;34m\u001b[0m\u001b[0;34m\u001b[0m\u001b[0m\n\u001b[0;32m----> 5\u001b[0;31m \u001b[0mplt\u001b[0m\u001b[0;34m.\u001b[0m\u001b[0myaxis\u001b[0m\u001b[0;34m.\u001b[0m\u001b[0mset_major_formatter\u001b[0m\u001b[0;34m(\u001b[0m\u001b[0mFormatStrFormatter\u001b[0m\u001b[0;34m(\u001b[0m\u001b[0;34m'%.2f'\u001b[0m\u001b[0;34m)\u001b[0m\u001b[0;34m)\u001b[0m\u001b[0;34m\u001b[0m\u001b[0;34m\u001b[0m\u001b[0m\n\u001b[0m\u001b[1;32m      6\u001b[0m \u001b[0;31m#plt.get_xaxis().set_major_formatter(\u001b[0m\u001b[0;34m\u001b[0m\u001b[0;34m\u001b[0m\u001b[0;34m\u001b[0m\u001b[0m\n\u001b[1;32m      7\u001b[0m \u001b[0;31m#  matplotlib.ticker.FuncFormatter(lambda x, p: format(int(x), ',')))\u001b[0m\u001b[0;34m\u001b[0m\u001b[0;34m\u001b[0m\u001b[0;34m\u001b[0m\u001b[0m\n",
            "\u001b[0;31mAttributeError\u001b[0m: module 'matplotlib.pyplot' has no attribute 'yaxis'"
          ]
        },
        {
          "output_type": "display_data",
          "data": {
            "image/png": "[encoded data removed]",
            "text/plain": [
              "<Figure size 432x288 with 1 Axes>"
            ]
          },
          "metadata": {
            "tags": []
          }
        }
      ]
    },
    {
      "cell_type": "markdown",
      "metadata": {
        "id": "11B4y67NMH7v",
        "colab_type": "text"
      },
      "source": [
        "Need to load the districts / CESA information https://apps4.dpi.wi.gov/SchoolDirectory/Search/PublicDistrictsSearch"
      ]
    },
    {
      "cell_type": "markdown",
      "metadata": {
        "id": "ZVi5gQR80NTt",
        "colab_type": "text"
      },
      "source": [
        "### Map Salary Ranges"
      ]
    },
    {
      "cell_type": "markdown",
      "metadata": {
        "id": "ip-tYoi8BX-O",
        "colab_type": "text"
      },
      "source": [
        "So the previous analysis is good. However...yeah it is a bit lacking. I mean it feels like we need to bring the whole visual aspect into the analysis. I mean there is lots of good data in a list with averages, but let's add the whole mapping piece.\n",
        "\n",
        "If we want to add the map components we can consult the Open GEO Data for Wisconsin: http://geodata.wisc.edu/opengeoportal/\n",
        "The site has a nice interface in which to search for specific geographic information systems (GIS) data."
      ]
    },
    {
      "cell_type": "markdown",
      "metadata": {
        "id": "6JcjTs3I0eUZ",
        "colab_type": "text"
      },
      "source": [
        "#### By Cesa"
      ]
    },
    {
      "cell_type": "code",
      "metadata": {
        "id": "sWmUPgcoaL7Z",
        "colab_type": "code",
        "colab": {}
      },
      "source": [
        ""
      ],
      "execution_count": 0,
      "outputs": []
    },
    {
      "cell_type": "markdown",
      "metadata": {
        "id": "KlfGlCbUz7aI",
        "colab_type": "text"
      },
      "source": [
        "### District Summary"
      ]
    },
    {
      "cell_type": "markdown",
      "metadata": {
        "id": "c78Pk1k90En2",
        "colab_type": "text"
      },
      "source": [
        "#### Average Salary by District"
      ]
    },
    {
      "cell_type": "code",
      "metadata": {
        "id": "upTI53cez59i",
        "colab_type": "code",
        "colab": {}
      },
      "source": [
        "# Ascending - Top 10"
      ],
      "execution_count": 0,
      "outputs": []
    },
    {
      "cell_type": "code",
      "metadata": {
        "id": "Ko02suYY0KO5",
        "colab_type": "code",
        "colab": {}
      },
      "source": [
        "# Descending - Top 10"
      ],
      "execution_count": 0,
      "outputs": []
    },
    {
      "cell_type": "markdown",
      "metadata": {
        "id": "-46ujUEzKLYG",
        "colab_type": "text"
      },
      "source": [
        "Let's just map the CESA Areas..."
      ]
    },
    {
      "cell_type": "code",
      "metadata": {
        "id": "5uPDP7QwKO1f",
        "colab_type": "code",
        "colab": {}
      },
      "source": [
        "# CODE FOR MAP"
      ],
      "execution_count": 0,
      "outputs": []
    },
    {
      "cell_type": "markdown",
      "metadata": {
        "id": "uPBIY6zHKRD4",
        "colab_type": "text"
      },
      "source": [
        "Ok. Getting there. Now let's bring in the color coding based on the average salary."
      ]
    },
    {
      "cell_type": "code",
      "metadata": {
        "id": "a0ZUyEfo0L9d",
        "colab_type": "code",
        "colab": {}
      },
      "source": [
        "# Color based on Average Salary"
      ],
      "execution_count": 0,
      "outputs": []
    },
    {
      "cell_type": "code",
      "metadata": {
        "id": "BIrvjWG40VBl",
        "colab_type": "code",
        "colab": {}
      },
      "source": [
        "# Color based on 1st year Salary"
      ],
      "execution_count": 0,
      "outputs": []
    },
    {
      "cell_type": "markdown",
      "metadata": {
        "id": "MvVrimcy0gz_",
        "colab_type": "text"
      },
      "source": [
        "#### By District"
      ]
    },
    {
      "cell_type": "code",
      "metadata": {
        "id": "hepKeneP0XPM",
        "colab_type": "code",
        "colab": {}
      },
      "source": [
        "# Color based on Average Salary"
      ],
      "execution_count": 0,
      "outputs": []
    },
    {
      "cell_type": "code",
      "metadata": {
        "id": "AF64VCVP0kue",
        "colab_type": "code",
        "colab": {}
      },
      "source": [
        "# Color based on 1st year Salary"
      ],
      "execution_count": 0,
      "outputs": []
    }
  ]
}