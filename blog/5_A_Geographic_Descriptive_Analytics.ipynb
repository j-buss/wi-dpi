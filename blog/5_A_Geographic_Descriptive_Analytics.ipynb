{
  "nbformat": 4,
  "nbformat_minor": 0,
  "metadata": {
    "colab": {
      "name": "5_A_Geographic_Descriptive_Analytics.ipynb",
      "version": "0.3.2",
      "provenance": [],
      "toc_visible": true,
      "include_colab_link": true
    },
    "kernelspec": {
      "name": "python3",
      "display_name": "Python 3"
    }
  },
  "cells": [
    {
      "cell_type": "markdown",
      "metadata": {
        "id": "view-in-github",
        "colab_type": "text"
      },
      "source": [
        "<a href=\"https://colab.research.google.com/github/j-buss/wi-dpi-analysis/blob/development/blog/5_A_Geographic_Descriptive_Analytics.ipynb\" target=\"_parent\"><img src=\"https://colab.research.google.com/assets/colab-badge.svg\" alt=\"Open In Colab\"/></a>"
      ]
    },
    {
      "cell_type": "markdown",
      "metadata": {
        "id": "bnTjcUssil74",
        "colab_type": "text"
      },
      "source": [
        "## Teacher Salary in Wisconsin - 5A - Blog - Geographic Pay Analysis"
      ]
    },
    {
      "cell_type": "markdown",
      "metadata": {
        "id": "xixtbodui-OW",
        "colab_type": "text"
      },
      "source": [
        "### Import Libraries"
      ]
    },
    {
      "cell_type": "code",
      "metadata": {
        "id": "GQqaRo-mihmq",
        "colab_type": "code",
        "colab": {}
      },
      "source": [
        "import numpy as np\n",
        "import pandas as pd\n",
        "pd.set_option('display.max_rows', 100)\n",
        "pd.set_option('display.max_columns', 1000)\n",
        "pd.set_option('display.width', 1000)\n",
        "import seaborn as sns\n",
        "import matplotlib.pyplot as plt\n",
        "\n",
        "from google.cloud import bigquery\n",
        "import matplotlib"
      ],
      "execution_count": 0,
      "outputs": []
    },
    {
      "cell_type": "markdown",
      "metadata": {
        "id": "M3mDlXwAzqNh",
        "colab_type": "text"
      },
      "source": [
        "### Cesa Summary"
      ]
    },
    {
      "cell_type": "markdown",
      "metadata": {
        "id": "jic_ovTAztVL",
        "colab_type": "text"
      },
      "source": [
        "#### Average Salary by Cesa"
      ]
    },
    {
      "cell_type": "code",
      "metadata": {
        "id": "IT5ULhgZiy7d",
        "colab_type": "code",
        "colab": {}
      },
      "source": [
        "# Ascending - Top 10"
      ],
      "execution_count": 0,
      "outputs": []
    },
    {
      "cell_type": "code",
      "metadata": {
        "id": "9HOL00LmyqEX",
        "colab_type": "code",
        "colab": {}
      },
      "source": [
        "# Descending - Top 10"
      ],
      "execution_count": 0,
      "outputs": []
    },
    {
      "cell_type": "markdown",
      "metadata": {
        "id": "KlfGlCbUz7aI",
        "colab_type": "text"
      },
      "source": [
        "### District Summary"
      ]
    },
    {
      "cell_type": "markdown",
      "metadata": {
        "id": "c78Pk1k90En2",
        "colab_type": "text"
      },
      "source": [
        "#### Average Salary by District"
      ]
    },
    {
      "cell_type": "code",
      "metadata": {
        "id": "upTI53cez59i",
        "colab_type": "code",
        "colab": {}
      },
      "source": [
        "# Ascending - Top 10"
      ],
      "execution_count": 0,
      "outputs": []
    },
    {
      "cell_type": "code",
      "metadata": {
        "id": "Ko02suYY0KO5",
        "colab_type": "code",
        "colab": {}
      },
      "source": [
        "# Descending - Top 10"
      ],
      "execution_count": 0,
      "outputs": []
    },
    {
      "cell_type": "markdown",
      "metadata": {
        "id": "ZVi5gQR80NTt",
        "colab_type": "text"
      },
      "source": [
        "### Map Salary Ranges"
      ]
    },
    {
      "cell_type": "markdown",
      "metadata": {
        "id": "6JcjTs3I0eUZ",
        "colab_type": "text"
      },
      "source": [
        "#### By Cesa"
      ]
    },
    {
      "cell_type": "code",
      "metadata": {
        "id": "a0ZUyEfo0L9d",
        "colab_type": "code",
        "colab": {}
      },
      "source": [
        "# Color based on Average Salary"
      ],
      "execution_count": 0,
      "outputs": []
    },
    {
      "cell_type": "code",
      "metadata": {
        "id": "BIrvjWG40VBl",
        "colab_type": "code",
        "colab": {}
      },
      "source": [
        "# Color based on 1st year Salary"
      ],
      "execution_count": 0,
      "outputs": []
    },
    {
      "cell_type": "markdown",
      "metadata": {
        "id": "MvVrimcy0gz_",
        "colab_type": "text"
      },
      "source": [
        "#### By District"
      ]
    },
    {
      "cell_type": "code",
      "metadata": {
        "id": "hepKeneP0XPM",
        "colab_type": "code",
        "colab": {}
      },
      "source": [
        "# Color based on Average Salary"
      ],
      "execution_count": 0,
      "outputs": []
    },
    {
      "cell_type": "code",
      "metadata": {
        "id": "AF64VCVP0kue",
        "colab_type": "code",
        "colab": {}
      },
      "source": [
        "# Color based on 1st year Salary"
      ],
      "execution_count": 0,
      "outputs": []
    }
  ]
}