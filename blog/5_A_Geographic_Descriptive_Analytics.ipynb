{
  "nbformat": 4,
  "nbformat_minor": 0,
  "metadata": {
    "colab": {
      "name": "5_A_Geographic_Descriptive_Analytics.ipynb",
      "version": "0.3.2",
      "provenance": [],
      "toc_visible": true,
      "include_colab_link": true
    },
    "kernelspec": {
      "name": "python3",
      "display_name": "Python 3"
    }
  },
  "cells": [
    {
      "cell_type": "markdown",
      "metadata": {
        "id": "view-in-github",
        "colab_type": "text"
      },
      "source": [
        "<a href=\"https://colab.research.google.com/github/j-buss/wi-dpi-analysis/blob/development/blog/5_A_Geographic_Descriptive_Analytics.ipynb\" target=\"_parent\"><img src=\"https://colab.research.google.com/assets/colab-badge.svg\" alt=\"Open In Colab\"/></a>"
      ]
    },
    {
      "cell_type": "markdown",
      "metadata": {
        "id": "bnTjcUssil74",
        "colab_type": "text"
      },
      "source": [
        "## Teacher Salary in Wisconsin - 5A - Blog - Geographic Pay Analysis"
      ]
    },
    {
      "cell_type": "markdown",
      "metadata": {
        "id": "xixtbodui-OW",
        "colab_type": "text"
      },
      "source": [
        "### Import Libraries"
      ]
    },
    {
      "cell_type": "code",
      "metadata": {
        "id": "GQqaRo-mihmq",
        "colab_type": "code",
        "colab": {}
      },
      "source": [
        "import numpy as np\n",
        "import pandas as pd\n",
        "pd.set_option('display.max_rows', 100)\n",
        "pd.set_option('display.max_columns', 1000)\n",
        "pd.set_option('display.width', 1000)\n",
        "import seaborn as sns\n",
        "import matplotlib.pyplot as plt\n",
        "\n",
        "from google.cloud import bigquery\n",
        "import matplotlib"
      ],
      "execution_count": 0,
      "outputs": []
    },
    {
      "cell_type": "code",
      "metadata": {
        "id": "cIppy15t5UNS",
        "colab_type": "code",
        "colab": {}
      },
      "source": [
        "%matplotlib inline\n",
        "plt.style.use('bmh')"
      ],
      "execution_count": 0,
      "outputs": []
    },
    {
      "cell_type": "code",
      "metadata": {
        "id": "MIoxtBgc5XJn",
        "colab_type": "code",
        "outputId": "4f989859-7f2e-44c1-b7ec-4792fc378296",
        "colab": {
          "base_uri": "https://localhost:8080/",
          "height": 474
        }
      },
      "source": [
        "import matplotlib.style as style\n",
        "style.available"
      ],
      "execution_count": 5,
      "outputs": [
        {
          "output_type": "execute_result",
          "data": {
            "text/plain": [
              "['grayscale',\n",
              " 'fivethirtyeight',\n",
              " 'seaborn-notebook',\n",
              " 'classic',\n",
              " 'seaborn',\n",
              " '_classic_test',\n",
              " 'bmh',\n",
              " 'seaborn-dark-palette',\n",
              " 'seaborn-colorblind',\n",
              " 'seaborn-whitegrid',\n",
              " 'seaborn-white',\n",
              " 'seaborn-dark',\n",
              " 'seaborn-poster',\n",
              " 'seaborn-darkgrid',\n",
              " 'seaborn-ticks',\n",
              " 'seaborn-bright',\n",
              " 'seaborn-muted',\n",
              " 'seaborn-talk',\n",
              " 'dark_background',\n",
              " 'tableau-colorblind10',\n",
              " 'seaborn-deep',\n",
              " 'ggplot',\n",
              " 'fast',\n",
              " 'seaborn-pastel',\n",
              " 'Solarize_Light2',\n",
              " 'seaborn-paper']"
            ]
          },
          "metadata": {
            "tags": []
          },
          "execution_count": 5
        }
      ]
    },
    {
      "cell_type": "code",
      "metadata": {
        "id": "Eb7jz_Po5bQy",
        "colab_type": "code",
        "colab": {}
      },
      "source": [
        "style.use('fivethirtyeight')"
      ],
      "execution_count": 0,
      "outputs": []
    },
    {
      "cell_type": "markdown",
      "metadata": {
        "id": "GE1Nkp7j5dqg",
        "colab_type": "text"
      },
      "source": [
        "### Functions"
      ]
    },
    {
      "cell_type": "code",
      "metadata": {
        "id": "srNcqSFP5h34",
        "colab_type": "code",
        "colab": {}
      },
      "source": [
        "# To help with the pie charts later\n",
        "def make_autopct(values):\n",
        "  def my_autopct(pct):\n",
        "    total = sum(values)\n",
        "    val = int(round(pct*total/100.0))\n",
        "    return '{p:.2f}% \\n({v:,d})'.format(p=pct,v=val)\n",
        "  return my_autopct"
      ],
      "execution_count": 0,
      "outputs": []
    },
    {
      "cell_type": "markdown",
      "metadata": {
        "id": "COdcwrtA5jeN",
        "colab_type": "text"
      },
      "source": [
        "### Processing"
      ]
    },
    {
      "cell_type": "code",
      "metadata": {
        "id": "MYNkKZwT5lIY",
        "colab_type": "code",
        "colab": {}
      },
      "source": [
        "# Authenticate to GCS.\n",
        "from google.colab import auth\n",
        "auth.authenticate_user()"
      ],
      "execution_count": 0,
      "outputs": []
    },
    {
      "cell_type": "code",
      "metadata": {
        "id": "Kb9C_hjK5oex",
        "colab_type": "code",
        "colab": {}
      },
      "source": [
        "project_id='wi-dpi-010'\n",
        "landing_dataset_name='landing'\n",
        "refined_dataset_name='refined'\n",
        "gold_dataset_name='gold'"
      ],
      "execution_count": 0,
      "outputs": []
    },
    {
      "cell_type": "code",
      "metadata": {
        "id": "_VZ9SwrQ5raP",
        "colab_type": "code",
        "colab": {}
      },
      "source": [
        "bq_client = bigquery.Client(project=project_id)"
      ],
      "execution_count": 0,
      "outputs": []
    },
    {
      "cell_type": "markdown",
      "metadata": {
        "id": "M3mDlXwAzqNh",
        "colab_type": "text"
      },
      "source": [
        "### Cesa Summary"
      ]
    },
    {
      "cell_type": "markdown",
      "metadata": {
        "id": "ueHqjOdM5vrG",
        "colab_type": "text"
      },
      "source": [
        "Let's add another layer to the analysis. We can look at differences by location. A number of initial questions come to mind very quickly.\n",
        "\n",
        "\n",
        "1.   What is area with the highest average salary? What about the lowest?\n",
        "2.   What is the area with the highest starting salary? What about the lowest?\n",
        "3.   Are average salaries found in geographic groups?\n",
        "\n",
        "Well, to start answering these questions let's bring to mind the geographic hiearchy...or rather how do we start at the top: State and work our way down to School District...or maybe even school.\n",
        "\n",
        "Fortunately for us this topic is a fairly common one and the WI Department of Public Instruction has devised our first \"layer\" under a state. It is CESA.\n",
        "\n",
        "And as any group of people we must refer to the acronyms! CESA is the \"Cooperative Educational Service Agency\". For our purposes it simply groups districts together. However, for more information you can consult the [WI DPI CESA](https://dpi.wi.gov/cesa) page.\n",
        "\n"
      ]
    },
    {
      "cell_type": "markdown",
      "metadata": {
        "id": "mXc-KKA77sm6",
        "colab_type": "text"
      },
      "source": [
        "Within the information we have already looked at there is a code showing the CESA number for an individual role. \n",
        "\n",
        "Now there are a few individuals who do work \"across\" CESA districts. However for this analysis we will set asside those individuals and stick with the vast majority (99.45%) of individuals who work in only one district. "
      ]
    },
    {
      "cell_type": "markdown",
      "metadata": {
        "id": "jic_ovTAztVL",
        "colab_type": "text"
      },
      "source": [
        "#### Average Salary by Cesa"
      ]
    },
    {
      "cell_type": "code",
      "metadata": {
        "id": "LQA42P1MImEK",
        "colab_type": "code",
        "colab": {}
      },
      "source": [
        "# Group by CESA - [CESA_NUM, Avg_Salary, Count] - \n",
        "salary_analysis_by_cesa_sql ='''\n",
        "SELECT\n",
        "  Cesa_Num,\n",
        "  Round(Avg(Salary),2) as Avg_Salary,\n",
        "  count(research_ID) AS Count\n",
        "FROM\n",
        "  `wi-dpi-010.refined.2017_CESA_Analysis_level_01`\n",
        "WHERE\n",
        "  Pos_Cat_Flag = 'T'\n",
        "GROUP BY\n",
        "  Cesa_Num\n",
        "ORDER BY \n",
        "  1\n",
        "\n",
        "'''"
      ],
      "execution_count": 0,
      "outputs": []
    },
    {
      "cell_type": "markdown",
      "metadata": {
        "id": "G_GhBb6EaAK2",
        "colab_type": "text"
      },
      "source": [
        "First Year Teacher Salary by CESA"
      ]
    },
    {
      "cell_type": "code",
      "metadata": {
        "id": "WgKjq-6XXdYQ",
        "colab_type": "code",
        "colab": {}
      },
      "source": [
        "# Group by CESA - [CESA_NUM, Avg_Salary, Count]\n",
        "salary_analysis_by_cesa_sql ='''\n",
        "SELECT\n",
        "  Cesa_Num,\n",
        "  Round(Avg(Salary),2) as Avg_Salary,\n",
        "  count(research_ID) AS Count\n",
        "FROM\n",
        "  `wi-dpi-010.refined.2017_CESA_Analysis_level_01`\n",
        "WHERE\n",
        "  Pos_Cat_Flag = 'T' and\n",
        "  max_contract_total_experience < 1 and\n",
        "  assignment_fte >= 1.0\n",
        "GROUP BY\n",
        "  Cesa_Num\n",
        "ORDER BY \n",
        "  1\n",
        "\n",
        "'''"
      ],
      "execution_count": 0,
      "outputs": []
    },
    {
      "cell_type": "code",
      "metadata": {
        "id": "kRs2YoFzbjsl",
        "colab_type": "code",
        "colab": {}
      },
      "source": [
        "sql = '''\n",
        "SELECT\n",
        "  Cesa_Num,\n",
        "  Round(Avg(Salary),2) as Avg_Salary,\n",
        "  count(research_ID) AS Count,\n",
        "  Round(Avg(max_contract_total_experience),2) as experience,\n",
        "  Round(Avg(age),2) as age,\n",
        "  max_contract_days,\n",
        "FROM\n",
        "  {}.{}\n",
        "WHERE\n",
        "  Pos_Cat_Flag = 'T' and\n",
        "  assignment_fte >= 1.0\n",
        "GROUP BY\n",
        "  Cesa_Num\n",
        "  '''.format('refined','2017_geo_Analysis_level_01')"
      ],
      "execution_count": 0,
      "outputs": []
    },
    {
      "cell_type": "code",
      "metadata": {
        "id": "teUSx-1z1PI1",
        "colab_type": "code",
        "colab": {}
      },
      "source": [
        "sql = '''\n",
        "SELECT\n",
        "  Cesa_Num,\n",
        "  Round(Salary,2) as Salary,\n",
        "  research_ID,\n",
        "  Round(max_contract_total_experience,2) as experience,\n",
        "  Round(age,2) as age,\n",
        "  max_contract_days,\n",
        "  assignment_fte\n",
        "FROM\n",
        "  {}.{}\n",
        "WHERE\n",
        "  Pos_Cat_Flag = 'T'\n",
        "  '''.format('refined','2017_geo_Analysis_level_01')"
      ],
      "execution_count": 0,
      "outputs": []
    },
    {
      "cell_type": "code",
      "metadata": {
        "id": "prMn_J1fcVdO",
        "colab_type": "code",
        "outputId": "f78e233e-f28b-43e9-a82a-ae61bc61be1b",
        "colab": {
          "base_uri": "https://localhost:8080/",
          "height": 72
        }
      },
      "source": [
        "geo_analysis_df = pd.read_gbq(sql, project_id=project_id)"
      ],
      "execution_count": 38,
      "outputs": [
        {
          "output_type": "stream",
          "text": [
            "/usr/local/lib/python3.6/dist-packages/ipykernel_launcher.py:1: FutureWarning: The default value for dialect is changing to \"standard\" in a future version of pandas-gbq. Pass in dialect=\"legacy\" to disable this warning.\n",
            "  \"\"\"Entry point for launching an IPython kernel.\n"
          ],
          "name": "stderr"
        }
      ]
    },
    {
      "cell_type": "code",
      "metadata": {
        "id": "7bbeZul61uDr",
        "colab_type": "code",
        "colab": {}
      },
      "source": [
        "geo_analysis_df['contract_days_median'] = geo_analysis_df['max_contract_days'].median()\n",
        "geo_analysis_df['contract_days_std'] = geo_analysis_df['max_contract_days'].std()"
      ],
      "execution_count": 0,
      "outputs": []
    },
    {
      "cell_type": "code",
      "metadata": {
        "id": "r_ye7Uzkchot",
        "colab_type": "code",
        "outputId": "dc5c2a58-1a6a-4a23-eb98-34482444d1ff",
        "colab": {
          "base_uri": "https://localhost:8080/",
          "height": 215
        }
      },
      "source": [
        "geo_analysis_df.head(5)"
      ],
      "execution_count": 40,
      "outputs": [
        {
          "output_type": "execute_result",
          "data": {
            "text/html": [
              "<div>\n",
              "<style scoped>\n",
              "    .dataframe tbody tr th:only-of-type {\n",
              "        vertical-align: middle;\n",
              "    }\n",
              "\n",
              "    .dataframe tbody tr th {\n",
              "        vertical-align: top;\n",
              "    }\n",
              "\n",
              "    .dataframe thead th {\n",
              "        text-align: right;\n",
              "    }\n",
              "</style>\n",
              "<table border=\"1\" class=\"dataframe\">\n",
              "  <thead>\n",
              "    <tr style=\"text-align: right;\">\n",
              "      <th></th>\n",
              "      <th>Cesa_Num</th>\n",
              "      <th>Salary</th>\n",
              "      <th>research_ID</th>\n",
              "      <th>experience</th>\n",
              "      <th>age</th>\n",
              "      <th>max_contract_days</th>\n",
              "      <th>assignment_fte</th>\n",
              "      <th>contract_days_median</th>\n",
              "      <th>contract_days_std</th>\n",
              "    </tr>\n",
              "  </thead>\n",
              "  <tbody>\n",
              "    <tr>\n",
              "      <th>0</th>\n",
              "      <td>1</td>\n",
              "      <td>4700.0</td>\n",
              "      <td>100910</td>\n",
              "      <td>7.0</td>\n",
              "      <td>19.0</td>\n",
              "      <td>191</td>\n",
              "      <td>0.1</td>\n",
              "      <td>190.0</td>\n",
              "      <td>11.942235</td>\n",
              "    </tr>\n",
              "    <tr>\n",
              "      <th>1</th>\n",
              "      <td>10</td>\n",
              "      <td>71000.0</td>\n",
              "      <td>95910</td>\n",
              "      <td>4.0</td>\n",
              "      <td>20.0</td>\n",
              "      <td>188</td>\n",
              "      <td>1.0</td>\n",
              "      <td>190.0</td>\n",
              "      <td>11.942235</td>\n",
              "    </tr>\n",
              "    <tr>\n",
              "      <th>2</th>\n",
              "      <td>1</td>\n",
              "      <td>4500.0</td>\n",
              "      <td>3999</td>\n",
              "      <td>0.5</td>\n",
              "      <td>21.0</td>\n",
              "      <td>93</td>\n",
              "      <td>0.5</td>\n",
              "      <td>190.0</td>\n",
              "      <td>11.942235</td>\n",
              "    </tr>\n",
              "    <tr>\n",
              "      <th>3</th>\n",
              "      <td>1</td>\n",
              "      <td>41311.0</td>\n",
              "      <td>160958</td>\n",
              "      <td>1.0</td>\n",
              "      <td>21.0</td>\n",
              "      <td>191</td>\n",
              "      <td>1.0</td>\n",
              "      <td>190.0</td>\n",
              "      <td>11.942235</td>\n",
              "    </tr>\n",
              "    <tr>\n",
              "      <th>4</th>\n",
              "      <td>7</td>\n",
              "      <td>4500.0</td>\n",
              "      <td>5845</td>\n",
              "      <td>1.0</td>\n",
              "      <td>21.0</td>\n",
              "      <td>92</td>\n",
              "      <td>0.5</td>\n",
              "      <td>190.0</td>\n",
              "      <td>11.942235</td>\n",
              "    </tr>\n",
              "  </tbody>\n",
              "</table>\n",
              "</div>"
            ],
            "text/plain": [
              "   Cesa_Num   Salary  research_ID  experience   age  max_contract_days  assignment_fte  contract_days_median  contract_days_std\n",
              "0         1   4700.0       100910         7.0  19.0                191             0.1                 190.0          11.942235\n",
              "1        10  71000.0        95910         4.0  20.0                188             1.0                 190.0          11.942235\n",
              "2         1   4500.0         3999         0.5  21.0                 93             0.5                 190.0          11.942235\n",
              "3         1  41311.0       160958         1.0  21.0                191             1.0                 190.0          11.942235\n",
              "4         7   4500.0         5845         1.0  21.0                 92             0.5                 190.0          11.942235"
            ]
          },
          "metadata": {
            "tags": []
          },
          "execution_count": 40
        }
      ]
    },
    {
      "cell_type": "code",
      "metadata": {
        "id": "bGu6rHwk2fHZ",
        "colab_type": "code",
        "colab": {}
      },
      "source": [
        "Cesa_Sum_All_df = geo_analysis_df.groupby('Cesa_Num') \\\n",
        "  .agg({'Salary':'mean', 'research_ID':'size', 'experience':'mean', 'age':'mean'}) \\\n",
        "  .rename(columns={'Salary':'Avg. Salary', 'research_ID':'Count of Individuals',\\\n",
        "                   'experience':'Avg. Experience','age':'Avg. Age'})\n",
        "\n",
        "#df = df.groupby('source') \\\n",
        "#       .agg({'text':'size', 'sent':'mean'}) \\\n",
        "#       .rename(columns={'text':'count','sent':'mean_sent'}) \\\n",
        "#       .reset_index()"
      ],
      "execution_count": 0,
      "outputs": []
    },
    {
      "cell_type": "code",
      "metadata": {
        "id": "Ab7j2Rvs7bOf",
        "colab_type": "code",
        "colab": {
          "base_uri": "https://localhost:8080/",
          "height": 432
        },
        "outputId": "4ed54d7c-ab8b-41b5-c891-efd16b7d020b"
      },
      "source": [
        "Cesa_Sum_All_df"
      ],
      "execution_count": 46,
      "outputs": [
        {
          "output_type": "execute_result",
          "data": {
            "text/html": [
              "<div>\n",
              "<style scoped>\n",
              "    .dataframe tbody tr th:only-of-type {\n",
              "        vertical-align: middle;\n",
              "    }\n",
              "\n",
              "    .dataframe tbody tr th {\n",
              "        vertical-align: top;\n",
              "    }\n",
              "\n",
              "    .dataframe thead th {\n",
              "        text-align: right;\n",
              "    }\n",
              "</style>\n",
              "<table border=\"1\" class=\"dataframe\">\n",
              "  <thead>\n",
              "    <tr style=\"text-align: right;\">\n",
              "      <th></th>\n",
              "      <th>Avg. Salary</th>\n",
              "      <th>Count of Individuals</th>\n",
              "      <th>Avg. Experience</th>\n",
              "      <th>Avg. Age</th>\n",
              "    </tr>\n",
              "    <tr>\n",
              "      <th>Cesa_Num</th>\n",
              "      <th></th>\n",
              "      <th></th>\n",
              "      <th></th>\n",
              "      <th></th>\n",
              "    </tr>\n",
              "  </thead>\n",
              "  <tbody>\n",
              "    <tr>\n",
              "      <th>1</th>\n",
              "      <td>59307.509874</td>\n",
              "      <td>16863</td>\n",
              "      <td>13.989000</td>\n",
              "      <td>42.003202</td>\n",
              "    </tr>\n",
              "    <tr>\n",
              "      <th>2</th>\n",
              "      <td>54057.697489</td>\n",
              "      <td>11907</td>\n",
              "      <td>13.736877</td>\n",
              "      <td>41.160998</td>\n",
              "    </tr>\n",
              "    <tr>\n",
              "      <th>3</th>\n",
              "      <td>50062.897389</td>\n",
              "      <td>1647</td>\n",
              "      <td>15.723437</td>\n",
              "      <td>42.290225</td>\n",
              "    </tr>\n",
              "    <tr>\n",
              "      <th>4</th>\n",
              "      <td>50333.724339</td>\n",
              "      <td>2913</td>\n",
              "      <td>14.161002</td>\n",
              "      <td>41.088912</td>\n",
              "    </tr>\n",
              "    <tr>\n",
              "      <th>5</th>\n",
              "      <td>52059.911561</td>\n",
              "      <td>3901</td>\n",
              "      <td>14.766342</td>\n",
              "      <td>41.917457</td>\n",
              "    </tr>\n",
              "    <tr>\n",
              "      <th>6</th>\n",
              "      <td>54423.389558</td>\n",
              "      <td>7144</td>\n",
              "      <td>14.564740</td>\n",
              "      <td>41.159994</td>\n",
              "    </tr>\n",
              "    <tr>\n",
              "      <th>7</th>\n",
              "      <td>54412.092048</td>\n",
              "      <td>6388</td>\n",
              "      <td>14.584220</td>\n",
              "      <td>41.642611</td>\n",
              "    </tr>\n",
              "    <tr>\n",
              "      <th>8</th>\n",
              "      <td>49266.822581</td>\n",
              "      <td>1612</td>\n",
              "      <td>14.673077</td>\n",
              "      <td>42.605459</td>\n",
              "    </tr>\n",
              "    <tr>\n",
              "      <th>9</th>\n",
              "      <td>54665.723869</td>\n",
              "      <td>2564</td>\n",
              "      <td>14.717044</td>\n",
              "      <td>42.047972</td>\n",
              "    </tr>\n",
              "    <tr>\n",
              "      <th>10</th>\n",
              "      <td>50481.013568</td>\n",
              "      <td>2727</td>\n",
              "      <td>14.300880</td>\n",
              "      <td>41.079208</td>\n",
              "    </tr>\n",
              "    <tr>\n",
              "      <th>11</th>\n",
              "      <td>52347.804248</td>\n",
              "      <td>3484</td>\n",
              "      <td>14.509759</td>\n",
              "      <td>41.738806</td>\n",
              "    </tr>\n",
              "    <tr>\n",
              "      <th>12</th>\n",
              "      <td>51273.622278</td>\n",
              "      <td>1194</td>\n",
              "      <td>14.775544</td>\n",
              "      <td>44.093802</td>\n",
              "    </tr>\n",
              "  </tbody>\n",
              "</table>\n",
              "</div>"
            ],
            "text/plain": [
              "           Avg. Salary  Count of Individuals  Avg. Experience   Avg. Age\n",
              "Cesa_Num                                                                \n",
              "1         59307.509874                 16863        13.989000  42.003202\n",
              "2         54057.697489                 11907        13.736877  41.160998\n",
              "3         50062.897389                  1647        15.723437  42.290225\n",
              "4         50333.724339                  2913        14.161002  41.088912\n",
              "5         52059.911561                  3901        14.766342  41.917457\n",
              "6         54423.389558                  7144        14.564740  41.159994\n",
              "7         54412.092048                  6388        14.584220  41.642611\n",
              "8         49266.822581                  1612        14.673077  42.605459\n",
              "9         54665.723869                  2564        14.717044  42.047972\n",
              "10        50481.013568                  2727        14.300880  41.079208\n",
              "11        52347.804248                  3484        14.509759  41.738806\n",
              "12        51273.622278                  1194        14.775544  44.093802"
            ]
          },
          "metadata": {
            "tags": []
          },
          "execution_count": 46
        }
      ]
    },
    {
      "cell_type": "code",
      "metadata": {
        "id": "k7nzyhTK7mFf",
        "colab_type": "code",
        "colab": {}
      },
      "source": [
        "geo_analysis_firstyear_df = geo_analysis_df[\n",
        "    (geo_analysis_df['experience']<= 1.0) & \\\n",
        "    (geo_analysis_df['assignment_fte']>=1.0) & \\\n",
        "    (geo_analysis_df['max_contract_days'] >= geo_analysis_df['contract_days_median']-2*geo_analysis_df['contract_days_std']) \\\n",
        "]"
      ],
      "execution_count": 0,
      "outputs": []
    },
    {
      "cell_type": "code",
      "metadata": {
        "id": "hlSiX_Eh7gsP",
        "colab_type": "code",
        "colab": {}
      },
      "source": [
        "Cesa_Sum_FirstYear_df = geo_analysis_firstyear_df.groupby('Cesa_Num') \\\n",
        "  .agg({'Salary':'mean', 'research_ID':'size', 'experience':'mean', 'age':'mean'}) \\\n",
        "  .rename(columns={'Salary':'Avg. Salary', 'research_ID':'Count of Individuals',\\\n",
        "                   'experience':'Avg. Experience','age':'Avg. Age'})"
      ],
      "execution_count": 0,
      "outputs": []
    },
    {
      "cell_type": "code",
      "metadata": {
        "id": "bOCa53KT8_45",
        "colab_type": "code",
        "colab": {
          "base_uri": "https://localhost:8080/",
          "height": 432
        },
        "outputId": "ea103ebb-298f-4aca-dc28-15479def937c"
      },
      "source": [
        "Cesa_Sum_FirstYear_df"
      ],
      "execution_count": 68,
      "outputs": [
        {
          "output_type": "execute_result",
          "data": {
            "text/html": [
              "<div>\n",
              "<style scoped>\n",
              "    .dataframe tbody tr th:only-of-type {\n",
              "        vertical-align: middle;\n",
              "    }\n",
              "\n",
              "    .dataframe tbody tr th {\n",
              "        vertical-align: top;\n",
              "    }\n",
              "\n",
              "    .dataframe thead th {\n",
              "        text-align: right;\n",
              "    }\n",
              "</style>\n",
              "<table border=\"1\" class=\"dataframe\">\n",
              "  <thead>\n",
              "    <tr style=\"text-align: right;\">\n",
              "      <th></th>\n",
              "      <th>Avg. Salary</th>\n",
              "      <th>Count of Individuals</th>\n",
              "      <th>Avg. Experience</th>\n",
              "      <th>Avg. Age</th>\n",
              "    </tr>\n",
              "    <tr>\n",
              "      <th>Cesa_Num</th>\n",
              "      <th></th>\n",
              "      <th></th>\n",
              "      <th></th>\n",
              "      <th></th>\n",
              "    </tr>\n",
              "  </thead>\n",
              "  <tbody>\n",
              "    <tr>\n",
              "      <th>1</th>\n",
              "      <td>46157.836611</td>\n",
              "      <td>661</td>\n",
              "      <td>0.989410</td>\n",
              "      <td>30.373676</td>\n",
              "    </tr>\n",
              "    <tr>\n",
              "      <th>2</th>\n",
              "      <td>43211.625229</td>\n",
              "      <td>547</td>\n",
              "      <td>0.971664</td>\n",
              "      <td>30.120658</td>\n",
              "    </tr>\n",
              "    <tr>\n",
              "      <th>3</th>\n",
              "      <td>38936.373494</td>\n",
              "      <td>83</td>\n",
              "      <td>0.981928</td>\n",
              "      <td>27.771084</td>\n",
              "    </tr>\n",
              "    <tr>\n",
              "      <th>4</th>\n",
              "      <td>38302.849206</td>\n",
              "      <td>126</td>\n",
              "      <td>1.000000</td>\n",
              "      <td>27.158730</td>\n",
              "    </tr>\n",
              "    <tr>\n",
              "      <th>5</th>\n",
              "      <td>40277.655556</td>\n",
              "      <td>180</td>\n",
              "      <td>0.963889</td>\n",
              "      <td>29.211111</td>\n",
              "    </tr>\n",
              "    <tr>\n",
              "      <th>6</th>\n",
              "      <td>41804.308300</td>\n",
              "      <td>253</td>\n",
              "      <td>1.000000</td>\n",
              "      <td>29.418972</td>\n",
              "    </tr>\n",
              "    <tr>\n",
              "      <th>7</th>\n",
              "      <td>41642.736000</td>\n",
              "      <td>250</td>\n",
              "      <td>0.992000</td>\n",
              "      <td>29.704000</td>\n",
              "    </tr>\n",
              "    <tr>\n",
              "      <th>8</th>\n",
              "      <td>38078.833333</td>\n",
              "      <td>66</td>\n",
              "      <td>1.000000</td>\n",
              "      <td>31.060606</td>\n",
              "    </tr>\n",
              "    <tr>\n",
              "      <th>9</th>\n",
              "      <td>41857.508621</td>\n",
              "      <td>116</td>\n",
              "      <td>0.956897</td>\n",
              "      <td>29.879310</td>\n",
              "    </tr>\n",
              "    <tr>\n",
              "      <th>10</th>\n",
              "      <td>39103.684211</td>\n",
              "      <td>95</td>\n",
              "      <td>0.989474</td>\n",
              "      <td>27.421053</td>\n",
              "    </tr>\n",
              "    <tr>\n",
              "      <th>11</th>\n",
              "      <td>39984.131387</td>\n",
              "      <td>137</td>\n",
              "      <td>0.974453</td>\n",
              "      <td>29.817518</td>\n",
              "    </tr>\n",
              "    <tr>\n",
              "      <th>12</th>\n",
              "      <td>39126.568182</td>\n",
              "      <td>44</td>\n",
              "      <td>1.000000</td>\n",
              "      <td>30.727273</td>\n",
              "    </tr>\n",
              "  </tbody>\n",
              "</table>\n",
              "</div>"
            ],
            "text/plain": [
              "           Avg. Salary  Count of Individuals  Avg. Experience   Avg. Age\n",
              "Cesa_Num                                                                \n",
              "1         46157.836611                   661         0.989410  30.373676\n",
              "2         43211.625229                   547         0.971664  30.120658\n",
              "3         38936.373494                    83         0.981928  27.771084\n",
              "4         38302.849206                   126         1.000000  27.158730\n",
              "5         40277.655556                   180         0.963889  29.211111\n",
              "6         41804.308300                   253         1.000000  29.418972\n",
              "7         41642.736000                   250         0.992000  29.704000\n",
              "8         38078.833333                    66         1.000000  31.060606\n",
              "9         41857.508621                   116         0.956897  29.879310\n",
              "10        39103.684211                    95         0.989474  27.421053\n",
              "11        39984.131387                   137         0.974453  29.817518\n",
              "12        39126.568182                    44         1.000000  30.727273"
            ]
          },
          "metadata": {
            "tags": []
          },
          "execution_count": 68
        }
      ]
    },
    {
      "cell_type": "code",
      "metadata": {
        "id": "3X_jpz81ccVF",
        "colab_type": "code",
        "outputId": "73772eca-9a14-49a0-fdb3-c92d031c83a7",
        "colab": {
          "base_uri": "https://localhost:8080/",
          "height": 502
        }
      },
      "source": [
        "plt.scatter(Cesa_Sum_All_df['Avg. Salary'],Cesa_Sum_All_df['Avg. Experience'],s=Cesa_Sum_All_df['Count of Individuals']/10)\n",
        "\n",
        "#scat_graph.('SCATTER')\n",
        "#scat_graph.tick_params(axis = 'both', labelsize=9)\n",
        "plt.yaxis.set_major_formatter(FormatStrFormatter('%.2f'))\n",
        "#plt.get_xaxis().set_major_formatter(\n",
        "#  matplotlib.ticker.FuncFormatter(lambda x, p: format(int(x), ',')))\n",
        "#plt.get_yaxis().set_major_formatter(\n",
        "#  matplotlib.ticker.FuncFormatter(lambda x, p: format(int(x), ',')))\n",
        "plt.show()"
      ],
      "execution_count": 45,
      "outputs": [
        {
          "output_type": "error",
          "ename": "AttributeError",
          "evalue": "ignored",
          "traceback": [
            "\u001b[0;31m---------------------------------------------------------------------------\u001b[0m",
            "\u001b[0;31mAttributeError\u001b[0m                            Traceback (most recent call last)",
            "\u001b[0;32m<ipython-input-45-382093a527c4>\u001b[0m in \u001b[0;36m<module>\u001b[0;34m()\u001b[0m\n\u001b[1;32m      3\u001b[0m \u001b[0;31m#scat_graph.('SCATTER')\u001b[0m\u001b[0;34m\u001b[0m\u001b[0;34m\u001b[0m\u001b[0;34m\u001b[0m\u001b[0m\n\u001b[1;32m      4\u001b[0m \u001b[0;31m#scat_graph.tick_params(axis = 'both', labelsize=9)\u001b[0m\u001b[0;34m\u001b[0m\u001b[0;34m\u001b[0m\u001b[0;34m\u001b[0m\u001b[0m\n\u001b[0;32m----> 5\u001b[0;31m \u001b[0mplt\u001b[0m\u001b[0;34m.\u001b[0m\u001b[0myaxis\u001b[0m\u001b[0;34m.\u001b[0m\u001b[0mset_major_formatter\u001b[0m\u001b[0;34m(\u001b[0m\u001b[0mFormatStrFormatter\u001b[0m\u001b[0;34m(\u001b[0m\u001b[0;34m'%.2f'\u001b[0m\u001b[0;34m)\u001b[0m\u001b[0;34m)\u001b[0m\u001b[0;34m\u001b[0m\u001b[0;34m\u001b[0m\u001b[0m\n\u001b[0m\u001b[1;32m      6\u001b[0m \u001b[0;31m#plt.get_xaxis().set_major_formatter(\u001b[0m\u001b[0;34m\u001b[0m\u001b[0;34m\u001b[0m\u001b[0;34m\u001b[0m\u001b[0m\n\u001b[1;32m      7\u001b[0m \u001b[0;31m#  matplotlib.ticker.FuncFormatter(lambda x, p: format(int(x), ',')))\u001b[0m\u001b[0;34m\u001b[0m\u001b[0;34m\u001b[0m\u001b[0;34m\u001b[0m\u001b[0m\n",
            "\u001b[0;31mAttributeError\u001b[0m: module 'matplotlib.pyplot' has no attribute 'yaxis'"
          ]
        },
        {
          "output_type": "display_data",
          "data": {
            "image/png": "[encoded data removed]",
            "text/plain": [
              "<Figure size 432x288 with 1 Axes>"
            ]
          },
          "metadata": {
            "tags": []
          }
        }
      ]
    },
    {
      "cell_type": "markdown",
      "metadata": {
        "id": "11B4y67NMH7v",
        "colab_type": "text"
      },
      "source": [
        "Need to load the districts / CESA information https://apps4.dpi.wi.gov/SchoolDirectory/Search/PublicDistrictsSearch"
      ]
    },
    {
      "cell_type": "markdown",
      "metadata": {
        "id": "ZVi5gQR80NTt",
        "colab_type": "text"
      },
      "source": [
        "### Map Salary Ranges"
      ]
    },
    {
      "cell_type": "markdown",
      "metadata": {
        "id": "ip-tYoi8BX-O",
        "colab_type": "text"
      },
      "source": [
        "So the previous analysis is good. However...yeah it is a bit lacking. I mean it feels like we need to bring the whole visual aspect into the analysis. I mean there is lots of good data in a list with averages, but let's add the whole mapping piece.\n",
        "\n",
        "If we want to add the map components we can consult the Open GEO Data for Wisconsin: http://geodata.wisc.edu/opengeoportal/\n",
        "The site has a nice interface in which to search for specific geographic information systems (GIS) data."
      ]
    },
    {
      "cell_type": "markdown",
      "metadata": {
        "id": "6JcjTs3I0eUZ",
        "colab_type": "text"
      },
      "source": [
        "#### By Cesa"
      ]
    },
    {
      "cell_type": "code",
      "metadata": {
        "id": "sWmUPgcoaL7Z",
        "colab_type": "code",
        "colab": {}
      },
      "source": [
        ""
      ],
      "execution_count": 0,
      "outputs": []
    },
    {
      "cell_type": "markdown",
      "metadata": {
        "id": "KlfGlCbUz7aI",
        "colab_type": "text"
      },
      "source": [
        "### District Summary"
      ]
    },
    {
      "cell_type": "markdown",
      "metadata": {
        "id": "c78Pk1k90En2",
        "colab_type": "text"
      },
      "source": [
        "#### Average Salary by District"
      ]
    },
    {
      "cell_type": "code",
      "metadata": {
        "id": "upTI53cez59i",
        "colab_type": "code",
        "colab": {}
      },
      "source": [
        "# Ascending - Top 10"
      ],
      "execution_count": 0,
      "outputs": []
    },
    {
      "cell_type": "code",
      "metadata": {
        "id": "Ko02suYY0KO5",
        "colab_type": "code",
        "colab": {}
      },
      "source": [
        "# Descending - Top 10"
      ],
      "execution_count": 0,
      "outputs": []
    },
    {
      "cell_type": "markdown",
      "metadata": {
        "id": "-46ujUEzKLYG",
        "colab_type": "text"
      },
      "source": [
        "Let's just map the CESA Areas..."
      ]
    },
    {
      "cell_type": "code",
      "metadata": {
        "id": "5uPDP7QwKO1f",
        "colab_type": "code",
        "colab": {}
      },
      "source": [
        "# CODE FOR MAP"
      ],
      "execution_count": 0,
      "outputs": []
    },
    {
      "cell_type": "markdown",
      "metadata": {
        "id": "uPBIY6zHKRD4",
        "colab_type": "text"
      },
      "source": [
        "Ok. Getting there. Now let's bring in the color coding based on the average salary."
      ]
    },
    {
      "cell_type": "code",
      "metadata": {
        "id": "a0ZUyEfo0L9d",
        "colab_type": "code",
        "colab": {}
      },
      "source": [
        "# Color based on Average Salary"
      ],
      "execution_count": 0,
      "outputs": []
    },
    {
      "cell_type": "code",
      "metadata": {
        "id": "BIrvjWG40VBl",
        "colab_type": "code",
        "colab": {}
      },
      "source": [
        "# Color based on 1st year Salary"
      ],
      "execution_count": 0,
      "outputs": []
    },
    {
      "cell_type": "markdown",
      "metadata": {
        "id": "MvVrimcy0gz_",
        "colab_type": "text"
      },
      "source": [
        "#### By District"
      ]
    },
    {
      "cell_type": "code",
      "metadata": {
        "id": "hepKeneP0XPM",
        "colab_type": "code",
        "colab": {}
      },
      "source": [
        "# Color based on Average Salary"
      ],
      "execution_count": 0,
      "outputs": []
    },
    {
      "cell_type": "code",
      "metadata": {
        "id": "AF64VCVP0kue",
        "colab_type": "code",
        "colab": {}
      },
      "source": [
        "# Color based on 1st year Salary"
      ],
      "execution_count": 0,
      "outputs": []
    }
  ]
}